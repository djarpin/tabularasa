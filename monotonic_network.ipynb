{
 "cells": [
  {
   "cell_type": "code",
   "execution_count": 4,
   "id": "9b03dc32",
   "metadata": {},
   "outputs": [],
   "source": [
    "import pandas as pd\n",
    "import numpy as np\n",
    "import matplotlib.pyplot as plt\n",
    "import torch\n",
    "from torch import nn\n",
    "import torch.nn.functional as F\n",
    "from torch import optim\n",
    "from skorch.regressor import NeuralNetRegressor\n",
    "from rasa.gumnn.MultidimensionnalMonotonicNN import SlowDMonotonicNN"
   ]
  },
  {
   "cell_type": "code",
   "execution_count": 5,
   "id": "52e29f8c",
   "metadata": {},
   "outputs": [],
   "source": [
    "df = pd.read_pickle('./examples/data/simple_train.pkl')"
   ]
  },
  {
   "cell_type": "code",
   "execution_count": 6,
   "id": "94d83c10",
   "metadata": {},
   "outputs": [],
   "source": [
    "class EmbeddingNet(nn.Module):\n",
    "    def __init__(self):\n",
    "        super().__init__()\n",
    "        self.emb1 = nn.Embedding(50, 16)\n",
    "        self.fc1 = nn.Linear(1 + 16, 16)\n",
    "    \n",
    "    def forward(self, X_numeric, X_categorical1):\n",
    "        X = torch.cat([X_numeric, self.emb1(X_categorical1).squeeze()], 1)\n",
    "        return F.relu(self.fc1(X))"
   ]
  },
  {
   "cell_type": "code",
   "execution_count": 7,
   "id": "8fdaefb7",
   "metadata": {},
   "outputs": [],
   "source": [
    "class MonotonicNet(nn.Module):\n",
    "    def __init__(self, embedding_net, dim_monotonic):\n",
    "        super().__init__()\n",
    "        self.embedding_net = embedding_net()\n",
    "        self.umnn = SlowDMonotonicNN(dim_monotonic, 16, [128, 128, 32], 1, 300)\n",
    "\n",
    "    def forward(self, X_monotonic, X_numeric, X_categorical1):\n",
    "        h = self.embedding_net(X_numeric, X_categorical1)\n",
    "        return self.umnn(X_monotonic, h)"
   ]
  },
  {
   "cell_type": "code",
   "execution_count": 16,
   "id": "3afde292",
   "metadata": {},
   "outputs": [],
   "source": [
    "model = NeuralNetRegressor(MonotonicNet,\n",
    "                           max_epochs=25,\n",
    "                           lr=0.001,\n",
    "                           optimizer=torch.optim.Adam,\n",
    "                           module__embedding_net=EmbeddingNet,\n",
    "                           module__dim_monotonic=2)"
   ]
  },
  {
   "cell_type": "code",
   "execution_count": 17,
   "id": "aae484d7",
   "metadata": {
    "scrolled": false
   },
   "outputs": [
    {
     "name": "stdout",
     "output_type": "stream",
     "text": [
      "  epoch    train_loss    valid_loss     dur\n",
      "-------  ------------  ------------  ------\n",
      "      1        \u001b[36m0.5068\u001b[0m        \u001b[32m0.3486\u001b[0m  8.2387\n",
      "      2        \u001b[36m0.3490\u001b[0m        \u001b[32m0.3053\u001b[0m  8.3856\n",
      "      3        \u001b[36m0.3097\u001b[0m        \u001b[32m0.2944\u001b[0m  8.2483\n",
      "      4        \u001b[36m0.2999\u001b[0m        \u001b[32m0.2882\u001b[0m  8.1917\n",
      "      5        \u001b[36m0.2967\u001b[0m        0.2886  8.1589\n",
      "      6        \u001b[36m0.2950\u001b[0m        0.2890  8.2638\n",
      "      7        \u001b[36m0.2933\u001b[0m        \u001b[32m0.2868\u001b[0m  8.2728\n",
      "      8        \u001b[36m0.2918\u001b[0m        \u001b[32m0.2855\u001b[0m  8.4460\n",
      "      9        \u001b[36m0.2896\u001b[0m        \u001b[32m0.2833\u001b[0m  8.4443\n",
      "     10        \u001b[36m0.2865\u001b[0m        \u001b[32m0.2799\u001b[0m  8.2580\n",
      "     11        \u001b[36m0.2814\u001b[0m        \u001b[32m0.2736\u001b[0m  8.1662\n",
      "     12        \u001b[36m0.2726\u001b[0m        \u001b[32m0.2602\u001b[0m  8.2632\n",
      "     13        \u001b[36m0.2560\u001b[0m        \u001b[32m0.2366\u001b[0m  8.1694\n",
      "     14        \u001b[36m0.2285\u001b[0m        \u001b[32m0.2039\u001b[0m  8.2166\n",
      "     15        \u001b[36m0.1933\u001b[0m        \u001b[32m0.1742\u001b[0m  8.2483\n",
      "     16        \u001b[36m0.1620\u001b[0m        \u001b[32m0.1683\u001b[0m  8.2969\n",
      "     17        \u001b[36m0.1436\u001b[0m        0.1912  8.2728\n",
      "     18        0.1583        0.1689  8.3500\n",
      "     19        0.1512        0.1685  8.4061\n",
      "     20        \u001b[36m0.1351\u001b[0m        \u001b[32m0.1492\u001b[0m  8.2259\n",
      "     21        \u001b[36m0.1284\u001b[0m        \u001b[32m0.1441\u001b[0m  8.1821\n",
      "     22        \u001b[36m0.1108\u001b[0m        \u001b[32m0.1212\u001b[0m  8.2459\n",
      "     23        \u001b[36m0.1021\u001b[0m        \u001b[32m0.1201\u001b[0m  8.3372\n",
      "     24        \u001b[36m0.0946\u001b[0m        \u001b[32m0.1154\u001b[0m  8.2045\n",
      "     25        \u001b[36m0.0904\u001b[0m        \u001b[32m0.1142\u001b[0m  8.3657\n"
     ]
    },
    {
     "data": {
      "text/plain": [
       "<class 'skorch.regressor.NeuralNetRegressor'>[initialized](\n",
       "  module_=MonotonicNet(\n",
       "    (embedding_net): EmbeddingNet(\n",
       "      (emb1): Embedding(50, 16)\n",
       "      (fc1): Linear(in_features=17, out_features=16, bias=True)\n",
       "    )\n",
       "    (umnn): SlowDMonotonicNN(\n",
       "      (outer_net): MonotonicNN(\n",
       "        (integrand): IntegrandNN(\n",
       "          (net): Sequential(\n",
       "            (0): Linear(in_features=17, out_features=128, bias=True)\n",
       "            (1): ReLU()\n",
       "            (2): Linear(in_features=128, out_features=128, bias=True)\n",
       "            (3): ReLU()\n",
       "            (4): Linear(in_features=128, out_features=32, bias=True)\n",
       "            (5): ReLU()\n",
       "            (6): Linear(in_features=32, out_features=1, bias=True)\n",
       "            (7): ELU(alpha=1.0)\n",
       "          )\n",
       "        )\n",
       "        (net): Sequential(\n",
       "          (0): Linear(in_features=16, out_features=128, bias=True)\n",
       "          (1): ReLU()\n",
       "          (2): Linear(in_features=128, out_features=128, bias=True)\n",
       "          (3): ReLU()\n",
       "          (4): Linear(in_features=128, out_features=32, bias=True)\n",
       "          (5): ReLU()\n",
       "          (6): Linear(in_features=32, out_features=2, bias=True)\n",
       "        )\n",
       "      )\n",
       "    )\n",
       "  ),\n",
       ")"
      ]
     },
     "execution_count": 17,
     "metadata": {},
     "output_type": "execute_result"
    }
   ],
   "source": [
    "model.fit({'X_monotonic': df[['x1', 'x2']].values,\n",
    "           'X_numeric': df[['x4']].values,\n",
    "           'X_categorical1': df[['x3']].values},\n",
    "          df[['y']].values)"
   ]
  },
  {
   "cell_type": "code",
   "execution_count": 18,
   "id": "3fad5760",
   "metadata": {},
   "outputs": [],
   "source": [
    "quantiles = [0.01, 0.05, 0.1, 0.2, 0.3, 0.4, 0.6, 0.7, 0.8, 0.9, 0.95, 0.99]"
   ]
  },
  {
   "cell_type": "code",
   "execution_count": 19,
   "id": "48020146",
   "metadata": {},
   "outputs": [],
   "source": [
    "results = []\n",
    "for q in np.quantile(df['x1'], quantiles):\n",
    "    dfc = df.copy()\n",
    "    dfc['x1'] = q\n",
    "    dfc['x1'] = dfc['x1'].astype('float32')\n",
    "    p = model.predict({'X_monotonic': dfc[['x1', 'x2']].values,\n",
    "                       'X_numeric': dfc[['x4']].values,\n",
    "                       'X_categorical1': dfc[['x3']].values})\n",
    "    p = pd.DataFrame(pd.Series(p[:, 0]).describe(percentiles=quantiles)).T\n",
    "    p['x1'] = q\n",
    "    results.append(p)\n",
    "results = pd.concat(results, axis=0)"
   ]
  },
  {
   "cell_type": "code",
   "execution_count": 20,
   "id": "b5b445dd",
   "metadata": {},
   "outputs": [
    {
     "data": {
      "image/png": "[encoded data removed]",
      "text/plain": [
       "<Figure size 432x288 with 1 Axes>"
      ]
     },
     "metadata": {
      "needs_background": "light"
     },
     "output_type": "display_data"
    }
   ],
   "source": [
    "results.plot(x='x1', y=['20%', 'mean', '80%'])\n",
    "plt.show()"
   ]
  },
  {
   "cell_type": "code",
   "execution_count": null,
   "id": "485c070a",
   "metadata": {},
   "outputs": [],
   "source": []
  }
 ],
 "metadata": {
  "kernelspec": {
   "display_name": "Python 3 (ipykernel)",
   "language": "python",
   "name": "python3"
  },
  "language_info": {
   "codemirror_mode": {
    "name": "ipython",
    "version": 3
   },
   "file_extension": ".py",
   "mimetype": "text/x-python",
   "name": "python",
   "nbconvert_exporter": "python",
   "pygments_lexer": "ipython3",
   "version": "3.8.5"
  }
 },
 "nbformat": 4,
 "nbformat_minor": 5
}
