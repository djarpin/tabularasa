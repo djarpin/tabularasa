{
 "cells": [
  {
   "cell_type": "markdown",
   "id": "dc873c9a",
   "metadata": {},
   "source": [
    "# Tabula Rasa\n",
    "\n",
    "---\n",
    "\n",
    "---\n",
    "\n",
    "### Overview\n",
    "\n",
    "This notebook trains a mixed monotonic model, with sub-models to generate arbitrary quantile predictions and estimate epistemic uncertainty, using `TabulaRasaRegressor()`.\n",
    "\n",
    "It's designed to work with Pandas DataFrame's and takes advantage of class types and feature names to cut down on code."
   ]
  },
  {
   "cell_type": "code",
   "execution_count": 1,
   "id": "d5353a5b",
   "metadata": {},
   "outputs": [],
   "source": [
    "import pandas as pd\n",
    "import numpy as np\n",
    "import matplotlib.pyplot as plt\n",
    "from tabularasa.TabulaRasa import TabulaRasaRegressor"
   ]
  },
  {
   "cell_type": "markdown",
   "id": "bc062f2d",
   "metadata": {},
   "source": [
    "---\n",
    "\n",
    "### Load example data\n",
    "\n",
    "If you haven't already, please generate the example dataset using the [example_data](example_data.ipynb) notebook."
   ]
  },
  {
   "cell_type": "code",
   "execution_count": 2,
   "id": "87937eee",
   "metadata": {},
   "outputs": [],
   "source": [
    "df = pd.read_pickle('./data/simple_train.pkl')"
   ]
  },
  {
   "cell_type": "markdown",
   "id": "3704b773",
   "metadata": {},
   "source": [
    "Let's convert `x3` to a `category` data type so that we can generate embeddings for it (`TabulaRasaRegressor()` automatically handles this for all columns with `object` or `category` data types)."
   ]
  },
  {
   "cell_type": "code",
   "execution_count": 3,
   "id": "8043b860",
   "metadata": {},
   "outputs": [],
   "source": [
    "df['x3'] = df['x3'].astype('category')"
   ]
  },
  {
   "cell_type": "markdown",
   "id": "7fdd8aa6",
   "metadata": {},
   "source": [
    "---\n",
    "\n",
    "### Initialize  and train\n",
    "\n",
    "When initializing the model, we typically pass 1 argument:\n",
    "- `monotonic_constraints`: A `dict` where keys are features (column names on `df`) to take on monotonic relationships with the `targets` and values are 1 or -1 to signify the direction of that relationship: increasing or decreasing (respectively).\n",
    "\n",
    "`TabulaRasaRegressor()` also accepts named arguments, which are passed to the methods that define the three models behind the scenes.  Review the source code for `TabulaRasaRegressor()._define_model()` for more detail.  Here, we only specify `lr=0.003`."
   ]
  },
  {
   "cell_type": "code",
   "execution_count": 4,
   "id": "cccc3722",
   "metadata": {},
   "outputs": [],
   "source": [
    "model = TabulaRasaRegressor(monotonic_constraints={'x1': 1, 'x2': 1},\n",
    "                            lr=0.003)"
   ]
  },
  {
   "cell_type": "markdown",
   "id": "b395ca69",
   "metadata": {},
   "source": [
    "Now, when we run `.fit()`, we'll train 3 models:\n",
    "- The first generates standard predictions.\n",
    "- The second can be used to estimate epistemic uncertainty.\n",
    "- The third can generate predictions for arbitrary quantiles.\n",
    "\n",
    "Note, numeric columns are automatically standardized, and categorical feature mappings are created based on the feature dataset passed to `fit`.  Therefore, subsequent `fit` calls for incremental updates are expected to have a similar distribution, and any new categories will receive generic embedding values.\n",
    "\n",
    "Also note, the `X` input argument is required to be a `pandas.DataFrame` rather than `numpy.array` so that monotonic features can be properly handled."
   ]
  },
  {
   "cell_type": "code",
   "execution_count": 5,
   "id": "87184500",
   "metadata": {},
   "outputs": [
    {
     "name": "stdout",
     "output_type": "stream",
     "text": [
      "*** Training expectation model ***\n",
      "  epoch    train_loss    valid_loss     dur\n",
      "-------  ------------  ------------  ------\n",
      "      1        \u001b[36m0.8816\u001b[0m        \u001b[32m0.7330\u001b[0m  1.5021\n",
      "      2        \u001b[36m0.6557\u001b[0m        \u001b[32m0.5365\u001b[0m  1.4646\n",
      "      3        \u001b[36m0.4120\u001b[0m        \u001b[32m0.3317\u001b[0m  1.4828\n",
      "      4        \u001b[36m0.2583\u001b[0m        \u001b[32m0.2943\u001b[0m  1.4713\n",
      "      5        \u001b[36m0.2149\u001b[0m        0.3178  1.5003\n",
      "      6        \u001b[36m0.1979\u001b[0m        \u001b[32m0.2636\u001b[0m  1.4601\n",
      "      7        \u001b[36m0.1914\u001b[0m        0.2688  1.4934\n",
      "      8        \u001b[36m0.1842\u001b[0m        \u001b[32m0.2577\u001b[0m  1.4665\n",
      "      9        \u001b[36m0.1809\u001b[0m        0.3243  1.4961\n",
      "     10        0.1980        \u001b[32m0.2318\u001b[0m  1.4810\n",
      "     11        0.2095        0.2328  1.4759\n",
      "     12        \u001b[36m0.1801\u001b[0m        0.2518  1.4591\n",
      "     13        \u001b[36m0.1715\u001b[0m        0.2552  1.4857\n",
      "     14        0.1738        0.2437  1.4660\n",
      "     15        \u001b[36m0.1704\u001b[0m        \u001b[32m0.2293\u001b[0m  1.4903\n",
      "     16        0.1723        0.2296  1.4726\n",
      "     17        \u001b[36m0.1651\u001b[0m        0.2304  1.4755\n",
      "     18        \u001b[36m0.1645\u001b[0m        \u001b[32m0.2188\u001b[0m  1.4711\n",
      "     19        \u001b[36m0.1616\u001b[0m        0.2263  1.4535\n",
      "     20        0.1619        0.2589  1.4640\n",
      "     21        \u001b[36m0.1606\u001b[0m        0.2379  1.4689\n",
      "     22        \u001b[36m0.1551\u001b[0m        0.2201  1.4848\n",
      "     23        \u001b[36m0.1545\u001b[0m        0.2282  1.5219\n",
      "     24        \u001b[36m0.1538\u001b[0m        0.2227  1.4776\n",
      "     25        \u001b[36m0.1505\u001b[0m        0.2351  1.4925\n",
      "     26        \u001b[36m0.1503\u001b[0m        0.2663  1.4655\n",
      "     27        0.1545        0.2310  1.4917\n",
      "     28        0.1514        \u001b[32m0.2163\u001b[0m  1.4875\n",
      "     29        \u001b[36m0.1467\u001b[0m        \u001b[32m0.2052\u001b[0m  1.4671\n",
      "     30        0.1492        0.2060  1.4968\n",
      "     31        \u001b[36m0.1464\u001b[0m        0.2115  1.4659\n",
      "     32        \u001b[36m0.1448\u001b[0m        0.2077  1.4786\n",
      "     33        0.1452        \u001b[32m0.2045\u001b[0m  1.4961\n",
      "     34        0.1449        0.2101  1.4909\n",
      "     35        \u001b[36m0.1421\u001b[0m        \u001b[32m0.2045\u001b[0m  1.4800\n",
      "     36        0.1422        0.2213  1.4904\n",
      "     37        0.1485        0.2256  1.4672\n",
      "     38        0.1457        0.2108  1.4835\n",
      "     39        0.1424        0.2266  1.4695\n",
      "     40        \u001b[36m0.1414\u001b[0m        0.2164  1.4783\n",
      "     41        \u001b[36m0.1387\u001b[0m        \u001b[32m0.2017\u001b[0m  1.4931\n",
      "     42        \u001b[36m0.1374\u001b[0m        0.2076  1.4848\n",
      "     43        0.1376        \u001b[32m0.2016\u001b[0m  1.4664\n",
      "     44        0.1379        \u001b[32m0.2006\u001b[0m  1.4694\n",
      "     45        \u001b[36m0.1348\u001b[0m        0.2034  1.4693\n",
      "     46        0.1365        \u001b[32m0.1968\u001b[0m  1.4618\n",
      "     47        0.1381        \u001b[32m0.1883\u001b[0m  1.4674\n",
      "     48        0.1371        \u001b[32m0.1833\u001b[0m  1.4713\n",
      "     49        0.1350        0.1913  1.4830\n",
      "     50        \u001b[36m0.1327\u001b[0m        0.1909  1.4530\n",
      "     51        0.1330        0.1860  1.4888\n",
      "     52        0.1357        0.1873  1.4910\n",
      "     53        0.1370        0.1885  1.4809\n",
      "     54        \u001b[36m0.1327\u001b[0m        0.1931  1.4503\n",
      "     55        \u001b[36m0.1314\u001b[0m        0.1972  1.4673\n",
      "     56        \u001b[36m0.1311\u001b[0m        0.1860  1.4568\n",
      "     57        0.1328        0.1873  1.4773\n",
      "Stopping since valid_loss has not improved in the last 10 epochs.\n",
      "\n",
      "*** Training epistemic uncertainty model ***\n",
      "  epoch    train_loss    valid_loss     dur\n",
      "-------  ------------  ------------  ------\n",
      "      1        \u001b[36m2.7889\u001b[0m        \u001b[32m0.8596\u001b[0m  0.0343\n",
      "      2        \u001b[36m0.5522\u001b[0m        \u001b[32m0.2831\u001b[0m  0.0441\n",
      "      3        \u001b[36m0.2161\u001b[0m        \u001b[32m0.1494\u001b[0m  0.0462\n",
      "      4        \u001b[36m0.1118\u001b[0m        \u001b[32m0.0702\u001b[0m  0.0524\n",
      "      5        \u001b[36m0.0563\u001b[0m        \u001b[32m0.0428\u001b[0m  0.0438\n",
      "      6        \u001b[36m0.0365\u001b[0m        \u001b[32m0.0273\u001b[0m  0.0490\n",
      "      7        \u001b[36m0.0253\u001b[0m        \u001b[32m0.0224\u001b[0m  0.0431\n",
      "      8        \u001b[36m0.0214\u001b[0m        \u001b[32m0.0199\u001b[0m  0.0449\n",
      "      9        \u001b[36m0.0196\u001b[0m        \u001b[32m0.0182\u001b[0m  0.0489\n",
      "     10        \u001b[36m0.0182\u001b[0m        \u001b[32m0.0173\u001b[0m  0.0454\n",
      "     11        \u001b[36m0.0174\u001b[0m        \u001b[32m0.0167\u001b[0m  0.0477\n",
      "     12        \u001b[36m0.0168\u001b[0m        \u001b[32m0.0162\u001b[0m  0.0434\n",
      "     13        \u001b[36m0.0163\u001b[0m        \u001b[32m0.0157\u001b[0m  0.0469\n",
      "     14        \u001b[36m0.0158\u001b[0m        \u001b[32m0.0153\u001b[0m  0.0509\n",
      "     15        \u001b[36m0.0155\u001b[0m        \u001b[32m0.0150\u001b[0m  0.0489\n",
      "     16        \u001b[36m0.0151\u001b[0m        \u001b[32m0.0147\u001b[0m  0.0520\n",
      "     17        \u001b[36m0.0148\u001b[0m        \u001b[32m0.0144\u001b[0m  0.0485\n",
      "     18        \u001b[36m0.0145\u001b[0m        \u001b[32m0.0141\u001b[0m  0.0464\n",
      "     19        \u001b[36m0.0143\u001b[0m        \u001b[32m0.0139\u001b[0m  0.0481\n",
      "     20        \u001b[36m0.0141\u001b[0m        \u001b[32m0.0137\u001b[0m  0.0443\n",
      "     21        \u001b[36m0.0138\u001b[0m        \u001b[32m0.0135\u001b[0m  0.0437\n",
      "     22        \u001b[36m0.0137\u001b[0m        \u001b[32m0.0133\u001b[0m  0.0424\n",
      "     23        \u001b[36m0.0135\u001b[0m        \u001b[32m0.0132\u001b[0m  0.0515\n",
      "     24        \u001b[36m0.0133\u001b[0m        \u001b[32m0.0130\u001b[0m  0.0517\n",
      "     25        \u001b[36m0.0132\u001b[0m        \u001b[32m0.0129\u001b[0m  0.0489\n",
      "     26        \u001b[36m0.0130\u001b[0m        \u001b[32m0.0128\u001b[0m  0.0469\n",
      "     27        \u001b[36m0.0129\u001b[0m        \u001b[32m0.0126\u001b[0m  0.0453\n",
      "     28        \u001b[36m0.0127\u001b[0m        \u001b[32m0.0125\u001b[0m  0.0452\n",
      "     29        \u001b[36m0.0126\u001b[0m        \u001b[32m0.0124\u001b[0m  0.0515\n",
      "     30        \u001b[36m0.0125\u001b[0m        \u001b[32m0.0123\u001b[0m  0.0498\n",
      "     31        \u001b[36m0.0124\u001b[0m        \u001b[32m0.0122\u001b[0m  0.0461\n",
      "     32        \u001b[36m0.0123\u001b[0m        \u001b[32m0.0121\u001b[0m  0.0440\n",
      "     33        \u001b[36m0.0122\u001b[0m        \u001b[32m0.0120\u001b[0m  0.0429\n",
      "     34        \u001b[36m0.0121\u001b[0m        \u001b[32m0.0119\u001b[0m  0.0432\n",
      "     35        \u001b[36m0.0120\u001b[0m        \u001b[32m0.0118\u001b[0m  0.0424\n",
      "     36        \u001b[36m0.0119\u001b[0m        \u001b[32m0.0117\u001b[0m  0.0537\n",
      "     37        \u001b[36m0.0119\u001b[0m        \u001b[32m0.0117\u001b[0m  0.0569\n",
      "     38        \u001b[36m0.0118\u001b[0m        \u001b[32m0.0116\u001b[0m  0.0550\n",
      "     39        \u001b[36m0.0117\u001b[0m        \u001b[32m0.0115\u001b[0m  0.0465\n",
      "     40        \u001b[36m0.0117\u001b[0m        \u001b[32m0.0115\u001b[0m  0.0450\n",
      "     41        \u001b[36m0.0116\u001b[0m        \u001b[32m0.0114\u001b[0m  0.0447\n",
      "     42        \u001b[36m0.0115\u001b[0m        \u001b[32m0.0113\u001b[0m  0.0578\n",
      "     43        \u001b[36m0.0115\u001b[0m        \u001b[32m0.0113\u001b[0m  0.0539\n",
      "     44        \u001b[36m0.0114\u001b[0m        \u001b[32m0.0112\u001b[0m  0.0507\n",
      "     45        \u001b[36m0.0114\u001b[0m        \u001b[32m0.0112\u001b[0m  0.0434\n",
      "     46        \u001b[36m0.0113\u001b[0m        \u001b[32m0.0111\u001b[0m  0.0436\n",
      "     47        \u001b[36m0.0113\u001b[0m        \u001b[32m0.0111\u001b[0m  0.0452\n",
      "     48        \u001b[36m0.0112\u001b[0m        \u001b[32m0.0110\u001b[0m  0.0491\n",
      "     49        \u001b[36m0.0112\u001b[0m        \u001b[32m0.0110\u001b[0m  0.0552\n",
      "     50        \u001b[36m0.0111\u001b[0m        \u001b[32m0.0109\u001b[0m  0.0463\n",
      "     51        \u001b[36m0.0111\u001b[0m        \u001b[32m0.0109\u001b[0m  0.0493\n",
      "     52        \u001b[36m0.0111\u001b[0m        \u001b[32m0.0109\u001b[0m  0.0488\n",
      "     53        \u001b[36m0.0110\u001b[0m        \u001b[32m0.0108\u001b[0m  0.0405\n",
      "     54        \u001b[36m0.0110\u001b[0m        \u001b[32m0.0108\u001b[0m  0.0520\n",
      "     55        \u001b[36m0.0109\u001b[0m        \u001b[32m0.0107\u001b[0m  0.0476\n",
      "     56        \u001b[36m0.0109\u001b[0m        \u001b[32m0.0107\u001b[0m  0.0506\n",
      "     57        \u001b[36m0.0109\u001b[0m        \u001b[32m0.0107\u001b[0m  0.0475\n",
      "     58        \u001b[36m0.0108\u001b[0m        0.0107  0.0420\n",
      "     59        \u001b[36m0.0108\u001b[0m        \u001b[32m0.0106\u001b[0m  0.0511\n",
      "     60        \u001b[36m0.0108\u001b[0m        \u001b[32m0.0106\u001b[0m  0.0401\n",
      "     61        \u001b[36m0.0107\u001b[0m        \u001b[32m0.0105\u001b[0m  0.0415\n",
      "     62        \u001b[36m0.0107\u001b[0m        \u001b[32m0.0105\u001b[0m  0.0449\n",
      "     63        \u001b[36m0.0107\u001b[0m        \u001b[32m0.0105\u001b[0m  0.0409\n",
      "     64        \u001b[36m0.0106\u001b[0m        \u001b[32m0.0105\u001b[0m  0.0429\n",
      "     65        \u001b[36m0.0106\u001b[0m        \u001b[32m0.0104\u001b[0m  0.0409\n",
      "     66        \u001b[36m0.0106\u001b[0m        \u001b[32m0.0104\u001b[0m  0.0434\n",
      "     67        \u001b[36m0.0106\u001b[0m        \u001b[32m0.0104\u001b[0m  0.0532\n",
      "     68        \u001b[36m0.0105\u001b[0m        \u001b[32m0.0104\u001b[0m  0.0523\n",
      "     69        \u001b[36m0.0105\u001b[0m        \u001b[32m0.0103\u001b[0m  0.0419\n",
      "     70        \u001b[36m0.0105\u001b[0m        \u001b[32m0.0103\u001b[0m  0.0439\n",
      "     71        \u001b[36m0.0105\u001b[0m        \u001b[32m0.0103\u001b[0m  0.0423\n",
      "     72        \u001b[36m0.0104\u001b[0m        \u001b[32m0.0103\u001b[0m  0.0456\n",
      "     73        \u001b[36m0.0104\u001b[0m        \u001b[32m0.0102\u001b[0m  0.0528\n",
      "     74        \u001b[36m0.0104\u001b[0m        0.0103  0.0394\n",
      "     75        \u001b[36m0.0104\u001b[0m        \u001b[32m0.0102\u001b[0m  0.0543\n",
      "     76        \u001b[36m0.0104\u001b[0m        \u001b[32m0.0102\u001b[0m  0.0467\n",
      "     77        \u001b[36m0.0104\u001b[0m        \u001b[32m0.0102\u001b[0m  0.0396\n",
      "     78        \u001b[36m0.0103\u001b[0m        \u001b[32m0.0102\u001b[0m  0.0420\n",
      "     79        \u001b[36m0.0103\u001b[0m        \u001b[32m0.0101\u001b[0m  0.0479\n",
      "     80        \u001b[36m0.0103\u001b[0m        \u001b[32m0.0101\u001b[0m  0.0479\n"
     ]
    },
    {
     "name": "stdout",
     "output_type": "stream",
     "text": [
      "     81        \u001b[36m0.0103\u001b[0m        0.0101  0.0564\n",
      "     82        \u001b[36m0.0102\u001b[0m        \u001b[32m0.0101\u001b[0m  0.0451\n",
      "     83        \u001b[36m0.0102\u001b[0m        \u001b[32m0.0101\u001b[0m  0.0437\n",
      "     84        \u001b[36m0.0102\u001b[0m        \u001b[32m0.0100\u001b[0m  0.0422\n",
      "     85        \u001b[36m0.0102\u001b[0m        \u001b[32m0.0100\u001b[0m  0.0419\n",
      "     86        \u001b[36m0.0102\u001b[0m        \u001b[32m0.0100\u001b[0m  0.0457\n",
      "     87        \u001b[36m0.0102\u001b[0m        \u001b[32m0.0100\u001b[0m  0.0430\n",
      "     88        \u001b[36m0.0101\u001b[0m        \u001b[32m0.0100\u001b[0m  0.0406\n",
      "     89        \u001b[36m0.0101\u001b[0m        0.0100  0.0430\n",
      "     90        \u001b[36m0.0101\u001b[0m        \u001b[32m0.0099\u001b[0m  0.0394\n",
      "     91        \u001b[36m0.0101\u001b[0m        \u001b[32m0.0099\u001b[0m  0.0505\n",
      "     92        \u001b[36m0.0101\u001b[0m        \u001b[32m0.0099\u001b[0m  0.0409\n",
      "     93        \u001b[36m0.0101\u001b[0m        \u001b[32m0.0099\u001b[0m  0.0437\n",
      "     94        \u001b[36m0.0101\u001b[0m        \u001b[32m0.0099\u001b[0m  0.0413\n",
      "     95        \u001b[36m0.0100\u001b[0m        \u001b[32m0.0099\u001b[0m  0.0446\n",
      "     96        \u001b[36m0.0100\u001b[0m        0.0099  0.0438\n",
      "     97        \u001b[36m0.0100\u001b[0m        \u001b[32m0.0099\u001b[0m  0.0437\n",
      "     98        \u001b[36m0.0100\u001b[0m        \u001b[32m0.0098\u001b[0m  0.0445\n",
      "     99        \u001b[36m0.0100\u001b[0m        0.0099  0.0410\n",
      "    100        \u001b[36m0.0100\u001b[0m        \u001b[32m0.0098\u001b[0m  0.0411\n",
      "    101        \u001b[36m0.0100\u001b[0m        0.0098  0.0418\n",
      "    102        0.0100        0.0098  0.0460\n",
      "    103        \u001b[36m0.0099\u001b[0m        0.0098  0.0500\n",
      "    104        \u001b[36m0.0099\u001b[0m        \u001b[32m0.0098\u001b[0m  0.0395\n",
      "    105        \u001b[36m0.0099\u001b[0m        \u001b[32m0.0098\u001b[0m  0.0442\n",
      "    106        \u001b[36m0.0099\u001b[0m        \u001b[32m0.0097\u001b[0m  0.0410\n",
      "    107        \u001b[36m0.0099\u001b[0m        0.0097  0.0419\n",
      "    108        0.0099        \u001b[32m0.0097\u001b[0m  0.0476\n",
      "    109        \u001b[36m0.0099\u001b[0m        \u001b[32m0.0097\u001b[0m  0.0473\n",
      "    110        \u001b[36m0.0099\u001b[0m        \u001b[32m0.0097\u001b[0m  0.0431\n",
      "    111        \u001b[36m0.0098\u001b[0m        0.0097  0.0410\n",
      "    112        \u001b[36m0.0098\u001b[0m        \u001b[32m0.0097\u001b[0m  0.0400\n",
      "    113        \u001b[36m0.0098\u001b[0m        \u001b[32m0.0097\u001b[0m  0.0449\n",
      "    114        \u001b[36m0.0098\u001b[0m        \u001b[32m0.0096\u001b[0m  0.0419\n",
      "    115        \u001b[36m0.0098\u001b[0m        \u001b[32m0.0096\u001b[0m  0.0456\n",
      "    116        \u001b[36m0.0098\u001b[0m        0.0096  0.0487\n",
      "    117        0.0098        \u001b[32m0.0096\u001b[0m  0.0433\n",
      "    118        \u001b[36m0.0098\u001b[0m        \u001b[32m0.0096\u001b[0m  0.0424\n",
      "    119        \u001b[36m0.0097\u001b[0m        0.0096  0.0407\n",
      "    120        \u001b[36m0.0097\u001b[0m        \u001b[32m0.0096\u001b[0m  0.0466\n",
      "    121        \u001b[36m0.0097\u001b[0m        \u001b[32m0.0096\u001b[0m  0.0395\n",
      "    122        \u001b[36m0.0097\u001b[0m        0.0096  0.0481\n",
      "    123        0.0097        0.0096  0.0406\n",
      "    124        \u001b[36m0.0097\u001b[0m        \u001b[32m0.0095\u001b[0m  0.0405\n",
      "    125        \u001b[36m0.0097\u001b[0m        \u001b[32m0.0095\u001b[0m  0.0428\n",
      "    126        \u001b[36m0.0097\u001b[0m        \u001b[32m0.0095\u001b[0m  0.0418\n",
      "    127        \u001b[36m0.0097\u001b[0m        0.0096  0.0465\n",
      "    128        0.0097        \u001b[32m0.0095\u001b[0m  0.0446\n",
      "    129        \u001b[36m0.0096\u001b[0m        \u001b[32m0.0095\u001b[0m  0.0408\n",
      "    130        \u001b[36m0.0096\u001b[0m        \u001b[32m0.0095\u001b[0m  0.0429\n",
      "    131        \u001b[36m0.0096\u001b[0m        \u001b[32m0.0095\u001b[0m  0.0430\n",
      "    132        0.0096        0.0095  0.0455\n",
      "    133        \u001b[36m0.0096\u001b[0m        \u001b[32m0.0094\u001b[0m  0.0455\n",
      "    134        0.0096        0.0095  0.0499\n",
      "    135        \u001b[36m0.0096\u001b[0m        0.0095  0.0450\n",
      "    136        0.0096        0.0095  0.0433\n",
      "    137        \u001b[36m0.0096\u001b[0m        \u001b[32m0.0094\u001b[0m  0.0434\n",
      "    138        \u001b[36m0.0096\u001b[0m        \u001b[32m0.0094\u001b[0m  0.0406\n",
      "    139        \u001b[36m0.0096\u001b[0m        \u001b[32m0.0094\u001b[0m  0.0467\n",
      "    140        \u001b[36m0.0096\u001b[0m        \u001b[32m0.0094\u001b[0m  0.0402\n",
      "    141        \u001b[36m0.0095\u001b[0m        \u001b[32m0.0094\u001b[0m  0.0394\n",
      "    142        \u001b[36m0.0095\u001b[0m        \u001b[32m0.0094\u001b[0m  0.0410\n",
      "    143        \u001b[36m0.0095\u001b[0m        \u001b[32m0.0094\u001b[0m  0.0397\n",
      "    144        \u001b[36m0.0095\u001b[0m        \u001b[32m0.0093\u001b[0m  0.0408\n",
      "    145        \u001b[36m0.0095\u001b[0m        0.0094  0.0446\n",
      "    146        \u001b[36m0.0095\u001b[0m        0.0094  0.0490\n",
      "    147        0.0095        0.0094  0.0415\n",
      "    148        0.0095        \u001b[32m0.0093\u001b[0m  0.0400\n",
      "    149        \u001b[36m0.0095\u001b[0m        \u001b[32m0.0093\u001b[0m  0.0447\n",
      "    150        \u001b[36m0.0095\u001b[0m        \u001b[32m0.0093\u001b[0m  0.0472\n",
      "    151        \u001b[36m0.0095\u001b[0m        0.0093  0.0484\n",
      "    152        \u001b[36m0.0095\u001b[0m        \u001b[32m0.0093\u001b[0m  0.0506\n",
      "    153        0.0095        \u001b[32m0.0093\u001b[0m  0.0479\n",
      "    154        \u001b[36m0.0094\u001b[0m        0.0093  0.0477\n",
      "    155        \u001b[36m0.0094\u001b[0m        0.0093  0.0511\n",
      "    156        \u001b[36m0.0094\u001b[0m        \u001b[32m0.0093\u001b[0m  0.0410\n",
      "    157        0.0094        0.0093  0.0399\n",
      "    158        0.0094        0.0093  0.0404\n",
      "    159        \u001b[36m0.0094\u001b[0m        0.0093  0.0396\n",
      "    160        \u001b[36m0.0094\u001b[0m        \u001b[32m0.0093\u001b[0m  0.0454\n",
      "    161        \u001b[36m0.0094\u001b[0m        \u001b[32m0.0092\u001b[0m  0.0503\n",
      "    162        \u001b[36m0.0094\u001b[0m        \u001b[32m0.0092\u001b[0m  0.0459\n",
      "    163        \u001b[36m0.0094\u001b[0m        \u001b[32m0.0092\u001b[0m  0.0423\n",
      "    164        \u001b[36m0.0094\u001b[0m        \u001b[32m0.0092\u001b[0m  0.0410\n",
      "    165        0.0094        0.0092  0.0463\n",
      "    166        \u001b[36m0.0094\u001b[0m        0.0092  0.0466\n",
      "    167        \u001b[36m0.0094\u001b[0m        \u001b[32m0.0092\u001b[0m  0.0497\n",
      "    168        \u001b[36m0.0093\u001b[0m        \u001b[32m0.0092\u001b[0m  0.0520\n",
      "    169        \u001b[36m0.0093\u001b[0m        \u001b[32m0.0092\u001b[0m  0.0547\n",
      "    170        \u001b[36m0.0093\u001b[0m        \u001b[32m0.0092\u001b[0m  0.0476\n",
      "    171        \u001b[36m0.0093\u001b[0m        0.0092  0.0462\n",
      "    172        0.0093        0.0092  0.0418\n",
      "    173        \u001b[36m0.0093\u001b[0m        0.0092  0.0407\n",
      "    174        \u001b[36m0.0093\u001b[0m        0.0092  0.0534\n",
      "    175        \u001b[36m0.0093\u001b[0m        \u001b[32m0.0092\u001b[0m  0.0447\n",
      "    176        \u001b[36m0.0093\u001b[0m        0.0092  0.0461\n",
      "    177        \u001b[36m0.0093\u001b[0m        0.0092  0.0468\n",
      "    178        \u001b[36m0.0093\u001b[0m        \u001b[32m0.0091\u001b[0m  0.0418\n",
      "    179        0.0093        \u001b[32m0.0091\u001b[0m  0.0448\n",
      "    180        \u001b[36m0.0093\u001b[0m        \u001b[32m0.0091\u001b[0m  0.0399\n",
      "    181        \u001b[36m0.0093\u001b[0m        0.0092  0.0414\n",
      "    182        0.0093        0.0092  0.0430\n",
      "    183        0.0093        \u001b[32m0.0091\u001b[0m  0.0494\n",
      "    184        \u001b[36m0.0093\u001b[0m        0.0091  0.0490\n",
      "    185        0.0093        0.0091  0.0408\n",
      "    186        0.0093        0.0091  0.0419\n",
      "    187        \u001b[36m0.0092\u001b[0m        0.0091  0.0501\n",
      "    188        \u001b[36m0.0092\u001b[0m        \u001b[32m0.0091\u001b[0m  0.0402\n",
      "    189        \u001b[36m0.0092\u001b[0m        \u001b[32m0.0091\u001b[0m  0.0443\n",
      "    190        \u001b[36m0.0092\u001b[0m        0.0091  0.0432\n",
      "    191        0.0092        \u001b[32m0.0091\u001b[0m  0.0496\n",
      "    192        \u001b[36m0.0092\u001b[0m        0.0092  0.0507\n",
      "    193        \u001b[36m0.0092\u001b[0m        0.0091  0.0398\n",
      "    194        \u001b[36m0.0092\u001b[0m        \u001b[32m0.0091\u001b[0m  0.0406\n",
      "    195        0.0092        0.0091  0.0438\n",
      "    196        0.0092        0.0091  0.0448\n",
      "    197        \u001b[36m0.0092\u001b[0m        \u001b[32m0.0090\u001b[0m  0.0529\n",
      "    198        \u001b[36m0.0092\u001b[0m        0.0091  0.0436\n",
      "    199        \u001b[36m0.0092\u001b[0m        \u001b[32m0.0090\u001b[0m  0.0513\n",
      "    200        \u001b[36m0.0092\u001b[0m        0.0090  0.0487\n",
      "    201        \u001b[36m0.0092\u001b[0m        0.0091  0.0486\n",
      "    202        0.0092        0.0090  0.0446\n",
      "    203        0.0092        0.0090  0.0513\n",
      "    204        0.0092        \u001b[32m0.0090\u001b[0m  0.0402\n",
      "    205        \u001b[36m0.0092\u001b[0m        \u001b[32m0.0090\u001b[0m  0.0397\n",
      "    206        \u001b[36m0.0092\u001b[0m        0.0090  0.0413\n",
      "    207        \u001b[36m0.0092\u001b[0m        0.0090  0.0437\n",
      "    208        \u001b[36m0.0091\u001b[0m        \u001b[32m0.0090\u001b[0m  0.0460\n",
      "    209        0.0091        0.0090  0.0434\n",
      "    210        \u001b[36m0.0091\u001b[0m        \u001b[32m0.0090\u001b[0m  0.0416\n",
      "    211        \u001b[36m0.0091\u001b[0m        0.0090  0.0511\n",
      "    212        0.0091        0.0090  0.0553\n",
      "    213        0.0091        0.0091  0.0427\n",
      "    214        0.0091        0.0090  0.0429\n",
      "    215        0.0091        \u001b[32m0.0090\u001b[0m  0.0465\n",
      "    216        \u001b[36m0.0091\u001b[0m        0.0090  0.0474\n",
      "    217        \u001b[36m0.0091\u001b[0m        \u001b[32m0.0090\u001b[0m  0.0487\n",
      "    218        \u001b[36m0.0091\u001b[0m        0.0090  0.0399\n",
      "    219        \u001b[36m0.0091\u001b[0m        \u001b[32m0.0089\u001b[0m  0.0527\n",
      "    220        \u001b[36m0.0091\u001b[0m        0.0090  0.0429\n",
      "    221        \u001b[36m0.0091\u001b[0m        0.0089  0.0513\n",
      "    222        0.0091        0.0090  0.0477\n",
      "    223        \u001b[36m0.0091\u001b[0m        \u001b[32m0.0089\u001b[0m  0.0474\n",
      "    224        \u001b[36m0.0091\u001b[0m        \u001b[32m0.0089\u001b[0m  0.0432\n",
      "    225        \u001b[36m0.0091\u001b[0m        0.0089  0.0463\n",
      "    226        0.0091        0.0089  0.0537\n",
      "    227        \u001b[36m0.0091\u001b[0m        0.0089  0.0539\n"
     ]
    },
    {
     "name": "stdout",
     "output_type": "stream",
     "text": [
      "    228        0.0091        0.0089  0.0550\n",
      "    229        0.0091        0.0090  0.0435\n",
      "    230        0.0091        0.0089  0.0386\n",
      "    231        \u001b[36m0.0091\u001b[0m        0.0089  0.0479\n",
      "    232        \u001b[36m0.0091\u001b[0m        \u001b[32m0.0089\u001b[0m  0.0419\n",
      "    233        0.0091        \u001b[32m0.0089\u001b[0m  0.0429\n",
      "    234        \u001b[36m0.0090\u001b[0m        \u001b[32m0.0089\u001b[0m  0.0392\n",
      "    235        0.0090        0.0089  0.0448\n",
      "    236        \u001b[36m0.0090\u001b[0m        0.0089  0.0412\n",
      "    237        0.0091        0.0089  0.0492\n",
      "    238        0.0091        0.0090  0.0459\n",
      "    239        0.0091        0.0089  0.0390\n",
      "    240        0.0091        0.0090  0.0396\n",
      "    241        0.0091        0.0089  0.0394\n",
      "    242        \u001b[36m0.0090\u001b[0m        0.0089  0.0438\n",
      "    243        \u001b[36m0.0090\u001b[0m        0.0089  0.0463\n",
      "    244        0.0090        0.0089  0.0454\n",
      "    245        \u001b[36m0.0090\u001b[0m        \u001b[32m0.0089\u001b[0m  0.0401\n",
      "    246        0.0090        0.0090  0.0401\n",
      "    247        0.0091        0.0090  0.0509\n",
      "    248        0.0091        0.0090  0.0436\n",
      "    249        0.0091        0.0089  0.0441\n",
      "    250        \u001b[36m0.0090\u001b[0m        \u001b[32m0.0089\u001b[0m  0.0406\n",
      "\n",
      "*** Training quantile prediction model ***\n",
      "  epoch    train_loss    valid_loss     dur\n",
      "-------  ------------  ------------  ------\n",
      "      1        \u001b[36m0.5169\u001b[0m        \u001b[32m0.2781\u001b[0m  1.4596\n",
      "      2        \u001b[36m0.1688\u001b[0m        \u001b[32m0.1864\u001b[0m  1.4587\n",
      "      3        \u001b[36m0.1369\u001b[0m        \u001b[32m0.1496\u001b[0m  1.4808\n",
      "      4        \u001b[36m0.1186\u001b[0m        \u001b[32m0.1374\u001b[0m  1.4786\n",
      "      5        \u001b[36m0.1107\u001b[0m        \u001b[32m0.1296\u001b[0m  1.4620\n",
      "      6        \u001b[36m0.1085\u001b[0m        0.1308  1.4580\n",
      "      7        \u001b[36m0.1065\u001b[0m        0.1346  1.4724\n",
      "      8        \u001b[36m0.1046\u001b[0m        \u001b[32m0.1287\u001b[0m  1.4533\n",
      "      9        \u001b[36m0.0988\u001b[0m        0.1378  1.4598\n",
      "     10        0.1015        \u001b[32m0.1262\u001b[0m  1.4721\n",
      "     11        0.1054        0.1324  1.4953\n",
      "     12        0.1060        0.1283  1.4895\n",
      "     13        0.1057        0.1358  1.4751\n",
      "     14        0.1038        0.1385  1.4805\n",
      "     15        0.1015        \u001b[32m0.1243\u001b[0m  1.4599\n",
      "     16        0.1015        0.1331  1.4634\n",
      "     17        0.1054        0.1256  1.4848\n",
      "     18        0.1022        0.1270  1.4567\n",
      "     19        0.1022        0.1297  1.4899\n",
      "     20        0.1049        0.1323  1.4726\n",
      "     21        0.1033        0.1281  1.4723\n",
      "     22        0.1030        0.1308  1.4707\n",
      "     23        0.1039        0.1300  1.4636\n",
      "     24        0.1021        0.1354  1.4687\n",
      "Stopping since valid_loss has not improved in the last 10 epochs.\n"
     ]
    }
   ],
   "source": [
    "model.fit(df[['x1', 'x2', 'x3', 'x4']], df[['y']])"
   ]
  },
  {
   "cell_type": "markdown",
   "id": "b66ecbdb",
   "metadata": {},
   "source": [
    "We'll create a partial dependence plot to visualize how the monotonic network constrained our relationship between `x1` and `y`."
   ]
  },
  {
   "cell_type": "code",
   "execution_count": 6,
   "id": "630fbdc0",
   "metadata": {},
   "outputs": [],
   "source": [
    "quantiles = [0.01, 0.05, 0.1, 0.2, 0.3, 0.4, 0.6, 0.7, 0.8, 0.9, 0.95, 0.99]"
   ]
  },
  {
   "cell_type": "markdown",
   "id": "0a68cf03",
   "metadata": {},
   "source": [
    "Note, the `.predict()` method for `TabulaRasaRegressor()` accepts a data frame as well.  This data frame must include all training features, but does not need to include target column(s)."
   ]
  },
  {
   "cell_type": "code",
   "execution_count": 7,
   "id": "31b9c881",
   "metadata": {},
   "outputs": [],
   "source": [
    "results = []\n",
    "for q in np.quantile(df['x1'], quantiles):\n",
    "    dfc = df.copy()\n",
    "    dfc['x1'] = q\n",
    "    dfc['x1'] = dfc['x1'].astype('float32')\n",
    "    p = model.predict(dfc)\n",
    "    p = pd.DataFrame(pd.Series(p[:, 0]).describe(percentiles=quantiles)).T\n",
    "    p['x1'] = q\n",
    "    results.append(p)\n",
    "results = pd.concat(results, axis=0)"
   ]
  },
  {
   "cell_type": "markdown",
   "id": "b919ef3b",
   "metadata": {},
   "source": [
    "We can see below that, unlike with the simple MLP network, we have a monotonically increasing relationship between `x1` and `y`."
   ]
  },
  {
   "cell_type": "code",
   "execution_count": 8,
   "id": "0dfca593",
   "metadata": {},
   "outputs": [
    {
     "data": {
      "image/png": "[encoded data removed]",
      "text/plain": [
       "<Figure size 432x288 with 1 Axes>"
      ]
     },
     "metadata": {
      "needs_background": "light"
     },
     "output_type": "display_data"
    }
   ],
   "source": [
    "results.plot(x='x1', y=['20%', 'mean', '80%'])\n",
    "plt.show()"
   ]
  },
  {
   "cell_type": "markdown",
   "id": "e8c20586",
   "metadata": {},
   "source": [
    "---\n",
    "\n",
    "### Epistemic uncertainty\n",
    "\n",
    "`TabulaRasaRegressor()` automatically trains and Orthornormal certificates model, and includes a method `.estimate_uncertainty()`, which accepts a data frame that must include all training features, but does not need to contain target column(s)."
   ]
  },
  {
   "cell_type": "code",
   "execution_count": 9,
   "id": "4f39862b",
   "metadata": {},
   "outputs": [],
   "source": [
    "uncertainties = []\n",
    "for q in np.linspace(-1.5, 1.5, 101):\n",
    "    dfc = df.copy()\n",
    "    dfc['x1'] = q\n",
    "    dfc['x1'] = dfc['x1'].astype('float32')\n",
    "    p = model.estimate_uncertainty(dfc)\n",
    "    p = pd.DataFrame(pd.Series(p).describe(percentiles=quantiles)).T\n",
    "    p['x1'] = q\n",
    "    uncertainties.append(p)\n",
    "uncertainties = pd.concat(uncertainties, axis=0)"
   ]
  },
  {
   "cell_type": "markdown",
   "id": "f502ad11",
   "metadata": {},
   "source": [
    "And we can see from the plot below that uncertainties rise above 1 when projecting outside of the bounds we trained.  There is a bump in the middle, but it does not exceed 1 or align perfectly with the gap in our training data from 0 to 0.5.  Instead we see higher uncertainty when the function shows  high degree of curvature."
   ]
  },
  {
   "cell_type": "code",
   "execution_count": 10,
   "id": "ea4d1955",
   "metadata": {},
   "outputs": [
    {
     "data": {
      "image/png": "[encoded data removed]",
      "text/plain": [
       "<Figure size 432x288 with 1 Axes>"
      ]
     },
     "metadata": {
      "needs_background": "light"
     },
     "output_type": "display_data"
    }
   ],
   "source": [
    "uncertainties.plot(x='x1', y=['20%', 'mean', '80%'])\n",
    "plt.show()"
   ]
  },
  {
   "cell_type": "markdown",
   "id": "04bb3815",
   "metadata": {},
   "source": [
    "---\n",
    "\n",
    "### Aleatoric uncertainty\n",
    "\n",
    "`TabulaRasaRegressor()` also automatically trains a simultaneous quantile regression model.  Let's see how to use that.\n",
    "\n",
    "Since each distinct value of `x3` contains all values of `x1`, let's examine prediction intervals by `x1` for a single value of `x3`."
   ]
  },
  {
   "cell_type": "code",
   "execution_count": 11,
   "id": "39b55bf6",
   "metadata": {},
   "outputs": [],
   "source": [
    "df_slice = df[df['x3'] == 0].copy()"
   ]
  },
  {
   "cell_type": "markdown",
   "id": "a14938c0",
   "metadata": {},
   "source": [
    "The `.predict_quantile()` takes in an extra argument `q` to specify which quantile should be predicted (defaults to 0.5, the 50th percentile)."
   ]
  },
  {
   "cell_type": "code",
   "execution_count": 12,
   "id": "182ce1fd",
   "metadata": {},
   "outputs": [],
   "source": [
    "p05 = model.predict_quantile(df_slice, q=0.05)\n",
    "p = model.predict(df_slice)\n",
    "p50 = model.predict_quantile(df_slice, q=0.5)\n",
    "p95 = model.predict_quantile(df_slice, q=0.95)"
   ]
  },
  {
   "cell_type": "code",
   "execution_count": 13,
   "id": "7c09d7d5",
   "metadata": {},
   "outputs": [
    {
     "data": {
      "image/png": "[encoded data removed]",
      "text/plain": [
       "<Figure size 432x288 with 1 Axes>"
      ]
     },
     "metadata": {
      "needs_background": "light"
     },
     "output_type": "display_data"
    }
   ],
   "source": [
    "plt.scatter(df_slice['x1'], df_slice['y'], alpha=0.2, label='actual')\n",
    "plt.plot(df_slice['x1'], p.flatten(), color='black', label='prediction')\n",
    "plt.plot(df_slice['x1'], p50.flatten(), alpha=0.2, label='median')\n",
    "plt.fill_between(df_slice['x1'], p05.flatten(), p95.flatten(), color='gray', alpha=0.2, label='5th-95th')\n",
    "plt.legend()\n",
    "plt.show()"
   ]
  },
  {
   "cell_type": "markdown",
   "id": "38a79446",
   "metadata": {},
   "source": [
    "We can see the 5th and 95th percentile prediction bounds capture the variation of most points around the median and base prediction model estimate, and can be used to approximate the aleatoric uncertainty in our model."
   ]
  }
 ],
 "metadata": {
  "kernelspec": {
   "display_name": "Python 3 (ipykernel)",
   "language": "python",
   "name": "python3"
  },
  "language_info": {
   "codemirror_mode": {
    "name": "ipython",
    "version": 3
   },
   "file_extension": ".py",
   "mimetype": "text/x-python",
   "name": "python",
   "nbconvert_exporter": "python",
   "pygments_lexer": "ipython3",
   "version": "3.9.12"
  }
 },
 "nbformat": 4,
 "nbformat_minor": 5
}
