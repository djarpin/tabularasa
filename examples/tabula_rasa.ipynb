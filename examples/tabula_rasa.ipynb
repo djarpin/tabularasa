{
 "cells": [
  {
   "cell_type": "markdown",
   "id": "dc873c9a",
   "metadata": {},
   "source": [
    "# Tabula Rasa\n",
    "\n",
    "---\n",
    "\n",
    "---\n",
    "\n",
    "### Overview\n",
    "\n",
    "This notebook trains a mixed monotonic model, with sub-models to generate arbitrary quantile predictions and estimate epistemic uncertainty, using `TabulaRasaRegressor()`.\n",
    "\n",
    "It's designed to work with Pandas DataFrame's and takes advantage of class types and feature names to cut down on code."
   ]
  },
  {
   "cell_type": "code",
   "execution_count": 1,
   "id": "d5353a5b",
   "metadata": {},
   "outputs": [],
   "source": [
    "import pandas as pd\n",
    "import numpy as np\n",
    "import matplotlib.pyplot as plt\n",
    "from tabularasa.TabulaRasa import TabulaRasaRegressor"
   ]
  },
  {
   "cell_type": "markdown",
   "id": "bc062f2d",
   "metadata": {},
   "source": [
    "---\n",
    "\n",
    "### Load example data\n",
    "\n",
    "If you haven't already, please generate the example dataset using the [example_data](example_data.ipynb) notebook."
   ]
  },
  {
   "cell_type": "code",
   "execution_count": 2,
   "id": "87937eee",
   "metadata": {},
   "outputs": [],
   "source": [
    "df = pd.read_pickle('./data/simple_train.pkl')"
   ]
  },
  {
   "cell_type": "markdown",
   "id": "3704b773",
   "metadata": {},
   "source": [
    "Let's convert `x3` to a `category` data type so that we can generate embeddings for it (`TabulaRasaRegressor()` automatically handles this for all columns with `object` or `category` data types)."
   ]
  },
  {
   "cell_type": "code",
   "execution_count": 3,
   "id": "8043b860",
   "metadata": {},
   "outputs": [],
   "source": [
    "df['x3'] = df['x3'].astype('category')"
   ]
  },
  {
   "cell_type": "markdown",
   "id": "7fdd8aa6",
   "metadata": {},
   "source": [
    "---\n",
    "\n",
    "### Initialize  and train\n",
    "\n",
    "When initializing the model, we typically pass 3 arguments:\n",
    "- `df`: A `pandas.DataFrame` containing the training data, or a sample of it.  No training happens on initialization, just categorizing features, setting up categorical feature mappings, and scalers for numeric features.  Therefore, if it is a sample of the full dataset, it should well represent your full dataset (in terms of having unique values for each categorical feature, and distributions for continuous features).\n",
    "- `targets`: A `list` of column names to use as regressand(s) which are in `df`.  All other 'number', 'category', or 'object' columns in `df` are assumed to be features and will be included in the models. \n",
    "- `monotonic_constraints`: A `dict` where keys are features (column names on `df`) to take on monotonic relationships with the `targets` and values are 1 or -1 to signify the direction of that relationship: increasing or decreasing (respectively).\n",
    "- `TabulaRasaRegressor()` also accepts named arguments, which are passed to the methods that define the three models behind the scenes.  Review the source code for `TabulaRasaRegressor()._define_model()` for more detail.  Here, we only specify `lr=0.005`."
   ]
  },
  {
   "cell_type": "code",
   "execution_count": 4,
   "id": "cccc3722",
   "metadata": {},
   "outputs": [],
   "source": [
    "model = TabulaRasaRegressor(df,\n",
    "                            targets=['y'],\n",
    "                            monotonic_constraints={'x1': 1, 'x2': 1},\n",
    "                            lr=0.003)"
   ]
  },
  {
   "cell_type": "markdown",
   "id": "b395ca69",
   "metadata": {},
   "source": [
    "Now, when we run `.fit()`, we'll train 3 models:\n",
    "- The first generates standard predictions.\n",
    "- The second can be used to estimate epistemic uncertainty.\n",
    "- The third can generate predictions for arbitrary quantiles.\n",
    "\n",
    "Note, we break pure adherence to the scikit API and simply pass the dataset which includes both the feature and target columns we'd like to train on into `.fit()`."
   ]
  },
  {
   "cell_type": "code",
   "execution_count": 5,
   "id": "87184500",
   "metadata": {},
   "outputs": [
    {
     "name": "stdout",
     "output_type": "stream",
     "text": [
      "*** Training expectation model ***\n",
      "  epoch    train_loss    valid_loss     dur\n",
      "-------  ------------  ------------  ------\n",
      "      1        \u001b[36m0.8900\u001b[0m        \u001b[32m0.8704\u001b[0m  1.5872\n",
      "      2        \u001b[36m0.8400\u001b[0m        \u001b[32m0.8212\u001b[0m  1.5734\n",
      "      3        \u001b[36m0.7668\u001b[0m        \u001b[32m0.7038\u001b[0m  1.5788\n",
      "      4        \u001b[36m0.6453\u001b[0m        \u001b[32m0.5542\u001b[0m  1.5646\n",
      "      5        \u001b[36m0.4856\u001b[0m        \u001b[32m0.3954\u001b[0m  1.5868\n",
      "      6        \u001b[36m0.3781\u001b[0m        \u001b[32m0.3667\u001b[0m  1.5879\n",
      "      7        \u001b[36m0.3030\u001b[0m        \u001b[32m0.2822\u001b[0m  1.5828\n",
      "      8        \u001b[36m0.2427\u001b[0m        \u001b[32m0.2586\u001b[0m  1.5828\n",
      "      9        \u001b[36m0.2292\u001b[0m        \u001b[32m0.2442\u001b[0m  1.5807\n",
      "     10        \u001b[36m0.2207\u001b[0m        0.2668  1.6009\n",
      "     11        \u001b[36m0.2053\u001b[0m        0.2442  1.5910\n",
      "     12        \u001b[36m0.1925\u001b[0m        0.2720  1.5592\n",
      "     13        \u001b[36m0.1818\u001b[0m        0.2702  1.5771\n",
      "     14        \u001b[36m0.1806\u001b[0m        0.2565  1.5648\n",
      "     15        \u001b[36m0.1796\u001b[0m        0.2480  1.5920\n",
      "     16        \u001b[36m0.1782\u001b[0m        0.2621  1.5771\n",
      "     17        0.1784        0.2613  1.5749\n",
      "     18        \u001b[36m0.1778\u001b[0m        0.2819  1.5655\n",
      "Stopping since valid_loss has not improved in the last 10 epochs.\n",
      "\n",
      "*** Training epistemic uncertainty model ***\n",
      "  epoch    train_loss    valid_loss     dur\n",
      "-------  ------------  ------------  ------\n",
      "      1        \u001b[36m4.3427\u001b[0m        \u001b[32m1.6394\u001b[0m  0.0377\n",
      "      2        \u001b[36m1.0460\u001b[0m        \u001b[32m0.5363\u001b[0m  0.0507\n",
      "      3        \u001b[36m0.3815\u001b[0m        \u001b[32m0.2159\u001b[0m  0.0541\n",
      "      4        \u001b[36m0.1710\u001b[0m        \u001b[32m0.1145\u001b[0m  0.0494\n",
      "      5        \u001b[36m0.0868\u001b[0m        \u001b[32m0.0484\u001b[0m  0.0539\n",
      "      6        \u001b[36m0.0383\u001b[0m        \u001b[32m0.0296\u001b[0m  0.0551\n",
      "      7        \u001b[36m0.0260\u001b[0m        \u001b[32m0.0225\u001b[0m  0.0461\n",
      "      8        \u001b[36m0.0216\u001b[0m        \u001b[32m0.0200\u001b[0m  0.0546\n",
      "      9        \u001b[36m0.0189\u001b[0m        \u001b[32m0.0180\u001b[0m  0.0511\n",
      "     10        \u001b[36m0.0174\u001b[0m        \u001b[32m0.0169\u001b[0m  0.0545\n",
      "     11        \u001b[36m0.0166\u001b[0m        \u001b[32m0.0162\u001b[0m  0.0553\n",
      "     12        \u001b[36m0.0160\u001b[0m        \u001b[32m0.0157\u001b[0m  0.0564\n",
      "     13        \u001b[36m0.0155\u001b[0m        \u001b[32m0.0154\u001b[0m  0.0504\n",
      "     14        \u001b[36m0.0151\u001b[0m        \u001b[32m0.0149\u001b[0m  0.0530\n",
      "     15        \u001b[36m0.0148\u001b[0m        \u001b[32m0.0146\u001b[0m  0.0511\n",
      "     16        \u001b[36m0.0145\u001b[0m        \u001b[32m0.0143\u001b[0m  0.0483\n",
      "     17        \u001b[36m0.0142\u001b[0m        \u001b[32m0.0140\u001b[0m  0.0580\n",
      "     18        \u001b[36m0.0139\u001b[0m        \u001b[32m0.0138\u001b[0m  0.0605\n",
      "     19        \u001b[36m0.0137\u001b[0m        \u001b[32m0.0135\u001b[0m  0.0596\n",
      "     20        \u001b[36m0.0135\u001b[0m        \u001b[32m0.0133\u001b[0m  0.0573\n",
      "     21        \u001b[36m0.0133\u001b[0m        \u001b[32m0.0131\u001b[0m  0.0594\n",
      "     22        \u001b[36m0.0131\u001b[0m        \u001b[32m0.0130\u001b[0m  0.0594\n",
      "     23        \u001b[36m0.0129\u001b[0m        \u001b[32m0.0128\u001b[0m  0.0583\n",
      "     24        \u001b[36m0.0128\u001b[0m        \u001b[32m0.0126\u001b[0m  0.0600\n",
      "     25        \u001b[36m0.0126\u001b[0m        \u001b[32m0.0125\u001b[0m  0.0511\n",
      "     26        \u001b[36m0.0125\u001b[0m        \u001b[32m0.0124\u001b[0m  0.0592\n",
      "     27        \u001b[36m0.0124\u001b[0m        \u001b[32m0.0123\u001b[0m  0.0592\n",
      "     28        \u001b[36m0.0123\u001b[0m        \u001b[32m0.0121\u001b[0m  0.0584\n",
      "     29        \u001b[36m0.0121\u001b[0m        \u001b[32m0.0120\u001b[0m  0.0487\n",
      "     30        \u001b[36m0.0120\u001b[0m        \u001b[32m0.0119\u001b[0m  0.0603\n",
      "     31        \u001b[36m0.0119\u001b[0m        \u001b[32m0.0118\u001b[0m  0.0616\n",
      "     32        \u001b[36m0.0119\u001b[0m        \u001b[32m0.0118\u001b[0m  0.0422\n",
      "     33        \u001b[36m0.0118\u001b[0m        \u001b[32m0.0117\u001b[0m  0.0648\n",
      "     34        \u001b[36m0.0117\u001b[0m        \u001b[32m0.0116\u001b[0m  0.0561\n",
      "     35        \u001b[36m0.0116\u001b[0m        \u001b[32m0.0115\u001b[0m  0.0501\n",
      "     36        \u001b[36m0.0115\u001b[0m        \u001b[32m0.0114\u001b[0m  0.0481\n",
      "     37        \u001b[36m0.0115\u001b[0m        \u001b[32m0.0114\u001b[0m  0.0597\n",
      "     38        \u001b[36m0.0114\u001b[0m        \u001b[32m0.0113\u001b[0m  0.0619\n",
      "     39        \u001b[36m0.0114\u001b[0m        \u001b[32m0.0112\u001b[0m  0.0451\n",
      "     40        \u001b[36m0.0113\u001b[0m        \u001b[32m0.0112\u001b[0m  0.0473\n",
      "     41        \u001b[36m0.0112\u001b[0m        \u001b[32m0.0111\u001b[0m  0.0617\n",
      "     42        \u001b[36m0.0112\u001b[0m        \u001b[32m0.0111\u001b[0m  0.0430\n",
      "     43        \u001b[36m0.0111\u001b[0m        \u001b[32m0.0110\u001b[0m  0.0664\n",
      "     44        \u001b[36m0.0111\u001b[0m        \u001b[32m0.0110\u001b[0m  0.0598\n",
      "     45        \u001b[36m0.0110\u001b[0m        \u001b[32m0.0109\u001b[0m  0.0554\n",
      "     46        \u001b[36m0.0110\u001b[0m        \u001b[32m0.0109\u001b[0m  0.0563\n",
      "     47        \u001b[36m0.0110\u001b[0m        \u001b[32m0.0108\u001b[0m  0.0566\n",
      "     48        \u001b[36m0.0109\u001b[0m        \u001b[32m0.0108\u001b[0m  0.0647\n",
      "     49        \u001b[36m0.0109\u001b[0m        \u001b[32m0.0108\u001b[0m  0.0424\n",
      "     50        \u001b[36m0.0108\u001b[0m        \u001b[32m0.0107\u001b[0m  0.0605\n",
      "     51        \u001b[36m0.0108\u001b[0m        \u001b[32m0.0107\u001b[0m  0.0514\n",
      "     52        \u001b[36m0.0108\u001b[0m        \u001b[32m0.0106\u001b[0m  0.0510\n",
      "     53        \u001b[36m0.0107\u001b[0m        \u001b[32m0.0106\u001b[0m  0.0497\n",
      "     54        \u001b[36m0.0107\u001b[0m        \u001b[32m0.0106\u001b[0m  0.0660\n",
      "     55        \u001b[36m0.0107\u001b[0m        \u001b[32m0.0105\u001b[0m  0.0620\n",
      "     56        \u001b[36m0.0106\u001b[0m        \u001b[32m0.0105\u001b[0m  0.0619\n",
      "     57        \u001b[36m0.0106\u001b[0m        \u001b[32m0.0105\u001b[0m  0.0585\n",
      "     58        \u001b[36m0.0106\u001b[0m        \u001b[32m0.0105\u001b[0m  0.0442\n",
      "     59        \u001b[36m0.0105\u001b[0m        \u001b[32m0.0104\u001b[0m  0.0631\n",
      "     60        \u001b[36m0.0105\u001b[0m        \u001b[32m0.0104\u001b[0m  0.0649\n",
      "     61        \u001b[36m0.0105\u001b[0m        \u001b[32m0.0104\u001b[0m  0.0450\n",
      "     62        \u001b[36m0.0105\u001b[0m        \u001b[32m0.0103\u001b[0m  0.0611\n",
      "     63        \u001b[36m0.0104\u001b[0m        \u001b[32m0.0103\u001b[0m  0.0584\n",
      "     64        \u001b[36m0.0104\u001b[0m        \u001b[32m0.0103\u001b[0m  0.0625\n",
      "     65        \u001b[36m0.0104\u001b[0m        \u001b[32m0.0103\u001b[0m  0.0644\n",
      "     66        \u001b[36m0.0104\u001b[0m        \u001b[32m0.0102\u001b[0m  0.0476\n",
      "     67        \u001b[36m0.0103\u001b[0m        \u001b[32m0.0102\u001b[0m  0.0631\n",
      "     68        \u001b[36m0.0103\u001b[0m        \u001b[32m0.0102\u001b[0m  0.0445\n",
      "     69        \u001b[36m0.0103\u001b[0m        \u001b[32m0.0102\u001b[0m  0.0537\n",
      "     70        \u001b[36m0.0103\u001b[0m        \u001b[32m0.0101\u001b[0m  0.0644\n",
      "     71        \u001b[36m0.0103\u001b[0m        \u001b[32m0.0101\u001b[0m  0.0648\n",
      "     72        \u001b[36m0.0102\u001b[0m        \u001b[32m0.0101\u001b[0m  0.0664\n",
      "     73        \u001b[36m0.0102\u001b[0m        \u001b[32m0.0101\u001b[0m  0.0656\n",
      "     74        \u001b[36m0.0102\u001b[0m        \u001b[32m0.0101\u001b[0m  0.0410\n",
      "     75        \u001b[36m0.0102\u001b[0m        \u001b[32m0.0100\u001b[0m  0.0579\n",
      "     76        \u001b[36m0.0101\u001b[0m        \u001b[32m0.0100\u001b[0m  0.0478\n",
      "     77        \u001b[36m0.0101\u001b[0m        \u001b[32m0.0100\u001b[0m  0.0659\n",
      "     78        \u001b[36m0.0101\u001b[0m        \u001b[32m0.0100\u001b[0m  0.0467\n",
      "     79        \u001b[36m0.0101\u001b[0m        \u001b[32m0.0100\u001b[0m  0.0478\n",
      "     80        \u001b[36m0.0101\u001b[0m        \u001b[32m0.0099\u001b[0m  0.0685\n",
      "     81        \u001b[36m0.0100\u001b[0m        \u001b[32m0.0099\u001b[0m  0.0521\n",
      "     82        \u001b[36m0.0100\u001b[0m        \u001b[32m0.0099\u001b[0m  0.0660\n",
      "     83        \u001b[36m0.0100\u001b[0m        \u001b[32m0.0099\u001b[0m  0.0585\n",
      "     84        \u001b[36m0.0100\u001b[0m        \u001b[32m0.0099\u001b[0m  0.0447\n",
      "     85        \u001b[36m0.0100\u001b[0m        \u001b[32m0.0099\u001b[0m  0.0470\n",
      "     86        \u001b[36m0.0100\u001b[0m        \u001b[32m0.0098\u001b[0m  0.0442\n",
      "     87        \u001b[36m0.0099\u001b[0m        \u001b[32m0.0098\u001b[0m  0.0486\n",
      "     88        \u001b[36m0.0099\u001b[0m        \u001b[32m0.0098\u001b[0m  0.0445\n",
      "     89        \u001b[36m0.0099\u001b[0m        \u001b[32m0.0098\u001b[0m  0.0469\n",
      "     90        \u001b[36m0.0099\u001b[0m        \u001b[32m0.0098\u001b[0m  0.0447\n",
      "     91        \u001b[36m0.0099\u001b[0m        \u001b[32m0.0098\u001b[0m  0.0477\n",
      "     92        \u001b[36m0.0099\u001b[0m        \u001b[32m0.0097\u001b[0m  0.0469\n",
      "     93        \u001b[36m0.0098\u001b[0m        \u001b[32m0.0097\u001b[0m  0.0665\n",
      "     94        \u001b[36m0.0098\u001b[0m        \u001b[32m0.0097\u001b[0m  0.0448\n",
      "     95        \u001b[36m0.0098\u001b[0m        \u001b[32m0.0097\u001b[0m  0.0450\n",
      "     96        \u001b[36m0.0098\u001b[0m        \u001b[32m0.0097\u001b[0m  0.0481\n",
      "     97        \u001b[36m0.0098\u001b[0m        \u001b[32m0.0097\u001b[0m  0.0681\n",
      "     98        \u001b[36m0.0098\u001b[0m        \u001b[32m0.0097\u001b[0m  0.0418\n",
      "     99        \u001b[36m0.0097\u001b[0m        \u001b[32m0.0096\u001b[0m  0.0474\n",
      "    100        \u001b[36m0.0097\u001b[0m        \u001b[32m0.0096\u001b[0m  0.0643\n",
      "    101        \u001b[36m0.0097\u001b[0m        0.0096  0.0576\n",
      "    102        \u001b[36m0.0097\u001b[0m        \u001b[32m0.0096\u001b[0m  0.0460\n",
      "    103        \u001b[36m0.0097\u001b[0m        \u001b[32m0.0096\u001b[0m  0.0698\n",
      "    104        \u001b[36m0.0097\u001b[0m        \u001b[32m0.0096\u001b[0m  0.0443\n",
      "    105        \u001b[36m0.0097\u001b[0m        \u001b[32m0.0096\u001b[0m  0.0496\n",
      "    106        \u001b[36m0.0097\u001b[0m        \u001b[32m0.0095\u001b[0m  0.0510\n",
      "    107        \u001b[36m0.0096\u001b[0m        0.0095  0.0448\n",
      "    108        \u001b[36m0.0096\u001b[0m        \u001b[32m0.0095\u001b[0m  0.0543\n",
      "    109        \u001b[36m0.0096\u001b[0m        \u001b[32m0.0095\u001b[0m  0.0675\n",
      "    110        \u001b[36m0.0096\u001b[0m        \u001b[32m0.0095\u001b[0m  0.0725\n",
      "    111        \u001b[36m0.0096\u001b[0m        \u001b[32m0.0095\u001b[0m  0.0413\n"
     ]
    },
    {
     "name": "stdout",
     "output_type": "stream",
     "text": [
      "    112        \u001b[36m0.0096\u001b[0m        \u001b[32m0.0095\u001b[0m  0.0461\n",
      "    113        \u001b[36m0.0096\u001b[0m        \u001b[32m0.0094\u001b[0m  0.0503\n",
      "    114        \u001b[36m0.0096\u001b[0m        \u001b[32m0.0094\u001b[0m  0.0447\n",
      "    115        \u001b[36m0.0095\u001b[0m        0.0094  0.0467\n",
      "    116        \u001b[36m0.0095\u001b[0m        \u001b[32m0.0094\u001b[0m  0.0439\n",
      "    117        \u001b[36m0.0095\u001b[0m        0.0094  0.0445\n",
      "    118        \u001b[36m0.0095\u001b[0m        0.0094  0.0460\n",
      "    119        \u001b[36m0.0095\u001b[0m        \u001b[32m0.0094\u001b[0m  0.0437\n",
      "    120        \u001b[36m0.0095\u001b[0m        \u001b[32m0.0094\u001b[0m  0.0457\n",
      "    121        \u001b[36m0.0095\u001b[0m        0.0094  0.0455\n",
      "    122        \u001b[36m0.0095\u001b[0m        \u001b[32m0.0094\u001b[0m  0.0400\n",
      "    123        \u001b[36m0.0095\u001b[0m        \u001b[32m0.0093\u001b[0m  0.0437\n",
      "    124        \u001b[36m0.0094\u001b[0m        \u001b[32m0.0093\u001b[0m  0.0408\n",
      "    125        \u001b[36m0.0094\u001b[0m        \u001b[32m0.0093\u001b[0m  0.0434\n",
      "    126        \u001b[36m0.0094\u001b[0m        \u001b[32m0.0093\u001b[0m  0.0460\n",
      "    127        \u001b[36m0.0094\u001b[0m        0.0093  0.0476\n",
      "    128        \u001b[36m0.0094\u001b[0m        \u001b[32m0.0093\u001b[0m  0.0471\n",
      "    129        \u001b[36m0.0094\u001b[0m        0.0093  0.0454\n",
      "    130        \u001b[36m0.0094\u001b[0m        \u001b[32m0.0093\u001b[0m  0.0485\n",
      "    131        \u001b[36m0.0094\u001b[0m        \u001b[32m0.0093\u001b[0m  0.0413\n",
      "    132        \u001b[36m0.0094\u001b[0m        \u001b[32m0.0093\u001b[0m  0.0466\n",
      "    133        \u001b[36m0.0094\u001b[0m        \u001b[32m0.0092\u001b[0m  0.0460\n",
      "    134        \u001b[36m0.0093\u001b[0m        \u001b[32m0.0092\u001b[0m  0.0491\n",
      "    135        \u001b[36m0.0093\u001b[0m        0.0092  0.0505\n",
      "    136        \u001b[36m0.0093\u001b[0m        \u001b[32m0.0092\u001b[0m  0.0436\n",
      "    137        \u001b[36m0.0093\u001b[0m        \u001b[32m0.0092\u001b[0m  0.0471\n",
      "    138        \u001b[36m0.0093\u001b[0m        \u001b[32m0.0092\u001b[0m  0.0549\n",
      "    139        \u001b[36m0.0093\u001b[0m        \u001b[32m0.0092\u001b[0m  0.0432\n",
      "    140        \u001b[36m0.0093\u001b[0m        \u001b[32m0.0092\u001b[0m  0.0458\n",
      "    141        \u001b[36m0.0093\u001b[0m        0.0092  0.0529\n",
      "    142        \u001b[36m0.0093\u001b[0m        \u001b[32m0.0092\u001b[0m  0.0469\n",
      "    143        \u001b[36m0.0093\u001b[0m        0.0092  0.0532\n",
      "    144        \u001b[36m0.0093\u001b[0m        \u001b[32m0.0092\u001b[0m  0.0554\n",
      "    145        \u001b[36m0.0093\u001b[0m        \u001b[32m0.0092\u001b[0m  0.0404\n",
      "    146        \u001b[36m0.0093\u001b[0m        0.0092  0.0409\n",
      "    147        \u001b[36m0.0093\u001b[0m        \u001b[32m0.0092\u001b[0m  0.0458\n",
      "    148        \u001b[36m0.0093\u001b[0m        \u001b[32m0.0091\u001b[0m  0.0565\n",
      "    149        \u001b[36m0.0092\u001b[0m        \u001b[32m0.0091\u001b[0m  0.0530\n",
      "    150        \u001b[36m0.0092\u001b[0m        \u001b[32m0.0091\u001b[0m  0.0524\n",
      "    151        \u001b[36m0.0092\u001b[0m        \u001b[32m0.0091\u001b[0m  0.0429\n",
      "    152        \u001b[36m0.0092\u001b[0m        0.0091  0.0517\n",
      "    153        0.0092        0.0091  0.0525\n",
      "    154        \u001b[36m0.0092\u001b[0m        \u001b[32m0.0091\u001b[0m  0.0526\n",
      "    155        \u001b[36m0.0092\u001b[0m        0.0091  0.0439\n",
      "    156        \u001b[36m0.0092\u001b[0m        \u001b[32m0.0091\u001b[0m  0.0537\n",
      "    157        \u001b[36m0.0092\u001b[0m        \u001b[32m0.0091\u001b[0m  0.0526\n",
      "    158        \u001b[36m0.0092\u001b[0m        \u001b[32m0.0091\u001b[0m  0.0523\n",
      "    159        \u001b[36m0.0092\u001b[0m        0.0091  0.0530\n",
      "    160        0.0092        0.0091  0.0437\n",
      "    161        \u001b[36m0.0092\u001b[0m        \u001b[32m0.0091\u001b[0m  0.0426\n",
      "    162        \u001b[36m0.0092\u001b[0m        0.0091  0.0523\n",
      "    163        \u001b[36m0.0091\u001b[0m        \u001b[32m0.0091\u001b[0m  0.0535\n",
      "    164        \u001b[36m0.0091\u001b[0m        \u001b[32m0.0090\u001b[0m  0.0548\n",
      "    165        \u001b[36m0.0091\u001b[0m        0.0091  0.0553\n",
      "    166        \u001b[36m0.0091\u001b[0m        \u001b[32m0.0090\u001b[0m  0.0533\n",
      "    167        \u001b[36m0.0091\u001b[0m        0.0090  0.0553\n",
      "    168        \u001b[36m0.0091\u001b[0m        0.0090  0.0427\n",
      "    169        \u001b[36m0.0091\u001b[0m        \u001b[32m0.0090\u001b[0m  0.0576\n",
      "    170        0.0091        0.0090  0.0467\n",
      "    171        0.0091        \u001b[32m0.0090\u001b[0m  0.0440\n",
      "    172        \u001b[36m0.0091\u001b[0m        0.0090  0.0409\n",
      "    173        0.0091        \u001b[32m0.0090\u001b[0m  0.0560\n",
      "    174        \u001b[36m0.0091\u001b[0m        0.0090  0.0411\n",
      "    175        \u001b[36m0.0091\u001b[0m        \u001b[32m0.0090\u001b[0m  0.0427\n",
      "    176        \u001b[36m0.0091\u001b[0m        0.0090  0.0559\n",
      "    177        \u001b[36m0.0091\u001b[0m        \u001b[32m0.0090\u001b[0m  0.0420\n",
      "    178        \u001b[36m0.0091\u001b[0m        0.0090  0.0576\n",
      "    179        \u001b[36m0.0091\u001b[0m        \u001b[32m0.0090\u001b[0m  0.0553\n",
      "    180        \u001b[36m0.0091\u001b[0m        0.0090  0.0589\n",
      "    181        \u001b[36m0.0091\u001b[0m        0.0090  0.0558\n",
      "    182        \u001b[36m0.0091\u001b[0m        0.0090  0.0440\n",
      "    183        0.0091        \u001b[32m0.0090\u001b[0m  0.0448\n",
      "    184        \u001b[36m0.0091\u001b[0m        \u001b[32m0.0090\u001b[0m  0.0569\n",
      "    185        \u001b[36m0.0090\u001b[0m        0.0090  0.0579\n",
      "    186        \u001b[36m0.0090\u001b[0m        \u001b[32m0.0090\u001b[0m  0.0517\n",
      "    187        \u001b[36m0.0090\u001b[0m        \u001b[32m0.0089\u001b[0m  0.0490\n",
      "    188        \u001b[36m0.0090\u001b[0m        0.0089  0.0442\n",
      "    189        \u001b[36m0.0090\u001b[0m        0.0089  0.0454\n",
      "    190        \u001b[36m0.0090\u001b[0m        0.0090  0.0566\n",
      "    191        \u001b[36m0.0090\u001b[0m        0.0090  0.0422\n",
      "    192        \u001b[36m0.0090\u001b[0m        \u001b[32m0.0089\u001b[0m  0.0574\n",
      "    193        \u001b[36m0.0090\u001b[0m        0.0089  0.0593\n",
      "    194        0.0090        \u001b[32m0.0089\u001b[0m  0.0437\n",
      "    195        0.0090        0.0089  0.0590\n",
      "    196        \u001b[36m0.0090\u001b[0m        0.0089  0.0577\n",
      "    197        0.0090        \u001b[32m0.0089\u001b[0m  0.0568\n",
      "    198        \u001b[36m0.0090\u001b[0m        0.0089  0.0421\n",
      "    199        \u001b[36m0.0090\u001b[0m        0.0089  0.0629\n",
      "    200        \u001b[36m0.0090\u001b[0m        0.0089  0.0448\n",
      "    201        \u001b[36m0.0090\u001b[0m        \u001b[32m0.0089\u001b[0m  0.0448\n",
      "    202        \u001b[36m0.0090\u001b[0m        \u001b[32m0.0089\u001b[0m  0.0425\n",
      "    203        \u001b[36m0.0090\u001b[0m        0.0089  0.0620\n",
      "    204        0.0090        0.0089  0.0428\n",
      "    205        0.0090        0.0089  0.0604\n",
      "    206        0.0090        \u001b[32m0.0089\u001b[0m  0.0594\n",
      "    207        \u001b[36m0.0090\u001b[0m        \u001b[32m0.0089\u001b[0m  0.0594\n",
      "    208        \u001b[36m0.0090\u001b[0m        0.0089  0.0603\n",
      "    209        0.0090        0.0089  0.0595\n",
      "    210        0.0090        0.0089  0.0567\n",
      "    211        0.0090        0.0089  0.0471\n",
      "    212        0.0090        0.0089  0.0605\n",
      "    213        0.0090        0.0089  0.0616\n",
      "    214        \u001b[36m0.0090\u001b[0m        \u001b[32m0.0089\u001b[0m  0.0609\n",
      "    215        \u001b[36m0.0090\u001b[0m        0.0089  0.0604\n",
      "    216        \u001b[36m0.0089\u001b[0m        \u001b[32m0.0088\u001b[0m  0.0576\n",
      "    217        \u001b[36m0.0089\u001b[0m        0.0089  0.0603\n",
      "    218        0.0089        0.0089  0.0440\n",
      "    219        \u001b[36m0.0089\u001b[0m        0.0089  0.0621\n",
      "    220        \u001b[36m0.0089\u001b[0m        0.0089  0.0568\n",
      "    221        \u001b[36m0.0089\u001b[0m        \u001b[32m0.0088\u001b[0m  0.0425\n",
      "    222        \u001b[36m0.0089\u001b[0m        0.0088  0.0440\n",
      "    223        \u001b[36m0.0089\u001b[0m        0.0088  0.0408\n",
      "    224        \u001b[36m0.0089\u001b[0m        \u001b[32m0.0088\u001b[0m  0.0618\n",
      "    225        0.0089        0.0088  0.0605\n",
      "    226        \u001b[36m0.0089\u001b[0m        0.0088  0.0420\n",
      "    227        0.0089        0.0089  0.0461\n",
      "    228        0.0089        \u001b[32m0.0088\u001b[0m  0.0433\n",
      "    229        \u001b[36m0.0089\u001b[0m        0.0088  0.0580\n",
      "    230        0.0089        \u001b[32m0.0088\u001b[0m  0.0563\n",
      "    231        0.0089        0.0088  0.0613\n",
      "    232        \u001b[36m0.0089\u001b[0m        0.0088  0.0617\n",
      "    233        \u001b[36m0.0089\u001b[0m        \u001b[32m0.0088\u001b[0m  0.0624\n",
      "    234        0.0089        0.0088  0.0617\n",
      "    235        \u001b[36m0.0089\u001b[0m        0.0088  0.0621\n",
      "    236        \u001b[36m0.0089\u001b[0m        0.0088  0.0564\n",
      "    237        \u001b[36m0.0089\u001b[0m        0.0088  0.0579\n",
      "    238        0.0089        0.0088  0.0571\n",
      "    239        0.0089        0.0088  0.0643\n",
      "    240        0.0089        0.0088  0.0512\n",
      "    241        0.0089        \u001b[32m0.0088\u001b[0m  0.0442\n",
      "    242        0.0089        0.0088  0.0455\n",
      "    243        0.0089        0.0089  0.0649\n",
      "    244        0.0089        0.0088  0.0437\n",
      "    245        \u001b[36m0.0089\u001b[0m        \u001b[32m0.0088\u001b[0m  0.0462\n",
      "    246        0.0089        0.0088  0.0430\n",
      "    247        \u001b[36m0.0089\u001b[0m        \u001b[32m0.0088\u001b[0m  0.0669\n",
      "    248        \u001b[36m0.0089\u001b[0m        \u001b[32m0.0088\u001b[0m  0.0571\n",
      "    249        0.0089        0.0088  0.0575\n",
      "    250        0.0089        0.0088  0.0550\n",
      "\n",
      "*** Training quantile prediction model ***\n",
      "  epoch    train_loss    valid_loss     dur\n",
      "-------  ------------  ------------  ------\n",
      "      1        \u001b[36m0.3003\u001b[0m        \u001b[32m0.1978\u001b[0m  1.5311\n",
      "      2        \u001b[36m0.1523\u001b[0m        \u001b[32m0.1831\u001b[0m  1.5443\n",
      "      3        \u001b[36m0.1368\u001b[0m        \u001b[32m0.1572\u001b[0m  1.5458\n",
      "      4        \u001b[36m0.1178\u001b[0m        \u001b[32m0.1399\u001b[0m  1.5577\n",
      "      5        \u001b[36m0.1177\u001b[0m        \u001b[32m0.1384\u001b[0m  1.5528\n",
      "      6        0.1179        0.1515  1.5435\n",
      "      7        \u001b[36m0.1144\u001b[0m        0.1539  1.5402\n"
     ]
    },
    {
     "name": "stdout",
     "output_type": "stream",
     "text": [
      "      8        0.1155        0.1483  1.5411\n",
      "      9        \u001b[36m0.1116\u001b[0m        0.1450  1.5456\n",
      "     10        0.1176        0.1433  1.5244\n",
      "     11        0.1161        0.1564  1.5414\n",
      "     12        0.1177        0.1418  1.5388\n",
      "     13        0.1177        0.1624  1.5329\n",
      "     14        0.1129        0.1535  1.5346\n",
      "Stopping since valid_loss has not improved in the last 10 epochs.\n"
     ]
    }
   ],
   "source": [
    "model.fit(df)"
   ]
  },
  {
   "cell_type": "markdown",
   "id": "b66ecbdb",
   "metadata": {},
   "source": [
    "We'll create a partial dependence plot to visualize how the monotonic network constrained our relationship between `x1` and `y`."
   ]
  },
  {
   "cell_type": "code",
   "execution_count": 6,
   "id": "630fbdc0",
   "metadata": {},
   "outputs": [],
   "source": [
    "quantiles = [0.01, 0.05, 0.1, 0.2, 0.3, 0.4, 0.6, 0.7, 0.8, 0.9, 0.95, 0.99]"
   ]
  },
  {
   "cell_type": "markdown",
   "id": "0a68cf03",
   "metadata": {},
   "source": [
    "Note, the `.predict()` method for `TabulaRasaRegressor()` accepts a data frame as well.  This data frame must include all training features, but does not need to include target column(s)."
   ]
  },
  {
   "cell_type": "code",
   "execution_count": 7,
   "id": "31b9c881",
   "metadata": {},
   "outputs": [],
   "source": [
    "results = []\n",
    "for q in np.quantile(df['x1'], quantiles):\n",
    "    dfc = df.copy()\n",
    "    dfc['x1'] = q\n",
    "    dfc['x1'] = dfc['x1'].astype('float32')\n",
    "    p = model.predict(dfc)\n",
    "    p = pd.DataFrame(pd.Series(p[:, 0]).describe(percentiles=quantiles)).T\n",
    "    p['x1'] = q\n",
    "    results.append(p)\n",
    "results = pd.concat(results, axis=0)"
   ]
  },
  {
   "cell_type": "markdown",
   "id": "b919ef3b",
   "metadata": {},
   "source": [
    "We can see below that, unlike with the simple MLP network, we have a monotonically increasing relationship between `x1` and `y`."
   ]
  },
  {
   "cell_type": "code",
   "execution_count": 8,
   "id": "0dfca593",
   "metadata": {},
   "outputs": [
    {
     "data": {
      "image/png": "[encoded data removed]",
      "text/plain": [
       "<Figure size 432x288 with 1 Axes>"
      ]
     },
     "metadata": {
      "needs_background": "light"
     },
     "output_type": "display_data"
    }
   ],
   "source": [
    "results.plot(x='x1', y=['20%', 'mean', '80%'])\n",
    "plt.show()"
   ]
  },
  {
   "cell_type": "markdown",
   "id": "e8c20586",
   "metadata": {},
   "source": [
    "---\n",
    "\n",
    "### Epistemic uncertainty\n",
    "\n",
    "`TabulaRasaRegressor()` automatically trains and Orthornormal certificates model, and includes a method `.estimate_uncertainty()`, which accepts a data frame that must include all training features, but does not need to contain target column(s)."
   ]
  },
  {
   "cell_type": "code",
   "execution_count": 9,
   "id": "4f39862b",
   "metadata": {},
   "outputs": [],
   "source": [
    "uncertainties = []\n",
    "for q in np.linspace(-1.5, 1.5, 101):\n",
    "    dfc = df.copy()\n",
    "    dfc['x1'] = q\n",
    "    dfc['x1'] = dfc['x1'].astype('float32')\n",
    "    p = model.estimate_uncertainty(dfc)\n",
    "    p = pd.DataFrame(pd.Series(p).describe(percentiles=quantiles)).T\n",
    "    p['x1'] = q\n",
    "    uncertainties.append(p)\n",
    "uncertainties = pd.concat(uncertainties, axis=0)"
   ]
  },
  {
   "cell_type": "markdown",
   "id": "f502ad11",
   "metadata": {},
   "source": [
    "And we can see from the plot below that uncertainties rise above 1 when projecting outside of the bounds we trained.  There is a bump in the middle, but it does not exceed 1 or align perfectly with the gap in our training data from 0 to 0.5.  Instead we see higher uncertainty when the function shows  high degree of curvature."
   ]
  },
  {
   "cell_type": "code",
   "execution_count": 10,
   "id": "ea4d1955",
   "metadata": {},
   "outputs": [
    {
     "data": {
      "image/png": "[encoded data removed]",
      "text/plain": [
       "<Figure size 432x288 with 1 Axes>"
      ]
     },
     "metadata": {
      "needs_background": "light"
     },
     "output_type": "display_data"
    }
   ],
   "source": [
    "uncertainties.plot(x='x1', y=['20%', 'mean', '80%'])\n",
    "plt.show()"
   ]
  },
  {
   "cell_type": "markdown",
   "id": "04bb3815",
   "metadata": {},
   "source": [
    "---\n",
    "\n",
    "### Aleatoric uncertainty\n",
    "\n",
    "`TabulaRasaRegressor()` also automatically trains a simultaneous quantile regression model.  Let's see how to use that.\n",
    "\n",
    "Since each distinct value of `x3` contains all values of `x1`, let's examine prediction intervals by `x1` for a single value of `x3`."
   ]
  },
  {
   "cell_type": "code",
   "execution_count": 11,
   "id": "39b55bf6",
   "metadata": {},
   "outputs": [],
   "source": [
    "df_slice = df[df['x3'] == 0].copy()"
   ]
  },
  {
   "cell_type": "markdown",
   "id": "a14938c0",
   "metadata": {},
   "source": [
    "The `.predict_quantile()` takes in an extra argument `q` to specify which quantile should be predicted (defaults to 0.5, the 50th percentile)."
   ]
  },
  {
   "cell_type": "code",
   "execution_count": 12,
   "id": "182ce1fd",
   "metadata": {},
   "outputs": [],
   "source": [
    "p05 = model.predict_quantile(df_slice, q=0.05)\n",
    "p = model.predict(df_slice)\n",
    "p50 = model.predict_quantile(df_slice, q=0.5)\n",
    "p95 = model.predict_quantile(df_slice, q=0.95)"
   ]
  },
  {
   "cell_type": "code",
   "execution_count": 13,
   "id": "7c09d7d5",
   "metadata": {},
   "outputs": [
    {
     "data": {
      "image/png": "[encoded data removed]",
      "text/plain": [
       "<Figure size 432x288 with 1 Axes>"
      ]
     },
     "metadata": {
      "needs_background": "light"
     },
     "output_type": "display_data"
    }
   ],
   "source": [
    "plt.scatter(df_slice['x1'], df_slice['y'], alpha=0.2, label='actual')\n",
    "plt.plot(df_slice['x1'], p.flatten(), color='black', label='prediction')\n",
    "plt.plot(df_slice['x1'], p50.flatten(), alpha=0.2, label='median')\n",
    "plt.fill_between(df_slice['x1'], p05.flatten(), p95.flatten(), color='gray', alpha=0.2, label='5th-95th')\n",
    "plt.legend()\n",
    "plt.show()"
   ]
  },
  {
   "cell_type": "markdown",
   "id": "38a79446",
   "metadata": {},
   "source": [
    "We can see the 5th and 95th percentile prediction bounds capture the variation of most points around the median and base prediction model estimate, and can be used to approximate the aleatoric uncertainty in our model."
   ]
  }
 ],
 "metadata": {
  "kernelspec": {
   "display_name": "Python 3 (ipykernel)",
   "language": "python",
   "name": "python3"
  },
  "language_info": {
   "codemirror_mode": {
    "name": "ipython",
    "version": 3
   },
   "file_extension": ".py",
   "mimetype": "text/x-python",
   "name": "python",
   "nbconvert_exporter": "python",
   "pygments_lexer": "ipython3",
   "version": "3.8.5"
  }
 },
 "nbformat": 4,
 "nbformat_minor": 5
}
