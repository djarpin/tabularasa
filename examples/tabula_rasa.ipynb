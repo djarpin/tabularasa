{
 "cells": [
  {
   "cell_type": "markdown",
   "id": "dc873c9a",
   "metadata": {},
   "source": [
    "# Tabula Rasa\n",
    "\n",
    "---\n",
    "\n",
    "---\n",
    "\n",
    "### Overview\n",
    "\n",
    "This notebook trains a mixed monotonic model, with sub-models to generate arbitrary quantile predictions and estimate epistemic uncertainty, using `TabulaRasaRegressor()`.\n",
    "\n",
    "It's designed to work with Pandas DataFrame's and takes advantage of class types and feature names to cut down on code."
   ]
  },
  {
   "cell_type": "code",
   "execution_count": 1,
   "id": "d5353a5b",
   "metadata": {},
   "outputs": [],
   "source": [
    "import pandas as pd\n",
    "import numpy as np\n",
    "import matplotlib.pyplot as plt\n",
    "from tabularasa.TabulaRasa import TabulaRasaRegressor"
   ]
  },
  {
   "cell_type": "markdown",
   "id": "bc062f2d",
   "metadata": {},
   "source": [
    "---\n",
    "\n",
    "### Load example data\n",
    "\n",
    "If you haven't already, please generate the example dataset using the [example_data](example_data.ipynb) notebook."
   ]
  },
  {
   "cell_type": "code",
   "execution_count": 2,
   "id": "87937eee",
   "metadata": {},
   "outputs": [],
   "source": [
    "df = pd.read_pickle('./data/simple_train.pkl')"
   ]
  },
  {
   "cell_type": "code",
   "execution_count": 3,
   "id": "530b9603",
   "metadata": {},
   "outputs": [
    {
     "data": {
      "text/plain": [
       "y     float32\n",
       "x1    float32\n",
       "x2    float32\n",
       "x3      int64\n",
       "x4    float32\n",
       "dtype: object"
      ]
     },
     "execution_count": 3,
     "metadata": {},
     "output_type": "execute_result"
    }
   ],
   "source": [
    "df.dtypes"
   ]
  },
  {
   "cell_type": "markdown",
   "id": "3704b773",
   "metadata": {},
   "source": [
    "Let's convert `x3` to a `category` data type to generate embeddings for it (`TabulaRasaRegressor()` automatically handles this for all columns with `object` or `category` data types)."
   ]
  },
  {
   "cell_type": "code",
   "execution_count": 4,
   "id": "8043b860",
   "metadata": {},
   "outputs": [],
   "source": [
    "df['x3'] = df['x3'].astype('category')"
   ]
  },
  {
   "cell_type": "markdown",
   "id": "7fdd8aa6",
   "metadata": {},
   "source": [
    "---\n",
    "\n",
    "### Initialize model\n",
    "\n"
   ]
  },
  {
   "cell_type": "code",
   "execution_count": 5,
   "id": "cccc3722",
   "metadata": {},
   "outputs": [],
   "source": [
    "trr = TabulaRasaRegressor(df,\n",
    "                          targets=['y'],\n",
    "                          monotonic_constraints={'x1': 1, 'x2': 1})"
   ]
  },
  {
   "cell_type": "code",
   "execution_count": null,
   "id": "d5b6cf7b",
   "metadata": {},
   "outputs": [],
   "source": []
  }
 ],
 "metadata": {
  "kernelspec": {
   "display_name": "Python 3 (ipykernel)",
   "language": "python",
   "name": "python3"
  },
  "language_info": {
   "codemirror_mode": {
    "name": "ipython",
    "version": 3
   },
   "file_extension": ".py",
   "mimetype": "text/x-python",
   "name": "python",
   "nbconvert_exporter": "python",
   "pygments_lexer": "ipython3",
   "version": "3.8.5"
  }
 },
 "nbformat": 4,
 "nbformat_minor": 5
}
