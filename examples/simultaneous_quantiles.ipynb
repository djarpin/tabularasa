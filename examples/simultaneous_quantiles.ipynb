{
 "cells": [
  {
   "cell_type": "markdown",
   "id": "341a443c",
   "metadata": {},
   "source": [
    "# Simultaneous Quantiles\n",
    "\n",
    "---\n",
    "\n",
    "---\n",
    "\n",
    "### Overview\n",
    "\n",
    "This notebook trains two variations of models which can be used to estimate aleatoric uncertainty.  The first does not include any additional monotonic features, and the second does.\n",
    "\n",
    "A special loss function is used that allows us to predict any quantile with a single training step, and to change that quantile arbitrarily, without requiring retraining."
   ]
  },
  {
   "cell_type": "code",
   "execution_count": 1,
   "id": "9b03dc32",
   "metadata": {},
   "outputs": [],
   "source": [
    "import pandas as pd\n",
    "import numpy as np\n",
    "import matplotlib.pyplot as plt\n",
    "import torch\n",
    "from torch import nn\n",
    "import torch.nn.functional as F\n",
    "from torch import optim\n",
    "from tabularasa.SimultaneousQuantiles import SimultaneousQuantilesRegressor, SimultaneousQuantilesNet, SimultaneousQuantilesMixedMonotonicNet"
   ]
  },
  {
   "cell_type": "markdown",
   "id": "11746c97",
   "metadata": {},
   "source": [
    "---\n",
    "\n",
    "### Load example data\n",
    "\n",
    "If you haven't already, please generate the example dataset using the [example_data](example_data.ipynb) notebook."
   ]
  },
  {
   "cell_type": "code",
   "execution_count": 2,
   "id": "52e29f8c",
   "metadata": {},
   "outputs": [],
   "source": [
    "df = pd.read_pickle('./data/simple_train.pkl')"
   ]
  },
  {
   "cell_type": "markdown",
   "id": "84d72a48",
   "metadata": {},
   "source": [
    "---\n",
    "\n",
    "### Train a model without monotonicity constraints\n",
    "\n",
    "Similar to `MixedMonotonicNet()`, `SimultaneousQuantilesNet()` takes another network as an input argument whose `.forward()` pass has exactly one input named `X_non_monotonic` (`SimultaneousQuantilesRegressor()` adds an extra feature which is monotonically constrained to estimate the quantile)."
   ]
  },
  {
   "cell_type": "code",
   "execution_count": 3,
   "id": "b8e09d60",
   "metadata": {},
   "outputs": [],
   "source": [
    "class EmbeddingNet(nn.Module):\n",
    "    def __init__(self):\n",
    "        super().__init__()\n",
    "        self.emb1 = nn.Embedding(50, 16)\n",
    "        self.fc1 = nn.Linear(3 + 16, 16)\n",
    "    \n",
    "    def forward(self, X_non_monotonic):\n",
    "        X = torch.cat([X_non_monotonic[:, 1:].float(), \n",
    "                       self.emb1(X_non_monotonic[:, 0, None].long()).squeeze()], 1)\n",
    "        return F.relu(self.fc1(X))"
   ]
  },
  {
   "cell_type": "markdown",
   "id": "5ebd058b",
   "metadata": {},
   "source": [
    "`module__` parameters are similar to the [mixed_monotonic](./mixed_monotonic.ipynb) example, with the exception of not needing `dim_monotonic` as input."
   ]
  },
  {
   "cell_type": "code",
   "execution_count": 21,
   "id": "f00b050a",
   "metadata": {},
   "outputs": [],
   "source": [
    "model = SimultaneousQuantilesRegressor(SimultaneousQuantilesNet,\n",
    "                                       max_epochs=50,\n",
    "                                       lr=0.01,\n",
    "                                       optimizer=torch.optim.Adam,\n",
    "                                       iterator_train__shuffle=True,\n",
    "                                       module__non_monotonic_net=EmbeddingNet(),\n",
    "                                       module__dim_non_monotonic=16,\n",
    "                                       module__layers=[128, 128, 32],\n",
    "                                       module__integration_steps=300)"
   ]
  },
  {
   "cell_type": "markdown",
   "id": "ab8fadb2",
   "metadata": {},
   "source": [
    "Now we can pass in a `dict` with only one key `X_non_monotonic` to our model's `.fit()` method.  Note, that `x1` and `x2` are listed after `x3` to align with how `EmbeddingNet()` parses `X_non_monotonic`.\n",
    "\n",
    "The loss function for `SimultaneousQuantilesRegressor()` is mean pinball loss, where the quantiles are randomly distributed for each observation, and change with each epoch.  More details can be found in [Tagasovska and Lopez-Paz (2018)](https://arxiv.org/pdf/1811.00908.pdf)."
   ]
  },
  {
   "cell_type": "code",
   "execution_count": 22,
   "id": "9ee03238",
   "metadata": {
    "scrolled": false
   },
   "outputs": [
    {
     "name": "stdout",
     "output_type": "stream",
     "text": [
      "  epoch    train_loss    valid_loss     dur\n",
      "-------  ------------  ------------  ------\n",
      "      1        \u001b[36m0.1765\u001b[0m        \u001b[32m0.1722\u001b[0m  4.7000\n",
      "      2        \u001b[36m0.1602\u001b[0m        \u001b[32m0.1627\u001b[0m  4.5514\n",
      "      3        \u001b[36m0.1588\u001b[0m        \u001b[32m0.1467\u001b[0m  5.1218\n",
      "      4        \u001b[36m0.1437\u001b[0m        \u001b[32m0.1357\u001b[0m  4.8018\n",
      "      5        \u001b[36m0.1362\u001b[0m        \u001b[32m0.1226\u001b[0m  4.6835\n",
      "      6        \u001b[36m0.1065\u001b[0m        \u001b[32m0.1100\u001b[0m  4.6917\n",
      "      7        \u001b[36m0.0820\u001b[0m        \u001b[32m0.1027\u001b[0m  4.6294\n",
      "      8        0.0845        \u001b[32m0.0986\u001b[0m  4.7980\n",
      "      9        \u001b[36m0.0700\u001b[0m        \u001b[32m0.0840\u001b[0m  4.6655\n",
      "     10        \u001b[36m0.0654\u001b[0m        0.0866  4.5268\n",
      "     11        \u001b[36m0.0591\u001b[0m        \u001b[32m0.0773\u001b[0m  4.7437\n",
      "     12        0.0601        \u001b[32m0.0771\u001b[0m  4.4659\n",
      "     13        \u001b[36m0.0571\u001b[0m        \u001b[32m0.0740\u001b[0m  4.5266\n",
      "     14        0.0579        0.0756  4.4787\n",
      "     15        \u001b[36m0.0541\u001b[0m        0.0859  4.5091\n",
      "     16        0.0565        0.0796  4.4786\n",
      "     17        \u001b[36m0.0538\u001b[0m        0.0827  4.4691\n",
      "     18        0.0576        \u001b[32m0.0713\u001b[0m  4.5068\n",
      "     19        \u001b[36m0.0509\u001b[0m        0.0738  4.4830\n",
      "     20        \u001b[36m0.0504\u001b[0m        0.0819  4.4634\n",
      "     21        0.0619        0.0803  4.4630\n",
      "     22        0.0569        \u001b[32m0.0708\u001b[0m  4.7307\n",
      "     23        \u001b[36m0.0499\u001b[0m        \u001b[32m0.0656\u001b[0m  4.7658\n",
      "     24        \u001b[36m0.0444\u001b[0m        \u001b[32m0.0642\u001b[0m  4.7975\n",
      "     25        0.0450        \u001b[32m0.0590\u001b[0m  5.0135\n",
      "     26        0.0475        0.0673  4.7193\n",
      "     27        0.0458        0.0632  4.7744\n",
      "     28        \u001b[36m0.0430\u001b[0m        \u001b[32m0.0546\u001b[0m  4.5344\n",
      "     29        \u001b[36m0.0407\u001b[0m        0.0615  4.5030\n",
      "     30        \u001b[36m0.0396\u001b[0m        0.0628  4.5248\n",
      "     31        0.0414        0.0641  4.5091\n",
      "     32        0.0396        0.0588  4.4896\n",
      "     33        \u001b[36m0.0394\u001b[0m        0.0587  4.5072\n",
      "     34        0.0395        0.0572  4.5208\n",
      "     35        \u001b[36m0.0394\u001b[0m        \u001b[32m0.0541\u001b[0m  4.5355\n",
      "     36        \u001b[36m0.0367\u001b[0m        0.0667  4.5079\n",
      "     37        0.0376        0.0563  4.6239\n",
      "     38        \u001b[36m0.0354\u001b[0m        0.0548  4.5212\n",
      "     39        \u001b[36m0.0345\u001b[0m        \u001b[32m0.0530\u001b[0m  4.4846\n",
      "     40        0.0368        0.0607  4.4800\n",
      "     41        0.0366        \u001b[32m0.0525\u001b[0m  4.5021\n",
      "     42        0.0417        0.0591  4.4112\n",
      "     43        0.0385        0.0610  4.4590\n",
      "     44        \u001b[36m0.0338\u001b[0m        0.0528  4.4092\n",
      "     45        \u001b[36m0.0333\u001b[0m        0.0625  4.5139\n",
      "     46        \u001b[36m0.0332\u001b[0m        0.0629  4.4643\n",
      "     47        0.0368        0.0664  4.5042\n",
      "     48        0.0363        0.0663  4.4424\n",
      "     49        0.0374        0.0646  4.4990\n",
      "     50        0.0370        0.0605  4.4768\n"
     ]
    },
    {
     "data": {
      "text/plain": [
       "<class 'tabularasa.SimultaneousQuantiles.SimultaneousQuantilesRegressor'>[initialized](\n",
       "  module_=SimultaneousQuantilesNet(\n",
       "    (non_monotonic_net): EmbeddingNet(\n",
       "      (emb1): Embedding(50, 16)\n",
       "      (fc1): Linear(in_features=19, out_features=16, bias=True)\n",
       "    )\n",
       "    (umnn): SlowDMonotonicNN(\n",
       "      (outer_net): MonotonicNN(\n",
       "        (integrand): IntegrandNN(\n",
       "          (inner_net): Sequential(\n",
       "            (0): Linear(in_features=17, out_features=128, bias=True)\n",
       "            (1): ReLU()\n",
       "            (2): Linear(in_features=128, out_features=128, bias=True)\n",
       "            (3): ReLU()\n",
       "            (4): Linear(in_features=128, out_features=32, bias=True)\n",
       "            (5): ReLU()\n",
       "          )\n",
       "          (net): Sequential(\n",
       "            (0): Linear(in_features=17, out_features=128, bias=True)\n",
       "            (1): ReLU()\n",
       "            (2): Linear(in_features=128, out_features=128, bias=True)\n",
       "            (3): ReLU()\n",
       "            (4): Linear(in_features=128, out_features=32, bias=True)\n",
       "            (5): ReLU()\n",
       "            (6): Linear(in_features=32, out_features=1, bias=True)\n",
       "            (7): ELU(alpha=1.0)\n",
       "          )\n",
       "        )\n",
       "        (net): Sequential(\n",
       "          (0): Linear(in_features=16, out_features=128, bias=True)\n",
       "          (1): ReLU()\n",
       "          (2): Linear(in_features=128, out_features=128, bias=True)\n",
       "          (3): ReLU()\n",
       "          (4): Linear(in_features=128, out_features=32, bias=True)\n",
       "          (5): ReLU()\n",
       "          (6): Linear(in_features=32, out_features=2, bias=True)\n",
       "        )\n",
       "      )\n",
       "    )\n",
       "  ),\n",
       ")"
      ]
     },
     "execution_count": 22,
     "metadata": {},
     "output_type": "execute_result"
    }
   ],
   "source": [
    "model.fit({'X_non_monotonic': df[['x3', 'x4', 'x1', 'x2']].values},\n",
    "          df[['y']].values)"
   ]
  },
  {
   "cell_type": "markdown",
   "id": "d0357145",
   "metadata": {},
   "source": [
    "---\n",
    "\n",
    "### Aleatoric uncertainty\n",
    "\n",
    "Since each distinct value of `x3` contains all values of `x1`, let's examine prediction intervals by `x1` for a single value of `x3`."
   ]
  },
  {
   "cell_type": "code",
   "execution_count": 7,
   "id": "52e0168a",
   "metadata": {},
   "outputs": [],
   "source": [
    "df_slice = df[df['x3'] == 1].copy()"
   ]
  },
  {
   "cell_type": "markdown",
   "id": "300c3321",
   "metadata": {},
   "source": [
    "`SimulatedQuantilesRegressor().predict()` takes in an extra argument `q` to specify which quantile should be predicted (defaults to 0.5, the 50th percentile)."
   ]
  },
  {
   "cell_type": "code",
   "execution_count": 27,
   "id": "bbdb0b6e",
   "metadata": {},
   "outputs": [],
   "source": [
    "p05 = model.predict({'X_non_monotonic': df_slice[['x3', 'x4', 'x1', 'x2']].values}, q=0.05)\n",
    "p50 = model.predict({'X_non_monotonic': df_slice[['x3', 'x4', 'x1', 'x2']].values}, q=0.5)\n",
    "p95 = model.predict({'X_non_monotonic': df_slice[['x3', 'x4', 'x1', 'x2']].values}, q=0.95)"
   ]
  },
  {
   "cell_type": "code",
   "execution_count": 28,
   "id": "3ee00db5",
   "metadata": {},
   "outputs": [
    {
     "data": {
      "image/png": "[encoded data removed]",
      "text/plain": [
       "<Figure size 432x288 with 1 Axes>"
      ]
     },
     "metadata": {
      "needs_background": "light"
     },
     "output_type": "display_data"
    }
   ],
   "source": [
    "plt.scatter(df_slice['x1'], df_slice['y'], alpha=0.2, label='actual')\n",
    "plt.plot(df_slice['x1'], p50.flatten(), alpha=0.2, label='median')\n",
    "plt.fill_between(df_slice['x1'], p05.flatten(), p95.flatten(), color='gray', alpha=0.2, label='5th-95th')\n",
    "plt.legend()\n",
    "plt.show()"
   ]
  },
  {
   "cell_type": "markdown",
   "id": "b738998a",
   "metadata": {},
   "source": [
    "We can see the 5th and 95th percentile prediction bounds capture the variation of most points around the median estimate, and can be used to approximate the uncertainty in our model.\n",
    "\n",
    "---\n",
    "\n",
    "### Train a model with monotonic constraints\n",
    "\n",
    "Training a model with monotonic constraints and quantile predictions is similar, but uses `SimultaneousQuantilesMixedMonotonicNet()` as input to `SimultaneousQuantilesRegressor()`."
   ]
  },
  {
   "cell_type": "code",
   "execution_count": 3,
   "id": "5ee992db",
   "metadata": {},
   "outputs": [],
   "source": [
    "class EmbeddingNet(nn.Module):\n",
    "    def __init__(self):\n",
    "        super().__init__()\n",
    "        self.emb1 = nn.Embedding(50, 16)\n",
    "        self.fc1 = nn.Linear(1 + 16, 16)\n",
    "    \n",
    "    def forward(self, X_non_monotonic):\n",
    "        X = torch.cat([X_non_monotonic[:, 1, None].float(), \n",
    "                       self.emb1(X_non_monotonic[:, 0, None].long()).squeeze()], 1)\n",
    "        return F.relu(self.fc1(X))"
   ]
  },
  {
   "cell_type": "markdown",
   "id": "f7953413",
   "metadata": {},
   "source": [
    "Setting up the `SimultaneousQuantilesRegressor()` is similar to above, except we specify the number of monotonic features in the argument `dim_monotonic`."
   ]
  },
  {
   "cell_type": "code",
   "execution_count": 4,
   "id": "c101304f",
   "metadata": {},
   "outputs": [],
   "source": [
    "model = SimultaneousQuantilesRegressor(SimultaneousQuantilesMixedMonotonicNet,\n",
    "                                       max_epochs=50,\n",
    "                                       lr=0.01,\n",
    "                                       optimizer=torch.optim.Adam,\n",
    "                                       iterator_train__shuffle=True,\n",
    "                                       module__non_monotonic_net=EmbeddingNet(),\n",
    "                                       module__dim_non_monotonic=16,\n",
    "                                       module__dim_monotonic=2,\n",
    "                                       module__layers=[128, 128, 32],\n",
    "                                       module__integration_steps=300)"
   ]
  },
  {
   "cell_type": "markdown",
   "id": "c4777c19",
   "metadata": {},
   "source": [
    "And, now, when running `.fit()`, we pass the additional key `X_monotonic` with our array of the monotonic features `x1` and `x2` as the value, to the input `dict`."
   ]
  },
  {
   "cell_type": "code",
   "execution_count": 5,
   "id": "9a1f3c10",
   "metadata": {
    "scrolled": false
   },
   "outputs": [
    {
     "name": "stdout",
     "output_type": "stream",
     "text": [
      "  epoch    train_loss    valid_loss      dur\n",
      "-------  ------------  ------------  -------\n",
      "      1        \u001b[36m0.2490\u001b[0m        \u001b[32m0.2058\u001b[0m  10.8895\n",
      "      2        \u001b[36m0.1873\u001b[0m        \u001b[32m0.1531\u001b[0m  9.8603\n",
      "      3        \u001b[36m0.1444\u001b[0m        \u001b[32m0.1210\u001b[0m  9.9559\n",
      "      4        \u001b[36m0.1254\u001b[0m        \u001b[32m0.1156\u001b[0m  9.5866\n",
      "      5        \u001b[36m0.1199\u001b[0m        \u001b[32m0.1017\u001b[0m  9.4274\n",
      "      6        \u001b[36m0.1179\u001b[0m        0.1056  9.3802\n",
      "      7        \u001b[36m0.1178\u001b[0m        0.1128  9.4621\n",
      "      8        \u001b[36m0.1164\u001b[0m        0.1062  9.6257\n",
      "      9        \u001b[36m0.1111\u001b[0m        0.1080  9.6279\n",
      "     10        0.1158        0.1024  9.4598\n",
      "     11        \u001b[36m0.1095\u001b[0m        0.1042  9.3926\n",
      "     12        \u001b[36m0.1085\u001b[0m        0.1036  9.6653\n",
      "     13        \u001b[36m0.1068\u001b[0m        0.1083  9.4743\n",
      "     14        0.1075        0.1024  9.5603\n",
      "     15        \u001b[36m0.1040\u001b[0m        \u001b[32m0.1011\u001b[0m  9.8821\n",
      "     16        0.1060        0.1071  9.5764\n",
      "     17        0.1048        0.1079  9.8267\n",
      "     18        \u001b[36m0.0994\u001b[0m        0.1100  10.4501\n",
      "     19        0.1012        \u001b[32m0.0985\u001b[0m  10.6050\n",
      "     20        0.1036        0.0991  10.6065\n",
      "     21        0.1049        \u001b[32m0.0971\u001b[0m  10.9127\n",
      "     22        \u001b[36m0.0987\u001b[0m        0.1023  11.0190\n",
      "     23        \u001b[36m0.0973\u001b[0m        0.1070  11.1950\n",
      "     24        0.1080        \u001b[32m0.0916\u001b[0m  11.3727\n",
      "     25        \u001b[36m0.0939\u001b[0m        0.1069  11.6293\n",
      "     26        0.0987        0.1086  11.8828\n",
      "     27        0.0987        0.0950  11.6956\n",
      "     28        0.0947        0.0922  11.8150\n",
      "     29        0.0964        0.0949  12.2297\n",
      "     30        0.1064        0.0956  12.2539\n",
      "     31        0.1003        0.0986  11.9384\n",
      "     32        0.1026        0.1014  12.7181\n",
      "     33        \u001b[36m0.0906\u001b[0m        0.1003  13.1367\n",
      "     34        0.1005        0.0988  13.1040\n",
      "     35        0.1015        0.1020  13.3658\n",
      "     36        0.0979        0.1110  13.1850\n",
      "     37        0.1005        0.0990  13.3985\n",
      "     38        0.0956        0.0933  13.5780\n",
      "     39        0.0953        0.1023  13.4876\n",
      "     40        0.0972        0.1058  13.4479\n",
      "     41        0.0979        0.0944  13.6200\n",
      "     42        0.0939        0.1001  13.7120\n",
      "     43        0.0998        0.1075  13.2516\n",
      "     44        0.0938        0.1007  12.9462\n",
      "     45        0.0945        0.1056  13.1939\n",
      "     46        0.0963        0.1030  13.0561\n",
      "     47        0.0968        0.1128  13.1574\n",
      "     48        0.0960        0.1063  12.9961\n",
      "     49        0.1023        0.1061  12.7481\n",
      "     50        0.1005        0.1109  12.9529\n"
     ]
    },
    {
     "data": {
      "text/plain": [
       "<class 'tabularasa.SimultaneousQuantiles.SimultaneousQuantilesRegressor'>[initialized](\n",
       "  module_=SimultaneousQuantilesMixedMonotonicNet(\n",
       "    (non_monotonic_net): EmbeddingNet(\n",
       "      (emb1): Embedding(50, 16)\n",
       "      (fc1): Linear(in_features=17, out_features=16, bias=True)\n",
       "    )\n",
       "    (umnn): SlowDMonotonicNN(\n",
       "      (outer_net): MonotonicNN(\n",
       "        (integrand): IntegrandNN(\n",
       "          (inner_net): Sequential(\n",
       "            (0): Linear(in_features=17, out_features=128, bias=True)\n",
       "            (1): ReLU()\n",
       "            (2): Linear(in_features=128, out_features=128, bias=True)\n",
       "            (3): ReLU()\n",
       "            (4): Linear(in_features=128, out_features=32, bias=True)\n",
       "            (5): ReLU()\n",
       "          )\n",
       "          (net): Sequential(\n",
       "            (0): Linear(in_features=17, out_features=128, bias=True)\n",
       "            (1): ReLU()\n",
       "            (2): Linear(in_features=128, out_features=128, bias=True)\n",
       "            (3): ReLU()\n",
       "            (4): Linear(in_features=128, out_features=32, bias=True)\n",
       "            (5): ReLU()\n",
       "            (6): Linear(in_features=32, out_features=1, bias=True)\n",
       "            (7): ELU(alpha=1.0)\n",
       "          )\n",
       "        )\n",
       "        (net): Sequential(\n",
       "          (0): Linear(in_features=16, out_features=128, bias=True)\n",
       "          (1): ReLU()\n",
       "          (2): Linear(in_features=128, out_features=128, bias=True)\n",
       "          (3): ReLU()\n",
       "          (4): Linear(in_features=128, out_features=32, bias=True)\n",
       "          (5): ReLU()\n",
       "          (6): Linear(in_features=32, out_features=2, bias=True)\n",
       "        )\n",
       "      )\n",
       "    )\n",
       "  ),\n",
       ")"
      ]
     },
     "execution_count": 5,
     "metadata": {},
     "output_type": "execute_result"
    }
   ],
   "source": [
    "model.fit({'X_monotonic': df[['x1', 'x2']].values,\n",
    "           'X_non_monotonic': df[['x3', 'x4']].values},\n",
    "          df[['y']].values)"
   ]
  },
  {
   "cell_type": "markdown",
   "id": "187bf67e",
   "metadata": {},
   "source": [
    "---\n",
    "\n",
    "### Aleatoric uncertainty\n",
    "\n",
    "Similar to the above, we'll plot our median estimates along with 5th and 95th percentile estimates for all values of `x1` for our single slice of `x3`.\n",
    "\n",
    "Note, we're passing `X_monotonic` with an array of `x1` and `x2` as an argument to `.predict()` to align with our `.fit()` call."
   ]
  },
  {
   "cell_type": "code",
   "execution_count": 7,
   "id": "7a05653c",
   "metadata": {},
   "outputs": [],
   "source": [
    "df_slice = df[df['x3'] == 1].copy()"
   ]
  },
  {
   "cell_type": "code",
   "execution_count": 10,
   "id": "cc43731e",
   "metadata": {},
   "outputs": [],
   "source": [
    "p05 = model.predict({'X_monotonic': df_slice[['x1', 'x2']].values,\n",
    "                     'X_non_monotonic': df_slice[['x3', 'x4']].values},\n",
    "                    q=0.05)\n",
    "p50 = model.predict({'X_monotonic': df_slice[['x1', 'x2']].values,\n",
    "                     'X_non_monotonic': df_slice[['x3', 'x4']].values},\n",
    "                    q=0.5)\n",
    "p95 = model.predict({'X_monotonic': df_slice[['x1', 'x2']].values,\n",
    "                     'X_non_monotonic': df_slice[['x3', 'x4']].values},\n",
    "                    q=0.95)"
   ]
  },
  {
   "cell_type": "code",
   "execution_count": 11,
   "id": "e24f9a60",
   "metadata": {},
   "outputs": [
    {
     "data": {
      "image/png": "[encoded data removed]",
      "text/plain": [
       "<Figure size 432x288 with 1 Axes>"
      ]
     },
     "metadata": {
      "needs_background": "light"
     },
     "output_type": "display_data"
    }
   ],
   "source": [
    "plt.scatter(df_slice['x1'], df_slice['y'], alpha=0.2, label='actual')\n",
    "plt.plot(df_slice['x1'], p50.flatten(), alpha=0.2, label='median')\n",
    "plt.fill_between(df_slice['x1'], p05.flatten(), p95.flatten(), color='gray', alpha=0.2, label='5th-95th')\n",
    "plt.legend()\n",
    "plt.show()"
   ]
  },
  {
   "cell_type": "markdown",
   "id": "65d0814c",
   "metadata": {},
   "source": [
    "# TODO: Non-monotonic with respect to `x1`.  Need to fix."
   ]
  },
  {
   "cell_type": "code",
   "execution_count": 16,
   "id": "c69d8f6b",
   "metadata": {},
   "outputs": [],
   "source": [
    "quantiles = [0.01, 0.05, 0.1, 0.2, 0.3, 0.4, 0.6, 0.7, 0.8, 0.9, 0.95, 0.99]"
   ]
  },
  {
   "cell_type": "code",
   "execution_count": 17,
   "id": "6feb4f50",
   "metadata": {},
   "outputs": [],
   "source": [
    "results = []\n",
    "for q in np.quantile(df['x1'], quantiles):\n",
    "    dfc = df.copy()\n",
    "    dfc['x1'] = q\n",
    "    dfc['x1'] = dfc['x1'].astype('float32')\n",
    "    p = model.predict({'X_monotonic': dfc[['x1', 'x2']].values,\n",
    "                       'X_non_monotonic': dfc[['x3', 'x4']].values})\n",
    "    p = pd.DataFrame(pd.Series(p[:, 0]).describe(percentiles=quantiles)).T\n",
    "    p['x1'] = q\n",
    "    results.append(p)\n",
    "results = pd.concat(results, axis=0)"
   ]
  },
  {
   "cell_type": "code",
   "execution_count": 18,
   "id": "01b380df",
   "metadata": {},
   "outputs": [
    {
     "data": {
      "image/png": "[encoded data removed]",
      "text/plain": [
       "<Figure size 432x288 with 1 Axes>"
      ]
     },
     "metadata": {
      "needs_background": "light"
     },
     "output_type": "display_data"
    }
   ],
   "source": [
    "results.plot(x='x1', y=['20%', 'mean', '80%'])\n",
    "plt.show()"
   ]
  },
  {
   "cell_type": "code",
   "execution_count": null,
   "id": "a040e8a0",
   "metadata": {},
   "outputs": [],
   "source": []
  }
 ],
 "metadata": {
  "kernelspec": {
   "display_name": "Python 3 (ipykernel)",
   "language": "python",
   "name": "python3"
  },
  "language_info": {
   "codemirror_mode": {
    "name": "ipython",
    "version": 3
   },
   "file_extension": ".py",
   "mimetype": "text/x-python",
   "name": "python",
   "nbconvert_exporter": "python",
   "pygments_lexer": "ipython3",
   "version": "3.8.5"
  }
 },
 "nbformat": 4,
 "nbformat_minor": 5
}
