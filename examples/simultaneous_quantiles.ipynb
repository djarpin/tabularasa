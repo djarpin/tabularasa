{
 "cells": [
  {
   "cell_type": "markdown",
   "id": "341a443c",
   "metadata": {},
   "source": [
    "# Simultaneous Quantiles\n",
    "\n",
    "---\n",
    "\n",
    "---\n",
    "\n",
    "### Overview\n",
    "\n",
    "This notebook trains two variations of models which can be used to estimate aleatoric uncertainty.  The first does not include any additional monotonic features, and the second does.\n",
    "\n",
    "A special loss function is used that allows us to predict any quantile with a single training step, and to change that quantile arbitrarily, without requiring retraining."
   ]
  },
  {
   "cell_type": "code",
   "execution_count": 1,
   "id": "9b03dc32",
   "metadata": {},
   "outputs": [],
   "source": [
    "import pandas as pd\n",
    "import numpy as np\n",
    "import matplotlib.pyplot as plt\n",
    "import torch\n",
    "from torch import nn\n",
    "import torch.nn.functional as F\n",
    "from torch import optim\n",
    "from tabularasa.SimultaneousQuantiles import SimultaneousQuantilesRegressor, SimultaneousQuantilesNet, SimultaneousQuantilesMixedMonotonicNet"
   ]
  },
  {
   "cell_type": "markdown",
   "id": "11746c97",
   "metadata": {},
   "source": [
    "---\n",
    "\n",
    "### Load example data\n",
    "\n",
    "If you haven't already, please generate the example dataset using the [example_data](example_data.ipynb) notebook."
   ]
  },
  {
   "cell_type": "code",
   "execution_count": 2,
   "id": "52e29f8c",
   "metadata": {},
   "outputs": [],
   "source": [
    "df = pd.read_pickle('./data/simple_train.pkl')"
   ]
  },
  {
   "cell_type": "markdown",
   "id": "84d72a48",
   "metadata": {},
   "source": [
    "---\n",
    "\n",
    "### Train a model without monotonicity constraints\n",
    "\n",
    "Similar to `MixedMonotonicNet()`, `SimultaneousQuantilesNet()` takes another network as an input argument whose `.forward()` pass has exactly one input named `X_non_monotonic` (`SimultaneousQuantilesRegressor()` adds an extra feature which is monotonically constrained to estimate the quantile)."
   ]
  },
  {
   "cell_type": "code",
   "execution_count": 3,
   "id": "b8e09d60",
   "metadata": {},
   "outputs": [],
   "source": [
    "class EmbeddingNet(nn.Module):\n",
    "    def __init__(self):\n",
    "        super().__init__()\n",
    "        self.emb1 = nn.Embedding(50, 16)\n",
    "        self.fc1 = nn.Linear(3 + 16, 16)\n",
    "    \n",
    "    def forward(self, X_non_monotonic):\n",
    "        X = torch.cat([X_non_monotonic[:, 1:].float(), \n",
    "                       self.emb1(X_non_monotonic[:, 0, None].long()).squeeze()], 1)\n",
    "        return F.relu(self.fc1(X))"
   ]
  },
  {
   "cell_type": "markdown",
   "id": "5ebd058b",
   "metadata": {},
   "source": [
    "`module__` parameters are similar to the [mixed_monotonic](./mixed_monotonic.ipynb) example, with the exception of not needing `dim_monotonic` as input."
   ]
  },
  {
   "cell_type": "code",
   "execution_count": 4,
   "id": "f00b050a",
   "metadata": {},
   "outputs": [],
   "source": [
    "model = SimultaneousQuantilesRegressor(SimultaneousQuantilesNet,\n",
    "                                       max_epochs=100,\n",
    "                                       lr=0.01,\n",
    "                                       optimizer=torch.optim.Adam,\n",
    "                                       iterator_train__shuffle=True,\n",
    "                                       module__non_monotonic_net=EmbeddingNet(),\n",
    "                                       module__dim_non_monotonic=16,\n",
    "                                       module__layers=[128, 128, 32],\n",
    "                                       module__integration_steps=300)"
   ]
  },
  {
   "cell_type": "markdown",
   "id": "ab8fadb2",
   "metadata": {},
   "source": [
    "Now we can pass in a `dict` with only one key `X_non_monotonic` to our model's `.fit()` method.  Note, that `x1` and `x2` are listed after `x3` to align with how `EmbeddingNet()` parses `X_non_monotonic`.\n",
    "\n",
    "The loss function for `SimultaneousQuantilesRegressor()` is mean pinball loss, where the quantiles are randomly distributed for each observation, and change with each epoch.  More details can be found in [Tagasovska and Lopez-Paz (2018)](https://arxiv.org/pdf/1811.00908.pdf)."
   ]
  },
  {
   "cell_type": "code",
   "execution_count": 5,
   "id": "9ee03238",
   "metadata": {
    "scrolled": false
   },
   "outputs": [
    {
     "name": "stdout",
     "output_type": "stream",
     "text": [
      "  epoch    train_loss    valid_loss     dur\n",
      "-------  ------------  ------------  ------\n",
      "      1        \u001b[36m0.2051\u001b[0m        \u001b[32m0.1686\u001b[0m  4.7796\n",
      "      2        \u001b[36m0.1646\u001b[0m        \u001b[32m0.1586\u001b[0m  4.5204\n",
      "      3        \u001b[36m0.1555\u001b[0m        \u001b[32m0.1577\u001b[0m  4.4106\n",
      "      4        \u001b[36m0.1387\u001b[0m        \u001b[32m0.1379\u001b[0m  4.4654\n",
      "      5        \u001b[36m0.1352\u001b[0m        \u001b[32m0.1339\u001b[0m  4.4695\n",
      "      6        \u001b[36m0.1166\u001b[0m        \u001b[32m0.1198\u001b[0m  4.5279\n",
      "      7        \u001b[36m0.0922\u001b[0m        \u001b[32m0.1024\u001b[0m  4.4616\n",
      "      8        \u001b[36m0.0848\u001b[0m        \u001b[32m0.0935\u001b[0m  4.4001\n",
      "      9        \u001b[36m0.0798\u001b[0m        0.0937  4.4247\n",
      "     10        \u001b[36m0.0706\u001b[0m        \u001b[32m0.0844\u001b[0m  4.4781\n",
      "     11        \u001b[36m0.0638\u001b[0m        0.0927  4.4198\n",
      "     12        \u001b[36m0.0630\u001b[0m        0.0922  4.5184\n",
      "     13        0.0673        0.0881  4.4965\n",
      "     14        \u001b[36m0.0626\u001b[0m        0.0890  4.3984\n",
      "     15        0.0672        \u001b[32m0.0810\u001b[0m  4.4449\n",
      "     16        0.0669        \u001b[32m0.0710\u001b[0m  4.4864\n",
      "     17        \u001b[36m0.0614\u001b[0m        0.0828  4.3883\n",
      "     18        0.0629        0.0943  4.4541\n",
      "     19        \u001b[36m0.0611\u001b[0m        0.0880  4.4633\n",
      "     20        \u001b[36m0.0534\u001b[0m        0.0747  4.5279\n",
      "     21        \u001b[36m0.0521\u001b[0m        0.0791  4.7238\n",
      "     22        0.0534        0.0790  4.4887\n",
      "     23        0.0538        0.0871  4.4128\n",
      "     24        \u001b[36m0.0515\u001b[0m        0.0786  4.4763\n",
      "     25        \u001b[36m0.0486\u001b[0m        0.0827  4.4070\n",
      "     26        \u001b[36m0.0470\u001b[0m        0.0785  4.4009\n",
      "     27        0.0504        0.0719  4.4165\n",
      "     28        0.0490        0.0816  4.4878\n",
      "     29        \u001b[36m0.0441\u001b[0m        0.0793  4.4996\n",
      "     30        \u001b[36m0.0441\u001b[0m        0.0830  4.5016\n",
      "     31        0.0444        0.0899  4.4085\n",
      "     32        0.0449        0.0763  4.4925\n",
      "     33        \u001b[36m0.0436\u001b[0m        0.0832  4.4862\n",
      "     34        \u001b[36m0.0390\u001b[0m        0.0953  4.4215\n",
      "     35        0.0399        0.0786  4.4711\n",
      "     36        0.0421        0.0934  4.5205\n",
      "     37        0.0432        0.0836  4.4681\n",
      "     38        0.0418        0.0753  4.4699\n",
      "     39        0.0413        0.0864  4.3737\n",
      "     40        \u001b[36m0.0381\u001b[0m        0.0843  4.4492\n",
      "     41        \u001b[36m0.0347\u001b[0m        0.0761  4.5312\n",
      "     42        0.0357        0.0713  4.5185\n",
      "     43        0.0363        0.0811  4.5521\n",
      "     44        0.0377        0.0992  4.4273\n",
      "     45        0.0372        0.0800  4.4774\n",
      "     46        0.0389        0.0805  4.4904\n",
      "     47        0.0407        0.0826  4.8592\n",
      "     48        0.0385        0.0843  4.4901\n",
      "     49        \u001b[36m0.0343\u001b[0m        0.0783  5.8744\n",
      "     50        0.0368        0.0896  4.8377\n",
      "     51        0.0352        \u001b[32m0.0696\u001b[0m  4.9975\n",
      "     52        0.0344        0.0792  4.5814\n",
      "     53        \u001b[36m0.0325\u001b[0m        0.0739  4.7499\n",
      "     54        0.0361        0.0754  4.7234\n",
      "     55        0.0352        0.0738  4.6689\n",
      "     56        0.0384        0.0783  4.7942\n",
      "     57        0.0341        0.0793  4.8641\n",
      "     58        0.0337        0.0742  4.8512\n",
      "     59        0.0327        0.0764  5.0461\n",
      "     60        \u001b[36m0.0320\u001b[0m        0.0767  4.7935\n",
      "     61        0.0334        0.0779  4.8793\n",
      "     62        0.0328        0.0830  4.8947\n",
      "     63        0.0363        0.0784  5.0262\n",
      "     64        0.0342        0.0903  4.5325\n",
      "     65        0.0333        0.0797  4.4755\n",
      "     66        0.0370        0.0773  4.4390\n",
      "     67        0.0344        0.0842  4.5092\n",
      "     68        0.0416        0.0776  4.3916\n",
      "     69        0.0393        0.0713  4.5076\n",
      "     70        0.0362        0.0894  4.5218\n",
      "     71        \u001b[36m0.0301\u001b[0m        0.0951  4.3817\n",
      "     72        0.0415        0.0846  4.4580\n",
      "     73        0.0413        0.0820  4.7457\n",
      "     74        0.0377        0.0779  4.4728\n",
      "     75        0.0310        0.0802  4.5742\n",
      "     76        0.0337        0.0864  4.4684\n",
      "     77        0.0331        0.0753  4.5053\n",
      "     78        0.0324        0.0866  4.5039\n",
      "     79        \u001b[36m0.0296\u001b[0m        0.0773  4.4703\n",
      "     80        0.0326        0.0805  4.4908\n",
      "     81        0.0325        0.0823  4.5063\n",
      "     82        0.0313        0.0846  4.5150\n",
      "     83        0.0306        0.0886  4.4786\n",
      "     84        0.0324        0.0956  4.5154\n",
      "     85        0.0331        0.0881  4.4352\n",
      "     86        0.0331        0.0850  4.4048\n",
      "     87        0.0352        0.0875  4.5348\n",
      "     88        0.0316        0.0806  4.4309\n",
      "     89        \u001b[36m0.0290\u001b[0m        0.0877  4.3617\n",
      "     90        0.0313        0.0848  4.5214\n",
      "     91        0.0352        0.0822  4.4387\n",
      "     92        0.0304        0.0822  4.4312\n",
      "     93        0.0303        0.0836  4.5096\n",
      "     94        \u001b[36m0.0290\u001b[0m        0.0866  4.5443\n",
      "     95        0.0298        0.0816  4.5504\n",
      "     96        0.0312        0.0826  4.4870\n",
      "     97        \u001b[36m0.0267\u001b[0m        0.0860  4.4554\n",
      "     98        \u001b[36m0.0263\u001b[0m        0.0942  4.5464\n",
      "     99        0.0283        0.0910  4.5931\n",
      "    100        0.0286        0.0917  4.5261\n"
     ]
    },
    {
     "data": {
      "text/plain": [
       "<class 'tabularasa.SimultaneousQuantiles.SimultaneousQuantilesRegressor'>[initialized](\n",
       "  module_=SimultaneousQuantilesNet(\n",
       "    (non_monotonic_net): EmbeddingNet(\n",
       "      (emb1): Embedding(50, 16)\n",
       "      (fc1): Linear(in_features=19, out_features=16, bias=True)\n",
       "    )\n",
       "    (umnn): SlowDMonotonicNN(\n",
       "      (outer_net): MonotonicNN(\n",
       "        (integrand): IntegrandNN(\n",
       "          (inner_net): Sequential(\n",
       "            (0): Linear(in_features=17, out_features=128, bias=True)\n",
       "            (1): ReLU()\n",
       "            (2): Linear(in_features=128, out_features=128, bias=True)\n",
       "            (3): ReLU()\n",
       "            (4): Linear(in_features=128, out_features=32, bias=True)\n",
       "            (5): ReLU()\n",
       "          )\n",
       "          (net): Sequential(\n",
       "            (0): Linear(in_features=17, out_features=128, bias=True)\n",
       "            (1): ReLU()\n",
       "            (2): Linear(in_features=128, out_features=128, bias=True)\n",
       "            (3): ReLU()\n",
       "            (4): Linear(in_features=128, out_features=32, bias=True)\n",
       "            (5): ReLU()\n",
       "            (6): Linear(in_features=32, out_features=1, bias=True)\n",
       "            (7): ELU(alpha=1.0)\n",
       "          )\n",
       "        )\n",
       "        (net): Sequential(\n",
       "          (0): Linear(in_features=16, out_features=128, bias=True)\n",
       "          (1): ReLU()\n",
       "          (2): Linear(in_features=128, out_features=128, bias=True)\n",
       "          (3): ReLU()\n",
       "          (4): Linear(in_features=128, out_features=32, bias=True)\n",
       "          (5): ReLU()\n",
       "          (6): Linear(in_features=32, out_features=2, bias=True)\n",
       "        )\n",
       "      )\n",
       "    )\n",
       "  ),\n",
       ")"
      ]
     },
     "execution_count": 5,
     "metadata": {},
     "output_type": "execute_result"
    }
   ],
   "source": [
    "model.fit({'X_non_monotonic': df[['x3', 'x4', 'x1', 'x2']].values},\n",
    "          df[['y']].values)"
   ]
  },
  {
   "cell_type": "markdown",
   "id": "d0357145",
   "metadata": {},
   "source": [
    "---\n",
    "\n",
    "### Aleatoric uncertainty\n",
    "\n",
    "Since each distinct value of `x3` contains all values of `x1`, let's examine prediction intervals by `x1` for a single value of `x3`."
   ]
  },
  {
   "cell_type": "code",
   "execution_count": 6,
   "id": "52e0168a",
   "metadata": {},
   "outputs": [],
   "source": [
    "df_slice = df[df['x3'] == 0].copy()"
   ]
  },
  {
   "cell_type": "markdown",
   "id": "300c3321",
   "metadata": {},
   "source": [
    "`SimulatedQuantilesRegressor().predict()` takes in an extra argument `q` to specify which quantile should be predicted (defaults to 0.5, the 50th percentile)."
   ]
  },
  {
   "cell_type": "code",
   "execution_count": 7,
   "id": "bbdb0b6e",
   "metadata": {},
   "outputs": [],
   "source": [
    "p05 = model.predict({'X_non_monotonic': df_slice[['x3', 'x4', 'x1', 'x2']].values}, q=0.05)\n",
    "p50 = model.predict({'X_non_monotonic': df_slice[['x3', 'x4', 'x1', 'x2']].values}, q=0.5)\n",
    "p95 = model.predict({'X_non_monotonic': df_slice[['x3', 'x4', 'x1', 'x2']].values}, q=0.95)"
   ]
  },
  {
   "cell_type": "code",
   "execution_count": 9,
   "id": "3ee00db5",
   "metadata": {},
   "outputs": [
    {
     "data": {
      "image/png": "[encoded data removed]",
      "text/plain": [
       "<Figure size 432x288 with 1 Axes>"
      ]
     },
     "metadata": {
      "needs_background": "light"
     },
     "output_type": "display_data"
    }
   ],
   "source": [
    "plt.scatter(df_slice['x1'], df_slice['y'], alpha=0.2, label='actual')\n",
    "plt.plot(df_slice['x1'], p50.flatten(), alpha=0.2, label='median')\n",
    "plt.fill_between(df_slice['x1'], p05.flatten(), p95.flatten(), color='gray', alpha=0.2, label='5th-95th')\n",
    "plt.legend()\n",
    "plt.show()"
   ]
  },
  {
   "cell_type": "markdown",
   "id": "3d31dfd4",
   "metadata": {},
   "source": [
    "This does not look good at all...  Maybe I was just overfitting."
   ]
  },
  {
   "cell_type": "markdown",
   "id": "63fb6024",
   "metadata": {},
   "source": [
    "Wider interval here, but much worse fit... I wonder if something is happening with my random number generation?\n",
    "\n",
    "Nope, not random numbers.\n",
    "\n",
    "Even when I'm not terribly overfitting, a large number of epochs just seems to shrink the bands way too much.\n",
    "\n",
    "I guess maybe this is OK since the fit is getting good enough that the band doesn't have to be that wide?"
   ]
  },
  {
   "cell_type": "code",
   "execution_count": null,
   "id": "9b74208d",
   "metadata": {},
   "outputs": [],
   "source": []
  },
  {
   "cell_type": "code",
   "execution_count": null,
   "id": "75511dc4",
   "metadata": {},
   "outputs": [],
   "source": []
  },
  {
   "cell_type": "code",
   "execution_count": null,
   "id": "089292b3",
   "metadata": {},
   "outputs": [],
   "source": []
  },
  {
   "cell_type": "code",
   "execution_count": 4,
   "id": "94d83c10",
   "metadata": {},
   "outputs": [],
   "source": [
    "class EmbeddingNet(nn.Module):\n",
    "    def __init__(self):\n",
    "        super().__init__()\n",
    "        self.emb1 = nn.Embedding(50, 16)\n",
    "        self.fc1 = nn.Linear(1 + 16, 16)\n",
    "    \n",
    "    def forward(self, X_non_monotonic):\n",
    "        X = torch.cat([X_non_monotonic[:, 1, None].float(), \n",
    "                       self.emb1(X_non_monotonic[:, 0, None].long()).squeeze()], 1)\n",
    "        return F.relu(self.fc1(X))"
   ]
  },
  {
   "cell_type": "code",
   "execution_count": 5,
   "id": "3afde292",
   "metadata": {},
   "outputs": [],
   "source": [
    "model = SimultaneousQuantileRegressor(SimultaneousQuantileMixedMonotonicNet,\n",
    "                           max_epochs=25,\n",
    "                           lr=0.001,\n",
    "                           optimizer=torch.optim.Adam,\n",
    "                           module__non_monotonic_net=EmbeddingNet(),\n",
    "                           module__dim_non_monotonic=16,\n",
    "                           module__dim_monotonic=2,\n",
    "                           module__layers=[128, 128, 32],\n",
    "                           module__integration_steps=300)"
   ]
  },
  {
   "cell_type": "code",
   "execution_count": 6,
   "id": "aae484d7",
   "metadata": {
    "scrolled": false
   },
   "outputs": [
    {
     "name": "stdout",
     "output_type": "stream",
     "text": [
      "  epoch    train_loss    valid_loss      dur\n",
      "-------  ------------  ------------  -------\n",
      "      1        \u001b[36m0.5811\u001b[0m        \u001b[32m0.4595\u001b[0m  10.3075\n",
      "      2        \u001b[36m0.3487\u001b[0m        \u001b[32m0.2315\u001b[0m  9.4292\n",
      "      3        \u001b[36m0.2238\u001b[0m        \u001b[32m0.2295\u001b[0m  9.2418\n",
      "      4        \u001b[36m0.2224\u001b[0m        \u001b[32m0.1868\u001b[0m  9.2474\n",
      "      5        \u001b[36m0.2035\u001b[0m        0.2347  9.2152\n",
      "      6        \u001b[36m0.2024\u001b[0m        0.1963  8.7851\n",
      "      7        \u001b[36m0.2000\u001b[0m        0.2031  8.8613\n",
      "      8        0.2014        0.1922  8.8707\n",
      "      9        \u001b[36m0.1924\u001b[0m        0.2000  9.0655\n",
      "     10        \u001b[36m0.1878\u001b[0m        0.1973  8.9809\n",
      "     11        0.1982        0.1897  8.9462\n",
      "     12        0.1923        0.2135  8.8839\n",
      "     13        0.1925        0.1929  8.7842\n"
     ]
    },
    {
     "data": {
      "text/plain": [
       "<class 'tabularasa.SimultaneousQuantileRegressor.SimultaneousQuantileRegressor'>[initialized](\n",
       "  module_=SimultaneousQuantileMixedMonotonicNet(\n",
       "    (non_monotonic_net): EmbeddingNet(\n",
       "      (emb1): Embedding(50, 16)\n",
       "      (fc1): Linear(in_features=17, out_features=16, bias=True)\n",
       "    )\n",
       "    (umnn): SlowDMonotonicNN(\n",
       "      (outer_net): MonotonicNN(\n",
       "        (integrand): IntegrandNN(\n",
       "          (inner_net): Sequential(\n",
       "            (0): Linear(in_features=17, out_features=128, bias=True)\n",
       "            (1): ReLU()\n",
       "            (2): Linear(in_features=128, out_features=128, bias=True)\n",
       "            (3): ReLU()\n",
       "            (4): Linear(in_features=128, out_features=32, bias=True)\n",
       "            (5): ReLU()\n",
       "          )\n",
       "          (net): Sequential(\n",
       "            (0): Linear(in_features=17, out_features=128, bias=True)\n",
       "            (1): ReLU()\n",
       "            (2): Linear(in_features=128, out_features=128, bias=True)\n",
       "            (3): ReLU()\n",
       "            (4): Linear(in_features=128, out_features=32, bias=True)\n",
       "            (5): ReLU()\n",
       "            (6): Linear(in_features=32, out_features=1, bias=True)\n",
       "            (7): ELU(alpha=1.0)\n",
       "          )\n",
       "        )\n",
       "        (net): Sequential(\n",
       "          (0): Linear(in_features=16, out_features=128, bias=True)\n",
       "          (1): ReLU()\n",
       "          (2): Linear(in_features=128, out_features=128, bias=True)\n",
       "          (3): ReLU()\n",
       "          (4): Linear(in_features=128, out_features=32, bias=True)\n",
       "          (5): ReLU()\n",
       "          (6): Linear(in_features=32, out_features=2, bias=True)\n",
       "        )\n",
       "      )\n",
       "    )\n",
       "  ),\n",
       ")"
      ]
     },
     "execution_count": 6,
     "metadata": {},
     "output_type": "execute_result"
    }
   ],
   "source": [
    "model.fit({'X_monotonic': df[['x1', 'x2']].values,\n",
    "           'X_non_monotonic': df[['x3', 'x4']].values},\n",
    "          df[['y']].values)"
   ]
  },
  {
   "cell_type": "code",
   "execution_count": 7,
   "id": "3fad5760",
   "metadata": {},
   "outputs": [],
   "source": [
    "quantiles = [0.01, 0.05, 0.1, 0.2, 0.3, 0.4, 0.6, 0.7, 0.8, 0.9, 0.95, 0.99]"
   ]
  },
  {
   "cell_type": "code",
   "execution_count": 8,
   "id": "48020146",
   "metadata": {},
   "outputs": [],
   "source": [
    "results = []\n",
    "for q in np.quantile(df['x1'], quantiles):\n",
    "    dfc = df.copy()\n",
    "    dfc['x1'] = q\n",
    "    dfc['x1'] = dfc['x1'].astype('float32')\n",
    "    p = model.predict({'X_monotonic': dfc[['x1', 'x2']].values,\n",
    "                       'X_non_monotonic': dfc[['x3', 'x4']].values})\n",
    "    p = pd.DataFrame(pd.Series(p[:, 0]).describe(percentiles=quantiles)).T\n",
    "    p['x1'] = q\n",
    "    results.append(p)\n",
    "results = pd.concat(results, axis=0)"
   ]
  },
  {
   "cell_type": "code",
   "execution_count": 9,
   "id": "b5b445dd",
   "metadata": {},
   "outputs": [
    {
     "data": {
      "image/png": "[encoded data removed]",
      "text/plain": [
       "<Figure size 432x288 with 1 Axes>"
      ]
     },
     "metadata": {
      "needs_background": "light"
     },
     "output_type": "display_data"
    }
   ],
   "source": [
    "results.plot(x='x1', y=['20%', 'mean', '80%'])\n",
    "plt.show()"
   ]
  },
  {
   "cell_type": "code",
   "execution_count": 10,
   "id": "b1ed4545",
   "metadata": {},
   "outputs": [
    {
     "data": {
      "text/plain": [
       "array([[-0.00588573],\n",
       "       [ 0.04773763],\n",
       "       [ 0.06194977],\n",
       "       ...,\n",
       "       [ 0.0665164 ],\n",
       "       [ 0.07168144],\n",
       "       [ 0.06724489]], dtype=float32)"
      ]
     },
     "execution_count": 10,
     "metadata": {},
     "output_type": "execute_result"
    }
   ],
   "source": [
    "model.predict({'X_monotonic': df[['x1', 'x2']].values,\n",
    "               'X_non_monotonic': df[['x3', 'x4']].values})"
   ]
  },
  {
   "cell_type": "code",
   "execution_count": 11,
   "id": "48e19834",
   "metadata": {},
   "outputs": [
    {
     "data": {
      "text/plain": [
       "array([[-0.00588573],\n",
       "       [ 0.04773763],\n",
       "       [ 0.06194977],\n",
       "       ...,\n",
       "       [ 0.0665164 ],\n",
       "       [ 0.07168144],\n",
       "       [ 0.06724489]], dtype=float32)"
      ]
     },
     "execution_count": 11,
     "metadata": {},
     "output_type": "execute_result"
    }
   ],
   "source": [
    "model.predict({'X_monotonic': df[['x1', 'x2']].values,\n",
    "               'X_non_monotonic': df[['x3', 'x4']].values}, q=0.5)"
   ]
  },
  {
   "cell_type": "code",
   "execution_count": 12,
   "id": "22191686",
   "metadata": {},
   "outputs": [
    {
     "data": {
      "text/plain": [
       "array([[2.5714515e-05],\n",
       "       [4.9877182e-02],\n",
       "       [6.4310715e-02],\n",
       "       ...,\n",
       "       [6.8276986e-02],\n",
       "       [7.3422000e-02],\n",
       "       [6.8904407e-02]], dtype=float32)"
      ]
     },
     "execution_count": 12,
     "metadata": {},
     "output_type": "execute_result"
    }
   ],
   "source": [
    "model.predict({'X_monotonic': df[['x1', 'x2']].values,\n",
    "               'X_non_monotonic': df[['x3', 'x4']].values}, q=0.9)"
   ]
  },
  {
   "cell_type": "code",
   "execution_count": 13,
   "id": "4363d0c8",
   "metadata": {},
   "outputs": [
    {
     "data": {
      "text/plain": [
       "array([[-0.0120576 ],\n",
       "       [ 0.04543061],\n",
       "       [ 0.05940571],\n",
       "       ...,\n",
       "       [ 0.06460671],\n",
       "       [ 0.06979516],\n",
       "       [ 0.06544493]], dtype=float32)"
      ]
     },
     "execution_count": 13,
     "metadata": {},
     "output_type": "execute_result"
    }
   ],
   "source": [
    "model.predict({'X_monotonic': df[['x1', 'x2']].values,\n",
    "               'X_non_monotonic': df[['x3', 'x4']].values}, q=0.1)"
   ]
  },
  {
   "cell_type": "code",
   "execution_count": 14,
   "id": "0593b7a7",
   "metadata": {},
   "outputs": [
    {
     "data": {
      "text/plain": [
       "array([[1.8008924, 1.       , 1.8807808, ..., 2.6754327, 1.8818873,\n",
       "        1.       ],\n",
       "       [2.2934756, 1.       , 2.3940916, ..., 3.5926368, 2.3543181,\n",
       "        1.       ],\n",
       "       [2.2879782, 1.       , 2.372876 , ..., 3.5557475, 2.3435197,\n",
       "        1.       ],\n",
       "       ...,\n",
       "       [2.653592 , 1.       , 2.5795307, ..., 4.14019  , 2.5826511,\n",
       "        1.       ],\n",
       "       [2.661717 , 1.       , 2.590844 , ..., 4.161422 , 2.5904365,\n",
       "        1.       ],\n",
       "       [2.6822915, 1.       , 2.604792 , ..., 4.198989 , 2.6081073,\n",
       "        1.       ]], dtype=float32)"
      ]
     },
     "execution_count": 14,
     "metadata": {},
     "output_type": "execute_result"
    }
   ],
   "source": [
    "model.predict({'X_monotonic': df[['x1', 'x2']].values,\n",
    "               'X_non_monotonic': df[['x3', 'x4']].values}, q=0.5, last_hidden_layer=True)"
   ]
  },
  {
   "cell_type": "code",
   "execution_count": null,
   "id": "af140550",
   "metadata": {},
   "outputs": [],
   "source": []
  },
  {
   "cell_type": "code",
   "execution_count": null,
   "id": "2228c0f1",
   "metadata": {},
   "outputs": [],
   "source": []
  },
  {
   "cell_type": "code",
   "execution_count": null,
   "id": "196b0673",
   "metadata": {},
   "outputs": [],
   "source": []
  }
 ],
 "metadata": {
  "kernelspec": {
   "display_name": "Python 3 (ipykernel)",
   "language": "python",
   "name": "python3"
  },
  "language_info": {
   "codemirror_mode": {
    "name": "ipython",
    "version": 3
   },
   "file_extension": ".py",
   "mimetype": "text/x-python",
   "name": "python",
   "nbconvert_exporter": "python",
   "pygments_lexer": "ipython3",
   "version": "3.8.5"
  }
 },
 "nbformat": 4,
 "nbformat_minor": 5
}
