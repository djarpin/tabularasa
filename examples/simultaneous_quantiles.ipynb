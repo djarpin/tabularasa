{
 "cells": [
  {
   "cell_type": "markdown",
   "id": "341a443c",
   "metadata": {},
   "source": [
    "# Simultaneous Quantiles\n",
    "\n",
    "---\n",
    "\n",
    "---\n",
    "\n",
    "### Overview\n",
    "\n",
    "This notebook trains two variations of models which can be used to estimate aleatoric uncertainty.  The first does not include any additional monotonic features, and the second does.\n",
    "\n",
    "A special loss function is used that allows us to predict any quantile with a single training step, and to change that quantile arbitrarily, without requiring retraining."
   ]
  },
  {
   "cell_type": "code",
   "execution_count": 48,
   "id": "9b03dc32",
   "metadata": {},
   "outputs": [],
   "source": [
    "import pandas as pd\n",
    "import numpy as np\n",
    "import matplotlib.pyplot as plt\n",
    "import torch\n",
    "from torch import nn\n",
    "import torch.nn.functional as F\n",
    "from torch import optim\n",
    "from tabularasa.SimultaneousQuantiles import SimultaneousQuantilesRegressor, SimultaneousQuantilesNet, SimultaneousQuantilesMixedMonotonicNet"
   ]
  },
  {
   "cell_type": "markdown",
   "id": "11746c97",
   "metadata": {},
   "source": [
    "---\n",
    "\n",
    "### Load example data\n",
    "\n",
    "If you haven't already, please generate the example dataset using the [example_data](example_data.ipynb) notebook."
   ]
  },
  {
   "cell_type": "code",
   "execution_count": 49,
   "id": "52e29f8c",
   "metadata": {},
   "outputs": [],
   "source": [
    "df = pd.read_pickle('./data/simple_train.pkl')"
   ]
  },
  {
   "cell_type": "markdown",
   "id": "84d72a48",
   "metadata": {},
   "source": [
    "---\n",
    "\n",
    "### Train a model without monotonicity constraints\n",
    "\n",
    "Similar to `MixedMonotonicNet()`, `SimultaneousQuantilesNet()` takes another network as an input argument whose `.forward()` pass has exactly one input named `X_non_monotonic` (`SimultaneousQuantilesRegressor()` adds an extra feature which is monotonically constrained to estimate the quantile)."
   ]
  },
  {
   "cell_type": "code",
   "execution_count": 50,
   "id": "b8e09d60",
   "metadata": {},
   "outputs": [],
   "source": [
    "class EmbeddingNet(nn.Module):\n",
    "    def __init__(self):\n",
    "        super().__init__()\n",
    "        self.emb1 = nn.Embedding(50, 16)\n",
    "        self.fc1 = nn.Linear(3 + 16, 16)\n",
    "    \n",
    "    def forward(self, X_non_monotonic):\n",
    "        X = torch.cat([X_non_monotonic[:, 1:].float(), \n",
    "                       self.emb1(X_non_monotonic[:, 0, None].long()).squeeze()], 1)\n",
    "        return F.relu(self.fc1(X))"
   ]
  },
  {
   "cell_type": "markdown",
   "id": "5ebd058b",
   "metadata": {},
   "source": [
    "`module__` parameters are similar to the [mixed_monotonic](./mixed_monotonic.ipynb) example, with the exception of not needing `dim_monotonic` as input."
   ]
  },
  {
   "cell_type": "code",
   "execution_count": 51,
   "id": "f00b050a",
   "metadata": {},
   "outputs": [],
   "source": [
    "model = SimultaneousQuantilesRegressor(SimultaneousQuantilesNet,\n",
    "                                       max_epochs=20,\n",
    "                                       lr=0.001,\n",
    "                                       optimizer=torch.optim.Adam,\n",
    "                                       iterator_train__shuffle=True,\n",
    "                                       module__non_monotonic_net=EmbeddingNet(),\n",
    "                                       module__dim_non_monotonic=16,\n",
    "                                       module__layers=[128, 128, 32],\n",
    "                                       module__integration_steps=300)"
   ]
  },
  {
   "cell_type": "markdown",
   "id": "ab8fadb2",
   "metadata": {},
   "source": [
    "Now we can pass in a `dict` with only one key `X_non_monotonic` to our model's `.fit()` method.  Note, that `x1` and `x2` are listed after `x3` to align with how `EmbeddingNet()` parses `X_non_monotonic`."
   ]
  },
  {
   "cell_type": "code",
   "execution_count": 52,
   "id": "9ee03238",
   "metadata": {
    "scrolled": false
   },
   "outputs": [
    {
     "name": "stdout",
     "output_type": "stream",
     "text": [
      "  epoch    train_loss    valid_loss     dur\n",
      "-------  ------------  ------------  ------\n",
      "      1        \u001b[36m0.2014\u001b[0m        \u001b[32m0.1591\u001b[0m  4.8856\n",
      "      2        \u001b[36m0.1733\u001b[0m        0.1782  4.9179\n",
      "      3        0.1734        0.1701  4.8159\n",
      "      4        \u001b[36m0.1587\u001b[0m        0.1714  4.8095\n",
      "      5        0.1618        0.1664  4.9100\n",
      "      6        \u001b[36m0.1568\u001b[0m        0.1648  5.0610\n",
      "      7        0.1593        \u001b[32m0.1541\u001b[0m  5.3725\n",
      "      8        \u001b[36m0.1521\u001b[0m        0.1598  5.1398\n",
      "      9        \u001b[36m0.1469\u001b[0m        \u001b[32m0.1510\u001b[0m  4.7720\n",
      "     10        \u001b[36m0.1442\u001b[0m        0.1581  4.5164\n",
      "     11        0.1452        0.1663  4.5674\n",
      "     12        \u001b[36m0.1415\u001b[0m        0.1628  4.4660\n",
      "     13        0.1479        0.1522  4.5404\n",
      "     14        \u001b[36m0.1377\u001b[0m        0.1727  4.6901\n",
      "     15        \u001b[36m0.1374\u001b[0m        0.1681  4.5169\n",
      "     16        0.1384        0.1591  4.5115\n",
      "     17        \u001b[36m0.1358\u001b[0m        0.1717  4.5444\n",
      "     18        0.1376        0.1701  4.6132\n",
      "     19        \u001b[36m0.1315\u001b[0m        0.1633  4.5465\n",
      "     20        \u001b[36m0.1284\u001b[0m        0.1593  4.4759\n"
     ]
    },
    {
     "data": {
      "text/plain": [
       "<class 'tabularasa.SimultaneousQuantiles.SimultaneousQuantilesRegressor'>[initialized](\n",
       "  module_=SimultaneousQuantilesNet(\n",
       "    (non_monotonic_net): EmbeddingNet(\n",
       "      (emb1): Embedding(50, 16)\n",
       "      (fc1): Linear(in_features=19, out_features=16, bias=True)\n",
       "    )\n",
       "    (umnn): SlowDMonotonicNN(\n",
       "      (outer_net): MonotonicNN(\n",
       "        (integrand): IntegrandNN(\n",
       "          (inner_net): Sequential(\n",
       "            (0): Linear(in_features=17, out_features=128, bias=True)\n",
       "            (1): ReLU()\n",
       "            (2): Linear(in_features=128, out_features=128, bias=True)\n",
       "            (3): ReLU()\n",
       "            (4): Linear(in_features=128, out_features=32, bias=True)\n",
       "            (5): ReLU()\n",
       "          )\n",
       "          (net): Sequential(\n",
       "            (0): Linear(in_features=17, out_features=128, bias=True)\n",
       "            (1): ReLU()\n",
       "            (2): Linear(in_features=128, out_features=128, bias=True)\n",
       "            (3): ReLU()\n",
       "            (4): Linear(in_features=128, out_features=32, bias=True)\n",
       "            (5): ReLU()\n",
       "            (6): Linear(in_features=32, out_features=1, bias=True)\n",
       "            (7): ELU(alpha=1.0)\n",
       "          )\n",
       "        )\n",
       "        (net): Sequential(\n",
       "          (0): Linear(in_features=16, out_features=128, bias=True)\n",
       "          (1): ReLU()\n",
       "          (2): Linear(in_features=128, out_features=128, bias=True)\n",
       "          (3): ReLU()\n",
       "          (4): Linear(in_features=128, out_features=32, bias=True)\n",
       "          (5): ReLU()\n",
       "          (6): Linear(in_features=32, out_features=2, bias=True)\n",
       "        )\n",
       "      )\n",
       "    )\n",
       "  ),\n",
       ")"
      ]
     },
     "execution_count": 52,
     "metadata": {},
     "output_type": "execute_result"
    }
   ],
   "source": [
    "model.fit({'X_non_monotonic': df[['x3', 'x4', 'x1', 'x2']].values},\n",
    "          df[['y']].values)"
   ]
  },
  {
   "cell_type": "markdown",
   "id": "d0357145",
   "metadata": {},
   "source": [
    "---\n",
    "\n",
    "### Aleatoric uncertainty\n",
    "\n",
    "Let's grab a single ."
   ]
  },
  {
   "cell_type": "code",
   "execution_count": 53,
   "id": "b39c63a2",
   "metadata": {},
   "outputs": [],
   "source": [
    "holdout = pd.read_pickle('./data/simple_test.pkl')"
   ]
  },
  {
   "cell_type": "code",
   "execution_count": 54,
   "id": "d18e1452",
   "metadata": {},
   "outputs": [],
   "source": [
    "holdout = holdout.drop_duplicates(subset='x1').sort_values('x1')"
   ]
  },
  {
   "cell_type": "code",
   "execution_count": 55,
   "id": "52e0168a",
   "metadata": {},
   "outputs": [],
   "source": [
    "holdout = df[df['x3'] == 0].copy()"
   ]
  },
  {
   "cell_type": "markdown",
   "id": "300c3321",
   "metadata": {},
   "source": [
    "`SimulatedQuantilesRegressor().predict()` takes in an extra argument `q` to specify which quantile should be predicted (defaults to 0.5, the 50th percentile)."
   ]
  },
  {
   "cell_type": "code",
   "execution_count": 56,
   "id": "bbdb0b6e",
   "metadata": {},
   "outputs": [],
   "source": [
    "p05 = model.predict({'X_non_monotonic': holdout[['x3', 'x4', 'x1', 'x2']].values}, q=0.05)\n",
    "p25 = model.predict({'X_non_monotonic': holdout[['x3', 'x4', 'x1', 'x2']].values}, q=0.25)\n",
    "p50 = model.predict({'X_non_monotonic': holdout[['x3', 'x4', 'x1', 'x2']].values}, q=0.5)\n",
    "p75 = model.predict({'X_non_monotonic': holdout[['x3', 'x4', 'x1', 'x2']].values}, q=0.75)\n",
    "p95 = model.predict({'X_non_monotonic': holdout[['x3', 'x4', 'x1', 'x2']].values}, q=0.95)"
   ]
  },
  {
   "cell_type": "code",
   "execution_count": 57,
   "id": "3ee00db5",
   "metadata": {},
   "outputs": [
    {
     "data": {
      "image/png": "[encoded data removed]",
      "text/plain": [
       "<Figure size 432x288 with 1 Axes>"
      ]
     },
     "metadata": {
      "needs_background": "light"
     },
     "output_type": "display_data"
    }
   ],
   "source": [
    "plt.scatter(holdout['x1'], holdout['y'], alpha=0.2, label='actual')\n",
    "plt.plot(holdout['x1'], p50.flatten(), alpha=0.2, label='median')\n",
    "plt.fill_between(holdout['x1'], p25.flatten(), p75.flatten(), color='blue', alpha=0.2, label='quartiles')\n",
    "#plt.fill_between(holdout['x1'], p05.flatten(), p95.flatten(), color='gray', alpha=0.2, label='5th-95th')\n",
    "\n",
    "plt.legend()\n",
    "plt.show()"
   ]
  },
  {
   "cell_type": "markdown",
   "id": "3d31dfd4",
   "metadata": {},
   "source": [
    "This does not look good at all...  Maybe I was just overfitting."
   ]
  },
  {
   "cell_type": "markdown",
   "id": "63fb6024",
   "metadata": {},
   "source": [
    "Wider interval here, but much worse fit... I wonder if something is happening with my random number generation?"
   ]
  },
  {
   "cell_type": "code",
   "execution_count": null,
   "id": "9b74208d",
   "metadata": {},
   "outputs": [],
   "source": []
  },
  {
   "cell_type": "code",
   "execution_count": null,
   "id": "75511dc4",
   "metadata": {},
   "outputs": [],
   "source": []
  },
  {
   "cell_type": "code",
   "execution_count": null,
   "id": "089292b3",
   "metadata": {},
   "outputs": [],
   "source": []
  },
  {
   "cell_type": "code",
   "execution_count": 4,
   "id": "94d83c10",
   "metadata": {},
   "outputs": [],
   "source": [
    "class EmbeddingNet(nn.Module):\n",
    "    def __init__(self):\n",
    "        super().__init__()\n",
    "        self.emb1 = nn.Embedding(50, 16)\n",
    "        self.fc1 = nn.Linear(1 + 16, 16)\n",
    "    \n",
    "    def forward(self, X_non_monotonic):\n",
    "        X = torch.cat([X_non_monotonic[:, 1, None].float(), \n",
    "                       self.emb1(X_non_monotonic[:, 0, None].long()).squeeze()], 1)\n",
    "        return F.relu(self.fc1(X))"
   ]
  },
  {
   "cell_type": "code",
   "execution_count": 5,
   "id": "3afde292",
   "metadata": {},
   "outputs": [],
   "source": [
    "model = SimultaneousQuantileRegressor(SimultaneousQuantileMixedMonotonicNet,\n",
    "                           max_epochs=25,\n",
    "                           lr=0.001,\n",
    "                           optimizer=torch.optim.Adam,\n",
    "                           module__non_monotonic_net=EmbeddingNet(),\n",
    "                           module__dim_non_monotonic=16,\n",
    "                           module__dim_monotonic=2,\n",
    "                           module__layers=[128, 128, 32],\n",
    "                           module__integration_steps=300)"
   ]
  },
  {
   "cell_type": "code",
   "execution_count": 6,
   "id": "aae484d7",
   "metadata": {
    "scrolled": false
   },
   "outputs": [
    {
     "name": "stdout",
     "output_type": "stream",
     "text": [
      "  epoch    train_loss    valid_loss      dur\n",
      "-------  ------------  ------------  -------\n",
      "      1        \u001b[36m0.5811\u001b[0m        \u001b[32m0.4595\u001b[0m  10.3075\n",
      "      2        \u001b[36m0.3487\u001b[0m        \u001b[32m0.2315\u001b[0m  9.4292\n",
      "      3        \u001b[36m0.2238\u001b[0m        \u001b[32m0.2295\u001b[0m  9.2418\n",
      "      4        \u001b[36m0.2224\u001b[0m        \u001b[32m0.1868\u001b[0m  9.2474\n",
      "      5        \u001b[36m0.2035\u001b[0m        0.2347  9.2152\n",
      "      6        \u001b[36m0.2024\u001b[0m        0.1963  8.7851\n",
      "      7        \u001b[36m0.2000\u001b[0m        0.2031  8.8613\n",
      "      8        0.2014        0.1922  8.8707\n",
      "      9        \u001b[36m0.1924\u001b[0m        0.2000  9.0655\n",
      "     10        \u001b[36m0.1878\u001b[0m        0.1973  8.9809\n",
      "     11        0.1982        0.1897  8.9462\n",
      "     12        0.1923        0.2135  8.8839\n",
      "     13        0.1925        0.1929  8.7842\n"
     ]
    },
    {
     "data": {
      "text/plain": [
       "<class 'tabularasa.SimultaneousQuantileRegressor.SimultaneousQuantileRegressor'>[initialized](\n",
       "  module_=SimultaneousQuantileMixedMonotonicNet(\n",
       "    (non_monotonic_net): EmbeddingNet(\n",
       "      (emb1): Embedding(50, 16)\n",
       "      (fc1): Linear(in_features=17, out_features=16, bias=True)\n",
       "    )\n",
       "    (umnn): SlowDMonotonicNN(\n",
       "      (outer_net): MonotonicNN(\n",
       "        (integrand): IntegrandNN(\n",
       "          (inner_net): Sequential(\n",
       "            (0): Linear(in_features=17, out_features=128, bias=True)\n",
       "            (1): ReLU()\n",
       "            (2): Linear(in_features=128, out_features=128, bias=True)\n",
       "            (3): ReLU()\n",
       "            (4): Linear(in_features=128, out_features=32, bias=True)\n",
       "            (5): ReLU()\n",
       "          )\n",
       "          (net): Sequential(\n",
       "            (0): Linear(in_features=17, out_features=128, bias=True)\n",
       "            (1): ReLU()\n",
       "            (2): Linear(in_features=128, out_features=128, bias=True)\n",
       "            (3): ReLU()\n",
       "            (4): Linear(in_features=128, out_features=32, bias=True)\n",
       "            (5): ReLU()\n",
       "            (6): Linear(in_features=32, out_features=1, bias=True)\n",
       "            (7): ELU(alpha=1.0)\n",
       "          )\n",
       "        )\n",
       "        (net): Sequential(\n",
       "          (0): Linear(in_features=16, out_features=128, bias=True)\n",
       "          (1): ReLU()\n",
       "          (2): Linear(in_features=128, out_features=128, bias=True)\n",
       "          (3): ReLU()\n",
       "          (4): Linear(in_features=128, out_features=32, bias=True)\n",
       "          (5): ReLU()\n",
       "          (6): Linear(in_features=32, out_features=2, bias=True)\n",
       "        )\n",
       "      )\n",
       "    )\n",
       "  ),\n",
       ")"
      ]
     },
     "execution_count": 6,
     "metadata": {},
     "output_type": "execute_result"
    }
   ],
   "source": [
    "model.fit({'X_monotonic': df[['x1', 'x2']].values,\n",
    "           'X_non_monotonic': df[['x3', 'x4']].values},\n",
    "          df[['y']].values)"
   ]
  },
  {
   "cell_type": "code",
   "execution_count": 7,
   "id": "3fad5760",
   "metadata": {},
   "outputs": [],
   "source": [
    "quantiles = [0.01, 0.05, 0.1, 0.2, 0.3, 0.4, 0.6, 0.7, 0.8, 0.9, 0.95, 0.99]"
   ]
  },
  {
   "cell_type": "code",
   "execution_count": 8,
   "id": "48020146",
   "metadata": {},
   "outputs": [],
   "source": [
    "results = []\n",
    "for q in np.quantile(df['x1'], quantiles):\n",
    "    dfc = df.copy()\n",
    "    dfc['x1'] = q\n",
    "    dfc['x1'] = dfc['x1'].astype('float32')\n",
    "    p = model.predict({'X_monotonic': dfc[['x1', 'x2']].values,\n",
    "                       'X_non_monotonic': dfc[['x3', 'x4']].values})\n",
    "    p = pd.DataFrame(pd.Series(p[:, 0]).describe(percentiles=quantiles)).T\n",
    "    p['x1'] = q\n",
    "    results.append(p)\n",
    "results = pd.concat(results, axis=0)"
   ]
  },
  {
   "cell_type": "code",
   "execution_count": 9,
   "id": "b5b445dd",
   "metadata": {},
   "outputs": [
    {
     "data": {
      "image/png": "[encoded data removed]",
      "text/plain": [
       "<Figure size 432x288 with 1 Axes>"
      ]
     },
     "metadata": {
      "needs_background": "light"
     },
     "output_type": "display_data"
    }
   ],
   "source": [
    "results.plot(x='x1', y=['20%', 'mean', '80%'])\n",
    "plt.show()"
   ]
  },
  {
   "cell_type": "code",
   "execution_count": 10,
   "id": "b1ed4545",
   "metadata": {},
   "outputs": [
    {
     "data": {
      "text/plain": [
       "array([[-0.00588573],\n",
       "       [ 0.04773763],\n",
       "       [ 0.06194977],\n",
       "       ...,\n",
       "       [ 0.0665164 ],\n",
       "       [ 0.07168144],\n",
       "       [ 0.06724489]], dtype=float32)"
      ]
     },
     "execution_count": 10,
     "metadata": {},
     "output_type": "execute_result"
    }
   ],
   "source": [
    "model.predict({'X_monotonic': df[['x1', 'x2']].values,\n",
    "               'X_non_monotonic': df[['x3', 'x4']].values})"
   ]
  },
  {
   "cell_type": "code",
   "execution_count": 11,
   "id": "48e19834",
   "metadata": {},
   "outputs": [
    {
     "data": {
      "text/plain": [
       "array([[-0.00588573],\n",
       "       [ 0.04773763],\n",
       "       [ 0.06194977],\n",
       "       ...,\n",
       "       [ 0.0665164 ],\n",
       "       [ 0.07168144],\n",
       "       [ 0.06724489]], dtype=float32)"
      ]
     },
     "execution_count": 11,
     "metadata": {},
     "output_type": "execute_result"
    }
   ],
   "source": [
    "model.predict({'X_monotonic': df[['x1', 'x2']].values,\n",
    "               'X_non_monotonic': df[['x3', 'x4']].values}, q=0.5)"
   ]
  },
  {
   "cell_type": "code",
   "execution_count": 12,
   "id": "22191686",
   "metadata": {},
   "outputs": [
    {
     "data": {
      "text/plain": [
       "array([[2.5714515e-05],\n",
       "       [4.9877182e-02],\n",
       "       [6.4310715e-02],\n",
       "       ...,\n",
       "       [6.8276986e-02],\n",
       "       [7.3422000e-02],\n",
       "       [6.8904407e-02]], dtype=float32)"
      ]
     },
     "execution_count": 12,
     "metadata": {},
     "output_type": "execute_result"
    }
   ],
   "source": [
    "model.predict({'X_monotonic': df[['x1', 'x2']].values,\n",
    "               'X_non_monotonic': df[['x3', 'x4']].values}, q=0.9)"
   ]
  },
  {
   "cell_type": "code",
   "execution_count": 13,
   "id": "4363d0c8",
   "metadata": {},
   "outputs": [
    {
     "data": {
      "text/plain": [
       "array([[-0.0120576 ],\n",
       "       [ 0.04543061],\n",
       "       [ 0.05940571],\n",
       "       ...,\n",
       "       [ 0.06460671],\n",
       "       [ 0.06979516],\n",
       "       [ 0.06544493]], dtype=float32)"
      ]
     },
     "execution_count": 13,
     "metadata": {},
     "output_type": "execute_result"
    }
   ],
   "source": [
    "model.predict({'X_monotonic': df[['x1', 'x2']].values,\n",
    "               'X_non_monotonic': df[['x3', 'x4']].values}, q=0.1)"
   ]
  },
  {
   "cell_type": "code",
   "execution_count": 14,
   "id": "0593b7a7",
   "metadata": {},
   "outputs": [
    {
     "data": {
      "text/plain": [
       "array([[1.8008924, 1.       , 1.8807808, ..., 2.6754327, 1.8818873,\n",
       "        1.       ],\n",
       "       [2.2934756, 1.       , 2.3940916, ..., 3.5926368, 2.3543181,\n",
       "        1.       ],\n",
       "       [2.2879782, 1.       , 2.372876 , ..., 3.5557475, 2.3435197,\n",
       "        1.       ],\n",
       "       ...,\n",
       "       [2.653592 , 1.       , 2.5795307, ..., 4.14019  , 2.5826511,\n",
       "        1.       ],\n",
       "       [2.661717 , 1.       , 2.590844 , ..., 4.161422 , 2.5904365,\n",
       "        1.       ],\n",
       "       [2.6822915, 1.       , 2.604792 , ..., 4.198989 , 2.6081073,\n",
       "        1.       ]], dtype=float32)"
      ]
     },
     "execution_count": 14,
     "metadata": {},
     "output_type": "execute_result"
    }
   ],
   "source": [
    "model.predict({'X_monotonic': df[['x1', 'x2']].values,\n",
    "               'X_non_monotonic': df[['x3', 'x4']].values}, q=0.5, last_hidden_layer=True)"
   ]
  },
  {
   "cell_type": "code",
   "execution_count": null,
   "id": "af140550",
   "metadata": {},
   "outputs": [],
   "source": []
  },
  {
   "cell_type": "code",
   "execution_count": null,
   "id": "2228c0f1",
   "metadata": {},
   "outputs": [],
   "source": []
  },
  {
   "cell_type": "code",
   "execution_count": null,
   "id": "196b0673",
   "metadata": {},
   "outputs": [],
   "source": []
  }
 ],
 "metadata": {
  "kernelspec": {
   "display_name": "Python 3 (ipykernel)",
   "language": "python",
   "name": "python3"
  },
  "language_info": {
   "codemirror_mode": {
    "name": "ipython",
    "version": 3
   },
   "file_extension": ".py",
   "mimetype": "text/x-python",
   "name": "python",
   "nbconvert_exporter": "python",
   "pygments_lexer": "ipython3",
   "version": "3.8.5"
  }
 },
 "nbformat": 4,
 "nbformat_minor": 5
}
