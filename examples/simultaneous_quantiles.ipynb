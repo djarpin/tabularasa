{
 "cells": [
  {
   "cell_type": "markdown",
   "id": "341a443c",
   "metadata": {},
   "source": [
    "# Simultaneous Quantiles\n",
    "\n",
    "---\n",
    "\n",
    "---\n",
    "\n",
    "### Overview\n",
    "\n",
    "This notebook trains a model which can be used to estimate aleatoric uncertainty (without additional monotonicity constraints).\n",
    "\n",
    "A special loss function is used that allows us to predict any quantile with a single training step, and to change that quantile arbitrarily, without requiring retraining."
   ]
  },
  {
   "cell_type": "code",
   "execution_count": 1,
   "id": "9b03dc32",
   "metadata": {},
   "outputs": [],
   "source": [
    "import pandas as pd\n",
    "import numpy as np\n",
    "import matplotlib.pyplot as plt\n",
    "import torch\n",
    "from torch import nn\n",
    "import torch.nn.functional as F\n",
    "from torch import optim\n",
    "from tabularasa.SimultaneousQuantiles import SimultaneousQuantilesRegressor, SimultaneousQuantilesNet"
   ]
  },
  {
   "cell_type": "markdown",
   "id": "11746c97",
   "metadata": {},
   "source": [
    "---\n",
    "\n",
    "### Load example data\n",
    "\n",
    "If you haven't already, please generate the example dataset using the [example_data](example_data.ipynb) notebook."
   ]
  },
  {
   "cell_type": "code",
   "execution_count": 2,
   "id": "52e29f8c",
   "metadata": {},
   "outputs": [],
   "source": [
    "df = pd.read_pickle('./data/simple_train.pkl')"
   ]
  },
  {
   "cell_type": "markdown",
   "id": "84d72a48",
   "metadata": {},
   "source": [
    "---\n",
    "\n",
    "### Train a model without monotonicity constraints\n",
    "\n",
    "Similar to `MixedMonotonicNet()`, `SimultaneousQuantilesNet()` takes another network as an input argument whose `.forward()` pass has exactly one input named `X_non_monotonic` (`SimultaneousQuantilesRegressor()` adds an extra feature which is monotonically constrained to estimate the quantile)."
   ]
  },
  {
   "cell_type": "code",
   "execution_count": 3,
   "id": "b8e09d60",
   "metadata": {},
   "outputs": [],
   "source": [
    "class EmbeddingNet(nn.Module):\n",
    "    def __init__(self):\n",
    "        super().__init__()\n",
    "        self.emb1 = nn.Embedding(50, 16)\n",
    "        self.fc1 = nn.Linear(3 + 16, 16)\n",
    "    \n",
    "    def forward(self, X_non_monotonic):\n",
    "        X = torch.cat([X_non_monotonic[:, 1:].float(), \n",
    "                       self.emb1(X_non_monotonic[:, 0, None].long()).squeeze()], 1)\n",
    "        return F.relu(self.fc1(X))"
   ]
  },
  {
   "cell_type": "markdown",
   "id": "5ebd058b",
   "metadata": {},
   "source": [
    "`module__` parameters are similar to the [mixed_monotonic](./mixed_monotonic.ipynb) example, with the exception of not needing `dim_monotonic` as input."
   ]
  },
  {
   "cell_type": "code",
   "execution_count": 4,
   "id": "f00b050a",
   "metadata": {},
   "outputs": [],
   "source": [
    "model = SimultaneousQuantilesRegressor(SimultaneousQuantilesNet,\n",
    "                                       max_epochs=50,\n",
    "                                       lr=0.005,\n",
    "                                       optimizer=torch.optim.Adam,\n",
    "                                       iterator_train__shuffle=True,\n",
    "                                       module__non_monotonic_net=EmbeddingNet(),\n",
    "                                       module__dim_non_monotonic=16,\n",
    "                                       module__layers=[128, 128, 32],\n",
    "                                       module__integration_steps=300)"
   ]
  },
  {
   "cell_type": "markdown",
   "id": "ab8fadb2",
   "metadata": {},
   "source": [
    "Now we can pass in a `dict` with only one key `X_non_monotonic` to our model's `.fit()` method.  Note, that `x1` and `x2` are listed after `x3` to align with how `EmbeddingNet()` parses `X_non_monotonic`.\n",
    "\n",
    "The loss function for `SimultaneousQuantilesRegressor()` is mean pinball loss, where the quantiles are randomly distributed for each observation, and change with each epoch.  More details can be found in [Tagasovska and Lopez-Paz (2018)](https://arxiv.org/pdf/1811.00908.pdf)."
   ]
  },
  {
   "cell_type": "code",
   "execution_count": 5,
   "id": "9ee03238",
   "metadata": {
    "scrolled": false
   },
   "outputs": [
    {
     "name": "stdout",
     "output_type": "stream",
     "text": [
      "  epoch    train_loss    valid_loss     dur\n",
      "-------  ------------  ------------  ------\n",
      "      1        \u001b[36m0.1802\u001b[0m        \u001b[32m0.1764\u001b[0m  8.8633\n",
      "      2        \u001b[36m0.1615\u001b[0m        \u001b[32m0.1754\u001b[0m  8.8558\n",
      "      3        \u001b[36m0.1440\u001b[0m        \u001b[32m0.1644\u001b[0m  8.6605\n",
      "      4        \u001b[36m0.1409\u001b[0m        \u001b[32m0.1467\u001b[0m  8.7436\n",
      "      5        \u001b[36m0.1363\u001b[0m        0.1506  8.8810\n",
      "      6        \u001b[36m0.1326\u001b[0m        0.1521  8.6568\n",
      "      7        \u001b[36m0.1227\u001b[0m        \u001b[32m0.1314\u001b[0m  8.7908\n",
      "      8        \u001b[36m0.0993\u001b[0m        \u001b[32m0.1140\u001b[0m  8.8200\n",
      "      9        \u001b[36m0.0804\u001b[0m        \u001b[32m0.1108\u001b[0m  8.7272\n",
      "     10        \u001b[36m0.0717\u001b[0m        \u001b[32m0.1007\u001b[0m  8.7597\n",
      "     11        \u001b[36m0.0669\u001b[0m        \u001b[32m0.0933\u001b[0m  8.5506\n",
      "     12        0.0685        0.1105  8.3987\n",
      "     13        \u001b[36m0.0635\u001b[0m        \u001b[32m0.0888\u001b[0m  8.4560\n",
      "     14        \u001b[36m0.0609\u001b[0m        0.1109  8.8566\n",
      "     15        \u001b[36m0.0578\u001b[0m        0.1083  8.7141\n",
      "     16        \u001b[36m0.0560\u001b[0m        0.1071  8.8845\n",
      "     17        0.0573        0.1040  8.8090\n",
      "     18        \u001b[36m0.0522\u001b[0m        0.1124  8.8935\n",
      "     19        0.0534        0.0921  8.7645\n",
      "     20        \u001b[36m0.0494\u001b[0m        0.0980  8.6791\n",
      "     21        0.0501        0.1134  8.7812\n",
      "     22        \u001b[36m0.0478\u001b[0m        0.0983  8.7549\n",
      "     23        \u001b[36m0.0475\u001b[0m        0.1166  9.0472\n",
      "     24        \u001b[36m0.0469\u001b[0m        0.1093  8.6386\n",
      "     25        \u001b[36m0.0454\u001b[0m        0.0930  8.5370\n",
      "     26        0.0490        0.1084  8.8012\n",
      "     27        0.0474        0.1031  8.9374\n",
      "     28        \u001b[36m0.0448\u001b[0m        0.0989  8.5444\n",
      "     29        \u001b[36m0.0440\u001b[0m        0.1048  8.7698\n",
      "     30        \u001b[36m0.0425\u001b[0m        0.0925  9.0078\n",
      "     31        0.0433        0.1020  8.6541\n",
      "     32        0.0454        0.1042  8.7476\n",
      "     33        \u001b[36m0.0420\u001b[0m        0.0995  8.7562\n",
      "     34        \u001b[36m0.0415\u001b[0m        0.1115  8.7157\n",
      "     35        \u001b[36m0.0404\u001b[0m        0.0998  8.7692\n",
      "     36        0.0452        0.1020  8.6134\n",
      "     37        0.0449        0.1043  8.6489\n",
      "     38        0.0434        0.0986  8.7498\n",
      "     39        0.0427        0.0899  8.9175\n",
      "     40        \u001b[36m0.0389\u001b[0m        0.1010  8.6965\n",
      "     41        \u001b[36m0.0358\u001b[0m        0.0936  8.5299\n",
      "     42        \u001b[36m0.0344\u001b[0m        0.1018  8.8646\n",
      "     43        0.0378        0.0918  8.7199\n",
      "     44        0.0344        0.0961  8.5178\n",
      "     45        \u001b[36m0.0338\u001b[0m        0.1026  8.7656\n",
      "     46        0.0341        0.1002  8.5875\n",
      "     47        0.0355        0.0985  8.8404\n",
      "     48        0.0347        0.0930  8.9108\n",
      "     49        0.0352        0.1063  8.8479\n",
      "     50        \u001b[36m0.0317\u001b[0m        0.0971  8.4633\n"
     ]
    },
    {
     "data": {
      "text/plain": [
       "<class 'tabularasa.SimultaneousQuantiles.SimultaneousQuantilesRegressor'>[initialized](\n",
       "  module_=SimultaneousQuantilesNet(\n",
       "    (non_monotonic_net): EmbeddingNet(\n",
       "      (emb1): Embedding(50, 16)\n",
       "      (fc1): Linear(in_features=19, out_features=16, bias=True)\n",
       "    )\n",
       "    (monotonic_net): SlowDMonotonicNN(\n",
       "      (outer_net): MonotonicNN(\n",
       "        (integrand): IntegrandNN(\n",
       "          (inner_net): Sequential(\n",
       "            (0): Linear(in_features=17, out_features=128, bias=True)\n",
       "            (1): ReLU()\n",
       "            (2): Linear(in_features=128, out_features=128, bias=True)\n",
       "            (3): ReLU()\n",
       "            (4): Linear(in_features=128, out_features=32, bias=True)\n",
       "            (5): ReLU()\n",
       "          )\n",
       "          (net): Sequential(\n",
       "            (0): Linear(in_features=17, out_features=128, bias=True)\n",
       "            (1): ReLU()\n",
       "            (2): Linear(in_features=128, out_features=128, bias=True)\n",
       "            (3): ReLU()\n",
       "            (4): Linear(in_features=128, out_features=32, bias=True)\n",
       "            (5): ReLU()\n",
       "            (6): Linear(in_features=32, out_features=1, bias=True)\n",
       "            (7): ELU(alpha=1.0)\n",
       "          )\n",
       "        )\n",
       "        (net): Sequential(\n",
       "          (0): Linear(in_features=16, out_features=128, bias=True)\n",
       "          (1): ReLU()\n",
       "          (2): Linear(in_features=128, out_features=128, bias=True)\n",
       "          (3): ReLU()\n",
       "          (4): Linear(in_features=128, out_features=32, bias=True)\n",
       "          (5): ReLU()\n",
       "          (6): Linear(in_features=32, out_features=2, bias=True)\n",
       "        )\n",
       "      )\n",
       "    )\n",
       "  ),\n",
       ")"
      ]
     },
     "execution_count": 5,
     "metadata": {},
     "output_type": "execute_result"
    }
   ],
   "source": [
    "model.fit({'X_non_monotonic': df[['x3', 'x4', 'x1', 'x2']].values},\n",
    "          df[['y']].values)"
   ]
  },
  {
   "cell_type": "markdown",
   "id": "d0357145",
   "metadata": {},
   "source": [
    "---\n",
    "\n",
    "### Aleatoric uncertainty\n",
    "\n",
    "Since each distinct value of `x3` contains all values of `x1`, let's examine prediction intervals by `x1` for a single value of `x3`."
   ]
  },
  {
   "cell_type": "code",
   "execution_count": 6,
   "id": "52e0168a",
   "metadata": {},
   "outputs": [],
   "source": [
    "df_slice = df[df['x3'] == 1].copy()"
   ]
  },
  {
   "cell_type": "markdown",
   "id": "300c3321",
   "metadata": {},
   "source": [
    "`SimulatedQuantilesRegressor().predict()` takes in an extra argument `q` to specify which quantile should be predicted (defaults to 0.5, the 50th percentile)."
   ]
  },
  {
   "cell_type": "code",
   "execution_count": 7,
   "id": "bbdb0b6e",
   "metadata": {},
   "outputs": [],
   "source": [
    "p05 = model.predict({'X_non_monotonic': df_slice[['x3', 'x4', 'x1', 'x2']].values}, q=0.05)\n",
    "p50 = model.predict({'X_non_monotonic': df_slice[['x3', 'x4', 'x1', 'x2']].values}, q=0.5)\n",
    "p95 = model.predict({'X_non_monotonic': df_slice[['x3', 'x4', 'x1', 'x2']].values}, q=0.95)"
   ]
  },
  {
   "cell_type": "code",
   "execution_count": 8,
   "id": "3ee00db5",
   "metadata": {},
   "outputs": [
    {
     "data": {
      "image/png": "[encoded data removed]",
      "text/plain": [
       "<Figure size 432x288 with 1 Axes>"
      ]
     },
     "metadata": {
      "needs_background": "light"
     },
     "output_type": "display_data"
    }
   ],
   "source": [
    "plt.scatter(df_slice['x1'], df_slice['y'], alpha=0.2, label='actual')\n",
    "plt.plot(df_slice['x1'], p50.flatten(), alpha=0.2, label='median')\n",
    "plt.fill_between(df_slice['x1'], p05.flatten(), p95.flatten(), color='gray', alpha=0.2, label='5th-95th')\n",
    "plt.legend()\n",
    "plt.show()"
   ]
  },
  {
   "cell_type": "markdown",
   "id": "b738998a",
   "metadata": {},
   "source": [
    "We can see the 5th and 95th percentile prediction bounds capture the variation of most points around the median estimate, and can be used to approximate the uncertainty in our model."
   ]
  }
 ],
 "metadata": {
  "kernelspec": {
   "display_name": "Python 3 (ipykernel)",
   "language": "python",
   "name": "python3"
  },
  "language_info": {
   "codemirror_mode": {
    "name": "ipython",
    "version": 3
   },
   "file_extension": ".py",
   "mimetype": "text/x-python",
   "name": "python",
   "nbconvert_exporter": "python",
   "pygments_lexer": "ipython3",
   "version": "3.9.12"
  }
 },
 "nbformat": 4,
 "nbformat_minor": 5
}
