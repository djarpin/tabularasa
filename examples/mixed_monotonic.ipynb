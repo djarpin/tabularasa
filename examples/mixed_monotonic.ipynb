{
 "cells": [
  {
   "cell_type": "markdown",
   "id": "e0084b9a",
   "metadata": {},
   "source": [
    "# Mixed Monotonic\n",
    "\n",
    "---\n",
    "\n",
    "---\n",
    "\n",
    "### Overview\n",
    "\n",
    "This notebook trains a similar network to [simple_mlp](./simple_mlp.ipynb), but with a monotonic constraint on just the features `x1` and `x2`.  `x3` continues to enter as an embedding, and `x4` enters the model as a continuous feature without any monotonic constraints.\n",
    "\n",
    "This notebook illustrates the use of Orthonormal Certificates to estimate epistemic uncertainty based on the training data provided to the model.\n",
    "\n",
    "Notice:\n",
    "- We're importing `MixedMonotonicNet()` from `tabularasa`.  This is a predefined network that takes a user-defined network as input, and combines that network's output with montonic features and a special monotonic network to generate predictions.\n",
    "- We're importing `MixedMonotonicRegressor()` from `tabularasa`.  This isn't strictly necessary, and `MixedMonotonicNet()` could be trained with `skorch.NeuralNetRegressor()` (or even the standard PyTorch API).  In fact, `MixedMonotonicRegressor()` is defined to inherit the `skorch.NeuralNet()` class and is very similar to `NeuralNetRegressor()`, with the exception of special arguments needed to generate Orthonormal Certificates.\n",
    "- `OrthonormalCertificatesNet()` and `OrthonormalCertificatesRegressor()` exist are similarly specialized."
   ]
  },
  {
   "cell_type": "code",
   "execution_count": 1,
   "id": "9b03dc32",
   "metadata": {},
   "outputs": [],
   "source": [
    "import pandas as pd\n",
    "import numpy as np\n",
    "import matplotlib.pyplot as plt\n",
    "import torch\n",
    "from torch import nn\n",
    "import torch.nn.functional as F\n",
    "from torch import optim\n",
    "from tabularasa.MixedMonotonic import MixedMonotonicRegressor, MixedMonotonicNet\n",
    "from tabularasa.OrthonormalCertificates import OrthonormalCertificatesRegressor, OrthonormalCertificatesNet"
   ]
  },
  {
   "cell_type": "markdown",
   "id": "463b5bac",
   "metadata": {},
   "source": [
    "---\n",
    "\n",
    "### Load example data\n",
    "\n",
    "If you haven't already, please generate the example dataset using the [example_data](example_data.ipynb) notebook."
   ]
  },
  {
   "cell_type": "code",
   "execution_count": 2,
   "id": "52e29f8c",
   "metadata": {},
   "outputs": [],
   "source": [
    "df = pd.read_pickle('./data/simple_train.pkl')"
   ]
  },
  {
   "cell_type": "markdown",
   "id": "5ac66511",
   "metadata": {},
   "source": [
    "---\n",
    "\n",
    "### Define the user-specified network and model\n",
    "\n",
    "Notice:\n",
    "- Similar to [simple_mlp](simple_mlp.ipynb) we have a small embedding layer and then pass those embeddings as well as `x4` through a linear layer with ReLU activation.  Theoretically, this network could be much deeper and more complex, but for speed of training, we'll keep it simple.\n",
    "- `x1` and `x2` are monotonically constrained, so are not sent through `EmbeddingNet()`.\n",
    "- The `.forward()` method requires exactly one input that must be named `X_non_monotonic`.  This requires the suboptimal step of parsing the features by column index and converting types.  Note that the `TabulaRasaRegressor()`, show in [tabula_rasa](./tabula_rasa.ipynb), handles this for you."
   ]
  },
  {
   "cell_type": "code",
   "execution_count": 3,
   "id": "94d83c10",
   "metadata": {},
   "outputs": [],
   "source": [
    "class EmbeddingNet(nn.Module):\n",
    "    def __init__(self):\n",
    "        super().__init__()\n",
    "        self.emb1 = nn.Embedding(50, 16)\n",
    "        self.fc1 = nn.Linear(1 + 16, 16)\n",
    "    \n",
    "    def forward(self, X_non_monotonic):\n",
    "        X = torch.cat([X_non_monotonic[:, 1, None].float(), \n",
    "                       self.emb1(X_non_monotonic[:, 0, None].long()).squeeze()], 1)\n",
    "        return F.relu(self.fc1(X))"
   ]
  },
  {
   "cell_type": "code",
   "execution_count": null,
   "id": "3d5c69cc",
   "metadata": {},
   "outputs": [],
   "source": []
  },
  {
   "cell_type": "code",
   "execution_count": 4,
   "id": "3afde292",
   "metadata": {},
   "outputs": [],
   "source": [
    "model = MixedMonotonicRegressor(MixedMonotonicNet,\n",
    "                                max_epochs=150,\n",
    "                                lr=0.001,\n",
    "                                optimizer=torch.optim.Adam,\n",
    "                                iterator_train__shuffle=True,\n",
    "                                module__non_monotonic_net=EmbeddingNet(),\n",
    "                                module__dim_non_monotonic=16,\n",
    "                                module__dim_monotonic=2,\n",
    "                                module__layers=[128, 128, 32],\n",
    "                                module__integration_steps=300)"
   ]
  },
  {
   "cell_type": "code",
   "execution_count": 5,
   "id": "aae484d7",
   "metadata": {
    "scrolled": false
   },
   "outputs": [
    {
     "name": "stdout",
     "output_type": "stream",
     "text": [
      "  epoch    train_loss    valid_loss     dur\n",
      "-------  ------------  ------------  ------\n",
      "      1        \u001b[36m0.8125\u001b[0m        \u001b[32m0.3759\u001b[0m  6.8594\n",
      "      2        \u001b[36m0.3213\u001b[0m        \u001b[32m0.3280\u001b[0m  6.8138\n",
      "      3        \u001b[36m0.3159\u001b[0m        \u001b[32m0.3151\u001b[0m  8.6125\n",
      "      4        \u001b[36m0.3107\u001b[0m        0.3164  7.2664\n",
      "      5        \u001b[36m0.3048\u001b[0m        \u001b[32m0.3049\u001b[0m  7.1048\n",
      "      6        \u001b[36m0.2941\u001b[0m        \u001b[32m0.2975\u001b[0m  6.9855\n",
      "      7        \u001b[36m0.2896\u001b[0m        \u001b[32m0.2925\u001b[0m  7.0343\n",
      "      8        \u001b[36m0.2829\u001b[0m        \u001b[32m0.2853\u001b[0m  7.0459\n",
      "      9        \u001b[36m0.2739\u001b[0m        \u001b[32m0.2732\u001b[0m  7.0315\n",
      "     10        \u001b[36m0.2606\u001b[0m        \u001b[32m0.2568\u001b[0m  7.1826\n",
      "     11        \u001b[36m0.2477\u001b[0m        \u001b[32m0.2462\u001b[0m  6.8660\n",
      "     12        \u001b[36m0.2338\u001b[0m        \u001b[32m0.2343\u001b[0m  7.0656\n",
      "     13        \u001b[36m0.2212\u001b[0m        \u001b[32m0.2213\u001b[0m  7.2133\n",
      "     14        \u001b[36m0.2070\u001b[0m        \u001b[32m0.2065\u001b[0m  7.0202\n",
      "     15        \u001b[36m0.1899\u001b[0m        \u001b[32m0.1926\u001b[0m  6.8297\n",
      "     16        \u001b[36m0.1691\u001b[0m        \u001b[32m0.1734\u001b[0m  7.1091\n",
      "     17        \u001b[36m0.1490\u001b[0m        \u001b[32m0.1618\u001b[0m  7.1654\n",
      "     18        \u001b[36m0.1310\u001b[0m        \u001b[32m0.1518\u001b[0m  7.1297\n",
      "     19        \u001b[36m0.1167\u001b[0m        \u001b[32m0.1444\u001b[0m  7.0841\n",
      "     20        \u001b[36m0.1050\u001b[0m        \u001b[32m0.1346\u001b[0m  7.1743\n",
      "     21        \u001b[36m0.0950\u001b[0m        \u001b[32m0.1309\u001b[0m  7.1280\n",
      "     22        \u001b[36m0.0882\u001b[0m        \u001b[32m0.1266\u001b[0m  7.1529\n",
      "     23        \u001b[36m0.0834\u001b[0m        0.1385  7.1146\n",
      "     24        \u001b[36m0.0824\u001b[0m        0.1309  6.9852\n",
      "     25        \u001b[36m0.0806\u001b[0m        0.1287  6.9354\n",
      "     26        \u001b[36m0.0791\u001b[0m        \u001b[32m0.1187\u001b[0m  7.2317\n",
      "     27        \u001b[36m0.0779\u001b[0m        \u001b[32m0.1129\u001b[0m  7.2576\n",
      "     28        \u001b[36m0.0766\u001b[0m        \u001b[32m0.1119\u001b[0m  7.1891\n",
      "     29        \u001b[36m0.0750\u001b[0m        0.1205  7.0635\n",
      "     30        \u001b[36m0.0735\u001b[0m        0.1224  7.1165\n",
      "     31        \u001b[36m0.0726\u001b[0m        0.1197  6.9960\n",
      "     32        \u001b[36m0.0716\u001b[0m        0.1162  6.9497\n",
      "     33        \u001b[36m0.0712\u001b[0m        0.1162  7.0327\n",
      "     34        \u001b[36m0.0709\u001b[0m        0.1183  7.2012\n",
      "     35        \u001b[36m0.0703\u001b[0m        0.1168  7.0591\n",
      "     36        0.0705        0.1154  6.9198\n",
      "     37        0.0709        0.1151  7.1947\n",
      "     38        \u001b[36m0.0698\u001b[0m        0.1205  7.1344\n",
      "     39        \u001b[36m0.0698\u001b[0m        0.1145  7.0784\n",
      "     40        0.0707        0.1130  7.0829\n",
      "     41        \u001b[36m0.0696\u001b[0m        0.1140  7.0219\n",
      "     42        0.0705        0.1201  7.0782\n",
      "     43        \u001b[36m0.0684\u001b[0m        0.1174  6.9234\n",
      "     44        \u001b[36m0.0684\u001b[0m        0.1175  6.8364\n",
      "     45        \u001b[36m0.0675\u001b[0m        0.1153  6.9264\n",
      "     46        0.0678        0.1191  7.1649\n",
      "     47        0.0675        0.1192  7.0066\n",
      "     48        \u001b[36m0.0669\u001b[0m        0.1193  7.2123\n",
      "     49        0.0670        0.1185  6.8502\n",
      "     50        \u001b[36m0.0669\u001b[0m        0.1146  7.2074\n",
      "     51        \u001b[36m0.0667\u001b[0m        0.1196  7.0309\n",
      "     52        \u001b[36m0.0660\u001b[0m        0.1189  7.3492\n",
      "     53        \u001b[36m0.0658\u001b[0m        0.1160  7.2509\n",
      "     54        0.0660        0.1216  7.7000\n",
      "     55        0.0659        0.1229  10.1859\n",
      "     56        \u001b[36m0.0650\u001b[0m        0.1210  8.4917\n",
      "     57        0.0659        0.1169  6.9386\n",
      "     58        0.0669        0.1199  7.0138\n",
      "     59        \u001b[36m0.0649\u001b[0m        0.1224  6.9135\n",
      "     60        \u001b[36m0.0649\u001b[0m        0.1126  7.0269\n",
      "     61        \u001b[36m0.0642\u001b[0m        0.1244  7.1365\n",
      "     62        0.0646        0.1192  8.1975\n",
      "     63        0.0643        0.1219  8.9660\n",
      "     64        \u001b[36m0.0637\u001b[0m        0.1231  9.0382\n",
      "     65        0.0640        0.1168  9.0151\n",
      "     66        0.0656        0.1289  7.2360\n",
      "     67        0.0648        0.1191  6.9593\n",
      "     68        \u001b[36m0.0630\u001b[0m        0.1241  7.0244\n",
      "     69        \u001b[36m0.0627\u001b[0m        0.1186  7.2073\n",
      "     70        0.0632        0.1293  7.1290\n",
      "     71        \u001b[36m0.0623\u001b[0m        0.1237  7.0031\n",
      "     72        \u001b[36m0.0618\u001b[0m        0.1222  7.0139\n",
      "     73        0.0629        0.1286  7.0347\n",
      "     74        \u001b[36m0.0618\u001b[0m        0.1285  6.8287\n",
      "     75        0.0618        0.1237  6.8446\n",
      "     76        \u001b[36m0.0613\u001b[0m        0.1289  6.7600\n",
      "     77        \u001b[36m0.0609\u001b[0m        0.1279  6.8083\n",
      "     78        0.0621        0.1277  6.7930\n",
      "     79        \u001b[36m0.0609\u001b[0m        0.1277  6.9200\n",
      "     80        0.0615        0.1277  6.8035\n",
      "     81        \u001b[36m0.0603\u001b[0m        0.1308  6.8265\n",
      "     82        0.0605        0.1299  6.6208\n",
      "     83        0.0604        0.1304  6.6520\n",
      "     84        \u001b[36m0.0596\u001b[0m        0.1285  6.8229\n",
      "     85        0.0600        0.1325  6.9537\n",
      "     86        0.0605        0.1437  6.8454\n",
      "     87        0.0620        0.1271  6.9988\n",
      "     88        0.0617        0.1280  6.9043\n",
      "     89        0.0611        0.1442  6.8808\n",
      "     90        0.0611        0.1290  6.7734\n",
      "     91        \u001b[36m0.0591\u001b[0m        0.1312  6.8673\n",
      "     92        \u001b[36m0.0587\u001b[0m        0.1356  6.8491\n",
      "     93        0.0591        0.1305  6.7933\n",
      "     94        0.0590        0.1324  6.7371\n",
      "     95        \u001b[36m0.0584\u001b[0m        0.1364  6.8380\n",
      "     96        0.0586        0.1294  7.0419\n",
      "     97        0.0607        0.1345  6.7756\n",
      "     98        0.0588        0.1352  6.9014\n",
      "     99        0.0589        0.1338  6.7615\n",
      "    100        0.0600        0.1400  6.8325\n",
      "    101        \u001b[36m0.0577\u001b[0m        0.1402  6.8798\n",
      "    102        \u001b[36m0.0573\u001b[0m        0.1379  6.8330\n",
      "    103        \u001b[36m0.0572\u001b[0m        0.1402  6.7831\n",
      "    104        0.0581        0.1384  6.8477\n",
      "    105        0.0589        0.1380  6.7518\n",
      "    106        \u001b[36m0.0572\u001b[0m        0.1384  6.8355\n",
      "    107        \u001b[36m0.0569\u001b[0m        0.1383  6.7932\n",
      "    108        0.0580        0.1467  6.8395\n",
      "    109        0.0577        0.1403  6.8143\n",
      "    110        0.0581        0.1370  6.7860\n",
      "    111        0.0574        0.1444  6.7166\n",
      "    112        \u001b[36m0.0569\u001b[0m        0.1443  6.8914\n",
      "    113        0.0575        0.1449  6.8506\n",
      "    114        0.0589        0.1368  6.8137\n",
      "    115        0.0586        0.1486  6.9179\n",
      "    116        0.0576        0.1393  6.8000\n",
      "    117        0.0583        0.1454  6.8743\n",
      "    118        \u001b[36m0.0565\u001b[0m        0.1430  7.3591\n",
      "    119        0.0580        0.1423  6.8929\n",
      "    120        \u001b[36m0.0564\u001b[0m        0.1477  6.8788\n",
      "    121        0.0566        0.1401  6.7640\n",
      "    122        0.0571        0.1426  6.8534\n",
      "    123        0.0583        0.1531  6.9096\n",
      "    124        0.0589        0.1498  6.8594\n",
      "    125        0.0584        0.1488  6.7365\n",
      "    126        \u001b[36m0.0562\u001b[0m        0.1466  6.8769\n",
      "    127        \u001b[36m0.0557\u001b[0m        0.1422  6.9382\n",
      "    128        \u001b[36m0.0549\u001b[0m        0.1558  6.8875\n",
      "    129        \u001b[36m0.0546\u001b[0m        0.1505  6.7442\n",
      "    130        0.0550        0.1462  6.8537\n",
      "    131        0.0550        0.1461  6.8041\n",
      "    132        0.0551        0.1472  6.9324\n",
      "    133        \u001b[36m0.0541\u001b[0m        0.1483  6.8810\n",
      "    134        \u001b[36m0.0538\u001b[0m        0.1536  6.8773\n",
      "    135        0.0545        0.1513  7.0713\n",
      "    136        0.0548        0.1538  7.3024\n",
      "    137        0.0542        0.1534  6.9658\n",
      "    138        0.0549        0.1587  6.8759\n",
      "    139        0.0552        0.1622  7.0250\n",
      "    140        0.0555        0.1557  7.1451\n",
      "    141        0.0540        0.1528  7.2120\n",
      "    142        \u001b[36m0.0537\u001b[0m        0.1554  6.9185\n",
      "    143        0.0543        0.1615  7.0142\n",
      "    144        0.0550        0.1575  7.1244\n",
      "    145        0.0551        0.1524  7.1268\n",
      "    146        \u001b[36m0.0537\u001b[0m        0.1492  7.2719\n",
      "    147        \u001b[36m0.0533\u001b[0m        0.1520  7.3429\n",
      "    148        \u001b[36m0.0531\u001b[0m        0.1608  6.9730\n",
      "    149        0.0544        0.1526  6.9872\n",
      "    150        0.0544        0.1547  7.1577\n"
     ]
    },
    {
     "data": {
      "text/plain": [
       "<class 'tabularasa.MixedMonotonic.MixedMonotonicRegressor'>[initialized](\n",
       "  module_=MixedMonotonicNet(\n",
       "    (non_monotonic_net): EmbeddingNet(\n",
       "      (emb1): Embedding(50, 16)\n",
       "      (fc1): Linear(in_features=17, out_features=16, bias=True)\n",
       "    )\n",
       "    (umnn): SlowDMonotonicNN(\n",
       "      (outer_net): MonotonicNN(\n",
       "        (integrand): IntegrandNN(\n",
       "          (inner_net): Sequential(\n",
       "            (0): Linear(in_features=17, out_features=128, bias=True)\n",
       "            (1): ReLU()\n",
       "            (2): Linear(in_features=128, out_features=128, bias=True)\n",
       "            (3): ReLU()\n",
       "            (4): Linear(in_features=128, out_features=32, bias=True)\n",
       "            (5): ReLU()\n",
       "          )\n",
       "          (net): Sequential(\n",
       "            (0): Linear(in_features=17, out_features=128, bias=True)\n",
       "            (1): ReLU()\n",
       "            (2): Linear(in_features=128, out_features=128, bias=True)\n",
       "            (3): ReLU()\n",
       "            (4): Linear(in_features=128, out_features=32, bias=True)\n",
       "            (5): ReLU()\n",
       "            (6): Linear(in_features=32, out_features=1, bias=True)\n",
       "            (7): ELU(alpha=1.0)\n",
       "          )\n",
       "        )\n",
       "        (net): Sequential(\n",
       "          (0): Linear(in_features=16, out_features=128, bias=True)\n",
       "          (1): ReLU()\n",
       "          (2): Linear(in_features=128, out_features=128, bias=True)\n",
       "          (3): ReLU()\n",
       "          (4): Linear(in_features=128, out_features=32, bias=True)\n",
       "          (5): ReLU()\n",
       "          (6): Linear(in_features=32, out_features=2, bias=True)\n",
       "        )\n",
       "      )\n",
       "    )\n",
       "  ),\n",
       ")"
      ]
     },
     "execution_count": 5,
     "metadata": {},
     "output_type": "execute_result"
    }
   ],
   "source": [
    "model.fit({'X_monotonic': df[['x1', 'x2']].values,\n",
    "           'X_non_monotonic': df[['x3', 'x4']].values},\n",
    "          df[['y']].values)"
   ]
  },
  {
   "cell_type": "code",
   "execution_count": 6,
   "id": "3fad5760",
   "metadata": {},
   "outputs": [],
   "source": [
    "quantiles = [0.01, 0.05, 0.1, 0.2, 0.3, 0.4, 0.6, 0.7, 0.8, 0.9, 0.95, 0.99]"
   ]
  },
  {
   "cell_type": "code",
   "execution_count": 7,
   "id": "48020146",
   "metadata": {},
   "outputs": [
    {
     "ename": "NameError",
     "evalue": "name 'torch' is not defined",
     "output_type": "error",
     "traceback": [
      "\u001b[0;31m---------------------------------------------------------------------------\u001b[0m",
      "\u001b[0;31mNameError\u001b[0m                                 Traceback (most recent call last)",
      "\u001b[0;32m/tmp/ipykernel_2714/2653249066.py\u001b[0m in \u001b[0;36m<module>\u001b[0;34m\u001b[0m\n\u001b[1;32m      4\u001b[0m     \u001b[0mdfc\u001b[0m\u001b[0;34m[\u001b[0m\u001b[0;34m'x1'\u001b[0m\u001b[0;34m]\u001b[0m \u001b[0;34m=\u001b[0m \u001b[0mq\u001b[0m\u001b[0;34m\u001b[0m\u001b[0;34m\u001b[0m\u001b[0m\n\u001b[1;32m      5\u001b[0m     \u001b[0mdfc\u001b[0m\u001b[0;34m[\u001b[0m\u001b[0;34m'x1'\u001b[0m\u001b[0;34m]\u001b[0m \u001b[0;34m=\u001b[0m \u001b[0mdfc\u001b[0m\u001b[0;34m[\u001b[0m\u001b[0;34m'x1'\u001b[0m\u001b[0;34m]\u001b[0m\u001b[0;34m.\u001b[0m\u001b[0mastype\u001b[0m\u001b[0;34m(\u001b[0m\u001b[0;34m'float32'\u001b[0m\u001b[0;34m)\u001b[0m\u001b[0;34m\u001b[0m\u001b[0;34m\u001b[0m\u001b[0m\n\u001b[0;32m----> 6\u001b[0;31m     p = model.predict({'X_monotonic': dfc[['x1', 'x2']].values,\n\u001b[0m\u001b[1;32m      7\u001b[0m                        'X_non_monotonic': dfc[['x3', 'x4']].values})\n\u001b[1;32m      8\u001b[0m     \u001b[0mp\u001b[0m \u001b[0;34m=\u001b[0m \u001b[0mpd\u001b[0m\u001b[0;34m.\u001b[0m\u001b[0mDataFrame\u001b[0m\u001b[0;34m(\u001b[0m\u001b[0mpd\u001b[0m\u001b[0;34m.\u001b[0m\u001b[0mSeries\u001b[0m\u001b[0;34m(\u001b[0m\u001b[0mp\u001b[0m\u001b[0;34m[\u001b[0m\u001b[0;34m:\u001b[0m\u001b[0;34m,\u001b[0m \u001b[0;36m0\u001b[0m\u001b[0;34m]\u001b[0m\u001b[0;34m)\u001b[0m\u001b[0;34m.\u001b[0m\u001b[0mdescribe\u001b[0m\u001b[0;34m(\u001b[0m\u001b[0mpercentiles\u001b[0m\u001b[0;34m=\u001b[0m\u001b[0mquantiles\u001b[0m\u001b[0;34m)\u001b[0m\u001b[0;34m)\u001b[0m\u001b[0;34m.\u001b[0m\u001b[0mT\u001b[0m\u001b[0;34m\u001b[0m\u001b[0;34m\u001b[0m\u001b[0m\n",
      "\u001b[0;32m~/anaconda3/envs/pytorch/lib/python3.8/site-packages/tabularasa/MixedMonotonic.py\u001b[0m in \u001b[0;36mpredict\u001b[0;34m(self, X, last_hidden_layer)\u001b[0m\n\u001b[1;32m    164\u001b[0m         \u001b[0my_pred\u001b[0m \u001b[0;34m:\u001b[0m \u001b[0mnumpy\u001b[0m \u001b[0mndarray\u001b[0m\u001b[0;34m\u001b[0m\u001b[0;34m\u001b[0m\u001b[0m\n\u001b[1;32m    165\u001b[0m         \"\"\"\n\u001b[0;32m--> 166\u001b[0;31m         \u001b[0;32mreturn\u001b[0m \u001b[0mself\u001b[0m\u001b[0;34m.\u001b[0m\u001b[0mpredict_proba\u001b[0m\u001b[0;34m(\u001b[0m\u001b[0mX\u001b[0m\u001b[0;34m,\u001b[0m \u001b[0mlast_hidden_layer\u001b[0m\u001b[0;34m=\u001b[0m\u001b[0mlast_hidden_layer\u001b[0m\u001b[0;34m)\u001b[0m\u001b[0;34m\u001b[0m\u001b[0;34m\u001b[0m\u001b[0m\n\u001b[0m",
      "\u001b[0;32m~/anaconda3/envs/pytorch/lib/python3.8/site-packages/tabularasa/MixedMonotonic.py\u001b[0m in \u001b[0;36mpredict_proba\u001b[0;34m(self, X, last_hidden_layer)\u001b[0m\n\u001b[1;32m    133\u001b[0m         \u001b[0mnonlin\u001b[0m \u001b[0;34m=\u001b[0m \u001b[0mself\u001b[0m\u001b[0;34m.\u001b[0m\u001b[0m_get_predict_nonlinearity\u001b[0m\u001b[0;34m(\u001b[0m\u001b[0;34m)\u001b[0m\u001b[0;34m\u001b[0m\u001b[0;34m\u001b[0m\u001b[0m\n\u001b[1;32m    134\u001b[0m         \u001b[0my_probas\u001b[0m \u001b[0;34m=\u001b[0m \u001b[0;34m[\u001b[0m\u001b[0;34m]\u001b[0m\u001b[0;34m\u001b[0m\u001b[0;34m\u001b[0m\u001b[0m\n\u001b[0;32m--> 135\u001b[0;31m         \u001b[0;32mfor\u001b[0m \u001b[0myp\u001b[0m \u001b[0;32min\u001b[0m \u001b[0mself\u001b[0m\u001b[0;34m.\u001b[0m\u001b[0mforward_iter\u001b[0m\u001b[0;34m(\u001b[0m\u001b[0mX\u001b[0m\u001b[0;34m,\u001b[0m \u001b[0mtraining\u001b[0m\u001b[0;34m=\u001b[0m\u001b[0;32mFalse\u001b[0m\u001b[0;34m,\u001b[0m \u001b[0mlast_hidden_layer\u001b[0m\u001b[0;34m=\u001b[0m\u001b[0mlast_hidden_layer\u001b[0m\u001b[0;34m)\u001b[0m\u001b[0;34m:\u001b[0m\u001b[0;34m\u001b[0m\u001b[0;34m\u001b[0m\u001b[0m\n\u001b[0m\u001b[1;32m    136\u001b[0m             \u001b[0myp\u001b[0m \u001b[0;34m=\u001b[0m \u001b[0myp\u001b[0m\u001b[0;34m[\u001b[0m\u001b[0;36m0\u001b[0m\u001b[0;34m]\u001b[0m \u001b[0;32mif\u001b[0m \u001b[0misinstance\u001b[0m\u001b[0;34m(\u001b[0m\u001b[0myp\u001b[0m\u001b[0;34m,\u001b[0m \u001b[0mtuple\u001b[0m\u001b[0;34m)\u001b[0m \u001b[0;32melse\u001b[0m \u001b[0myp\u001b[0m\u001b[0;34m\u001b[0m\u001b[0;34m\u001b[0m\u001b[0m\n\u001b[1;32m    137\u001b[0m             \u001b[0myp\u001b[0m \u001b[0;34m=\u001b[0m \u001b[0mnonlin\u001b[0m\u001b[0;34m(\u001b[0m\u001b[0myp\u001b[0m\u001b[0;34m)\u001b[0m\u001b[0;34m\u001b[0m\u001b[0;34m\u001b[0m\u001b[0m\n",
      "\u001b[0;32m~/anaconda3/envs/pytorch/lib/python3.8/site-packages/tabularasa/MixedMonotonic.py\u001b[0m in \u001b[0;36mforward_iter\u001b[0;34m(self, X, training, device, last_hidden_layer)\u001b[0m\n\u001b[1;32m    103\u001b[0m         \u001b[0miterator\u001b[0m \u001b[0;34m=\u001b[0m \u001b[0mself\u001b[0m\u001b[0;34m.\u001b[0m\u001b[0mget_iterator\u001b[0m\u001b[0;34m(\u001b[0m\u001b[0mdataset\u001b[0m\u001b[0;34m,\u001b[0m \u001b[0mtraining\u001b[0m\u001b[0;34m=\u001b[0m\u001b[0mtraining\u001b[0m\u001b[0;34m)\u001b[0m\u001b[0;34m\u001b[0m\u001b[0;34m\u001b[0m\u001b[0m\n\u001b[1;32m    104\u001b[0m         \u001b[0;32mfor\u001b[0m \u001b[0mbatch\u001b[0m \u001b[0;32min\u001b[0m \u001b[0miterator\u001b[0m\u001b[0;34m:\u001b[0m\u001b[0;34m\u001b[0m\u001b[0;34m\u001b[0m\u001b[0m\n\u001b[0;32m--> 105\u001b[0;31m             \u001b[0myp\u001b[0m \u001b[0;34m=\u001b[0m \u001b[0mself\u001b[0m\u001b[0;34m.\u001b[0m\u001b[0mevaluation_step\u001b[0m\u001b[0;34m(\u001b[0m\u001b[0mbatch\u001b[0m\u001b[0;34m,\u001b[0m \u001b[0mtraining\u001b[0m\u001b[0;34m=\u001b[0m\u001b[0mtraining\u001b[0m\u001b[0;34m,\u001b[0m \u001b[0mlast_hidden_layer\u001b[0m\u001b[0;34m=\u001b[0m\u001b[0mlast_hidden_layer\u001b[0m\u001b[0;34m)\u001b[0m\u001b[0;34m\u001b[0m\u001b[0;34m\u001b[0m\u001b[0m\n\u001b[0m\u001b[1;32m    106\u001b[0m             \u001b[0;32myield\u001b[0m \u001b[0mto_device\u001b[0m\u001b[0;34m(\u001b[0m\u001b[0myp\u001b[0m\u001b[0;34m,\u001b[0m \u001b[0mdevice\u001b[0m\u001b[0;34m=\u001b[0m\u001b[0mdevice\u001b[0m\u001b[0;34m)\u001b[0m\u001b[0;34m\u001b[0m\u001b[0;34m\u001b[0m\u001b[0m\n\u001b[1;32m    107\u001b[0m \u001b[0;34m\u001b[0m\u001b[0m\n",
      "\u001b[0;32m~/anaconda3/envs/pytorch/lib/python3.8/site-packages/tabularasa/MixedMonotonic.py\u001b[0m in \u001b[0;36mevaluation_step\u001b[0;34m(self, batch, training, last_hidden_layer)\u001b[0m\n\u001b[1;32m     66\u001b[0m         \u001b[0mself\u001b[0m\u001b[0;34m.\u001b[0m\u001b[0mcheck_is_fitted\u001b[0m\u001b[0;34m(\u001b[0m\u001b[0;34m)\u001b[0m\u001b[0;34m\u001b[0m\u001b[0;34m\u001b[0m\u001b[0m\n\u001b[1;32m     67\u001b[0m         \u001b[0mXi\u001b[0m\u001b[0;34m,\u001b[0m \u001b[0m_\u001b[0m \u001b[0;34m=\u001b[0m \u001b[0munpack_data\u001b[0m\u001b[0;34m(\u001b[0m\u001b[0mbatch\u001b[0m\u001b[0;34m)\u001b[0m\u001b[0;34m\u001b[0m\u001b[0;34m\u001b[0m\u001b[0m\n\u001b[0;32m---> 68\u001b[0;31m         \u001b[0;32mwith\u001b[0m \u001b[0mtorch\u001b[0m\u001b[0;34m.\u001b[0m\u001b[0mset_grad_enabled\u001b[0m\u001b[0;34m(\u001b[0m\u001b[0mtraining\u001b[0m\u001b[0;34m)\u001b[0m\u001b[0;34m:\u001b[0m\u001b[0;34m\u001b[0m\u001b[0;34m\u001b[0m\u001b[0m\n\u001b[0m\u001b[1;32m     69\u001b[0m             \u001b[0mself\u001b[0m\u001b[0;34m.\u001b[0m\u001b[0m_set_training\u001b[0m\u001b[0;34m(\u001b[0m\u001b[0mtraining\u001b[0m\u001b[0;34m)\u001b[0m\u001b[0;34m\u001b[0m\u001b[0;34m\u001b[0m\u001b[0m\n\u001b[1;32m     70\u001b[0m             \u001b[0;32mreturn\u001b[0m \u001b[0mself\u001b[0m\u001b[0;34m.\u001b[0m\u001b[0minfer\u001b[0m\u001b[0;34m(\u001b[0m\u001b[0mXi\u001b[0m\u001b[0;34m,\u001b[0m \u001b[0mlast_hidden_layer\u001b[0m\u001b[0;34m=\u001b[0m\u001b[0mlast_hidden_layer\u001b[0m\u001b[0;34m)\u001b[0m\u001b[0;34m\u001b[0m\u001b[0;34m\u001b[0m\u001b[0m\n",
      "\u001b[0;31mNameError\u001b[0m: name 'torch' is not defined"
     ]
    }
   ],
   "source": [
    "results = []\n",
    "for q in np.quantile(df['x1'], quantiles):\n",
    "    dfc = df.copy()\n",
    "    dfc['x1'] = q\n",
    "    dfc['x1'] = dfc['x1'].astype('float32')\n",
    "    p = model.predict({'X_monotonic': dfc[['x1', 'x2']].values,\n",
    "                       'X_non_monotonic': dfc[['x3', 'x4']].values})\n",
    "    p = pd.DataFrame(pd.Series(p[:, 0]).describe(percentiles=quantiles)).T\n",
    "    p['x1'] = q\n",
    "    results.append(p)\n",
    "results = pd.concat(results, axis=0)"
   ]
  },
  {
   "cell_type": "code",
   "execution_count": null,
   "id": "b5b445dd",
   "metadata": {},
   "outputs": [],
   "source": [
    "results.plot(x='x1', y=['20%', 'mean', '80%'])\n",
    "plt.show()"
   ]
  },
  {
   "cell_type": "markdown",
   "id": "4e17aff3",
   "metadata": {},
   "source": [
    "### Estimate epistemic uncertainty via orthonormal certificates\n",
    "\n",
    "Start by prepping data from the inner hidden layer."
   ]
  },
  {
   "cell_type": "code",
   "execution_count": 9,
   "id": "95264555",
   "metadata": {},
   "outputs": [],
   "source": [
    "model.module_.set_last_layer(inner=True)"
   ]
  },
  {
   "cell_type": "code",
   "execution_count": 21,
   "id": "eb094271",
   "metadata": {},
   "outputs": [],
   "source": [
    "X_inner = model.predict({'X_monotonic': df[['x1', 'x2']].values,\n",
    "                         'X_non_monotonic': df[['x3', 'x4']].values})"
   ]
  },
  {
   "cell_type": "markdown",
   "id": "94d2f5e2",
   "metadata": {},
   "source": [
    "Now train orthonormal certificates.  Note, including raw numeric features helps quality."
   ]
  },
  {
   "cell_type": "code",
   "execution_count": 24,
   "id": "e41038fd",
   "metadata": {},
   "outputs": [],
   "source": [
    "oc = OrthonormalCertificates()\n",
    "oc.fit(np.concatenate([df[['x1', 'x2', 'x4']].values, X_inner], axis=1))"
   ]
  },
  {
   "cell_type": "markdown",
   "id": "48e0f558",
   "metadata": {},
   "source": [
    "Create another PDP like dataset with the full range."
   ]
  },
  {
   "cell_type": "code",
   "execution_count": 31,
   "id": "ee071b20",
   "metadata": {},
   "outputs": [],
   "source": [
    "uncertainties = []\n",
    "for q in np.linspace(-1.5, 1.5, 101):\n",
    "    dfc = df.copy()\n",
    "    dfc['x1'] = q\n",
    "    dfc['x1'] = dfc['x1'].astype('float32')\n",
    "    p = oc.transform(np.concatenate([dfc[['x1', 'x2', 'x4']],\n",
    "                                     model.predict({'X_monotonic': dfc[['x1', 'x2']].values,\n",
    "                                                    'X_non_monotonic': dfc[['x3', 'x4']].values})], axis=1))\n",
    "    p = pd.DataFrame(pd.Series(p).describe(percentiles=quantiles)).T\n",
    "    p['x1'] = q\n",
    "    uncertainties.append(p)\n",
    "uncertainties = pd.concat(uncertainties, axis=0)"
   ]
  },
  {
   "cell_type": "code",
   "execution_count": 32,
   "id": "953a79ee",
   "metadata": {},
   "outputs": [
    {
     "data": {
      "image/png": "[encoded data removed]",
      "text/plain": [
       "<Figure size 432x288 with 1 Axes>"
      ]
     },
     "metadata": {
      "needs_background": "light"
     },
     "output_type": "display_data"
    }
   ],
   "source": [
    "uncertainties.plot(x='x1', y=['20%', 'mean', '80%'])\n",
    "plt.show()"
   ]
  },
  {
   "cell_type": "markdown",
   "id": "e5a32a1d",
   "metadata": {},
   "source": [
    "Epistemic uncertainty is high below -1 (where training data starts and is relatively low), decreases between -1 and 0, picks back up between 0 and 0.5, and then decreases between 0.5 and 1.  After 1, it doesn't perform exactly as desired, but is ticking up in some places."
   ]
  }
 ],
 "metadata": {
  "kernelspec": {
   "display_name": "Python 3 (ipykernel)",
   "language": "python",
   "name": "python3"
  },
  "language_info": {
   "codemirror_mode": {
    "name": "ipython",
    "version": 3
   },
   "file_extension": ".py",
   "mimetype": "text/x-python",
   "name": "python",
   "nbconvert_exporter": "python",
   "pygments_lexer": "ipython3",
   "version": "3.8.5"
  }
 },
 "nbformat": 4,
 "nbformat_minor": 5
}
