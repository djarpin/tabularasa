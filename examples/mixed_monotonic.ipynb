{
 "cells": [
  {
   "cell_type": "markdown",
   "id": "e0084b9a",
   "metadata": {},
   "source": [
    "# Mixed Monotonic\n",
    "\n",
    "---\n",
    "\n",
    "---\n",
    "\n",
    "### Overview\n",
    "\n",
    "This notebook trains a similar network to [simple_mlp](./simple_mlp.ipynb), but with a monotonic constraint on just the features `x1` and `x2`.  `x3` continues to enter as an embedding, and `x4` enters the model as a continuous feature without any monotonic constraints.\n",
    "\n",
    "This notebook illustrates the use of Orthonormal Certificates to estimate epistemic uncertainty based on the training data provided to the model.\n",
    "\n",
    "Notice:\n",
    "- We're importing `MixedMonotonicNet()` from `tabularasa`.  This is a predefined network that takes a user-defined network as input, and combines that network's output with montonic features and a special monotonic network to generate predictions.\n",
    "- We're importing `MixedMonotonicRegressor()` from `tabularasa`.  This isn't strictly necessary, and `MixedMonotonicNet()` could be trained with `skorch.NeuralNetRegressor()` (or even the standard PyTorch API).  In fact, `MixedMonotonicRegressor()` is defined to inherit the `skorch.NeuralNet()` class and is very similar to `NeuralNetRegressor()`, with the exception of special arguments needed to generate Orthonormal Certificates.\n",
    "- `OrthonormalCertificatesNet()` and `OrthonormalCertificatesRegressor()` exist are similarly specialized."
   ]
  },
  {
   "cell_type": "code",
   "execution_count": 1,
   "id": "9b03dc32",
   "metadata": {},
   "outputs": [],
   "source": [
    "import pandas as pd\n",
    "import numpy as np\n",
    "import matplotlib.pyplot as plt\n",
    "import torch\n",
    "from torch import nn\n",
    "import torch.nn.functional as F\n",
    "from torch import optim\n",
    "from tabularasa.MixedMonotonic import MixedMonotonicRegressor, MixedMonotonicNet\n",
    "from tabularasa.OrthonormalCertificates import OrthonormalCertificatesRegressor, OrthonormalCertificatesNet"
   ]
  },
  {
   "cell_type": "markdown",
   "id": "463b5bac",
   "metadata": {},
   "source": [
    "---\n",
    "\n",
    "### Load example data\n",
    "\n",
    "If you haven't already, please generate the example dataset using the [example_data](example_data.ipynb) notebook."
   ]
  },
  {
   "cell_type": "code",
   "execution_count": 2,
   "id": "52e29f8c",
   "metadata": {},
   "outputs": [],
   "source": [
    "df = pd.read_pickle('./data/simple_train.pkl')"
   ]
  },
  {
   "cell_type": "markdown",
   "id": "5ac66511",
   "metadata": {},
   "source": [
    "---\n",
    "\n",
    "### Define the user-specified network and model\n",
    "\n",
    "Notice:\n",
    "- Similar to [simple_mlp](simple_mlp.ipynb) we have a small embedding layer and then pass those embeddings as well as `x4` through a linear layer with ReLU activation.  Theoretically, this network could be much deeper and more complex, but for speed of training, we'll keep it simple.\n",
    "- `x1` and `x2` are monotonically constrained, so are not sent through `EmbeddingNet()`.\n",
    "- The `.forward()` method requires exactly one input that must be named `X_non_monotonic`.  This requires the suboptimal step of parsing the features by column index and converting types.  Note that the `TabulaRasaRegressor()`, show in [tabula_rasa](./tabula_rasa.ipynb), handles this for you."
   ]
  },
  {
   "cell_type": "code",
   "execution_count": 3,
   "id": "94d83c10",
   "metadata": {},
   "outputs": [],
   "source": [
    "class EmbeddingNet(nn.Module):\n",
    "    def __init__(self):\n",
    "        super().__init__()\n",
    "        self.emb1 = nn.Embedding(50, 16)\n",
    "        self.fc1 = nn.Linear(1 + 16, 16)\n",
    "    \n",
    "    def forward(self, X_non_monotonic):\n",
    "        X = torch.cat([X_non_monotonic[:, 1, None].float(), \n",
    "                       self.emb1(X_non_monotonic[:, 0, None].long()).squeeze()], 1)\n",
    "        return F.relu(self.fc1(X))"
   ]
  },
  {
   "cell_type": "markdown",
   "id": "3e4cd3c9",
   "metadata": {},
   "source": [
    "When initializing `MixedMonotonicRegressor()`, we need to pass several specific arguments to the module `MixedMonotonicNet()`, this is done in skorch using the prefix `module__`:\n",
    "- `non_monotonic_net`: passes in the simple embedding network defined above, which handles the non-monotonically constrained features we'd like to train on.\n",
    "  - The library doesn't currently support models with no non-monotonic features.  An alternative would be to create a non-monotonic network whose `.forward()` pass directly sends its input as output, and then define a single feature of all 0s to be the only non-monotonic input.\n",
    "- `dim_non_monotonic`: is the output dimension from `non_monotonic_net`.\n",
    "- `dim_monotonic`: is the number of features we'd like to monotonically constrain on.  In this case `x1` and `x2`.\n",
    "  - Note, by default, that features are constrained to have a monotonically _increasing_ relationship with the target variable.  For monotonically _decreasing_ relationships you'll need to multiply the feature by -1.\n",
    "- `layers`: is a list with the number of nodes in each hidden layer of the monotonic neural network.\n",
    "- `integration_steps`: is an optional tuning parameter for the montonic network.  See [Wehenkel and Louppe (2019)](https://arxiv.org/pdf/1908.05164.pdf) for more details."
   ]
  },
  {
   "cell_type": "code",
   "execution_count": 4,
   "id": "3afde292",
   "metadata": {},
   "outputs": [],
   "source": [
    "model = MixedMonotonicRegressor(MixedMonotonicNet,\n",
    "                                max_epochs=100,\n",
    "                                lr=0.005,\n",
    "                                optimizer=torch.optim.Adam,\n",
    "                                iterator_train__shuffle=True,\n",
    "                                module__non_monotonic_net=EmbeddingNet(),\n",
    "                                module__dim_non_monotonic=16,\n",
    "                                module__dim_monotonic=2,\n",
    "                                module__layers=[128, 128, 32],\n",
    "                                module__integration_steps=300)"
   ]
  },
  {
   "cell_type": "markdown",
   "id": "b1f8f1fb",
   "metadata": {},
   "source": [
    "The `.forward()` pass of `MixedMonotonicNet()` takes in exactly two arguments `X_monotonic` and `X_non_monotonic`.  We specify them as `dict` keys with numpy arrays as values."
   ]
  },
  {
   "cell_type": "code",
   "execution_count": 5,
   "id": "aae484d7",
   "metadata": {
    "scrolled": true
   },
   "outputs": [
    {
     "name": "stdout",
     "output_type": "stream",
     "text": [
      "  epoch    train_loss    valid_loss      dur\n",
      "-------  ------------  ------------  -------\n",
      "      1        \u001b[36m0.9056\u001b[0m        \u001b[32m0.4382\u001b[0m  13.3817\n",
      "      2        \u001b[36m0.3472\u001b[0m        \u001b[32m0.4227\u001b[0m  12.7113\n",
      "      3        \u001b[36m0.3297\u001b[0m        \u001b[32m0.3703\u001b[0m  12.7761\n",
      "      4        \u001b[36m0.3046\u001b[0m        \u001b[32m0.3529\u001b[0m  12.4777\n",
      "      5        \u001b[36m0.2856\u001b[0m        \u001b[32m0.3239\u001b[0m  12.8205\n",
      "      6        \u001b[36m0.2694\u001b[0m        \u001b[32m0.3044\u001b[0m  12.7401\n",
      "      7        \u001b[36m0.2420\u001b[0m        \u001b[32m0.2679\u001b[0m  12.9352\n",
      "      8        \u001b[36m0.1981\u001b[0m        \u001b[32m0.2117\u001b[0m  12.9445\n",
      "      9        \u001b[36m0.1454\u001b[0m        \u001b[32m0.1533\u001b[0m  12.3733\n",
      "     10        \u001b[36m0.1068\u001b[0m        \u001b[32m0.1216\u001b[0m  12.6098\n",
      "     11        \u001b[36m0.0997\u001b[0m        0.1308  13.1193\n",
      "     12        \u001b[36m0.0780\u001b[0m        \u001b[32m0.0899\u001b[0m  12.5158\n",
      "     13        \u001b[36m0.0727\u001b[0m        0.1095  12.2664\n",
      "     14        \u001b[36m0.0727\u001b[0m        0.1004  12.7092\n",
      "     15        \u001b[36m0.0666\u001b[0m        \u001b[32m0.0808\u001b[0m  12.5589\n",
      "     16        \u001b[36m0.0627\u001b[0m        0.0908  12.7204\n",
      "     17        \u001b[36m0.0596\u001b[0m        0.0885  12.9945\n",
      "     18        \u001b[36m0.0590\u001b[0m        0.0876  12.8043\n",
      "     19        0.0594        0.0895  13.0524\n",
      "     20        \u001b[36m0.0582\u001b[0m        0.0850  12.8011\n",
      "     21        \u001b[36m0.0569\u001b[0m        0.0865  12.9094\n",
      "     22        0.0573        0.0859  13.0319\n",
      "     23        0.0571        0.0851  12.4115\n",
      "     24        \u001b[36m0.0565\u001b[0m        0.0899  12.9933\n",
      "     25        \u001b[36m0.0556\u001b[0m        0.0840  12.8981\n",
      "     26        0.0557        0.0847  12.7330\n",
      "     27        0.0559        0.0842  12.2699\n"
     ]
    },
    {
     "data": {
      "text/plain": [
       "<class 'tabularasa.MixedMonotonic.MixedMonotonicRegressor'>[initialized](\n",
       "  module_=MixedMonotonicNet(\n",
       "    (non_monotonic_net): EmbeddingNet(\n",
       "      (emb1): Embedding(50, 16)\n",
       "      (fc1): Linear(in_features=17, out_features=16, bias=True)\n",
       "    )\n",
       "    (monotonic_net): SlowDMonotonicNN(\n",
       "      (outer_net): MonotonicNN(\n",
       "        (integrand): IntegrandNN(\n",
       "          (inner_net): Sequential(\n",
       "            (0): Linear(in_features=17, out_features=128, bias=True)\n",
       "            (1): ReLU()\n",
       "            (2): Linear(in_features=128, out_features=128, bias=True)\n",
       "            (3): ReLU()\n",
       "            (4): Linear(in_features=128, out_features=32, bias=True)\n",
       "            (5): ReLU()\n",
       "          )\n",
       "          (net): Sequential(\n",
       "            (0): Linear(in_features=17, out_features=128, bias=True)\n",
       "            (1): ReLU()\n",
       "            (2): Linear(in_features=128, out_features=128, bias=True)\n",
       "            (3): ReLU()\n",
       "            (4): Linear(in_features=128, out_features=32, bias=True)\n",
       "            (5): ReLU()\n",
       "            (6): Linear(in_features=32, out_features=1, bias=True)\n",
       "            (7): ELU(alpha=1.0)\n",
       "          )\n",
       "        )\n",
       "        (net): Sequential(\n",
       "          (0): Linear(in_features=16, out_features=128, bias=True)\n",
       "          (1): ReLU()\n",
       "          (2): Linear(in_features=128, out_features=128, bias=True)\n",
       "          (3): ReLU()\n",
       "          (4): Linear(in_features=128, out_features=32, bias=True)\n",
       "          (5): ReLU()\n",
       "          (6): Linear(in_features=32, out_features=2, bias=True)\n",
       "        )\n",
       "      )\n",
       "    )\n",
       "  ),\n",
       ")"
      ]
     },
     "execution_count": 5,
     "metadata": {},
     "output_type": "execute_result"
    }
   ],
   "source": [
    "model.fit({'X_monotonic': df[['x1', 'x2']].values,\n",
    "           'X_non_monotonic': df[['x3', 'x4']].values},\n",
    "          df[['y']].values)"
   ]
  },
  {
   "cell_type": "markdown",
   "id": "b8dac7d0",
   "metadata": {},
   "source": [
    "We'll create a partial dependence plot to visualize how the monotonic network constrained our relationship between `x1` and `y`."
   ]
  },
  {
   "cell_type": "code",
   "execution_count": 6,
   "id": "3fad5760",
   "metadata": {},
   "outputs": [],
   "source": [
    "quantiles = [0.01, 0.05, 0.1, 0.2, 0.3, 0.4, 0.6, 0.7, 0.8, 0.9, 0.95, 0.99]"
   ]
  },
  {
   "cell_type": "code",
   "execution_count": 7,
   "id": "48020146",
   "metadata": {},
   "outputs": [],
   "source": [
    "results = []\n",
    "for q in np.quantile(df['x1'], quantiles):\n",
    "    dfc = df.copy()\n",
    "    dfc['x1'] = q\n",
    "    dfc['x1'] = dfc['x1'].astype('float32')\n",
    "    p = model.predict({'X_monotonic': dfc[['x1', 'x2']].values,\n",
    "                       'X_non_monotonic': dfc[['x3', 'x4']].values})\n",
    "    p = pd.DataFrame(pd.Series(p[:, 0]).describe(percentiles=quantiles)).T\n",
    "    p['x1'] = q\n",
    "    results.append(p)\n",
    "results = pd.concat(results, axis=0)"
   ]
  },
  {
   "cell_type": "markdown",
   "id": "8dae7577",
   "metadata": {},
   "source": [
    "We can see below that, unlike with the simple MLP network, we have a monotonically increasing relationship between `x1` and `y`."
   ]
  },
  {
   "cell_type": "code",
   "execution_count": 8,
   "id": "b5b445dd",
   "metadata": {},
   "outputs": [
    {
     "data": {
      "image/png": "[encoded data removed]",
      "text/plain": [
       "<Figure size 432x288 with 1 Axes>"
      ]
     },
     "metadata": {
      "needs_background": "light"
     },
     "output_type": "display_data"
    }
   ],
   "source": [
    "results.plot(x='x1', y=['20%', 'mean', '80%'])\n",
    "plt.show()"
   ]
  },
  {
   "cell_type": "markdown",
   "id": "4e17aff3",
   "metadata": {},
   "source": [
    "---\n",
    "\n",
    "### Epistemic uncertainty\n",
    "\n",
    "Orthornormal certificates train a set of linear functions designed to map training examples to a value of 0, and other data points to a value greater than zero.  The input to the orthonormal certificates is typically the output of the last hidden layer of the trained network, which is treated as a deep featurization of the orignal input.\n",
    "\n",
    "In some preliminary experiments, passing the initial, untransformed data as well provided better results.  Here, we'll concatenate the continuous features, with the output from the last hidden layer of our monotonic neural network as input to train the orthonormal certificates.\n",
    "\n",
    "Note, `MixedMonotonicNet()` has an argument `last_hidden_layer` that can be passed to `MixedMonotonicRegressor().predict()` specifically for this purpose."
   ]
  },
  {
   "cell_type": "code",
   "execution_count": 9,
   "id": "eb094271",
   "metadata": {},
   "outputs": [],
   "source": [
    "X_hidden = model.predict({'X_monotonic': df[['x1', 'x2']].values,\n",
    "                          'X_non_monotonic': df[['x3', 'x4']].values},\n",
    "                         last_hidden_layer=True)"
   ]
  },
  {
   "cell_type": "markdown",
   "id": "0fc55376",
   "metadata": {},
   "source": [
    "Now we can generate orthonormal certificates.\n",
    "\n",
    "Note, `OrthonormalCertificatesNet()` is very simple, so a large number of epochs can be specified without lengthy training time.  Specific arguments include:\n",
    "- `dim_input`: Which is the size of the last layer in our `MixedMonotonicNet()` `layers` argument, plus any additional features we'd like to input (in this case the raw values for 3 continuous features `x1`, `x2`, and `x3`).\n",
    "- `dim_certificates`: The number of linear functions to use.  If this number is too small, we won't be able to well represent a complex dataset.  Too large and our orthonormal certificates network will be unwieldy and more difficult to train."
   ]
  },
  {
   "cell_type": "code",
   "execution_count": 10,
   "id": "3dc601d8",
   "metadata": {},
   "outputs": [],
   "source": [
    "ocr = OrthonormalCertificatesRegressor(OrthonormalCertificatesNet,\n",
    "                                       max_epochs=150,\n",
    "                                       lr=0.01,\n",
    "                                       optimizer=torch.optim.Adam,\n",
    "                                       iterator_train__shuffle=True,\n",
    "                                       module__dim_input=32 + 3,\n",
    "                                       module__dim_certificates=64)"
   ]
  },
  {
   "cell_type": "code",
   "execution_count": 11,
   "id": "85c10721",
   "metadata": {
    "scrolled": true
   },
   "outputs": [
    {
     "name": "stdout",
     "output_type": "stream",
     "text": [
      "  epoch    train_loss    valid_loss     dur\n",
      "-------  ------------  ------------  ------\n",
      "      1        \u001b[36m5.5880\u001b[0m        \u001b[32m2.4168\u001b[0m  0.0430\n",
      "      2        \u001b[36m1.6026\u001b[0m        \u001b[32m0.8636\u001b[0m  0.0444\n",
      "      3        \u001b[36m0.5410\u001b[0m        \u001b[32m0.3657\u001b[0m  0.0539\n",
      "      4        \u001b[36m0.2743\u001b[0m        \u001b[32m0.1181\u001b[0m  0.0431\n",
      "      5        \u001b[36m0.1206\u001b[0m        \u001b[32m0.0670\u001b[0m  0.0433\n",
      "      6        \u001b[36m0.0596\u001b[0m        \u001b[32m0.0453\u001b[0m  0.0441\n",
      "      7        \u001b[36m0.0371\u001b[0m        \u001b[32m0.0316\u001b[0m  0.0492\n",
      "      8        \u001b[36m0.0276\u001b[0m        \u001b[32m0.0255\u001b[0m  0.0418\n",
      "      9        \u001b[36m0.0230\u001b[0m        \u001b[32m0.0234\u001b[0m  0.0455\n",
      "     10        \u001b[36m0.0208\u001b[0m        \u001b[32m0.0223\u001b[0m  0.0494\n",
      "     11        \u001b[36m0.0195\u001b[0m        \u001b[32m0.0210\u001b[0m  0.0435\n",
      "     12        \u001b[36m0.0187\u001b[0m        \u001b[32m0.0202\u001b[0m  0.0469\n",
      "     13        \u001b[36m0.0181\u001b[0m        \u001b[32m0.0196\u001b[0m  0.0442\n",
      "     14        \u001b[36m0.0176\u001b[0m        \u001b[32m0.0189\u001b[0m  0.0448\n",
      "     15        \u001b[36m0.0170\u001b[0m        \u001b[32m0.0183\u001b[0m  0.0452\n",
      "     16        \u001b[36m0.0165\u001b[0m        \u001b[32m0.0179\u001b[0m  0.0459\n",
      "     17        \u001b[36m0.0161\u001b[0m        \u001b[32m0.0173\u001b[0m  0.0437\n",
      "     18        \u001b[36m0.0157\u001b[0m        \u001b[32m0.0168\u001b[0m  0.0489\n",
      "     19        \u001b[36m0.0154\u001b[0m        \u001b[32m0.0164\u001b[0m  0.0459\n",
      "     20        \u001b[36m0.0150\u001b[0m        \u001b[32m0.0160\u001b[0m  0.0524\n",
      "     21        \u001b[36m0.0146\u001b[0m        \u001b[32m0.0156\u001b[0m  0.0502\n",
      "     22        \u001b[36m0.0143\u001b[0m        \u001b[32m0.0152\u001b[0m  0.0423\n",
      "     23        \u001b[36m0.0141\u001b[0m        \u001b[32m0.0149\u001b[0m  0.0402\n",
      "     24        \u001b[36m0.0138\u001b[0m        \u001b[32m0.0145\u001b[0m  0.0438\n",
      "     25        \u001b[36m0.0135\u001b[0m        \u001b[32m0.0143\u001b[0m  0.0393\n",
      "     26        \u001b[36m0.0133\u001b[0m        \u001b[32m0.0140\u001b[0m  0.0443\n",
      "     27        \u001b[36m0.0131\u001b[0m        \u001b[32m0.0137\u001b[0m  0.0411\n",
      "     28        \u001b[36m0.0129\u001b[0m        \u001b[32m0.0135\u001b[0m  0.0472\n",
      "     29        \u001b[36m0.0127\u001b[0m        \u001b[32m0.0133\u001b[0m  0.0402\n",
      "     30        \u001b[36m0.0125\u001b[0m        \u001b[32m0.0131\u001b[0m  0.0445\n",
      "     31        \u001b[36m0.0123\u001b[0m        \u001b[32m0.0129\u001b[0m  0.0434\n",
      "     32        \u001b[36m0.0122\u001b[0m        \u001b[32m0.0127\u001b[0m  0.0408\n",
      "     33        \u001b[36m0.0120\u001b[0m        \u001b[32m0.0125\u001b[0m  0.0455\n",
      "     34        \u001b[36m0.0119\u001b[0m        \u001b[32m0.0123\u001b[0m  0.0400\n",
      "     35        \u001b[36m0.0118\u001b[0m        \u001b[32m0.0122\u001b[0m  0.0464\n",
      "     36        \u001b[36m0.0116\u001b[0m        \u001b[32m0.0120\u001b[0m  0.0482\n",
      "     37        \u001b[36m0.0115\u001b[0m        \u001b[32m0.0119\u001b[0m  0.0434\n",
      "     38        \u001b[36m0.0114\u001b[0m        \u001b[32m0.0118\u001b[0m  0.0406\n",
      "     39        \u001b[36m0.0113\u001b[0m        \u001b[32m0.0117\u001b[0m  0.0418\n",
      "     40        \u001b[36m0.0112\u001b[0m        \u001b[32m0.0115\u001b[0m  0.0404\n",
      "     41        \u001b[36m0.0111\u001b[0m        \u001b[32m0.0114\u001b[0m  0.0472\n",
      "     42        \u001b[36m0.0111\u001b[0m        \u001b[32m0.0113\u001b[0m  0.0410\n",
      "     43        \u001b[36m0.0110\u001b[0m        \u001b[32m0.0112\u001b[0m  0.0414\n",
      "     44        \u001b[36m0.0109\u001b[0m        \u001b[32m0.0112\u001b[0m  0.0457\n",
      "     45        \u001b[36m0.0108\u001b[0m        \u001b[32m0.0111\u001b[0m  0.0466\n",
      "     46        \u001b[36m0.0108\u001b[0m        \u001b[32m0.0110\u001b[0m  0.0484\n",
      "     47        \u001b[36m0.0107\u001b[0m        \u001b[32m0.0109\u001b[0m  0.0451\n",
      "     48        \u001b[36m0.0106\u001b[0m        \u001b[32m0.0108\u001b[0m  0.0392\n",
      "     49        \u001b[36m0.0106\u001b[0m        \u001b[32m0.0108\u001b[0m  0.0420\n",
      "     50        \u001b[36m0.0105\u001b[0m        \u001b[32m0.0107\u001b[0m  0.0451\n",
      "     51        \u001b[36m0.0105\u001b[0m        \u001b[32m0.0106\u001b[0m  0.0489\n",
      "     52        \u001b[36m0.0104\u001b[0m        \u001b[32m0.0106\u001b[0m  0.0462\n",
      "     53        \u001b[36m0.0104\u001b[0m        \u001b[32m0.0105\u001b[0m  0.0399\n",
      "     54        \u001b[36m0.0103\u001b[0m        \u001b[32m0.0105\u001b[0m  0.0414\n",
      "     55        \u001b[36m0.0103\u001b[0m        \u001b[32m0.0104\u001b[0m  0.0406\n",
      "     56        \u001b[36m0.0102\u001b[0m        \u001b[32m0.0104\u001b[0m  0.0465\n",
      "     57        \u001b[36m0.0102\u001b[0m        \u001b[32m0.0103\u001b[0m  0.0521\n",
      "     58        \u001b[36m0.0102\u001b[0m        \u001b[32m0.0103\u001b[0m  0.0425\n",
      "     59        \u001b[36m0.0101\u001b[0m        \u001b[32m0.0103\u001b[0m  0.0409\n",
      "     60        \u001b[36m0.0101\u001b[0m        \u001b[32m0.0102\u001b[0m  0.0420\n",
      "     61        \u001b[36m0.0100\u001b[0m        \u001b[32m0.0102\u001b[0m  0.0464\n",
      "     62        \u001b[36m0.0100\u001b[0m        \u001b[32m0.0101\u001b[0m  0.0473\n",
      "     63        \u001b[36m0.0100\u001b[0m        \u001b[32m0.0101\u001b[0m  0.0451\n",
      "     64        \u001b[36m0.0099\u001b[0m        \u001b[32m0.0101\u001b[0m  0.0413\n",
      "     65        \u001b[36m0.0099\u001b[0m        \u001b[32m0.0100\u001b[0m  0.0412\n",
      "     66        \u001b[36m0.0099\u001b[0m        \u001b[32m0.0100\u001b[0m  0.0407\n",
      "     67        \u001b[36m0.0098\u001b[0m        \u001b[32m0.0100\u001b[0m  0.0529\n",
      "     68        \u001b[36m0.0098\u001b[0m        \u001b[32m0.0099\u001b[0m  0.0445\n",
      "     69        \u001b[36m0.0098\u001b[0m        \u001b[32m0.0099\u001b[0m  0.0426\n",
      "     70        \u001b[36m0.0098\u001b[0m        \u001b[32m0.0099\u001b[0m  0.0436\n",
      "     71        \u001b[36m0.0097\u001b[0m        \u001b[32m0.0098\u001b[0m  0.0394\n",
      "     72        \u001b[36m0.0097\u001b[0m        \u001b[32m0.0098\u001b[0m  0.0449\n",
      "     73        \u001b[36m0.0097\u001b[0m        \u001b[32m0.0098\u001b[0m  0.0427\n",
      "     74        \u001b[36m0.0097\u001b[0m        \u001b[32m0.0098\u001b[0m  0.0422\n",
      "     75        \u001b[36m0.0096\u001b[0m        \u001b[32m0.0098\u001b[0m  0.0426\n",
      "     76        \u001b[36m0.0096\u001b[0m        \u001b[32m0.0098\u001b[0m  0.0408\n",
      "     77        \u001b[36m0.0096\u001b[0m        \u001b[32m0.0097\u001b[0m  0.0405\n",
      "     78        \u001b[36m0.0096\u001b[0m        \u001b[32m0.0097\u001b[0m  0.0484\n",
      "     79        \u001b[36m0.0095\u001b[0m        \u001b[32m0.0096\u001b[0m  0.0411\n",
      "     80        \u001b[36m0.0095\u001b[0m        \u001b[32m0.0096\u001b[0m  0.0420\n",
      "     81        \u001b[36m0.0095\u001b[0m        \u001b[32m0.0096\u001b[0m  0.0397\n",
      "     82        \u001b[36m0.0095\u001b[0m        \u001b[32m0.0096\u001b[0m  0.0401\n",
      "     83        \u001b[36m0.0095\u001b[0m        \u001b[32m0.0096\u001b[0m  0.0471\n",
      "     84        \u001b[36m0.0095\u001b[0m        \u001b[32m0.0096\u001b[0m  0.0472\n",
      "     85        \u001b[36m0.0095\u001b[0m        \u001b[32m0.0095\u001b[0m  0.0398\n",
      "     86        \u001b[36m0.0094\u001b[0m        \u001b[32m0.0095\u001b[0m  0.0418\n",
      "     87        \u001b[36m0.0094\u001b[0m        \u001b[32m0.0095\u001b[0m  0.0424\n",
      "     88        \u001b[36m0.0094\u001b[0m        \u001b[32m0.0095\u001b[0m  0.0413\n",
      "     89        \u001b[36m0.0094\u001b[0m        \u001b[32m0.0095\u001b[0m  0.0491\n",
      "     90        \u001b[36m0.0094\u001b[0m        \u001b[32m0.0095\u001b[0m  0.0413\n",
      "     91        \u001b[36m0.0093\u001b[0m        \u001b[32m0.0094\u001b[0m  0.0441\n",
      "     92        \u001b[36m0.0093\u001b[0m        \u001b[32m0.0094\u001b[0m  0.0472\n",
      "     93        \u001b[36m0.0093\u001b[0m        \u001b[32m0.0094\u001b[0m  0.0458\n",
      "     94        \u001b[36m0.0093\u001b[0m        0.0094  0.0396\n",
      "     95        0.0093        0.0095  0.0481\n",
      "     96        0.0094        0.0097  0.0416\n",
      "     97        0.0094        \u001b[32m0.0094\u001b[0m  0.0514\n",
      "     98        0.0094        0.0094  0.0417\n",
      "     99        \u001b[36m0.0093\u001b[0m        \u001b[32m0.0094\u001b[0m  0.0426\n",
      "    100        \u001b[36m0.0093\u001b[0m        0.0094  0.0454\n",
      "    101        0.0093        \u001b[32m0.0093\u001b[0m  0.0421\n",
      "    102        0.0093        0.0094  0.0421\n",
      "    103        0.0093        0.0093  0.0416\n",
      "    104        \u001b[36m0.0092\u001b[0m        \u001b[32m0.0093\u001b[0m  0.0528\n",
      "    105        \u001b[36m0.0092\u001b[0m        \u001b[32m0.0093\u001b[0m  0.0537\n",
      "    106        \u001b[36m0.0092\u001b[0m        \u001b[32m0.0093\u001b[0m  0.0470\n",
      "    107        \u001b[36m0.0092\u001b[0m        0.0093  0.0414\n",
      "    108        \u001b[36m0.0092\u001b[0m        0.0093  0.0593\n",
      "    109        0.0092        0.0093  0.0530\n",
      "    110        \u001b[36m0.0092\u001b[0m        \u001b[32m0.0093\u001b[0m  0.0476\n",
      "    111        0.0092        \u001b[32m0.0093\u001b[0m  0.0425\n",
      "    112        \u001b[36m0.0092\u001b[0m        \u001b[32m0.0092\u001b[0m  0.0398\n",
      "    113        \u001b[36m0.0092\u001b[0m        0.0093  0.0406\n",
      "    114        \u001b[36m0.0092\u001b[0m        \u001b[32m0.0092\u001b[0m  0.0405\n",
      "    115        \u001b[36m0.0091\u001b[0m        \u001b[32m0.0092\u001b[0m  0.0459\n",
      "    116        0.0091        0.0094  0.0469\n",
      "    117        0.0092        0.0094  0.0419\n",
      "    118        0.0092        0.0093  0.0412\n",
      "    119        0.0092        0.0093  0.0434\n",
      "    120        0.0091        0.0092  0.0421\n",
      "    121        \u001b[36m0.0091\u001b[0m        \u001b[32m0.0092\u001b[0m  0.0422\n",
      "    122        \u001b[36m0.0091\u001b[0m        0.0092  0.0446\n",
      "    123        0.0091        0.0092  0.0485\n",
      "    124        \u001b[36m0.0091\u001b[0m        0.0093  0.0478\n",
      "    125        0.0091        0.0092  0.0500\n",
      "    126        \u001b[36m0.0091\u001b[0m        \u001b[32m0.0092\u001b[0m  0.0485\n",
      "    127        \u001b[36m0.0091\u001b[0m        0.0092  0.0475\n",
      "    128        0.0091        0.0093  0.0438\n",
      "    129        0.0092        \u001b[32m0.0092\u001b[0m  0.0407\n",
      "    130        0.0091        0.0093  0.0530\n",
      "    131        0.0092        0.0099  0.0424\n",
      "    132        0.0094        0.0100  0.0431\n",
      "    133        0.0097        0.0096  0.0504\n",
      "    134        0.0093        0.0097  0.0421\n",
      "    135        0.0092        0.0092  0.0412\n",
      "    136        0.0091        0.0092  0.0469\n",
      "    137        \u001b[36m0.0091\u001b[0m        \u001b[32m0.0091\u001b[0m  0.0406\n",
      "    138        \u001b[36m0.0091\u001b[0m        0.0094  0.0485\n",
      "    139        0.0091        \u001b[32m0.0091\u001b[0m  0.0417\n"
     ]
    },
    {
     "name": "stdout",
     "output_type": "stream",
     "text": [
      "    140        0.0092        0.0092  0.0452\n",
      "    141        0.0092        0.0101  0.0430\n",
      "    142        0.0094        0.0094  0.0395\n",
      "    143        0.0094        0.0103  0.0397\n",
      "    144        0.0096        0.0103  0.0434\n",
      "    145        0.0094        0.0091  0.0425\n",
      "    146        0.0091        0.0092  0.0472\n",
      "    147        0.0091        0.0092  0.0423\n",
      "    148        0.0091        0.0092  0.0416\n",
      "    149        0.0091        0.0091  0.0430\n",
      "    150        \u001b[36m0.0091\u001b[0m        0.0092  0.0418\n"
     ]
    },
    {
     "data": {
      "text/plain": [
       "<class 'tabularasa.OrthonormalCertificates.OrthonormalCertificatesRegressor'>[initialized](\n",
       "  module_=OrthonormalCertificatesNet(\n",
       "    (certificates): Linear(in_features=35, out_features=64, bias=True)\n",
       "  ),\n",
       ")"
      ]
     },
     "execution_count": 11,
     "metadata": {},
     "output_type": "execute_result"
    }
   ],
   "source": [
    "ocr.fit(np.concatenate([df[['x1', 'x2', 'x4']].values, X_hidden], axis=1))"
   ]
  },
  {
   "cell_type": "markdown",
   "id": "48e0f558",
   "metadata": {},
   "source": [
    "We'll create another partial dependence-like plot, except with the uncertainty estimates from our orthonormal certificates model.\n",
    "\n",
    "Note, that we include `x1` values outside of the initially defined range to see whether our estimate of uncertainty increases in those areas (as we would expect)."
   ]
  },
  {
   "cell_type": "code",
   "execution_count": 12,
   "id": "ee071b20",
   "metadata": {},
   "outputs": [],
   "source": [
    "uncertainties = []\n",
    "for q in np.linspace(-1.5, 1.5, 101):\n",
    "    dfc = df.copy()\n",
    "    dfc['x1'] = q\n",
    "    dfc['x1'] = dfc['x1'].astype('float32')\n",
    "    p = ocr.predict(np.concatenate([dfc[['x1', 'x2', 'x4']],\n",
    "                                    model.predict({'X_monotonic': dfc[['x1', 'x2']].values,\n",
    "                                                   'X_non_monotonic': dfc[['x3', 'x4']].values},\n",
    "                                                  last_hidden_layer=True)], axis=1))\n",
    "    p = pd.DataFrame(pd.Series(p).describe(percentiles=quantiles)).T\n",
    "    p['x1'] = q\n",
    "    uncertainties.append(p)\n",
    "uncertainties = pd.concat(uncertainties, axis=0)"
   ]
  },
  {
   "cell_type": "markdown",
   "id": "7adb7102",
   "metadata": {},
   "source": [
    "Notice below that:\n",
    "- Uncertainty is high when `x1` is below -1 and above 1.  This is what we'd expect given that none the training data has values outside of this range.\n",
    "- Uncertainty is also moderately high when `x1` is between 0 and 0.5 where data was deliberately exclued."
   ]
  },
  {
   "cell_type": "code",
   "execution_count": 13,
   "id": "953a79ee",
   "metadata": {},
   "outputs": [
    {
     "data": {
      "image/png": "[encoded data removed]",
      "text/plain": [
       "<Figure size 432x288 with 1 Axes>"
      ]
     },
     "metadata": {
      "needs_background": "light"
     },
     "output_type": "display_data"
    }
   ],
   "source": [
    "uncertainties.plot(x='x1', y=['20%', 'mean', '80%'])\n",
    "plt.show()"
   ]
  },
  {
   "cell_type": "markdown",
   "id": "7c36ffd9",
   "metadata": {},
   "source": [
    "The raw values output by our orthonormal certificates can have varying magnitude.  How high does an uncertainty value need to be before we need to be concerned about model reliability?\n",
    "\n",
    "`OrthonormalCertificatesRegressor()` includes two additional methods to help with this.  Both use the validation data skorch automatically creates during training to approximate what in-sample, but data that's still different from the training set, looks like.\n",
    "- `percentile_predict()`: returns the percentile (an integer from 0 to 100) that the input records uncertainty value maps to.\n",
    "- `scaled_predict()`: returns a positive float, where uncertainty is divided by the maximum uncertainty seen in the validation dataset.  i.e. values > 1 are more uncertain than every record in the validation dataset."
   ]
  },
  {
   "cell_type": "code",
   "execution_count": 14,
   "id": "c6bf9aaa",
   "metadata": {},
   "outputs": [],
   "source": [
    "uncertainties = []\n",
    "for q in np.linspace(-1.5, 1.5, 101):\n",
    "    dfc = df.copy()\n",
    "    dfc['x1'] = q\n",
    "    dfc['x1'] = dfc['x1'].astype('float32')\n",
    "    p = ocr.scaled_predict(np.concatenate([dfc[['x1', 'x2', 'x4']],\n",
    "                                           model.predict({'X_monotonic': dfc[['x1', 'x2']].values,\n",
    "                                                          'X_non_monotonic': dfc[['x3', 'x4']].values},\n",
    "                                                         last_hidden_layer=True)], axis=1))\n",
    "    p = pd.DataFrame(pd.Series(p).describe(percentiles=quantiles)).T\n",
    "    p['x1'] = q\n",
    "    uncertainties.append(p)\n",
    "uncertainties = pd.concat(uncertainties, axis=0)"
   ]
  },
  {
   "cell_type": "markdown",
   "id": "da259c73",
   "metadata": {},
   "source": [
    "Scaling the results of the plot above provides more context to our previous interpretations about uncertainty."
   ]
  },
  {
   "cell_type": "code",
   "execution_count": 15,
   "id": "0ee8bb3c",
   "metadata": {},
   "outputs": [
    {
     "data": {
      "image/png": "[encoded data removed]",
      "text/plain": [
       "<Figure size 432x288 with 1 Axes>"
      ]
     },
     "metadata": {
      "needs_background": "light"
     },
     "output_type": "display_data"
    }
   ],
   "source": [
    "uncertainties.plot(x='x1', y=['20%', 'mean', '80%'])\n",
    "plt.show()"
   ]
  },
  {
   "cell_type": "markdown",
   "id": "6a5671e8",
   "metadata": {},
   "source": [
    "To review estimates for aleatoric uncertainty, see the [simultaneous_quantiles](./simultaneous_quantiles.ipynb) example, or jump straight to the [tabula_rasa](./tabula_rasa.ipynb) example to see everything brought together."
   ]
  }
 ],
 "metadata": {
  "kernelspec": {
   "display_name": "Python 3 (ipykernel)",
   "language": "python",
   "name": "python3"
  },
  "language_info": {
   "codemirror_mode": {
    "name": "ipython",
    "version": 3
   },
   "file_extension": ".py",
   "mimetype": "text/x-python",
   "name": "python",
   "nbconvert_exporter": "python",
   "pygments_lexer": "ipython3",
   "version": "3.9.12"
  }
 },
 "nbformat": 4,
 "nbformat_minor": 5
}
