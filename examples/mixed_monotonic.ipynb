{
 "cells": [
  {
   "cell_type": "markdown",
   "id": "e0084b9a",
   "metadata": {},
   "source": [
    "# Mixed Monotonic\n",
    "\n",
    "---\n",
    "\n",
    "---\n",
    "\n",
    "### Overview\n",
    "\n",
    "This notebook trains a similar network to [simple_mlp](./simple_mlp.ipynb), but with a monotonic constraint on just the features `x1` and `x2`.  `x3` continues to enter as an embedding, and `x4` enters the model as a continuous feature without any monotonic constraints.\n",
    "\n",
    "This notebook illustrates the use of Orthonormal Certificates to estimate epistemic uncertainty based on the training data provided to the model.\n",
    "\n",
    "Notice:\n",
    "- We're importing `MixedMonotonicNet()` from `tabularasa`.  This is a predefined network that takes a user-defined network as input, and combines that network's output with montonic features and a special monotonic network to generate predictions.\n",
    "- We're importing `MixedMonotonicRegressor()` from `tabularasa`.  This isn't strictly necessary, and `MixedMonotonicNet()` could be trained with `skorch.NeuralNetRegressor()` (or even the standard PyTorch API).  In fact, `MixedMonotonicRegressor()` is defined to inherit the `skorch.NeuralNet()` class and is very similar to `NeuralNetRegressor()`, with the exception of special arguments needed to generate Orthonormal Certificates.\n",
    "- `OrthonormalCertificatesNet()` and `OrthonormalCertificatesRegressor()` exist are similarly specialized."
   ]
  },
  {
   "cell_type": "code",
   "execution_count": 1,
   "id": "9b03dc32",
   "metadata": {},
   "outputs": [],
   "source": [
    "import pandas as pd\n",
    "import numpy as np\n",
    "import matplotlib.pyplot as plt\n",
    "import torch\n",
    "from torch import nn\n",
    "import torch.nn.functional as F\n",
    "from torch import optim\n",
    "from tabularasa.MixedMonotonic import MixedMonotonicRegressor, MixedMonotonicNet\n",
    "from tabularasa.OrthonormalCertificates import OrthonormalCertificatesRegressor, OrthonormalCertificatesNet"
   ]
  },
  {
   "cell_type": "markdown",
   "id": "463b5bac",
   "metadata": {},
   "source": [
    "---\n",
    "\n",
    "### Load example data\n",
    "\n",
    "If you haven't already, please generate the example dataset using the [example_data](example_data.ipynb) notebook."
   ]
  },
  {
   "cell_type": "code",
   "execution_count": 2,
   "id": "52e29f8c",
   "metadata": {},
   "outputs": [],
   "source": [
    "df = pd.read_pickle('./data/simple_train.pkl')"
   ]
  },
  {
   "cell_type": "markdown",
   "id": "5ac66511",
   "metadata": {},
   "source": [
    "---\n",
    "\n",
    "### Define the user-specified network and model\n",
    "\n",
    "Notice:\n",
    "- Similar to [simple_mlp](simple_mlp.ipynb) we have a small embedding layer and then pass those embeddings as well as `x4` through a linear layer with ReLU activation.  Theoretically, this network could be much deeper and more complex, but for speed of training, we'll keep it simple.\n",
    "- `x1` and `x2` are monotonically constrained, so are not sent through `EmbeddingNet()`.\n",
    "- The `.forward()` method requires exactly one input that must be named `X_non_monotonic`.  This requires the suboptimal step of parsing the features by column index and converting types.  Note that the `TabulaRasaRegressor()`, show in [tabula_rasa](./tabula_rasa.ipynb), handles this for you."
   ]
  },
  {
   "cell_type": "code",
   "execution_count": 3,
   "id": "94d83c10",
   "metadata": {},
   "outputs": [],
   "source": [
    "class EmbeddingNet(nn.Module):\n",
    "    def __init__(self):\n",
    "        super().__init__()\n",
    "        self.emb1 = nn.Embedding(50, 16)\n",
    "        self.fc1 = nn.Linear(1 + 16, 16)\n",
    "    \n",
    "    def forward(self, X_non_monotonic):\n",
    "        X = torch.cat([X_non_monotonic[:, 1, None].float(), \n",
    "                       self.emb1(X_non_monotonic[:, 0, None].long()).squeeze()], 1)\n",
    "        return F.relu(self.fc1(X))"
   ]
  },
  {
   "cell_type": "markdown",
   "id": "3e4cd3c9",
   "metadata": {},
   "source": [
    "When initializing `MixedMonotonicRegressor()`, we need to pass several specific arguments to the module `MixedMonotonicNet()`, this is done in skorch using the prefix `module__`:\n",
    "- `non_monotonic_net`: passes in the simple embedding network defined above, which handles the non-monotonically constrained features we'd like to train on.\n",
    "- `dim_non_monotonic`: is the output dimension from `non_monotonic_net`.\n",
    "- `dim_monotonic`: is the number of features we'd like to monotonically constrain on.  In this case `x1` and `x2`.\n",
    "  - Note, by default, that features are constrained to have a monotonically _increasing_ relationship with the target variable.  For monotonically _decreasing_ relationships you'll need to multiply the feature by -1.\n",
    "- `layers`: is a list with the number of nodes in each hidden layer of the monotonic neural network.\n",
    "- `integration_steps`: is an optional tuning parameter for the montonic network.  See [Wehenkel and Louppe (2019)](https://arxiv.org/pdf/1908.05164.pdf) for more details."
   ]
  },
  {
   "cell_type": "code",
   "execution_count": 4,
   "id": "3afde292",
   "metadata": {},
   "outputs": [],
   "source": [
    "model = MixedMonotonicRegressor(MixedMonotonicNet,\n",
    "                                max_epochs=150,\n",
    "                                lr=0.01,\n",
    "                                optimizer=torch.optim.Adam,\n",
    "                                iterator_train__shuffle=True,\n",
    "                                module__non_monotonic_net=EmbeddingNet(),\n",
    "                                module__dim_non_monotonic=16,\n",
    "                                module__dim_monotonic=2,\n",
    "                                module__layers=[128, 128, 32],\n",
    "                                module__integration_steps=300)"
   ]
  },
  {
   "cell_type": "markdown",
   "id": "b1f8f1fb",
   "metadata": {},
   "source": [
    "The `.forward()` pass of `MixedMonotonicNet()` takes in exactly two arguments `X_monotonic` and `X_non_monotonic`.  We specify them as `dict` keys with numpy arrays as values."
   ]
  },
  {
   "cell_type": "code",
   "execution_count": 5,
   "id": "aae484d7",
   "metadata": {
    "scrolled": false
   },
   "outputs": [
    {
     "name": "stdout",
     "output_type": "stream",
     "text": [
      "  epoch    train_loss    valid_loss     dur\n",
      "-------  ------------  ------------  ------\n",
      "      1        \u001b[36m0.3922\u001b[0m        \u001b[32m0.2925\u001b[0m  7.2739\n",
      "      2        \u001b[36m0.2799\u001b[0m        \u001b[32m0.2446\u001b[0m  7.0592\n",
      "      3        \u001b[36m0.2502\u001b[0m        \u001b[32m0.2218\u001b[0m  7.0918\n",
      "      4        \u001b[36m0.2273\u001b[0m        \u001b[32m0.1939\u001b[0m  7.2452\n",
      "      5        \u001b[36m0.1870\u001b[0m        \u001b[32m0.1278\u001b[0m  7.6253\n",
      "      6        \u001b[36m0.1221\u001b[0m        \u001b[32m0.0920\u001b[0m  7.3433\n",
      "      7        \u001b[36m0.0951\u001b[0m        \u001b[32m0.0820\u001b[0m  7.2264\n",
      "      8        \u001b[36m0.0928\u001b[0m        0.1101  7.2767\n",
      "      9        0.1004        0.0840  7.1941\n",
      "     10        \u001b[36m0.0861\u001b[0m        \u001b[32m0.0783\u001b[0m  6.8272\n",
      "     11        \u001b[36m0.0813\u001b[0m        \u001b[32m0.0721\u001b[0m  7.1144\n",
      "     12        \u001b[36m0.0769\u001b[0m        \u001b[32m0.0702\u001b[0m  6.9597\n",
      "     13        \u001b[36m0.0754\u001b[0m        0.0746  6.9298\n",
      "     14        \u001b[36m0.0747\u001b[0m        0.0769  7.1353\n",
      "     15        0.0749        0.0787  7.1898\n",
      "     16        0.0751        0.0751  7.1455\n",
      "     17        \u001b[36m0.0735\u001b[0m        0.0793  7.0730\n",
      "     18        0.0737        0.0732  6.9010\n",
      "     19        \u001b[36m0.0725\u001b[0m        0.0836  7.6300\n",
      "     20        0.0730        0.0768  8.4363\n",
      "     21        0.0730        0.0806  7.2122\n",
      "     22        0.0728        0.0731  7.4271\n",
      "     23        0.0732        0.0790  7.6384\n",
      "     24        \u001b[36m0.0720\u001b[0m        0.0767  6.9962\n",
      "     25        0.0723        0.0774  6.9258\n",
      "     26        \u001b[36m0.0716\u001b[0m        0.0751  6.8087\n",
      "     27        \u001b[36m0.0710\u001b[0m        0.0787  6.8377\n",
      "     28        \u001b[36m0.0710\u001b[0m        0.0786  6.9690\n",
      "     29        0.0726        0.0762  7.1182\n",
      "     30        \u001b[36m0.0703\u001b[0m        0.0838  6.7512\n",
      "     31        0.0720        0.0845  7.0101\n",
      "     32        0.0710        0.0774  7.0484\n",
      "     33        \u001b[36m0.0699\u001b[0m        0.0809  6.9127\n",
      "     34        \u001b[36m0.0690\u001b[0m        0.0807  7.1062\n",
      "     35        \u001b[36m0.0682\u001b[0m        0.0832  6.8545\n",
      "     36        \u001b[36m0.0679\u001b[0m        0.0794  6.9402\n",
      "     37        0.0681        0.0826  6.7672\n",
      "     38        \u001b[36m0.0678\u001b[0m        0.0882  6.8174\n",
      "     39        \u001b[36m0.0677\u001b[0m        0.0895  6.9002\n",
      "     40        0.0703        0.0845  6.8798\n",
      "     41        \u001b[36m0.0671\u001b[0m        0.0850  6.8987\n",
      "     42        0.0677        0.0986  6.9204\n",
      "     43        0.0671        0.0913  6.7677\n",
      "     44        \u001b[36m0.0667\u001b[0m        0.0925  6.9072\n",
      "     45        \u001b[36m0.0659\u001b[0m        0.0918  6.7478\n",
      "     46        0.0685        0.0960  6.7492\n",
      "     47        \u001b[36m0.0649\u001b[0m        0.0943  6.8250\n",
      "     48        \u001b[36m0.0646\u001b[0m        0.0972  6.7734\n",
      "     49        \u001b[36m0.0635\u001b[0m        0.0892  6.8591\n",
      "     50        \u001b[36m0.0627\u001b[0m        0.0966  6.8576\n",
      "     51        \u001b[36m0.0615\u001b[0m        0.0922  6.9473\n",
      "     52        0.0617        0.0904  6.8534\n",
      "     53        0.0619        0.0903  6.8723\n",
      "     54        0.0629        0.1027  6.9464\n",
      "     55        0.0668        0.1105  6.9905\n",
      "     56        0.0717        0.0950  7.0453\n",
      "     57        0.0655        0.1005  7.1042\n",
      "     58        0.0644        0.0943  7.2022\n",
      "     59        0.0628        0.1039  6.8747\n",
      "     60        0.0637        0.1060  7.0649\n",
      "     61        0.0643        0.0911  7.2260\n",
      "     62        0.0632        0.0983  6.8992\n",
      "     63        0.0641        0.0948  6.7798\n",
      "     64        0.0635        0.0878  7.0002\n",
      "     65        0.0620        0.0880  7.2519\n",
      "     66        \u001b[36m0.0611\u001b[0m        0.0984  7.2156\n",
      "     67        0.0623        0.0904  6.7952\n",
      "     68        0.0611        0.0844  7.0897\n",
      "     69        \u001b[36m0.0591\u001b[0m        0.0923  7.2620\n",
      "     70        0.0604        0.0875  7.1689\n",
      "     71        0.0615        0.0864  6.8901\n",
      "     72        \u001b[36m0.0587\u001b[0m        0.0984  6.9274\n",
      "     73        0.0589        0.0914  7.2109\n",
      "     74        0.0613        0.0870  6.7830\n",
      "     75        0.0595        0.0892  6.8036\n",
      "     76        0.0610        0.1012  6.7848\n",
      "     77        0.0601        0.0933  6.8194\n",
      "     78        0.0605        0.1187  6.8644\n",
      "     79        0.0616        0.1034  6.8406\n",
      "     80        0.0622        0.0973  6.8410\n",
      "     81        0.0604        0.0964  7.3325\n",
      "     82        \u001b[36m0.0578\u001b[0m        0.0911  7.5502\n",
      "     83        \u001b[36m0.0560\u001b[0m        0.1023  9.5890\n",
      "     84        0.0586        0.0922  8.9190\n",
      "     85        0.0606        0.1007  8.1991\n",
      "     86        0.0613        0.0953  8.5670\n",
      "     87        0.0571        0.1025  7.9432\n",
      "     88        0.0580        0.0934  7.3439\n",
      "     89        0.0564        0.1050  7.3879\n",
      "     90        0.0563        0.1074  8.6442\n",
      "     91        0.0583        0.0966  7.3314\n",
      "     92        0.0607        0.0964  7.1122\n",
      "     93        0.0603        0.1005  7.1798\n",
      "     94        0.0608        0.0965  6.9640\n",
      "     95        0.0578        0.1025  7.0043\n",
      "     96        0.0578        0.0881  7.1562\n",
      "     97        \u001b[36m0.0559\u001b[0m        0.0933  7.1404\n",
      "     98        0.0569        0.1087  7.0133\n",
      "     99        0.0602        0.0923  7.1849\n",
      "    100        \u001b[36m0.0559\u001b[0m        0.1017  7.2121\n",
      "    101        \u001b[36m0.0545\u001b[0m        0.1011  7.2103\n",
      "    102        \u001b[36m0.0537\u001b[0m        0.0991  6.9508\n",
      "    103        0.0548        0.1015  6.7665\n",
      "    104        0.0540        0.0946  6.8449\n",
      "    105        0.0564        0.1034  6.8313\n",
      "    106        0.0589        0.0899  6.9541\n",
      "    107        0.0566        0.1069  7.3943\n",
      "    108        0.0577        0.1101  7.3482\n",
      "    109        0.0579        0.1046  7.2123\n",
      "    110        0.0547        0.1045  7.4121\n",
      "    111        0.0551        0.0990  7.2587\n",
      "    112        0.0569        0.1032  7.2434\n",
      "    113        0.0590        0.1017  7.2004\n",
      "    114        0.0563        0.1085  7.2472\n",
      "    115        0.0566        0.0979  7.3096\n",
      "    116        0.0557        0.0994  7.3998\n",
      "    117        \u001b[36m0.0536\u001b[0m        0.1040  7.3237\n",
      "    118        \u001b[36m0.0525\u001b[0m        0.0993  7.1815\n",
      "    119        0.0527        0.1043  7.3794\n",
      "    120        0.0538        0.1000  7.3505\n",
      "    121        0.0539        0.1047  7.3303\n",
      "    122        0.0534        0.1040  7.4799\n",
      "    123        \u001b[36m0.0510\u001b[0m        0.1060  7.3959\n",
      "    124        0.0521        0.1082  7.7761\n",
      "    125        0.0516        0.1087  7.3766\n",
      "    126        0.0555        0.1002  7.8536\n",
      "    127        0.0543        0.1089  7.5009\n",
      "    128        0.0540        0.0997  7.7837\n",
      "    129        0.0538        0.1011  7.3614\n",
      "    130        0.0534        0.1052  7.2150\n",
      "    131        0.0540        0.1029  7.2585\n",
      "    132        0.0536        0.1024  7.2612\n",
      "    133        0.0526        0.1083  7.6014\n",
      "    134        0.0524        0.1039  7.7653\n",
      "    135        0.0523        0.1024  7.2583\n",
      "    136        0.0566        0.1059  8.1009\n",
      "    137        0.0572        0.1019  8.0215\n",
      "    138        0.0583        0.1030  7.4895\n",
      "    139        0.0583        0.1117  7.8998\n",
      "    140        0.0541        0.1072  8.0005\n",
      "    141        0.0542        0.1002  8.4763\n",
      "    142        0.0529        0.1047  8.2463\n",
      "    143        0.0530        0.1042  7.9817\n",
      "    144        0.0526        0.1020  7.8114\n",
      "    145        \u001b[36m0.0508\u001b[0m        0.1085  7.8994\n",
      "    146        0.0526        0.1139  7.9586\n",
      "    147        0.0560        0.1076  7.8210\n",
      "    148        0.0545        0.1163  8.1468\n",
      "    149        0.0517        0.1076  8.2509\n",
      "    150        0.0529        0.1099  8.4455\n"
     ]
    },
    {
     "data": {
      "text/plain": [
       "<class 'tabularasa.MixedMonotonic.MixedMonotonicRegressor'>[initialized](\n",
       "  module_=MixedMonotonicNet(\n",
       "    (non_monotonic_net): EmbeddingNet(\n",
       "      (emb1): Embedding(50, 16)\n",
       "      (fc1): Linear(in_features=17, out_features=16, bias=True)\n",
       "    )\n",
       "    (umnn): SlowDMonotonicNN(\n",
       "      (outer_net): MonotonicNN(\n",
       "        (integrand): IntegrandNN(\n",
       "          (inner_net): Sequential(\n",
       "            (0): Linear(in_features=17, out_features=128, bias=True)\n",
       "            (1): ReLU()\n",
       "            (2): Linear(in_features=128, out_features=128, bias=True)\n",
       "            (3): ReLU()\n",
       "            (4): Linear(in_features=128, out_features=32, bias=True)\n",
       "            (5): ReLU()\n",
       "          )\n",
       "          (net): Sequential(\n",
       "            (0): Linear(in_features=17, out_features=128, bias=True)\n",
       "            (1): ReLU()\n",
       "            (2): Linear(in_features=128, out_features=128, bias=True)\n",
       "            (3): ReLU()\n",
       "            (4): Linear(in_features=128, out_features=32, bias=True)\n",
       "            (5): ReLU()\n",
       "            (6): Linear(in_features=32, out_features=1, bias=True)\n",
       "            (7): ELU(alpha=1.0)\n",
       "          )\n",
       "        )\n",
       "        (net): Sequential(\n",
       "          (0): Linear(in_features=16, out_features=128, bias=True)\n",
       "          (1): ReLU()\n",
       "          (2): Linear(in_features=128, out_features=128, bias=True)\n",
       "          (3): ReLU()\n",
       "          (4): Linear(in_features=128, out_features=32, bias=True)\n",
       "          (5): ReLU()\n",
       "          (6): Linear(in_features=32, out_features=2, bias=True)\n",
       "        )\n",
       "      )\n",
       "    )\n",
       "  ),\n",
       ")"
      ]
     },
     "execution_count": 5,
     "metadata": {},
     "output_type": "execute_result"
    }
   ],
   "source": [
    "model.fit({'X_monotonic': df[['x1', 'x2']].values,\n",
    "           'X_non_monotonic': df[['x3', 'x4']].values},\n",
    "          df[['y']].values)"
   ]
  },
  {
   "cell_type": "markdown",
   "id": "b8dac7d0",
   "metadata": {},
   "source": [
    "We'll create a partial dependence plot to visualize how the monotonic network constrained our relationship between `x1` and `y`."
   ]
  },
  {
   "cell_type": "code",
   "execution_count": 6,
   "id": "3fad5760",
   "metadata": {},
   "outputs": [],
   "source": [
    "quantiles = [0.01, 0.05, 0.1, 0.2, 0.3, 0.4, 0.6, 0.7, 0.8, 0.9, 0.95, 0.99]"
   ]
  },
  {
   "cell_type": "code",
   "execution_count": 7,
   "id": "48020146",
   "metadata": {},
   "outputs": [],
   "source": [
    "results = []\n",
    "for q in np.quantile(df['x1'], quantiles):\n",
    "    dfc = df.copy()\n",
    "    dfc['x1'] = q\n",
    "    dfc['x1'] = dfc['x1'].astype('float32')\n",
    "    p = model.predict({'X_monotonic': dfc[['x1', 'x2']].values,\n",
    "                       'X_non_monotonic': dfc[['x3', 'x4']].values})\n",
    "    p = pd.DataFrame(pd.Series(p[:, 0]).describe(percentiles=quantiles)).T\n",
    "    p['x1'] = q\n",
    "    results.append(p)\n",
    "results = pd.concat(results, axis=0)"
   ]
  },
  {
   "cell_type": "markdown",
   "id": "8dae7577",
   "metadata": {},
   "source": [
    "We can see below that, unlike with the simple MLP network, we have a monotonically increasing relationship between `x1` and `y`."
   ]
  },
  {
   "cell_type": "code",
   "execution_count": 8,
   "id": "b5b445dd",
   "metadata": {},
   "outputs": [
    {
     "data": {
      "image/png": "[encoded data removed]",
      "text/plain": [
       "<Figure size 432x288 with 1 Axes>"
      ]
     },
     "metadata": {
      "needs_background": "light"
     },
     "output_type": "display_data"
    }
   ],
   "source": [
    "results.plot(x='x1', y=['20%', 'mean', '80%'])\n",
    "plt.show()"
   ]
  },
  {
   "cell_type": "markdown",
   "id": "4e17aff3",
   "metadata": {},
   "source": [
    "---\n",
    "\n",
    "### Epistemic uncertainty\n",
    "\n",
    "Orthornormal certificates train a set of linear functions designed to map training examples to a value of 0, and other data points to a value greater than zero.  The input to the orthonormal certificates is typically the output of the last hidden layer of the trained network, which is treated as a deep featurization of the orignal input.\n",
    "\n",
    "In some preliminary experiments, passing the initial, untransformed data as well provided better results.  Here, we'll concatenate the continuous features, with the output from the last hidden layer of our monotonic neural network as input to train the orthonormal certificates.\n",
    "\n",
    "Note, `MixedMonotonicNet()` has an argument `last_hidden_layer` that can be passed to `MixedMonotonicRegressor().predict()` specifically for this purpose."
   ]
  },
  {
   "cell_type": "code",
   "execution_count": 9,
   "id": "eb094271",
   "metadata": {},
   "outputs": [],
   "source": [
    "X_hidden = model.predict({'X_monotonic': df[['x1', 'x2']].values,\n",
    "                          'X_non_monotonic': df[['x3', 'x4']].values},\n",
    "                         last_hidden_layer=True)"
   ]
  },
  {
   "cell_type": "markdown",
   "id": "0fc55376",
   "metadata": {},
   "source": [
    "Now we can generate orthonormal certificates.\n",
    "\n",
    "Note, `OrthonormalCertificatesNet()` is very simple, so a large number of epochs can be specified without lengthy training time.  Specific arguments include:\n",
    "- `dim_input`: Which is the size of the last layer in our `MixedMonotonicNet()` `layers` argument, plus any additional features we'd like to input (in this case the raw values for 3 continuous features `x1`, `x2`, and `x3`).\n",
    "- `dim_certificates`: The number of linear functions to use.  If this number is too small, we won't be able to well represent a complex dataset.  Too large and our orthonormal certificates network will be unwieldy and more difficult to train."
   ]
  },
  {
   "cell_type": "code",
   "execution_count": 12,
   "id": "3dc601d8",
   "metadata": {},
   "outputs": [],
   "source": [
    "ocr = OrthonormalCertificatesRegressor(OrthonormalCertificatesNet,\n",
    "                                       max_epochs=150,\n",
    "                                       lr=0.01,\n",
    "                                       optimizer=torch.optim.Adam,\n",
    "                                       iterator_train__shuffle=True,\n",
    "                                       module__dim_input=32 + 3,\n",
    "                                       module__dim_certificates=64)"
   ]
  },
  {
   "cell_type": "code",
   "execution_count": 13,
   "id": "85c10721",
   "metadata": {
    "scrolled": true
   },
   "outputs": [
    {
     "name": "stdout",
     "output_type": "stream",
     "text": [
      "  epoch    train_loss    valid_loss     dur\n",
      "-------  ------------  ------------  ------\n",
      "      1       \u001b[36m14.0314\u001b[0m        \u001b[32m7.6990\u001b[0m  0.2124\n",
      "      2        \u001b[36m4.9390\u001b[0m        \u001b[32m1.5085\u001b[0m  0.0502\n",
      "      3        \u001b[36m1.5274\u001b[0m        \u001b[32m0.8842\u001b[0m  0.0577\n",
      "      4        \u001b[36m0.6393\u001b[0m        \u001b[32m0.3682\u001b[0m  0.0519\n",
      "      5        \u001b[36m0.2888\u001b[0m        \u001b[32m0.1424\u001b[0m  0.0457\n",
      "      6        \u001b[36m0.1216\u001b[0m        \u001b[32m0.0664\u001b[0m  0.0457\n",
      "      7        \u001b[36m0.0597\u001b[0m        \u001b[32m0.0379\u001b[0m  0.0598\n",
      "      8        \u001b[36m0.0339\u001b[0m        \u001b[32m0.0234\u001b[0m  0.0592\n",
      "      9        \u001b[36m0.0230\u001b[0m        \u001b[32m0.0178\u001b[0m  0.0378\n",
      "     10        \u001b[36m0.0182\u001b[0m        \u001b[32m0.0156\u001b[0m  0.0655\n",
      "     11        \u001b[36m0.0161\u001b[0m        \u001b[32m0.0146\u001b[0m  0.0590\n",
      "     12        \u001b[36m0.0150\u001b[0m        \u001b[32m0.0139\u001b[0m  0.0386\n",
      "     13        \u001b[36m0.0143\u001b[0m        \u001b[32m0.0135\u001b[0m  0.0499\n",
      "     14        \u001b[36m0.0139\u001b[0m        \u001b[32m0.0132\u001b[0m  0.0498\n",
      "     15        \u001b[36m0.0135\u001b[0m        \u001b[32m0.0129\u001b[0m  0.0491\n",
      "     16        \u001b[36m0.0133\u001b[0m        \u001b[32m0.0127\u001b[0m  0.0534\n",
      "     17        \u001b[36m0.0130\u001b[0m        \u001b[32m0.0125\u001b[0m  0.0411\n",
      "     18        \u001b[36m0.0128\u001b[0m        \u001b[32m0.0123\u001b[0m  0.0480\n",
      "     19        \u001b[36m0.0127\u001b[0m        \u001b[32m0.0122\u001b[0m  0.0492\n",
      "     20        \u001b[36m0.0125\u001b[0m        \u001b[32m0.0120\u001b[0m  0.0416\n",
      "     21        \u001b[36m0.0124\u001b[0m        \u001b[32m0.0119\u001b[0m  0.0476\n",
      "     22        \u001b[36m0.0123\u001b[0m        \u001b[32m0.0118\u001b[0m  0.0493\n",
      "     23        \u001b[36m0.0122\u001b[0m        \u001b[32m0.0117\u001b[0m  0.0453\n",
      "     24        \u001b[36m0.0121\u001b[0m        \u001b[32m0.0117\u001b[0m  0.0446\n",
      "     25        \u001b[36m0.0120\u001b[0m        \u001b[32m0.0116\u001b[0m  0.0450\n",
      "     26        \u001b[36m0.0119\u001b[0m        \u001b[32m0.0115\u001b[0m  0.0389\n",
      "     27        \u001b[36m0.0118\u001b[0m        \u001b[32m0.0115\u001b[0m  0.0425\n",
      "     28        \u001b[36m0.0118\u001b[0m        \u001b[32m0.0114\u001b[0m  0.0464\n",
      "     29        \u001b[36m0.0117\u001b[0m        \u001b[32m0.0114\u001b[0m  0.0406\n",
      "     30        \u001b[36m0.0117\u001b[0m        \u001b[32m0.0113\u001b[0m  0.0488\n",
      "     31        \u001b[36m0.0116\u001b[0m        \u001b[32m0.0113\u001b[0m  0.0665\n",
      "     32        \u001b[36m0.0116\u001b[0m        \u001b[32m0.0112\u001b[0m  0.0636\n",
      "     33        \u001b[36m0.0116\u001b[0m        0.0112  0.0633\n",
      "     34        \u001b[36m0.0115\u001b[0m        \u001b[32m0.0112\u001b[0m  0.0631\n",
      "     35        \u001b[36m0.0115\u001b[0m        0.0112  0.0629\n",
      "     36        \u001b[36m0.0115\u001b[0m        \u001b[32m0.0111\u001b[0m  0.0630\n",
      "     37        \u001b[36m0.0114\u001b[0m        \u001b[32m0.0111\u001b[0m  0.0627\n",
      "     38        \u001b[36m0.0114\u001b[0m        \u001b[32m0.0110\u001b[0m  0.0583\n",
      "     39        \u001b[36m0.0113\u001b[0m        \u001b[32m0.0110\u001b[0m  0.0625\n",
      "     40        \u001b[36m0.0113\u001b[0m        \u001b[32m0.0110\u001b[0m  0.0623\n",
      "     41        \u001b[36m0.0113\u001b[0m        \u001b[32m0.0110\u001b[0m  0.0643\n",
      "     42        \u001b[36m0.0113\u001b[0m        \u001b[32m0.0109\u001b[0m  0.0578\n",
      "     43        \u001b[36m0.0112\u001b[0m        \u001b[32m0.0109\u001b[0m  0.0631\n",
      "     44        \u001b[36m0.0112\u001b[0m        \u001b[32m0.0109\u001b[0m  0.0646\n",
      "     45        \u001b[36m0.0112\u001b[0m        \u001b[32m0.0109\u001b[0m  0.0656\n",
      "     46        \u001b[36m0.0112\u001b[0m        \u001b[32m0.0108\u001b[0m  0.0578\n",
      "     47        \u001b[36m0.0112\u001b[0m        0.0108  0.0610\n",
      "     48        \u001b[36m0.0111\u001b[0m        \u001b[32m0.0108\u001b[0m  0.0635\n",
      "     49        \u001b[36m0.0111\u001b[0m        0.0108  0.0584\n",
      "     50        \u001b[36m0.0111\u001b[0m        \u001b[32m0.0108\u001b[0m  0.0622\n",
      "     51        \u001b[36m0.0111\u001b[0m        \u001b[32m0.0107\u001b[0m  0.0649\n",
      "     52        \u001b[36m0.0110\u001b[0m        \u001b[32m0.0107\u001b[0m  0.0588\n",
      "     53        \u001b[36m0.0110\u001b[0m        \u001b[32m0.0107\u001b[0m  0.0623\n",
      "     54        \u001b[36m0.0110\u001b[0m        \u001b[32m0.0107\u001b[0m  0.0646\n",
      "     55        \u001b[36m0.0110\u001b[0m        \u001b[32m0.0107\u001b[0m  0.0588\n",
      "     56        \u001b[36m0.0110\u001b[0m        \u001b[32m0.0106\u001b[0m  0.0618\n",
      "     57        \u001b[36m0.0109\u001b[0m        \u001b[32m0.0106\u001b[0m  0.0637\n",
      "     58        \u001b[36m0.0109\u001b[0m        \u001b[32m0.0106\u001b[0m  0.0568\n",
      "     59        \u001b[36m0.0109\u001b[0m        \u001b[32m0.0106\u001b[0m  0.0646\n",
      "     60        \u001b[36m0.0109\u001b[0m        0.0106  0.0623\n",
      "     61        0.0109        \u001b[32m0.0106\u001b[0m  0.0712\n",
      "     62        \u001b[36m0.0108\u001b[0m        \u001b[32m0.0106\u001b[0m  0.0756\n",
      "     63        \u001b[36m0.0108\u001b[0m        \u001b[32m0.0105\u001b[0m  0.0681\n",
      "     64        \u001b[36m0.0108\u001b[0m        \u001b[32m0.0105\u001b[0m  0.0737\n",
      "     65        \u001b[36m0.0108\u001b[0m        \u001b[32m0.0104\u001b[0m  0.0570\n",
      "     66        \u001b[36m0.0107\u001b[0m        \u001b[32m0.0104\u001b[0m  0.0780\n",
      "     67        \u001b[36m0.0107\u001b[0m        0.0104  0.0726\n",
      "     68        0.0107        \u001b[32m0.0104\u001b[0m  0.0753\n",
      "     69        \u001b[36m0.0107\u001b[0m        \u001b[32m0.0104\u001b[0m  0.0625\n",
      "     70        \u001b[36m0.0107\u001b[0m        \u001b[32m0.0104\u001b[0m  0.0786\n",
      "     71        \u001b[36m0.0107\u001b[0m        0.0104  0.0773\n",
      "     72        \u001b[36m0.0106\u001b[0m        \u001b[32m0.0103\u001b[0m  0.0744\n",
      "     73        \u001b[36m0.0106\u001b[0m        0.0103  0.0810\n",
      "     74        \u001b[36m0.0106\u001b[0m        \u001b[32m0.0103\u001b[0m  0.0734\n",
      "     75        \u001b[36m0.0106\u001b[0m        \u001b[32m0.0103\u001b[0m  0.0818\n",
      "     76        \u001b[36m0.0106\u001b[0m        0.0103  0.0767\n",
      "     77        \u001b[36m0.0105\u001b[0m        \u001b[32m0.0103\u001b[0m  0.0610\n",
      "     78        \u001b[36m0.0105\u001b[0m        \u001b[32m0.0102\u001b[0m  0.0630\n",
      "     79        \u001b[36m0.0105\u001b[0m        \u001b[32m0.0102\u001b[0m  0.0590\n",
      "     80        \u001b[36m0.0105\u001b[0m        0.0102  0.0730\n",
      "     81        \u001b[36m0.0105\u001b[0m        \u001b[32m0.0102\u001b[0m  0.0653\n",
      "     82        \u001b[36m0.0104\u001b[0m        \u001b[32m0.0101\u001b[0m  0.0775\n",
      "     83        \u001b[36m0.0104\u001b[0m        \u001b[32m0.0101\u001b[0m  0.0637\n",
      "     84        \u001b[36m0.0104\u001b[0m        \u001b[32m0.0101\u001b[0m  0.0581\n",
      "     85        \u001b[36m0.0104\u001b[0m        \u001b[32m0.0101\u001b[0m  0.0571\n",
      "     86        \u001b[36m0.0104\u001b[0m        \u001b[32m0.0101\u001b[0m  0.0594\n",
      "     87        \u001b[36m0.0104\u001b[0m        \u001b[32m0.0101\u001b[0m  0.0753\n",
      "     88        0.0104        0.0101  0.0569\n",
      "     89        \u001b[36m0.0104\u001b[0m        \u001b[32m0.0101\u001b[0m  0.0590\n",
      "     90        \u001b[36m0.0103\u001b[0m        \u001b[32m0.0100\u001b[0m  0.0639\n",
      "     91        \u001b[36m0.0103\u001b[0m        \u001b[32m0.0100\u001b[0m  0.0580\n",
      "     92        \u001b[36m0.0103\u001b[0m        \u001b[32m0.0100\u001b[0m  0.0637\n",
      "     93        0.0103        0.0100  0.0563\n",
      "     94        0.0103        0.0100  0.0637\n",
      "     95        0.0103        \u001b[32m0.0100\u001b[0m  0.0554\n",
      "     96        \u001b[36m0.0102\u001b[0m        0.0100  0.0575\n",
      "     97        \u001b[36m0.0102\u001b[0m        0.0100  0.0639\n",
      "     98        0.0102        \u001b[32m0.0100\u001b[0m  0.0564\n",
      "     99        \u001b[36m0.0102\u001b[0m        \u001b[32m0.0099\u001b[0m  0.0658\n",
      "    100        \u001b[36m0.0102\u001b[0m        \u001b[32m0.0099\u001b[0m  0.0609\n",
      "    101        \u001b[36m0.0101\u001b[0m        \u001b[32m0.0099\u001b[0m  0.0563\n",
      "    102        \u001b[36m0.0101\u001b[0m        \u001b[32m0.0099\u001b[0m  0.0587\n",
      "    103        \u001b[36m0.0101\u001b[0m        \u001b[32m0.0099\u001b[0m  0.0607\n",
      "    104        0.0101        \u001b[32m0.0099\u001b[0m  0.0596\n",
      "    105        0.0101        0.0099  0.0667\n",
      "    106        0.0101        0.0099  0.0585\n",
      "    107        \u001b[36m0.0101\u001b[0m        \u001b[32m0.0098\u001b[0m  0.0596\n",
      "    108        \u001b[36m0.0101\u001b[0m        \u001b[32m0.0098\u001b[0m  0.0657\n",
      "    109        \u001b[36m0.0101\u001b[0m        0.0099  0.0578\n",
      "    110        0.0101        0.0099  0.0599\n",
      "    111        0.0101        0.0099  0.0633\n",
      "    112        0.0101        0.0099  0.0568\n",
      "    113        \u001b[36m0.0101\u001b[0m        0.0099  0.0584\n",
      "    114        0.0101        0.0098  0.0619\n",
      "    115        \u001b[36m0.0100\u001b[0m        \u001b[32m0.0098\u001b[0m  0.0590\n",
      "    116        \u001b[36m0.0100\u001b[0m        \u001b[32m0.0098\u001b[0m  0.0668\n",
      "    117        0.0100        0.0098  0.0571\n",
      "    118        \u001b[36m0.0100\u001b[0m        \u001b[32m0.0097\u001b[0m  0.0579\n",
      "    119        \u001b[36m0.0100\u001b[0m        0.0098  0.0645\n",
      "    120        0.0100        \u001b[32m0.0097\u001b[0m  0.0570\n",
      "    121        0.0100        0.0099  0.0581\n",
      "    122        0.0100        0.0098  0.0671\n",
      "    123        0.0101        0.0098  0.0584\n",
      "    124        0.0100        0.0097  0.0588\n",
      "    125        0.0101        0.0098  0.0647\n",
      "    126        0.0101        0.0098  0.0576\n",
      "    127        0.0100        0.0100  0.0583\n",
      "    128        0.0101        0.0101  0.0634\n",
      "    129        0.0101        0.0099  0.0564\n",
      "    130        0.0101        0.0098  0.0581\n",
      "    131        0.0101        0.0105  0.0627\n",
      "    132        0.0107        0.0109  0.0565\n",
      "    133        0.0110        0.0114  0.0591\n",
      "    134        0.0112        0.0103  0.0616\n",
      "    135        0.0105        0.0100  0.0593\n",
      "    136        0.0105        0.0102  0.0599\n",
      "    137        0.0109        0.0102  0.0574\n",
      "    138        0.0104        0.0101  0.0571\n",
      "    139        0.0102        0.0100  0.0648\n",
      "    140        0.0101        0.0097  0.0583\n",
      "    141        0.0100        0.0102  0.0587\n",
      "    142        0.0105        0.0103  0.0609\n",
      "    143        0.0104        0.0098  0.0623\n",
      "    144        0.0104        0.0098  0.0569\n"
     ]
    },
    {
     "name": "stdout",
     "output_type": "stream",
     "text": [
      "    145        0.0106        0.0105  0.0594\n",
      "    146        0.0106        0.0102  0.0617\n",
      "    147        0.0105        0.0101  0.0558\n",
      "    148        0.0110        0.0110  0.0581\n",
      "    149        0.0105        0.0097  0.0634\n",
      "    150        0.0103        0.0103  0.0560\n"
     ]
    },
    {
     "data": {
      "text/plain": [
       "<class 'tabularasa.OrthonormalCertificates.OrthonormalCertificatesRegressor'>[initialized](\n",
       "  module_=OrthonormalCertificatesNet(\n",
       "    (certificates): Linear(in_features=35, out_features=64, bias=True)\n",
       "  ),\n",
       ")"
      ]
     },
     "execution_count": 13,
     "metadata": {},
     "output_type": "execute_result"
    }
   ],
   "source": [
    "ocr.fit(np.concatenate([df[['x1', 'x2', 'x4']].values, X_hidden], axis=1))"
   ]
  },
  {
   "cell_type": "markdown",
   "id": "48e0f558",
   "metadata": {},
   "source": [
    "We'll create another partial dependence-like plot, except with the uncertainty estimates from our orthonormal certificates model.\n",
    "\n",
    "Note, that we include `x1` values outside of the initially defined range to see whether our estimate of uncertainty increases in those areas (as we would expect)."
   ]
  },
  {
   "cell_type": "code",
   "execution_count": 16,
   "id": "ee071b20",
   "metadata": {},
   "outputs": [],
   "source": [
    "uncertainties = []\n",
    "for q in np.linspace(-1.5, 1.5, 101):\n",
    "    dfc = df.copy()\n",
    "    dfc['x1'] = q\n",
    "    dfc['x1'] = dfc['x1'].astype('float32')\n",
    "    p = ocr.predict(np.concatenate([dfc[['x1', 'x2', 'x4']],\n",
    "                                    model.predict({'X_monotonic': dfc[['x1', 'x2']].values,\n",
    "                                                   'X_non_monotonic': dfc[['x3', 'x4']].values},\n",
    "                                                  last_hidden_layer=True)], axis=1))\n",
    "    p = pd.DataFrame(pd.Series(p).describe(percentiles=quantiles)).T\n",
    "    p['x1'] = q\n",
    "    uncertainties.append(p)\n",
    "uncertainties = pd.concat(uncertainties, axis=0)"
   ]
  },
  {
   "cell_type": "markdown",
   "id": "7adb7102",
   "metadata": {},
   "source": [
    "Notice below that:\n",
    "- Uncertainty is high when `x1` is below -1 and above 1.  This is what we'd expect given that none the training data has values outside of this range.\n",
    "- Uncertainty is also moderately high when `x1` is between 0 and 0.5 where data was deliberately exclued."
   ]
  },
  {
   "cell_type": "code",
   "execution_count": 17,
   "id": "953a79ee",
   "metadata": {},
   "outputs": [
    {
     "data": {
      "image/png": "[encoded data removed]",
      "text/plain": [
       "<Figure size 432x288 with 1 Axes>"
      ]
     },
     "metadata": {
      "needs_background": "light"
     },
     "output_type": "display_data"
    }
   ],
   "source": [
    "uncertainties.plot(x='x1', y=['20%', 'mean', '80%'])\n",
    "plt.show()"
   ]
  },
  {
   "cell_type": "markdown",
   "id": "7c36ffd9",
   "metadata": {},
   "source": [
    "The raw values output by our orthonormal certificates can have varying magnitude.  How high does an uncertainty value need to be before we need to be concerned about model reliability?\n",
    "\n",
    "`OrthonormalCertificatesRegressor()` includes two additional methods to help with this.  Both use the validation data skorch automatically creates during training to approximate what in-sample, but data that's still different from the training set, looks like.\n",
    "- `percentile_predict()`: returns the percentile (an integer from 0 to 100) that the input records uncertainty value maps to.\n",
    "- `scaled_predict()`: returns a positive float, where uncertainty is divided by the maximum uncertainty seen in the validation dataset.  i.e. values > 1 are more uncertain than every record in the validation dataset."
   ]
  },
  {
   "cell_type": "code",
   "execution_count": 21,
   "id": "c6bf9aaa",
   "metadata": {},
   "outputs": [],
   "source": [
    "uncertainties = []\n",
    "for q in np.linspace(-1.5, 1.5, 101):\n",
    "    dfc = df.copy()\n",
    "    dfc['x1'] = q\n",
    "    dfc['x1'] = dfc['x1'].astype('float32')\n",
    "    p = ocr.scaled_predict(np.concatenate([dfc[['x1', 'x2', 'x4']],\n",
    "                                           model.predict({'X_monotonic': dfc[['x1', 'x2']].values,\n",
    "                                                          'X_non_monotonic': dfc[['x3', 'x4']].values},\n",
    "                                                         last_hidden_layer=True)], axis=1))\n",
    "    p = pd.DataFrame(pd.Series(p).describe(percentiles=quantiles)).T\n",
    "    p['x1'] = q\n",
    "    uncertainties.append(p)\n",
    "uncertainties = pd.concat(uncertainties, axis=0)"
   ]
  },
  {
   "cell_type": "markdown",
   "id": "da259c73",
   "metadata": {},
   "source": [
    "Scaling the results of the plot above provides more context to our previous interpretations about uncertainty."
   ]
  },
  {
   "cell_type": "code",
   "execution_count": 22,
   "id": "0ee8bb3c",
   "metadata": {},
   "outputs": [
    {
     "data": {
      "image/png": "[encoded data removed]",
      "text/plain": [
       "<Figure size 432x288 with 1 Axes>"
      ]
     },
     "metadata": {
      "needs_background": "light"
     },
     "output_type": "display_data"
    }
   ],
   "source": [
    "uncertainties.plot(x='x1', y=['20%', 'mean', '80%'])\n",
    "plt.show()"
   ]
  },
  {
   "cell_type": "markdown",
   "id": "6a5671e8",
   "metadata": {},
   "source": [
    "To review estimates for aleatoric uncertainty, see the [simultaneous_quantiles](./simultaneous_quantiles.ipynb) example, or jump straight to the [tabula_rasa](./tabula_rasa.ipynb) example to see everything brought together."
   ]
  }
 ],
 "metadata": {
  "kernelspec": {
   "display_name": "Python 3 (ipykernel)",
   "language": "python",
   "name": "python3"
  },
  "language_info": {
   "codemirror_mode": {
    "name": "ipython",
    "version": 3
   },
   "file_extension": ".py",
   "mimetype": "text/x-python",
   "name": "python",
   "nbconvert_exporter": "python",
   "pygments_lexer": "ipython3",
   "version": "3.8.5"
  }
 },
 "nbformat": 4,
 "nbformat_minor": 5
}
