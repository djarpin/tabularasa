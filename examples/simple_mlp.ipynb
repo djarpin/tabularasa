{
 "cells": [
  {
   "cell_type": "markdown",
   "id": "7332409c",
   "metadata": {},
   "source": [
    "# Simple MLP\n",
    "\n",
    "---\n",
    "\n",
    "---\n",
    "\n",
    "### Overview\n",
    "\n",
    "This notebook trains a simple multi-layer perceptron network to predict `y` as an unconstrained function of `x1`, `x2`, `x3`, and `x4`.  It uses an embedding layer for `x3` and linear layers with ReLU activation for the remainder.\n",
    "\n",
    "Its purpose is to illustrate that, unless constrained, `x1`'s relationship to `y` will be non-monotonic."
   ]
  },
  {
   "cell_type": "code",
   "execution_count": 1,
   "id": "9b03dc32",
   "metadata": {},
   "outputs": [],
   "source": [
    "import pandas as pd\n",
    "import numpy as np\n",
    "import matplotlib.pyplot as plt\n",
    "import torch\n",
    "from torch import nn\n",
    "import torch.nn.functional as F\n",
    "from torch import optim\n",
    "from skorch.regressor import NeuralNetRegressor"
   ]
  },
  {
   "cell_type": "markdown",
   "id": "2672e1f5",
   "metadata": {},
   "source": [
    "---\n",
    "\n",
    "### Load example data\n",
    "\n",
    "If you haven't already, please generate the example dataset using the [example_data](example_data.ipynb) notebook."
   ]
  },
  {
   "cell_type": "code",
   "execution_count": 2,
   "id": "52e29f8c",
   "metadata": {},
   "outputs": [],
   "source": [
    "df = pd.read_pickle('./data/simple_train.pkl')"
   ]
  },
  {
   "cell_type": "markdown",
   "id": "84ec18ee",
   "metadata": {},
   "source": [
    "---\n",
    "\n",
    "### Define network and model\n",
    "\n",
    "[skorch](https://github.com/skorch-dev/skorch) takes PyTorch Module's as input.  We could just as easily train this using the standard PyTorch API, or an alternative like [PyTorch Lightning](https://www.pytorchlightning.ai/).  However, given that skorch is used extensively throughout this repository it makes sense to start here.\n",
    "\n",
    "Notice:\n",
    "- We create a realtively small embedding layer for the 50 unique values of `x3`.\n",
    "- `X_numeric` and `X_categorical` are supplied as separate inputs to `.forward()` and concatenated after `X_categorical` is embedded."
   ]
  },
  {
   "cell_type": "code",
   "execution_count": 3,
   "id": "c2cca9a2",
   "metadata": {},
   "outputs": [],
   "source": [
    "class SimpleMLP(nn.Module):\n",
    "    \n",
    "    def __init__(self):\n",
    "        super().__init__()\n",
    "        self.emb1 = nn.Embedding(50, 16)\n",
    "        self.fc1 = nn.Linear(3 + 16, 128)\n",
    "        self.fc2 = nn.Linear(128, 128)\n",
    "        self.fc3 = nn.Linear(128, 32)\n",
    "        self.fc4 = nn.Linear(32, 1)\n",
    "    \n",
    "    def forward(self, X_numeric, X_categorical1):\n",
    "        X = torch.cat([X_numeric, self.emb1(X_categorical1).squeeze()], 1)\n",
    "        X = F.relu(self.fc1(X))\n",
    "        X = F.relu(self.fc2(X))\n",
    "        X = F.relu(self.fc3(X))\n",
    "        return self.fc4(X)"
   ]
  },
  {
   "cell_type": "markdown",
   "id": "6a8e573e",
   "metadata": {},
   "source": [
    "skorch's `NeuralNetRegressor()` takes the network we've defined as input, and has custom arguments for common input parameters like number of epochs (`max_epochs`) and learning rate (`lr`)."
   ]
  },
  {
   "cell_type": "code",
   "execution_count": 4,
   "id": "3afde292",
   "metadata": {},
   "outputs": [],
   "source": [
    "model = NeuralNetRegressor(SimpleMLP,\n",
    "                           max_epochs=150,\n",
    "                           lr=0.01,\n",
    "                           optimizer=torch.optim.Adam,\n",
    "                           iterator_train__shuffle=True)"
   ]
  },
  {
   "cell_type": "markdown",
   "id": "2f9f729c",
   "metadata": {},
   "source": [
    "### Train and examine\n",
    "\n",
    "skorch allows us to simply use `.fit()` and pass in numpy arrays to train our network.\n",
    "\n",
    "Notice:\n",
    "- The typical `X` argument in sklearn is now a `dict` with keys that correspond to the input arguments for our network's `.forward()` function.\n",
    "- `y` is required to be a 2-dimensional array (not 1-d)."
   ]
  },
  {
   "cell_type": "code",
   "execution_count": 5,
   "id": "aae484d7",
   "metadata": {},
   "outputs": [
    {
     "name": "stdout",
     "output_type": "stream",
     "text": [
      "  epoch    train_loss    valid_loss     dur\n",
      "-------  ------------  ------------  ------\n",
      "      1        \u001b[36m0.3441\u001b[0m        \u001b[32m0.3158\u001b[0m  0.6818\n",
      "      2        \u001b[36m0.2747\u001b[0m        \u001b[32m0.2598\u001b[0m  0.0636\n",
      "      3        \u001b[36m0.1996\u001b[0m        \u001b[32m0.1716\u001b[0m  0.0621\n",
      "      4        \u001b[36m0.1251\u001b[0m        \u001b[32m0.1323\u001b[0m  0.0554\n",
      "      5        \u001b[36m0.0994\u001b[0m        0.1364  0.0564\n",
      "      6        \u001b[36m0.0739\u001b[0m        \u001b[32m0.1140\u001b[0m  0.0592\n",
      "      7        0.0741        \u001b[32m0.0949\u001b[0m  0.0608\n",
      "      8        \u001b[36m0.0706\u001b[0m        0.1115  0.0641\n",
      "      9        \u001b[36m0.0525\u001b[0m        0.1029  0.0576\n",
      "     10        \u001b[36m0.0411\u001b[0m        0.0983  0.0583\n",
      "     11        \u001b[36m0.0392\u001b[0m        \u001b[32m0.0868\u001b[0m  0.0576\n",
      "     12        \u001b[36m0.0336\u001b[0m        \u001b[32m0.0805\u001b[0m  0.0624\n",
      "     13        \u001b[36m0.0305\u001b[0m        0.0941  0.0544\n",
      "     14        0.0305        0.0963  0.0575\n",
      "     15        0.0309        0.0882  0.0571\n",
      "     16        \u001b[36m0.0301\u001b[0m        0.0906  0.0639\n",
      "     17        \u001b[36m0.0271\u001b[0m        0.0829  0.0561\n",
      "     18        \u001b[36m0.0238\u001b[0m        \u001b[32m0.0789\u001b[0m  0.0608\n",
      "     19        0.0239        0.0988  0.0551\n",
      "     20        0.0255        0.1018  0.0591\n",
      "     21        \u001b[36m0.0216\u001b[0m        0.0907  0.0552\n",
      "     22        0.0217        0.0982  0.0569\n",
      "     23        \u001b[36m0.0214\u001b[0m        \u001b[32m0.0776\u001b[0m  0.0573\n",
      "     24        \u001b[36m0.0178\u001b[0m        0.1000  0.0564\n",
      "     25        0.0187        0.0908  0.0600\n",
      "     26        0.0220        0.1017  0.0602\n",
      "     27        0.0194        \u001b[32m0.0726\u001b[0m  0.0574\n",
      "     28        \u001b[36m0.0176\u001b[0m        0.0890  0.0566\n",
      "     29        \u001b[36m0.0148\u001b[0m        0.0894  0.0596\n",
      "     30        \u001b[36m0.0132\u001b[0m        0.1269  0.0560\n",
      "     31        \u001b[36m0.0132\u001b[0m        0.1000  0.0640\n",
      "     32        \u001b[36m0.0120\u001b[0m        0.0928  0.0599\n",
      "     33        \u001b[36m0.0114\u001b[0m        0.0846  0.0549\n",
      "     34        \u001b[36m0.0109\u001b[0m        0.0983  0.0568\n",
      "     35        \u001b[36m0.0101\u001b[0m        0.0880  0.0585\n",
      "     36        \u001b[36m0.0100\u001b[0m        0.0822  0.0570\n",
      "     37        \u001b[36m0.0100\u001b[0m        0.0962  0.0581\n",
      "     38        0.0101        0.0899  0.0616\n",
      "     39        \u001b[36m0.0094\u001b[0m        0.0924  0.0612\n",
      "     40        0.0096        0.0870  0.0616\n",
      "     41        0.0100        0.0953  0.0544\n",
      "     42        0.0118        0.0986  0.0581\n",
      "     43        0.0098        0.0956  0.0569\n",
      "     44        0.0094        0.1007  0.0611\n",
      "     45        0.0096        0.1064  0.0615\n",
      "     46        0.0110        0.0949  0.0628\n",
      "     47        0.0111        0.0985  0.0556\n",
      "     48        0.0123        0.0919  0.0574\n",
      "     49        0.0133        0.0982  0.0626\n",
      "     50        0.0132        0.0898  0.0568\n",
      "     51        0.0136        0.0838  0.0539\n",
      "     52        0.0148        0.0839  0.0561\n",
      "     53        0.0177        0.0989  0.0642\n",
      "     54        0.0186        0.0851  0.0607\n",
      "     55        0.0158        0.0835  0.0587\n",
      "     56        0.0129        0.0926  0.0623\n",
      "     57        0.0110        0.0733  0.0590\n",
      "     58        \u001b[36m0.0092\u001b[0m        0.0852  0.0632\n",
      "     59        \u001b[36m0.0080\u001b[0m        0.0938  0.0591\n",
      "     60        \u001b[36m0.0073\u001b[0m        0.0840  0.0593\n",
      "     61        0.0075        0.0954  0.0609\n",
      "     62        \u001b[36m0.0073\u001b[0m        0.0925  0.0558\n",
      "     63        \u001b[36m0.0072\u001b[0m        0.0740  0.0631\n",
      "     64        0.0084        0.0969  0.0540\n",
      "     65        0.0101        0.0875  0.0560\n",
      "     66        0.0104        0.0887  0.0609\n",
      "     67        0.0098        0.0924  0.0553\n",
      "     68        0.0107        0.0764  0.0644\n",
      "     69        0.0118        0.1053  0.0634\n",
      "     70        0.0085        0.0907  0.0701\n",
      "     71        0.0082        0.0903  0.0569\n",
      "     72        0.0085        0.0764  0.0590\n",
      "     73        0.0081        0.0854  0.0640\n",
      "     74        0.0083        0.0798  0.0725\n",
      "     75        0.0084        0.0786  0.0553\n",
      "     76        0.0085        0.0840  0.0578\n",
      "     77        0.0088        0.0750  0.0617\n",
      "     78        0.0080        0.0925  0.0665\n",
      "     79        \u001b[36m0.0069\u001b[0m        0.0763  0.0642\n",
      "     80        \u001b[36m0.0059\u001b[0m        0.0798  0.0641\n",
      "     81        0.0064        0.0866  0.0592\n",
      "     82        0.0074        0.0979  0.0603\n",
      "     83        0.0101        0.0814  0.0613\n",
      "     84        0.0115        0.0824  0.0595\n",
      "     85        0.0110        0.0928  0.0588\n",
      "     86        0.0092        0.0866  0.0621\n",
      "     87        0.0087        0.0806  0.0636\n",
      "     88        0.0088        0.0738  0.0632\n",
      "     89        0.0082        0.0862  0.0601\n",
      "     90        0.0079        0.0837  0.0631\n",
      "     91        0.0071        0.0822  0.0646\n",
      "     92        0.0068        0.0804  0.0646\n",
      "     93        0.0062        0.0857  0.0689\n",
      "     94        0.0068        0.0859  0.0630\n",
      "     95        0.0088        0.0945  0.0646\n",
      "     96        0.0129        0.0742  0.0653\n",
      "     97        0.0113        0.0938  0.0633\n",
      "     98        0.0117        0.0798  0.0664\n",
      "     99        0.0086        0.0747  0.0605\n",
      "    100        0.0075        0.0916  0.0595\n",
      "    101        0.0073        0.0845  0.0606\n",
      "    102        0.0069        0.0870  0.0743\n",
      "    103        0.0063        0.0905  0.0605\n",
      "    104        0.0059        0.0895  0.0674\n",
      "    105        0.0062        0.0815  0.0761\n",
      "    106        \u001b[36m0.0058\u001b[0m        0.0868  0.0677\n",
      "    107        0.0063        0.0863  0.0547\n",
      "    108        \u001b[36m0.0056\u001b[0m        0.0832  0.0572\n",
      "    109        \u001b[36m0.0055\u001b[0m        \u001b[32m0.0698\u001b[0m  0.0545\n",
      "    110        0.0061        0.0862  0.0655\n",
      "    111        0.0055        0.0707  0.0671\n",
      "    112        \u001b[36m0.0050\u001b[0m        0.0829  0.0530\n",
      "    113        0.0054        0.0875  0.0604\n",
      "    114        0.0052        0.0719  0.0597\n",
      "    115        0.0051        0.0817  0.0575\n",
      "    116        0.0051        0.0786  0.0609\n",
      "    117        0.0056        0.0825  0.0557\n",
      "    118        0.0057        0.0864  0.0577\n",
      "    119        0.0053        0.0795  0.0635\n",
      "    120        \u001b[36m0.0045\u001b[0m        0.0829  0.0590\n",
      "    121        \u001b[36m0.0042\u001b[0m        0.0730  0.0584\n",
      "    122        0.0044        0.0802  0.0601\n",
      "    123        0.0051        0.0876  0.0563\n",
      "    124        0.0046        \u001b[32m0.0698\u001b[0m  0.0578\n",
      "    125        0.0046        0.0872  0.0631\n",
      "    126        0.0047        0.0908  0.0664\n",
      "    127        0.0059        0.0753  0.0555\n",
      "    128        0.0057        0.0817  0.0683\n",
      "    129        0.0056        0.0789  0.0612\n",
      "    130        0.0056        0.0844  0.0545\n",
      "    131        0.0050        0.0810  0.0582\n",
      "    132        0.0048        0.0828  0.0613\n",
      "    133        0.0050        0.0833  0.0596\n",
      "    134        0.0052        0.0813  0.0620\n",
      "    135        0.0058        0.0904  0.0595\n",
      "    136        0.0055        0.0887  0.0592\n",
      "    137        0.0059        0.0754  0.0662\n",
      "    138        0.0053        0.0860  0.0638\n",
      "    139        0.0045        0.0802  0.0610\n",
      "    140        \u001b[36m0.0039\u001b[0m        0.0759  0.0575\n",
      "    141        \u001b[36m0.0037\u001b[0m        0.0842  0.0554\n",
      "    142        0.0041        0.0774  0.0590\n",
      "    143        \u001b[36m0.0036\u001b[0m        0.0760  0.0591\n",
      "    144        0.0045        0.0878  0.0637\n",
      "    145        0.0062        0.0781  0.0722\n",
      "    146        0.0060        0.0909  0.0611\n",
      "    147        0.0067        0.0795  0.0579\n",
      "    148        0.0058        0.0863  0.0604\n",
      "    149        0.0060        0.0799  0.0656\n",
      "    150        0.0059        0.0799  0.0632\n"
     ]
    },
    {
     "data": {
      "text/plain": [
       "<class 'skorch.regressor.NeuralNetRegressor'>[initialized](\n",
       "  module_=SimpleMLP(\n",
       "    (emb1): Embedding(50, 16)\n",
       "    (fc1): Linear(in_features=19, out_features=128, bias=True)\n",
       "    (fc2): Linear(in_features=128, out_features=128, bias=True)\n",
       "    (fc3): Linear(in_features=128, out_features=32, bias=True)\n",
       "    (fc4): Linear(in_features=32, out_features=1, bias=True)\n",
       "  ),\n",
       ")"
      ]
     },
     "execution_count": 5,
     "metadata": {},
     "output_type": "execute_result"
    }
   ],
   "source": [
    "model.fit({'X_numeric': df[['x1', 'x2', 'x4']].values,\n",
    "           'X_categorical1': df[['x3']].values},\n",
    "          df[['y']].values)"
   ]
  },
  {
   "cell_type": "markdown",
   "id": "328cf5b3",
   "metadata": {},
   "source": [
    "Next, we'll create a partial dependence plot for `x1`.  This consists of sequentially setting `x1` to the same value for all observations, across a full spectrum of values, and then summarizing the predictions.\n",
    "\n",
    "Notice:\n",
    "- We can use `.predict()` on our model, passing in a `dict` with keys that correspond to arguments in our network's `.forward()` function and values that are numpy arrays."
   ]
  },
  {
   "cell_type": "code",
   "execution_count": 6,
   "id": "3fad5760",
   "metadata": {},
   "outputs": [],
   "source": [
    "quantiles = [0.01, 0.05, 0.1, 0.2, 0.3, 0.4, 0.6, 0.7, 0.8, 0.9, 0.95, 0.99]"
   ]
  },
  {
   "cell_type": "code",
   "execution_count": 7,
   "id": "48020146",
   "metadata": {},
   "outputs": [],
   "source": [
    "results = []\n",
    "for q in np.quantile(df['x1'], quantiles):\n",
    "    dfc = df.copy()\n",
    "    dfc['x1'] = q\n",
    "    dfc['x1'] = dfc['x1'].astype('float32')\n",
    "    p = model.predict({'X_numeric': dfc[['x1', 'x2', 'x4']].values,\n",
    "                       'X_categorical1': dfc[['x3']].values})\n",
    "    p = pd.DataFrame(pd.Series(p[:, 0]).describe(percentiles=quantiles)).T\n",
    "    p['x1'] = q\n",
    "    results.append(p)\n",
    "results = pd.concat(results, axis=0)"
   ]
  },
  {
   "cell_type": "markdown",
   "id": "b350af76",
   "metadata": {},
   "source": [
    "When plotting the values, we can clearly see the shape the cubic shape that we expect, with respect to `x1`, and see clear evidence of non-monotonicity (Given that we defined the functional form to be non-monotonic, that makes sense, but there often cases where data noise might create subtle non-monotonicity that is undesirable in a practical scenario)."
   ]
  },
  {
   "cell_type": "code",
   "execution_count": 9,
   "id": "b5b445dd",
   "metadata": {},
   "outputs": [
    {
     "data": {
      "image/png": "[encoded data removed]",
      "text/plain": [
       "<Figure size 432x288 with 1 Axes>"
      ]
     },
     "metadata": {
      "needs_background": "light"
     },
     "output_type": "display_data"
    }
   ],
   "source": [
    "results.plot(x='x1', y=['20%', 'mean', '80%'])\n",
    "plt.show()"
   ]
  },
  {
   "cell_type": "markdown",
   "id": "203aa4a7",
   "metadata": {},
   "source": [
    "A montonically constrained extension of this model can be found in [mixed_monotonic](./mixed_monotonic.ipynb)."
   ]
  }
 ],
 "metadata": {
  "kernelspec": {
   "display_name": "Python 3 (ipykernel)",
   "language": "python",
   "name": "python3"
  },
  "language_info": {
   "codemirror_mode": {
    "name": "ipython",
    "version": 3
   },
   "file_extension": ".py",
   "mimetype": "text/x-python",
   "name": "python",
   "nbconvert_exporter": "python",
   "pygments_lexer": "ipython3",
   "version": "3.8.5"
  }
 },
 "nbformat": 4,
 "nbformat_minor": 5
}
