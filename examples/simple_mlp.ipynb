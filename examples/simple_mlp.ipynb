{
 "cells": [
  {
   "cell_type": "code",
   "execution_count": 54,
   "id": "9b03dc32",
   "metadata": {},
   "outputs": [],
   "source": [
    "import pandas as pd\n",
    "import numpy as np\n",
    "import matplotlib.pyplot as plt\n",
    "import torch\n",
    "from torch import nn\n",
    "import torch.nn.functional as F\n",
    "from torch import optim\n",
    "from skorch.regressor import NeuralNetRegressor"
   ]
  },
  {
   "cell_type": "code",
   "execution_count": 55,
   "id": "52e29f8c",
   "metadata": {},
   "outputs": [],
   "source": [
    "df = pd.read_pickle('./data/simple_train.pkl')"
   ]
  },
  {
   "cell_type": "code",
   "execution_count": 56,
   "id": "c2cca9a2",
   "metadata": {},
   "outputs": [],
   "source": [
    "class SimpleMLP(nn.Module):\n",
    "    \n",
    "    def __init__(self):\n",
    "        super().__init__()\n",
    "        self.emb1 = nn.Embedding(50, 16)\n",
    "        self.fc1 = nn.Linear(3 + 16, 128)\n",
    "        self.fc2 = nn.Linear(128, 128)\n",
    "        self.fc3 = nn.Linear(128, 32)\n",
    "        self.fc4 = nn.Linear(32, 1)\n",
    "    \n",
    "    def forward(self, X_numeric, X_categorical1):\n",
    "        X = torch.cat([X_numeric, self.emb1(X_categorical1).squeeze()], 1)\n",
    "        X = F.relu(self.fc1(X))\n",
    "        X = F.relu(self.fc2(X))\n",
    "        X = F.relu(self.fc3(X))\n",
    "        return self.fc4(X)"
   ]
  },
  {
   "cell_type": "code",
   "execution_count": 57,
   "id": "3afde292",
   "metadata": {},
   "outputs": [],
   "source": [
    "model = NeuralNetRegressor(SimpleMLP,\n",
    "                           max_epochs=25,\n",
    "                           lr=0.01,\n",
    "                           optimizer=torch.optim.Adam)"
   ]
  },
  {
   "cell_type": "code",
   "execution_count": 58,
   "id": "aae484d7",
   "metadata": {},
   "outputs": [
    {
     "name": "stdout",
     "output_type": "stream",
     "text": [
      "  epoch    train_loss    valid_loss     dur\n",
      "-------  ------------  ------------  ------\n",
      "      1        \u001b[36m0.3469\u001b[0m        \u001b[32m0.3137\u001b[0m  0.1364\n",
      "      2        \u001b[36m0.3112\u001b[0m        \u001b[32m0.2911\u001b[0m  0.1369\n",
      "      3        \u001b[36m0.2656\u001b[0m        \u001b[32m0.2805\u001b[0m  0.1320\n",
      "      4        \u001b[36m0.2227\u001b[0m        \u001b[32m0.2281\u001b[0m  0.1327\n",
      "      5        0.3174        0.3213  0.1329\n",
      "      6        0.3354        0.3532  0.1324\n",
      "      7        0.3129        0.2729  0.1328\n",
      "      8        0.2420        \u001b[32m0.2265\u001b[0m  0.1368\n",
      "      9        \u001b[36m0.1482\u001b[0m        \u001b[32m0.1953\u001b[0m  0.1426\n",
      "     10        0.1815        0.2164  0.1313\n",
      "     11        0.1758        \u001b[32m0.1284\u001b[0m  0.1307\n",
      "     12        \u001b[36m0.1443\u001b[0m        0.1462  0.1297\n",
      "     13        \u001b[36m0.0999\u001b[0m        0.1533  0.1318\n",
      "     14        \u001b[36m0.0744\u001b[0m        \u001b[32m0.1009\u001b[0m  0.1330\n",
      "     15        0.0795        \u001b[32m0.0834\u001b[0m  0.1377\n",
      "     16        0.0976        0.2821  0.1352\n",
      "     17        0.1278        0.1538  0.1302\n",
      "     18        0.1521        0.1083  0.1349\n",
      "     19        \u001b[36m0.0716\u001b[0m        0.1020  0.1306\n",
      "     20        \u001b[36m0.0501\u001b[0m        0.1032  0.1386\n",
      "     21        \u001b[36m0.0374\u001b[0m        0.0875  0.1431\n",
      "     22        \u001b[36m0.0341\u001b[0m        0.0945  0.1397\n",
      "     23        \u001b[36m0.0321\u001b[0m        0.1237  0.1375\n",
      "     24        0.0343        0.0837  0.1744\n",
      "     25        0.0408        \u001b[32m0.0710\u001b[0m  0.1573\n"
     ]
    },
    {
     "data": {
      "text/plain": [
       "<class 'skorch.regressor.NeuralNetRegressor'>[initialized](\n",
       "  module_=SimpleMLP(\n",
       "    (emb1): Embedding(50, 16)\n",
       "    (fc1): Linear(in_features=19, out_features=128, bias=True)\n",
       "    (fc2): Linear(in_features=128, out_features=128, bias=True)\n",
       "    (fc3): Linear(in_features=128, out_features=32, bias=True)\n",
       "    (fc4): Linear(in_features=32, out_features=1, bias=True)\n",
       "  ),\n",
       ")"
      ]
     },
     "execution_count": 58,
     "metadata": {},
     "output_type": "execute_result"
    }
   ],
   "source": [
    "model.fit({'X_numeric': df[['x1', 'x2', 'x4']].values,\n",
    "           'X_categorical1': df[['x3']].values},\n",
    "          df[['y']].values)"
   ]
  },
  {
   "cell_type": "code",
   "execution_count": 59,
   "id": "3fad5760",
   "metadata": {},
   "outputs": [],
   "source": [
    "quantiles = [0.01, 0.05, 0.1, 0.2, 0.3, 0.4, 0.6, 0.7, 0.8, 0.9, 0.95, 0.99]"
   ]
  },
  {
   "cell_type": "code",
   "execution_count": 60,
   "id": "48020146",
   "metadata": {},
   "outputs": [],
   "source": [
    "results = []\n",
    "for q in np.quantile(df['x1'], quantiles):\n",
    "    dfc = df.copy()\n",
    "    dfc['x1'] = q\n",
    "    dfc['x1'] = dfc['x1'].astype('float32')\n",
    "    p = model.predict({'X_numeric': dfc[['x1', 'x2', 'x4']].values,\n",
    "                       'X_categorical1': dfc[['x3']].values})\n",
    "    p = pd.DataFrame(pd.Series(p[:, 0]).describe(percentiles=quantiles)).T\n",
    "    p['x1'] = q\n",
    "    results.append(p)\n",
    "results = pd.concat(results, axis=0)"
   ]
  },
  {
   "cell_type": "code",
   "execution_count": 61,
   "id": "b5b445dd",
   "metadata": {},
   "outputs": [
    {
     "data": {
      "image/png": "[encoded data removed]",
      "text/plain": [
       "<Figure size 432x288 with 1 Axes>"
      ]
     },
     "metadata": {
      "needs_background": "light"
     },
     "output_type": "display_data"
    }
   ],
   "source": [
    "results.plot(x='x1', y=['20%', 'mean', '80%'])\n",
    "plt.show()"
   ]
  }
 ],
 "metadata": {
  "kernelspec": {
   "display_name": "Python 3 (ipykernel)",
   "language": "python",
   "name": "python3"
  },
  "language_info": {
   "codemirror_mode": {
    "name": "ipython",
    "version": 3
   },
   "file_extension": ".py",
   "mimetype": "text/x-python",
   "name": "python",
   "nbconvert_exporter": "python",
   "pygments_lexer": "ipython3",
   "version": "3.8.5"
  }
 },
 "nbformat": 4,
 "nbformat_minor": 5
}
