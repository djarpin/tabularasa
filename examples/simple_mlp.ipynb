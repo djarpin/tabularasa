{
 "cells": [
  {
   "cell_type": "markdown",
   "id": "7332409c",
   "metadata": {},
   "source": [
    "# Simple MLP\n",
    "\n",
    "---\n",
    "\n",
    "---\n",
    "\n",
    "### Overview\n",
    "\n",
    "This notebook trains a simple multi-layer perceptron network to predict `y` as an unconstrained function of `x1`, `x2`, `x3`, and `x4`.  It uses an embedding layer for `x3` and linear layers with ReLU activation for the remainder.\n",
    "\n",
    "Its purpose is to illustrate that, unless constrained, `x1`'s relationship to `y` will be non-monotonic."
   ]
  },
  {
   "cell_type": "code",
   "execution_count": 1,
   "id": "9b03dc32",
   "metadata": {},
   "outputs": [],
   "source": [
    "import pandas as pd\n",
    "import numpy as np\n",
    "import matplotlib.pyplot as plt\n",
    "import torch\n",
    "from torch import nn\n",
    "import torch.nn.functional as F\n",
    "from torch import optim\n",
    "from skorch.regressor import NeuralNetRegressor"
   ]
  },
  {
   "cell_type": "markdown",
   "id": "2672e1f5",
   "metadata": {},
   "source": [
    "---\n",
    "\n",
    "### Load example data\n",
    "\n",
    "If you haven't already, please generate the example dataset using the [example_data](example_data.ipynb) notebook."
   ]
  },
  {
   "cell_type": "code",
   "execution_count": 2,
   "id": "52e29f8c",
   "metadata": {},
   "outputs": [],
   "source": [
    "df = pd.read_pickle('./data/simple_train.pkl')"
   ]
  },
  {
   "cell_type": "markdown",
   "id": "84ec18ee",
   "metadata": {},
   "source": [
    "---\n",
    "\n",
    "### Define network and model\n",
    "\n",
    "[skorch](https://github.com/skorch-dev/skorch) takes PyTorch Module's as input.  We could just as easily train this using the standard PyTorch API, or an alternative like [PyTorch Lightning](https://www.pytorchlightning.ai/).  However, given that skorch is used extensively throughout this repository it makes sense to start here.\n",
    "\n",
    "Notice:\n",
    "- We create a realtively small embedding layer for the 50 unique values of `x3`.\n",
    "- `X_numeric` and `X_categorical` are supplied as separate inputs to `.forward()` and concatenated after `X_categorical` is embedded."
   ]
  },
  {
   "cell_type": "code",
   "execution_count": 3,
   "id": "c2cca9a2",
   "metadata": {},
   "outputs": [],
   "source": [
    "class SimpleMLP(nn.Module):\n",
    "    \n",
    "    def __init__(self):\n",
    "        super().__init__()\n",
    "        self.emb1 = nn.Embedding(50, 16)\n",
    "        self.fc1 = nn.Linear(3 + 16, 128)\n",
    "        self.fc2 = nn.Linear(128, 128)\n",
    "        self.fc3 = nn.Linear(128, 32)\n",
    "        self.fc4 = nn.Linear(32, 1)\n",
    "    \n",
    "    def forward(self, X_numeric, X_categorical1):\n",
    "        X = torch.cat([X_numeric, self.emb1(X_categorical1).squeeze()], 1)\n",
    "        X = F.relu(self.fc1(X))\n",
    "        X = F.relu(self.fc2(X))\n",
    "        X = F.relu(self.fc3(X))\n",
    "        return self.fc4(X)"
   ]
  },
  {
   "cell_type": "markdown",
   "id": "6a8e573e",
   "metadata": {},
   "source": [
    "skorch's `NeuralNetRegressor()` takes the network we've defined as input, and has custom arguments for common input parameters like number of epochs (`max_epochs`) and learning rate (`lr`)."
   ]
  },
  {
   "cell_type": "code",
   "execution_count": 4,
   "id": "3afde292",
   "metadata": {},
   "outputs": [],
   "source": [
    "model = NeuralNetRegressor(SimpleMLP,\n",
    "                           max_epochs=150,\n",
    "                           lr=0.01,\n",
    "                           optimizer=torch.optim.Adam,\n",
    "                           iterator_train__shuffle=True)"
   ]
  },
  {
   "cell_type": "markdown",
   "id": "2f9f729c",
   "metadata": {},
   "source": [
    "### Train and examine\n",
    "\n",
    "skorch allows us to simply use `.fit()` and pass in numpy arrays to train our network.\n",
    "\n",
    "Notice:\n",
    "- The typical `X` argument in sklearn is now a `dict` with keys that correspond to the input arguments for our network's `.forward()` function.\n",
    "- `y` is required to be a 2-dimensional array (not 1-d)."
   ]
  },
  {
   "cell_type": "code",
   "execution_count": 5,
   "id": "aae484d7",
   "metadata": {},
   "outputs": [
    {
     "name": "stdout",
     "output_type": "stream",
     "text": [
      "  epoch    train_loss    valid_loss     dur\n",
      "-------  ------------  ------------  ------\n",
      "      1        \u001b[36m0.3415\u001b[0m        \u001b[32m0.3541\u001b[0m  0.5720\n",
      "      2        \u001b[36m0.2794\u001b[0m        \u001b[32m0.2965\u001b[0m  0.0628\n",
      "      3        \u001b[36m0.2098\u001b[0m        \u001b[32m0.1704\u001b[0m  0.0579\n",
      "      4        \u001b[36m0.1202\u001b[0m        0.2444  0.0622\n",
      "      5        \u001b[36m0.1057\u001b[0m        \u001b[32m0.1372\u001b[0m  0.0673\n",
      "      6        \u001b[36m0.0739\u001b[0m        0.1504  0.0623\n",
      "      7        \u001b[36m0.0535\u001b[0m        \u001b[32m0.1351\u001b[0m  0.0611\n",
      "      8        \u001b[36m0.0409\u001b[0m        \u001b[32m0.1329\u001b[0m  0.0594\n",
      "      9        \u001b[36m0.0393\u001b[0m        0.1425  0.0612\n",
      "     10        \u001b[36m0.0340\u001b[0m        \u001b[32m0.1317\u001b[0m  0.0587\n",
      "     11        \u001b[36m0.0313\u001b[0m        \u001b[32m0.1274\u001b[0m  0.0630\n",
      "     12        \u001b[36m0.0292\u001b[0m        0.1547  0.0651\n",
      "     13        0.0324        \u001b[32m0.1212\u001b[0m  0.0554\n",
      "     14        \u001b[36m0.0275\u001b[0m        0.1517  0.0551\n",
      "     15        0.0285        0.1353  0.0568\n",
      "     16        \u001b[36m0.0269\u001b[0m        0.1328  0.0563\n",
      "     17        \u001b[36m0.0233\u001b[0m        0.1325  0.0540\n",
      "     18        \u001b[36m0.0213\u001b[0m        0.1453  0.0622\n",
      "     19        \u001b[36m0.0200\u001b[0m        \u001b[32m0.1196\u001b[0m  0.0625\n",
      "     20        \u001b[36m0.0193\u001b[0m        0.1286  0.0570\n",
      "     21        0.0195        0.1395  0.0634\n",
      "     22        0.0199        0.1448  0.0579\n",
      "     23        \u001b[36m0.0189\u001b[0m        \u001b[32m0.1171\u001b[0m  0.0672\n",
      "     24        0.0218        0.1346  0.0620\n",
      "     25        0.0216        0.1321  0.0627\n",
      "     26        0.0229        0.1239  0.0646\n",
      "     27        0.0211        0.1251  0.0587\n",
      "     28        0.0201        0.1239  0.0572\n",
      "     29        \u001b[36m0.0181\u001b[0m        0.1372  0.0587\n",
      "     30        0.0192        0.1184  0.0591\n",
      "     31        \u001b[36m0.0174\u001b[0m        0.1202  0.0635\n",
      "     32        \u001b[36m0.0164\u001b[0m        0.1239  0.0620\n",
      "     33        \u001b[36m0.0119\u001b[0m        0.1225  0.0662\n",
      "     34        \u001b[36m0.0118\u001b[0m        0.1259  0.0676\n",
      "     35        \u001b[36m0.0112\u001b[0m        0.1293  0.0571\n",
      "     36        0.0114        \u001b[32m0.1152\u001b[0m  0.0530\n",
      "     37        0.0113        0.1319  0.0625\n",
      "     38        0.0112        \u001b[32m0.1142\u001b[0m  0.0602\n",
      "     39        \u001b[36m0.0100\u001b[0m        0.1335  0.0564\n",
      "     40        0.0108        0.1259  0.0649\n",
      "     41        0.0106        0.1192  0.0670\n",
      "     42        0.0116        0.1183  0.0542\n",
      "     43        0.0107        0.1236  0.0565\n",
      "     44        0.0121        0.1196  0.0639\n",
      "     45        0.0109        0.1292  0.0577\n",
      "     46        \u001b[36m0.0097\u001b[0m        0.1162  0.0573\n",
      "     47        0.0110        0.1146  0.0553\n",
      "     48        0.0114        0.1279  0.0591\n",
      "     49        0.0121        \u001b[32m0.1037\u001b[0m  0.0666\n",
      "     50        0.0133        0.1252  0.0567\n",
      "     51        0.0154        0.1173  0.0565\n",
      "     52        0.0116        0.1132  0.0549\n",
      "     53        0.0122        0.1197  0.0544\n",
      "     54        0.0105        0.1177  0.0576\n",
      "     55        \u001b[36m0.0089\u001b[0m        0.1169  0.0567\n",
      "     56        0.0097        0.1159  0.0554\n",
      "     57        0.0090        0.1083  0.0650\n",
      "     58        \u001b[36m0.0082\u001b[0m        0.1235  0.0644\n",
      "     59        \u001b[36m0.0081\u001b[0m        0.1125  0.0558\n",
      "     60        \u001b[36m0.0076\u001b[0m        0.1135  0.0591\n",
      "     61        0.0099        0.1119  0.0669\n",
      "     62        0.0119        0.1149  0.0624\n",
      "     63        0.0099        0.1112  0.0549\n",
      "     64        0.0095        0.1148  0.0541\n",
      "     65        0.0103        0.1057  0.0700\n",
      "     66        0.0097        0.1111  0.0671\n",
      "     67        0.0080        \u001b[32m0.0984\u001b[0m  0.0536\n",
      "     68        0.0078        0.1209  0.0533\n",
      "     69        0.0083        0.1041  0.0573\n",
      "     70        0.0095        0.1231  0.0570\n",
      "     71        0.0085        0.1004  0.0552\n",
      "     72        0.0079        0.1120  0.0614\n",
      "     73        0.0078        0.1028  0.0624\n",
      "     74        \u001b[36m0.0065\u001b[0m        0.1212  0.0643\n",
      "     75        0.0098        0.1019  0.0588\n",
      "     76        0.0101        0.1055  0.0565\n",
      "     77        0.0104        0.1209  0.0589\n",
      "     78        0.0111        0.1035  0.0596\n",
      "     79        0.0108        0.1059  0.0611\n",
      "     80        0.0117        0.1069  0.0750\n",
      "     81        0.0105        0.1117  0.0663\n",
      "     82        0.0086        0.1050  0.0614\n",
      "     83        0.0077        0.1083  0.0620\n",
      "     84        0.0074        0.1053  0.0644\n",
      "     85        0.0070        0.1043  0.0599\n",
      "     86        0.0072        0.1146  0.0648\n",
      "     87        0.0081        0.1027  0.0862\n",
      "     88        0.0078        0.1119  0.0666\n",
      "     89        0.0087        0.1050  0.0654\n",
      "     90        0.0080        0.1026  0.0684\n",
      "     91        0.0069        0.1120  0.0611\n",
      "     92        \u001b[36m0.0058\u001b[0m        0.0995  0.0592\n",
      "     93        \u001b[36m0.0055\u001b[0m        0.1078  0.0589\n",
      "     94        0.0057        0.1082  0.0613\n",
      "     95        0.0065        0.1072  0.0598\n",
      "     96        0.0063        0.1033  0.0579\n",
      "     97        0.0065        \u001b[32m0.0980\u001b[0m  0.0685\n",
      "     98        0.0063        0.1055  0.0653\n",
      "     99        0.0068        0.1066  0.0663\n",
      "    100        0.0067        0.1120  0.0617\n",
      "    101        0.0075        0.1070  0.0656\n",
      "    102        0.0072        0.1064  0.0621\n",
      "    103        0.0072        \u001b[32m0.0929\u001b[0m  0.0600\n",
      "    104        0.0062        0.1132  0.0593\n",
      "    105        0.0060        0.0999  0.0694\n",
      "    106        0.0066        0.1085  0.0552\n",
      "    107        0.0077        0.1104  0.0553\n",
      "    108        0.0081        0.1023  0.0556\n",
      "    109        0.0076        0.1044  0.0597\n",
      "    110        0.0065        0.1025  0.0537\n",
      "    111        0.0063        0.1054  0.0552\n",
      "    112        0.0069        0.1054  0.0646\n",
      "    113        0.0085        0.0960  0.0669\n",
      "    114        0.0071        0.1129  0.0619\n",
      "    115        0.0075        0.0932  0.0579\n",
      "    116        0.0095        0.1007  0.0579\n",
      "    117        0.0081        0.1022  0.0619\n",
      "    118        0.0065        0.1031  0.0615\n",
      "    119        0.0060        0.0979  0.0628\n",
      "    120        \u001b[36m0.0055\u001b[0m        0.1030  0.0544\n",
      "    121        \u001b[36m0.0052\u001b[0m        0.0991  0.0532\n",
      "    122        0.0054        0.1077  0.0547\n",
      "    123        0.0066        0.0971  0.0583\n",
      "    124        0.0059        0.1022  0.0535\n",
      "    125        \u001b[36m0.0050\u001b[0m        0.0985  0.0552\n",
      "    126        0.0055        0.0949  0.0542\n",
      "    127        0.0057        \u001b[32m0.0914\u001b[0m  0.0541\n",
      "    128        0.0057        0.1044  0.0541\n",
      "    129        0.0056        0.0955  0.0544\n",
      "    130        0.0053        0.0937  0.0536\n",
      "    131        0.0051        0.1003  0.0540\n",
      "    132        \u001b[36m0.0047\u001b[0m        0.0955  0.0616\n",
      "    133        0.0049        0.0952  0.0531\n",
      "    134        0.0048        0.0959  0.0549\n",
      "    135        0.0051        0.0963  0.0563\n",
      "    136        0.0047        0.1026  0.0622\n",
      "    137        0.0048        \u001b[32m0.0896\u001b[0m  0.0588\n",
      "    138        0.0061        0.0941  0.0592\n",
      "    139        0.0072        0.0949  0.0554\n",
      "    140        0.0066        0.0935  0.0618\n",
      "    141        0.0074        0.1019  0.0562\n",
      "    142        0.0072        \u001b[32m0.0888\u001b[0m  0.0666\n",
      "    143        0.0078        0.1044  0.0561\n",
      "    144        0.0089        \u001b[32m0.0862\u001b[0m  0.0547\n",
      "    145        0.0086        0.0975  0.0572\n",
      "    146        0.0108        0.0970  0.0551\n",
      "    147        0.0076        0.0932  0.0585\n",
      "    148        0.0070        0.0910  0.0606\n",
      "    149        0.0066        \u001b[32m0.0833\u001b[0m  0.0619\n",
      "    150        0.0060        0.0960  0.0557\n"
     ]
    },
    {
     "data": {
      "text/plain": [
       "<class 'skorch.regressor.NeuralNetRegressor'>[initialized](\n",
       "  module_=SimpleMLP(\n",
       "    (emb1): Embedding(50, 16)\n",
       "    (fc1): Linear(in_features=19, out_features=128, bias=True)\n",
       "    (fc2): Linear(in_features=128, out_features=128, bias=True)\n",
       "    (fc3): Linear(in_features=128, out_features=32, bias=True)\n",
       "    (fc4): Linear(in_features=32, out_features=1, bias=True)\n",
       "  ),\n",
       ")"
      ]
     },
     "execution_count": 5,
     "metadata": {},
     "output_type": "execute_result"
    }
   ],
   "source": [
    "model.fit({'X_numeric': df[['x1', 'x2', 'x4']].values,\n",
    "           'X_categorical1': df[['x3']].values},\n",
    "          df[['y']].values)"
   ]
  },
  {
   "cell_type": "markdown",
   "id": "328cf5b3",
   "metadata": {},
   "source": [
    "Next, we'll create a partial dependence plot for `x1`.  This consists of sequentially setting `x1` to the same value for all observations, across a full spectrum of values, and then summarizing the predictions.\n",
    "\n",
    "Notice:\n",
    "- We can use `.predict()` on our model, passing in a `dict` with keys that correspond to arguments in our network's `.forward()` function and values that are numpy arrays."
   ]
  },
  {
   "cell_type": "code",
   "execution_count": 6,
   "id": "3fad5760",
   "metadata": {},
   "outputs": [],
   "source": [
    "quantiles = [0.01, 0.05, 0.1, 0.2, 0.3, 0.4, 0.6, 0.7, 0.8, 0.9, 0.95, 0.99]"
   ]
  },
  {
   "cell_type": "code",
   "execution_count": 7,
   "id": "48020146",
   "metadata": {},
   "outputs": [],
   "source": [
    "results = []\n",
    "for q in np.quantile(df['x1'], quantiles):\n",
    "    dfc = df.copy()\n",
    "    dfc['x1'] = q\n",
    "    dfc['x1'] = dfc['x1'].astype('float32')\n",
    "    p = model.predict({'X_numeric': dfc[['x1', 'x2', 'x4']].values,\n",
    "                       'X_categorical1': dfc[['x3']].values})\n",
    "    p = pd.DataFrame(pd.Series(p[:, 0]).describe(percentiles=quantiles)).T\n",
    "    p['x1'] = q\n",
    "    results.append(p)\n",
    "results = pd.concat(results, axis=0)"
   ]
  },
  {
   "cell_type": "markdown",
   "id": "b350af76",
   "metadata": {},
   "source": [
    "When plotting the values, we can clearly see the shape the cubic shape that we expect, with respect to `x1`, and see clear evidence of non-monotonicity (Given that we defined the functional form to be non-monotonic, that makes sense, but there often cases where data noise might create subtle non-monotonicity that is undesirable in a practical scenario)."
   ]
  },
  {
   "cell_type": "code",
   "execution_count": 8,
   "id": "b5b445dd",
   "metadata": {},
   "outputs": [
    {
     "data": {
      "image/png": "[encoded data removed]",
      "text/plain": [
       "<Figure size 432x288 with 1 Axes>"
      ]
     },
     "metadata": {
      "needs_background": "light"
     },
     "output_type": "display_data"
    }
   ],
   "source": [
    "results.plot(x='x1', y=['20%', 'mean', '80%'])\n",
    "plt.show()"
   ]
  },
  {
   "cell_type": "markdown",
   "id": "203aa4a7",
   "metadata": {},
   "source": [
    "A montonically constrained extension of this model can be found in [mixed_monotonic](./mixed_monotonic.ipynb)."
   ]
  }
 ],
 "metadata": {
  "kernelspec": {
   "display_name": "Python 3 (ipykernel)",
   "language": "python",
   "name": "python3"
  },
  "language_info": {
   "codemirror_mode": {
    "name": "ipython",
    "version": 3
   },
   "file_extension": ".py",
   "mimetype": "text/x-python",
   "name": "python",
   "nbconvert_exporter": "python",
   "pygments_lexer": "ipython3",
   "version": "3.9.12"
  }
 },
 "nbformat": 4,
 "nbformat_minor": 5
}
