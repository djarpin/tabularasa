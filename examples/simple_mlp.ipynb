{
 "cells": [
  {
   "cell_type": "markdown",
   "id": "7332409c",
   "metadata": {},
   "source": [
    "# Simple MLP\n",
    "\n",
    "---\n",
    "\n",
    "---\n",
    "\n",
    "### Overview\n",
    "\n",
    "This notebook trains a simple multi-layer perceptron network to predict `y` as an unconstrained function of `x1`, `x2`, `x3`, and `x4`.  It uses an embedding layer for `x3` and linear layers with ReLU activation for the remainder.\n",
    "\n",
    "Its purpose is to illustrate that, unless constrained, `x1`'s relationship to `y` will be non-monotonic."
   ]
  },
  {
   "cell_type": "code",
   "execution_count": 1,
   "id": "9b03dc32",
   "metadata": {},
   "outputs": [],
   "source": [
    "import pandas as pd\n",
    "import numpy as np\n",
    "import matplotlib.pyplot as plt\n",
    "import torch\n",
    "from torch import nn\n",
    "import torch.nn.functional as F\n",
    "from torch import optim\n",
    "from skorch.regressor import NeuralNetRegressor"
   ]
  },
  {
   "cell_type": "markdown",
   "id": "2672e1f5",
   "metadata": {},
   "source": [
    "---\n",
    "\n",
    "### Load example data\n",
    "\n",
    "If you haven't already, please generate the example dataset using the [example_data](example_data.ipynb) notebook."
   ]
  },
  {
   "cell_type": "code",
   "execution_count": 2,
   "id": "52e29f8c",
   "metadata": {},
   "outputs": [],
   "source": [
    "df = pd.read_pickle('./data/simple_train.pkl')"
   ]
  },
  {
   "cell_type": "markdown",
   "id": "84ec18ee",
   "metadata": {},
   "source": [
    "---\n",
    "\n",
    "### Define network and model\n",
    "\n",
    "[skorch](https://github.com/skorch-dev/skorch) takes PyTorch Module's as input.  We could just as easily train this using the standard PyTorch API, or an alternative like [PyTorch Lightning](https://www.pytorchlightning.ai/).  However, given that skorch is used extensively throughout this repository it makes sense to start here.\n",
    "\n",
    "Notice:\n",
    "- We create a realtively small embedding layer for the 50 unique values of `x3`.\n",
    "- `X_numeric` and `X_categorical` are supplied as separate inputs to `.forward()` and concatenated after `X_categorical` is embedded."
   ]
  },
  {
   "cell_type": "code",
   "execution_count": 3,
   "id": "c2cca9a2",
   "metadata": {},
   "outputs": [],
   "source": [
    "class SimpleMLP(nn.Module):\n",
    "    \n",
    "    def __init__(self):\n",
    "        super().__init__()\n",
    "        self.emb1 = nn.Embedding(50, 16)\n",
    "        self.fc1 = nn.Linear(3 + 16, 128)\n",
    "        self.fc2 = nn.Linear(128, 128)\n",
    "        self.fc3 = nn.Linear(128, 32)\n",
    "        self.fc4 = nn.Linear(32, 1)\n",
    "    \n",
    "    def forward(self, X_numeric, X_categorical1):\n",
    "        X = torch.cat([X_numeric, self.emb1(X_categorical1).squeeze()], 1)\n",
    "        X = F.relu(self.fc1(X))\n",
    "        X = F.relu(self.fc2(X))\n",
    "        X = F.relu(self.fc3(X))\n",
    "        return self.fc4(X)"
   ]
  },
  {
   "cell_type": "markdown",
   "id": "6a8e573e",
   "metadata": {},
   "source": [
    "skorch's `NeuralNetRegressor()` takes the network we've defined as input, and has custom arguments for common input parameters like number of epochs (`max_epochs`) and learning rate (`lr`)."
   ]
  },
  {
   "cell_type": "code",
   "execution_count": 4,
   "id": "3afde292",
   "metadata": {},
   "outputs": [],
   "source": [
    "model = NeuralNetRegressor(SimpleMLP,\n",
    "                           max_epochs=150,\n",
    "                           lr=0.01,\n",
    "                           optimizer=torch.optim.Adam)"
   ]
  },
  {
   "cell_type": "markdown",
   "id": "2f9f729c",
   "metadata": {},
   "source": [
    "### Train and examine\n",
    "\n",
    "skorch allows us to simply use `.fit()` and pass in numpy arrays to train our network.\n",
    "\n",
    "Notice:\n",
    "- The typical `X` argument in sklearn is now a `dict()` with keys that correspond to the input arguments for our network's `.forward()` function.\n",
    "- `y` is required to be a 2-dimensional array (not 1-d)."
   ]
  },
  {
   "cell_type": "code",
   "execution_count": 5,
   "id": "aae484d7",
   "metadata": {},
   "outputs": [
    {
     "name": "stdout",
     "output_type": "stream",
     "text": [
      "  epoch    train_loss    valid_loss     dur\n",
      "-------  ------------  ------------  ------\n",
      "      1        \u001b[36m0.3446\u001b[0m        \u001b[32m0.3105\u001b[0m  0.0815\n",
      "      2        \u001b[36m0.2773\u001b[0m        \u001b[32m0.2390\u001b[0m  0.0612\n",
      "      3        \u001b[36m0.2419\u001b[0m        \u001b[32m0.1860\u001b[0m  0.0575\n",
      "      4        \u001b[36m0.2144\u001b[0m        0.3121  0.0559\n",
      "      5        0.3290        0.2057  0.0584\n",
      "      6        0.2530        0.2868  0.0557\n",
      "      7        0.2275        0.2192  0.0593\n",
      "      8        \u001b[36m0.1856\u001b[0m        \u001b[32m0.1823\u001b[0m  0.0557\n",
      "      9        \u001b[36m0.1227\u001b[0m        \u001b[32m0.1408\u001b[0m  0.0570\n",
      "     10        \u001b[36m0.0971\u001b[0m        0.1625  0.0558\n",
      "     11        \u001b[36m0.0965\u001b[0m        0.2053  0.0664\n",
      "     12        0.1277        \u001b[32m0.1032\u001b[0m  0.0598\n",
      "     13        0.1120        0.1344  0.0593\n",
      "     14        0.1024        0.1759  0.0548\n",
      "     15        \u001b[36m0.0882\u001b[0m        0.1212  0.0581\n",
      "     16        \u001b[36m0.0601\u001b[0m        0.1096  0.0601\n",
      "     17        \u001b[36m0.0583\u001b[0m        0.1590  0.0589\n",
      "     18        0.0711        0.1043  0.0592\n",
      "     19        0.0588        \u001b[32m0.1023\u001b[0m  0.0634\n",
      "     20        0.0691        0.1701  0.0552\n",
      "     21        0.0745        0.1133  0.0622\n",
      "     22        \u001b[36m0.0563\u001b[0m        \u001b[32m0.0975\u001b[0m  0.0626\n",
      "     23        0.0582        0.1494  0.0555\n",
      "     24        0.0686        0.1181  0.0585\n",
      "     25        \u001b[36m0.0514\u001b[0m        0.1062  0.0593\n",
      "     26        0.0526        0.1232  0.0591\n",
      "     27        0.0537        \u001b[32m0.0973\u001b[0m  0.0595\n",
      "     28        \u001b[36m0.0409\u001b[0m        0.1033  0.0554\n",
      "     29        0.0414        0.1201  0.0553\n",
      "     30        \u001b[36m0.0399\u001b[0m        \u001b[32m0.0948\u001b[0m  0.0602\n",
      "     31        \u001b[36m0.0365\u001b[0m        0.1069  0.0615\n",
      "     32        0.0369        0.1114  0.0560\n",
      "     33        0.0376        \u001b[32m0.0918\u001b[0m  0.0579\n",
      "     34        0.0378        0.1055  0.0649\n",
      "     35        0.0389        0.1285  0.0648\n",
      "     36        0.0478        0.0927  0.0641\n",
      "     37        0.0442        0.0926  0.0575\n",
      "     38        0.0458        0.1364  0.0647\n",
      "     39        0.0497        0.0957  0.0696\n",
      "     40        0.0387        \u001b[32m0.0886\u001b[0m  0.0656\n",
      "     41        0.0371        0.1239  0.0592\n",
      "     42        0.0417        0.0955  0.0651\n",
      "     43        0.0391        \u001b[32m0.0857\u001b[0m  0.0675\n",
      "     44        0.0381        0.1197  0.0707\n",
      "     45        0.0409        0.0928  0.0636\n",
      "     46        \u001b[36m0.0358\u001b[0m        0.0861  0.0731\n",
      "     47        0.0360        0.1141  0.0697\n",
      "     48        0.0380        0.0907  0.0823\n",
      "     49        0.0378        0.0873  0.0568\n",
      "     50        0.0369        0.1112  0.0627\n",
      "     51        0.0381        0.0896  0.0600\n",
      "     52        0.0396        0.0889  0.0611\n",
      "     53        0.0359        0.1038  0.0614\n",
      "     54        \u001b[36m0.0349\u001b[0m        \u001b[32m0.0838\u001b[0m  0.0637\n",
      "     55        0.0353        0.0907  0.0651\n",
      "     56        \u001b[36m0.0313\u001b[0m        0.0971  0.0619\n",
      "     57        \u001b[36m0.0309\u001b[0m        \u001b[32m0.0820\u001b[0m  0.0649\n",
      "     58        0.0342        0.0909  0.0624\n",
      "     59        \u001b[36m0.0270\u001b[0m        0.0916  0.0611\n",
      "     60        \u001b[36m0.0251\u001b[0m        \u001b[32m0.0767\u001b[0m  0.0825\n",
      "     61        0.0261        0.0882  0.0565\n",
      "     62        \u001b[36m0.0218\u001b[0m        0.0913  0.0568\n",
      "     63        \u001b[36m0.0215\u001b[0m        0.0798  0.0675\n",
      "     64        0.0237        0.0866  0.0660\n",
      "     65        \u001b[36m0.0202\u001b[0m        0.0954  0.0677\n",
      "     66        0.0202        0.0776  0.0894\n",
      "     67        \u001b[36m0.0179\u001b[0m        0.0769  0.0628\n",
      "     68        \u001b[36m0.0159\u001b[0m        0.0890  0.0633\n",
      "     69        0.0161        0.0844  0.0668\n",
      "     70        0.0168        \u001b[32m0.0735\u001b[0m  0.0652\n",
      "     71        0.0200        0.0787  0.0670\n",
      "     72        0.0171        0.0984  0.0634\n",
      "     73        0.0231        0.0851  0.0660\n",
      "     74        0.0219        0.0737  0.0638\n",
      "     75        0.0361        0.0930  0.0639\n",
      "     76        0.0268        0.1119  0.0580\n",
      "     77        0.0422        0.0751  0.0616\n",
      "     78        0.0303        0.0750  0.0594\n",
      "     79        0.0297        0.1003  0.0648\n",
      "     80        0.0287        0.0855  0.0695\n",
      "     81        0.0236        0.0758  0.0665\n",
      "     82        0.0258        0.0894  0.0675\n",
      "     83        0.0223        0.0917  0.0759\n",
      "     84        0.0239        \u001b[32m0.0684\u001b[0m  0.0501\n",
      "     85        0.0222        0.0804  0.0504\n",
      "     86        0.0178        0.0930  0.0506\n",
      "     87        0.0194        0.0705  0.0641\n",
      "     88        0.0162        0.0742  0.0658\n",
      "     89        0.0183        0.0889  0.1106\n",
      "     90        0.0165        0.0805  0.1073\n",
      "     91        0.0177        0.0685  0.0709\n",
      "     92        0.0181        0.0747  0.0683\n",
      "     93        0.0169        0.0917  0.0722\n",
      "     94        0.0195        0.0788  0.0680\n",
      "     95        0.0179        \u001b[32m0.0681\u001b[0m  0.0643\n",
      "     96        0.0210        0.0800  0.0738\n",
      "     97        0.0168        0.0951  0.0630\n",
      "     98        0.0218        \u001b[32m0.0656\u001b[0m  0.0725\n",
      "     99        0.0176        0.0679  0.0624\n",
      "    100        0.0220        0.0914  0.0704\n",
      "    101        0.0191        0.0842  0.0668\n",
      "    102        0.0224        \u001b[32m0.0650\u001b[0m  0.0649\n",
      "    103        0.0203        0.0762  0.0697\n",
      "    104        0.0197        0.0933  0.0610\n",
      "    105        0.0193        0.0753  0.0680\n",
      "    106        0.0176        0.0688  0.0688\n",
      "    107        0.0195        0.0827  0.0695\n",
      "    108        0.0171        0.0880  0.0802\n",
      "    109        0.0196        0.0691  0.0654\n",
      "    110        0.0182        0.0717  0.0554\n",
      "    111        0.0180        0.0891  0.0644\n",
      "    112        0.0179        0.0767  0.0542\n",
      "    113        0.0180        0.0650  0.0632\n",
      "    114        0.0205        0.0837  0.0632\n",
      "    115        0.0176        0.0848  0.0539\n",
      "    116        0.0205        0.0656  0.0722\n",
      "    117        0.0167        0.0651  0.0638\n",
      "    118        0.0214        0.0906  0.0763\n",
      "    119        0.0195        0.0868  0.0830\n",
      "    120        0.0240        \u001b[32m0.0619\u001b[0m  0.0623\n",
      "    121        0.0218        0.0759  0.0551\n",
      "    122        0.0203        0.0969  0.0554\n",
      "    123        0.0212        0.0650  0.0553\n",
      "    124        0.0183        0.0672  0.0641\n",
      "    125        0.0209        0.0923  0.0671\n",
      "    126        0.0203        0.0858  0.0628\n",
      "    127        0.0248        \u001b[32m0.0596\u001b[0m  0.0675\n",
      "    128        0.0238        0.0839  0.0631\n",
      "    129        0.0202        0.0948  0.0636\n",
      "    130        0.0221        \u001b[32m0.0570\u001b[0m  0.0642\n",
      "    131        0.0205        0.0775  0.0631\n",
      "    132        0.0221        0.1009  0.0635\n",
      "    133        0.0233        0.0639  0.0590\n",
      "    134        0.0223        0.0702  0.0651\n",
      "    135        0.0245        0.1053  0.0639\n",
      "    136        0.0260        0.0761  0.0633\n",
      "    137        0.0266        0.0571  0.0535\n",
      "    138        0.0234        0.1038  0.0625\n",
      "    139        0.0265        0.0822  0.0634\n",
      "    140        0.0231        0.0578  0.0625\n",
      "    141        0.0220        0.0960  0.0645\n",
      "    142        0.0227        0.0833  0.0629\n",
      "    143        0.0166        0.0620  0.0626\n",
      "    144        0.0183        0.0827  0.0568\n",
      "    145        \u001b[36m0.0148\u001b[0m        0.0845  0.0549\n",
      "    146        \u001b[36m0.0130\u001b[0m        0.0634  0.0701\n",
      "    147        0.0131        0.0716  0.0561\n",
      "    148        \u001b[36m0.0106\u001b[0m        0.0876  0.0566\n",
      "    149        0.0117        0.0665  0.0552\n",
      "    150        \u001b[36m0.0098\u001b[0m        0.0690  0.0677\n"
     ]
    },
    {
     "data": {
      "text/plain": [
       "<class 'skorch.regressor.NeuralNetRegressor'>[initialized](\n",
       "  module_=SimpleMLP(\n",
       "    (emb1): Embedding(50, 16)\n",
       "    (fc1): Linear(in_features=19, out_features=128, bias=True)\n",
       "    (fc2): Linear(in_features=128, out_features=128, bias=True)\n",
       "    (fc3): Linear(in_features=128, out_features=32, bias=True)\n",
       "    (fc4): Linear(in_features=32, out_features=1, bias=True)\n",
       "  ),\n",
       ")"
      ]
     },
     "execution_count": 5,
     "metadata": {},
     "output_type": "execute_result"
    }
   ],
   "source": [
    "model.fit({'X_numeric': df[['x1', 'x2', 'x4']].values,\n",
    "           'X_categorical1': df[['x3']].values},\n",
    "          df[['y']].values)"
   ]
  },
  {
   "cell_type": "markdown",
   "id": "328cf5b3",
   "metadata": {},
   "source": [
    "Next, we'll create a partial dependence plot for `x1`.  This consists of sequentially setting `x1` to the same value for all observations, across a full spectrum of values, and then summarizing the predictions.\n",
    "\n",
    "Notice:\n",
    "- We can use `.predict()` on our model, passing in a `dict` with keys that correspond to arguments in our network's `.forward()` function and values that are numpy arrays."
   ]
  },
  {
   "cell_type": "code",
   "execution_count": 6,
   "id": "3fad5760",
   "metadata": {},
   "outputs": [],
   "source": [
    "quantiles = [0.01, 0.05, 0.1, 0.2, 0.3, 0.4, 0.6, 0.7, 0.8, 0.9, 0.95, 0.99]"
   ]
  },
  {
   "cell_type": "code",
   "execution_count": 7,
   "id": "48020146",
   "metadata": {},
   "outputs": [],
   "source": [
    "results = []\n",
    "for q in np.quantile(df['x1'], quantiles):\n",
    "    dfc = df.copy()\n",
    "    dfc['x1'] = q\n",
    "    dfc['x1'] = dfc['x1'].astype('float32')\n",
    "    p = model.predict({'X_numeric': dfc[['x1', 'x2', 'x4']].values,\n",
    "                       'X_categorical1': dfc[['x3']].values})\n",
    "    p = pd.DataFrame(pd.Series(p[:, 0]).describe(percentiles=quantiles)).T\n",
    "    p['x1'] = q\n",
    "    results.append(p)\n",
    "results = pd.concat(results, axis=0)"
   ]
  },
  {
   "cell_type": "markdown",
   "id": "b350af76",
   "metadata": {},
   "source": [
    "When plotting the values, we can clearly see the shape the cubic shape that we expect, with respect to `x1`, and see clear evidence of non-monotonicity (Given that we defined the functional form to be non-monotonic, that makes sense, but there often cases where data noise might create subtle non-monotonicity that is undesirable in a practical scenario)."
   ]
  },
  {
   "cell_type": "code",
   "execution_count": 8,
   "id": "b5b445dd",
   "metadata": {},
   "outputs": [
    {
     "data": {
      "image/png": "[encoded data removed]",
      "text/plain": [
       "<Figure size 432x288 with 1 Axes>"
      ]
     },
     "metadata": {
      "needs_background": "light"
     },
     "output_type": "display_data"
    }
   ],
   "source": [
    "results.plot(x='x1', y=['20%', 'mean', '80%'])\n",
    "plt.show()"
   ]
  }
 ],
 "metadata": {
  "kernelspec": {
   "display_name": "Python 3 (ipykernel)",
   "language": "python",
   "name": "python3"
  },
  "language_info": {
   "codemirror_mode": {
    "name": "ipython",
    "version": 3
   },
   "file_extension": ".py",
   "mimetype": "text/x-python",
   "name": "python",
   "nbconvert_exporter": "python",
   "pygments_lexer": "ipython3",
   "version": "3.8.5"
  }
 },
 "nbformat": 4,
 "nbformat_minor": 5
}
