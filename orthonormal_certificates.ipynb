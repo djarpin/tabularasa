{
 "cells": [
  {
   "cell_type": "code",
   "execution_count": 1,
   "id": "9b03dc32",
   "metadata": {},
   "outputs": [],
   "source": [
    "import pandas as pd\n",
    "import numpy as np\n",
    "import matplotlib.pyplot as plt\n",
    "import torch\n",
    "from torch import nn\n",
    "import torch.nn.functional as F\n",
    "from torch import optim\n",
    "from skorch.regressor import NeuralNetRegressor\n",
    "from tabularasa.MixedMonotonicNet import MixedMonotonicNet\n",
    "from tabularasa.OrthonormalCertificatesRegressor import OrthonormalCertificatesNet, OrthonormalCertificatesRegressor"
   ]
  },
  {
   "cell_type": "code",
   "execution_count": 2,
   "id": "52e29f8c",
   "metadata": {},
   "outputs": [],
   "source": [
    "df = pd.read_pickle('./examples/data/simple_train.pkl')"
   ]
  },
  {
   "cell_type": "code",
   "execution_count": 3,
   "id": "94d83c10",
   "metadata": {},
   "outputs": [],
   "source": [
    "class EmbeddingNet(nn.Module):\n",
    "    def __init__(self):\n",
    "        super().__init__()\n",
    "        self.emb1 = nn.Embedding(50, 16)\n",
    "        self.fc1 = nn.Linear(1 + 16, 16)\n",
    "    \n",
    "    def forward(self, X_non_monotonic):\n",
    "        X = torch.cat([X_non_monotonic[:, 1, None].float(), \n",
    "                       self.emb1(X_non_monotonic[:, 0, None].long()).squeeze()], 1)\n",
    "        return F.relu(self.fc1(X))"
   ]
  },
  {
   "cell_type": "code",
   "execution_count": 4,
   "id": "3afde292",
   "metadata": {},
   "outputs": [],
   "source": [
    "model = NeuralNetRegressor(MixedMonotonicNet,\n",
    "                           max_epochs=25,\n",
    "                           lr=0.001,\n",
    "                           optimizer=torch.optim.Adam,\n",
    "                           iterator_train__shuffle=True,\n",
    "                           module__non_monotonic_net=EmbeddingNet(),\n",
    "                           module__dim_non_monotonic=16,\n",
    "                           module__dim_monotonic=2,\n",
    "                           module__layers=[128, 128, 32],\n",
    "                           module__integration_steps=300)"
   ]
  },
  {
   "cell_type": "code",
   "execution_count": 5,
   "id": "aae484d7",
   "metadata": {
    "scrolled": false
   },
   "outputs": [
    {
     "name": "stdout",
     "output_type": "stream",
     "text": [
      "  epoch    train_loss    valid_loss     dur\n",
      "-------  ------------  ------------  ------\n",
      "      1        \u001b[36m0.3042\u001b[0m        \u001b[32m0.2894\u001b[0m  6.9626\n",
      "      2        \u001b[36m0.2894\u001b[0m        \u001b[32m0.2844\u001b[0m  7.5822\n"
     ]
    },
    {
     "data": {
      "text/plain": [
       "<class 'skorch.regressor.NeuralNetRegressor'>[initialized](\n",
       "  module_=MixedMonotonicNet(\n",
       "    (non_monotonic_net): EmbeddingNet(\n",
       "      (emb1): Embedding(50, 16)\n",
       "      (fc1): Linear(in_features=17, out_features=16, bias=True)\n",
       "    )\n",
       "    (umnn): SlowDMonotonicNN(\n",
       "      (outer_net): MonotonicNN(\n",
       "        (integrand): IntegrandNN(\n",
       "          (inner_net): Sequential(\n",
       "            (0): Linear(in_features=17, out_features=128, bias=True)\n",
       "            (1): ReLU()\n",
       "            (2): Linear(in_features=128, out_features=128, bias=True)\n",
       "            (3): ReLU()\n",
       "            (4): Linear(in_features=128, out_features=32, bias=True)\n",
       "            (5): ReLU()\n",
       "          )\n",
       "          (net): Sequential(\n",
       "            (0): Linear(in_features=17, out_features=128, bias=True)\n",
       "            (1): ReLU()\n",
       "            (2): Linear(in_features=128, out_features=128, bias=True)\n",
       "            (3): ReLU()\n",
       "            (4): Linear(in_features=128, out_features=32, bias=True)\n",
       "            (5): ReLU()\n",
       "            (6): Linear(in_features=32, out_features=1, bias=True)\n",
       "            (7): ELU(alpha=1.0)\n",
       "          )\n",
       "        )\n",
       "        (net): Sequential(\n",
       "          (0): Linear(in_features=16, out_features=128, bias=True)\n",
       "          (1): ReLU()\n",
       "          (2): Linear(in_features=128, out_features=128, bias=True)\n",
       "          (3): ReLU()\n",
       "          (4): Linear(in_features=128, out_features=32, bias=True)\n",
       "          (5): ReLU()\n",
       "          (6): Linear(in_features=32, out_features=2, bias=True)\n",
       "        )\n",
       "      )\n",
       "    )\n",
       "  ),\n",
       ")"
      ]
     },
     "execution_count": 5,
     "metadata": {},
     "output_type": "execute_result"
    }
   ],
   "source": [
    "model.fit({'X_monotonic': df[['x1', 'x2']].values,\n",
    "           'X_non_monotonic': df[['x3', 'x4']].values},\n",
    "          df[['y']].values)"
   ]
  },
  {
   "cell_type": "code",
   "execution_count": 6,
   "id": "3fad5760",
   "metadata": {},
   "outputs": [],
   "source": [
    "quantiles = [0.01, 0.05, 0.1, 0.2, 0.3, 0.4, 0.6, 0.7, 0.8, 0.9, 0.95, 0.99]"
   ]
  },
  {
   "cell_type": "code",
   "execution_count": 7,
   "id": "48020146",
   "metadata": {},
   "outputs": [],
   "source": [
    "results = []\n",
    "for q in np.quantile(df['x1'], quantiles):\n",
    "    dfc = df.copy()\n",
    "    dfc['x1'] = q\n",
    "    dfc['x1'] = dfc['x1'].astype('float32')\n",
    "    p = model.predict({'X_monotonic': dfc[['x1', 'x2']].values,\n",
    "                       'X_non_monotonic': dfc[['x3', 'x4']].values})\n",
    "    p = pd.DataFrame(pd.Series(p[:, 0]).describe(percentiles=quantiles)).T\n",
    "    p['x1'] = q\n",
    "    results.append(p)\n",
    "results = pd.concat(results, axis=0)"
   ]
  },
  {
   "cell_type": "code",
   "execution_count": 8,
   "id": "b5b445dd",
   "metadata": {},
   "outputs": [
    {
     "data": {
      "image/png": "[encoded data removed]",
      "text/plain": [
       "<Figure size 432x288 with 1 Axes>"
      ]
     },
     "metadata": {
      "needs_background": "light"
     },
     "output_type": "display_data"
    }
   ],
   "source": [
    "results.plot(x='x1', y=['20%', 'mean', '80%'])\n",
    "plt.show()"
   ]
  },
  {
   "cell_type": "markdown",
   "id": "4e17aff3",
   "metadata": {},
   "source": [
    "### Estimate epistemic uncertainty via orthonormal certificates\n",
    "\n",
    "Start by prepping data from the inner hidden layer."
   ]
  },
  {
   "cell_type": "code",
   "execution_count": 9,
   "id": "95264555",
   "metadata": {},
   "outputs": [],
   "source": [
    "model.module_.set_last_layer(inner=True)"
   ]
  },
  {
   "cell_type": "code",
   "execution_count": 10,
   "id": "eb094271",
   "metadata": {},
   "outputs": [],
   "source": [
    "X_inner = model.predict({'X_monotonic': df[['x1', 'x2']].values,\n",
    "                         'X_non_monotonic': df[['x3', 'x4']].values})"
   ]
  },
  {
   "cell_type": "code",
   "execution_count": 11,
   "id": "9218391b",
   "metadata": {},
   "outputs": [],
   "source": [
    "ocr = OrthonormalCertificatesRegressor(OrthonormalCertificatesNet,\n",
    "                                       max_epochs=500,\n",
    "                                       lr=0.01,\n",
    "                                       optimizer=torch.optim.Adam,\n",
    "                                       iterator_train__shuffle=True,\n",
    "                                       module__dim_input=3 + 32)"
   ]
  },
  {
   "cell_type": "code",
   "execution_count": 12,
   "id": "cef0ce74",
   "metadata": {},
   "outputs": [
    {
     "name": "stdout",
     "output_type": "stream",
     "text": [
      "  epoch    train_loss    valid_loss     dur\n",
      "-------  ------------  ------------  ------\n",
      "      1        \u001b[36m0.1257\u001b[0m        \u001b[32m0.0504\u001b[0m  0.0349\n",
      "      2        \u001b[36m0.0412\u001b[0m        \u001b[32m0.0272\u001b[0m  0.0462\n",
      "      3        \u001b[36m0.0215\u001b[0m        \u001b[32m0.0191\u001b[0m  0.0446\n",
      "      4        \u001b[36m0.0161\u001b[0m        \u001b[32m0.0132\u001b[0m  0.0434\n",
      "      5        \u001b[36m0.0131\u001b[0m        \u001b[32m0.0119\u001b[0m  0.0441\n",
      "      6        \u001b[36m0.0117\u001b[0m        \u001b[32m0.0114\u001b[0m  0.0448\n",
      "      7        \u001b[36m0.0112\u001b[0m        \u001b[32m0.0108\u001b[0m  0.0460\n",
      "      8        \u001b[36m0.0109\u001b[0m        \u001b[32m0.0106\u001b[0m  0.0429\n",
      "      9        \u001b[36m0.0107\u001b[0m        \u001b[32m0.0105\u001b[0m  0.0451\n",
      "     10        \u001b[36m0.0105\u001b[0m        \u001b[32m0.0104\u001b[0m  0.0447\n",
      "     11        \u001b[36m0.0104\u001b[0m        \u001b[32m0.0102\u001b[0m  0.0477\n",
      "     12        \u001b[36m0.0103\u001b[0m        \u001b[32m0.0101\u001b[0m  0.0481\n",
      "     13        \u001b[36m0.0102\u001b[0m        \u001b[32m0.0101\u001b[0m  0.0480\n",
      "     14        \u001b[36m0.0101\u001b[0m        \u001b[32m0.0100\u001b[0m  0.0469\n",
      "     15        \u001b[36m0.0100\u001b[0m        \u001b[32m0.0099\u001b[0m  0.0561\n",
      "     16        \u001b[36m0.0099\u001b[0m        \u001b[32m0.0098\u001b[0m  0.0609\n",
      "     17        \u001b[36m0.0098\u001b[0m        \u001b[32m0.0097\u001b[0m  0.0668\n",
      "     18        \u001b[36m0.0097\u001b[0m        \u001b[32m0.0096\u001b[0m  0.0633\n",
      "     19        \u001b[36m0.0096\u001b[0m        \u001b[32m0.0095\u001b[0m  0.0703\n",
      "     20        \u001b[36m0.0095\u001b[0m        \u001b[32m0.0095\u001b[0m  0.0577\n",
      "     21        \u001b[36m0.0095\u001b[0m        \u001b[32m0.0094\u001b[0m  0.0618\n",
      "     22        \u001b[36m0.0094\u001b[0m        \u001b[32m0.0093\u001b[0m  0.0473\n",
      "     23        \u001b[36m0.0093\u001b[0m        \u001b[32m0.0092\u001b[0m  0.0473\n",
      "     24        \u001b[36m0.0092\u001b[0m        \u001b[32m0.0092\u001b[0m  0.0472\n",
      "     25        \u001b[36m0.0092\u001b[0m        \u001b[32m0.0091\u001b[0m  0.0527\n",
      "     26        \u001b[36m0.0091\u001b[0m        \u001b[32m0.0090\u001b[0m  0.0682\n",
      "     27        \u001b[36m0.0090\u001b[0m        \u001b[32m0.0090\u001b[0m  0.0654\n",
      "     28        \u001b[36m0.0090\u001b[0m        \u001b[32m0.0089\u001b[0m  0.0652\n",
      "     29        \u001b[36m0.0089\u001b[0m        \u001b[32m0.0089\u001b[0m  0.0583\n",
      "     30        \u001b[36m0.0089\u001b[0m        \u001b[32m0.0088\u001b[0m  0.0530\n",
      "     31        \u001b[36m0.0088\u001b[0m        \u001b[32m0.0088\u001b[0m  0.0532\n",
      "     32        \u001b[36m0.0088\u001b[0m        \u001b[32m0.0087\u001b[0m  0.0512\n",
      "     33        \u001b[36m0.0087\u001b[0m        \u001b[32m0.0087\u001b[0m  0.0507\n",
      "     34        \u001b[36m0.0087\u001b[0m        \u001b[32m0.0087\u001b[0m  0.0530\n",
      "     35        \u001b[36m0.0087\u001b[0m        \u001b[32m0.0087\u001b[0m  0.0521\n",
      "     36        \u001b[36m0.0086\u001b[0m        \u001b[32m0.0086\u001b[0m  0.0444\n",
      "     37        \u001b[36m0.0086\u001b[0m        \u001b[32m0.0086\u001b[0m  0.0445\n",
      "     38        \u001b[36m0.0086\u001b[0m        \u001b[32m0.0086\u001b[0m  0.0507\n",
      "     39        \u001b[36m0.0086\u001b[0m        \u001b[32m0.0086\u001b[0m  0.0527\n",
      "     40        \u001b[36m0.0085\u001b[0m        \u001b[32m0.0086\u001b[0m  0.0453\n",
      "     41        \u001b[36m0.0085\u001b[0m        0.0086  0.0530\n",
      "     42        \u001b[36m0.0085\u001b[0m        \u001b[32m0.0085\u001b[0m  0.0454\n",
      "     43        \u001b[36m0.0085\u001b[0m        \u001b[32m0.0085\u001b[0m  0.0525\n",
      "     44        \u001b[36m0.0085\u001b[0m        \u001b[32m0.0085\u001b[0m  0.0579\n",
      "     45        \u001b[36m0.0085\u001b[0m        \u001b[32m0.0085\u001b[0m  0.0579\n",
      "     46        \u001b[36m0.0085\u001b[0m        \u001b[32m0.0085\u001b[0m  0.0675\n",
      "     47        \u001b[36m0.0085\u001b[0m        \u001b[32m0.0085\u001b[0m  0.0602\n",
      "     48        \u001b[36m0.0085\u001b[0m        0.0085  0.0671\n",
      "     49        \u001b[36m0.0085\u001b[0m        0.0085  0.0698\n",
      "     50        \u001b[36m0.0085\u001b[0m        \u001b[32m0.0085\u001b[0m  0.0614\n",
      "     51        0.0085        0.0085  0.0711\n",
      "     52        0.0085        0.0085  0.0609\n",
      "     53        0.0085        0.0085  0.0640\n",
      "     54        0.0085        \u001b[32m0.0085\u001b[0m  0.0633\n",
      "     55        \u001b[36m0.0085\u001b[0m        0.0085  0.0614\n",
      "     56        \u001b[36m0.0085\u001b[0m        \u001b[32m0.0085\u001b[0m  0.0582\n",
      "     57        0.0085        \u001b[32m0.0085\u001b[0m  0.0639\n",
      "     58        0.0085        0.0085  0.0674\n",
      "     59        0.0085        0.0085  0.0601\n",
      "     60        0.0085        0.0085  0.0635\n",
      "     61        \u001b[36m0.0085\u001b[0m        0.0085  0.0587\n",
      "     62        \u001b[36m0.0085\u001b[0m        0.0085  0.1035\n",
      "     63        \u001b[36m0.0085\u001b[0m        \u001b[32m0.0085\u001b[0m  0.0650\n",
      "     64        \u001b[36m0.0085\u001b[0m        0.0085  0.0497\n",
      "     65        0.0085        0.0085  0.0457\n",
      "     66        0.0085        0.0085  0.0461\n",
      "     67        0.0085        0.0085  0.0411\n",
      "     68        0.0085        0.0085  0.0509\n",
      "     69        0.0085        0.0085  0.0465\n",
      "     70        0.0085        0.0085  0.0454\n",
      "     71        0.0085        0.0085  0.0454\n",
      "     72        \u001b[36m0.0085\u001b[0m        0.0085  0.0456\n",
      "     73        \u001b[36m0.0084\u001b[0m        0.0085  0.0586\n",
      "     74        0.0084        0.0085  0.0693\n",
      "     75        0.0085        \u001b[32m0.0085\u001b[0m  0.0576\n",
      "     76        \u001b[36m0.0084\u001b[0m        0.0085  0.0747\n",
      "     77        0.0085        0.0085  0.0663\n",
      "     78        0.0085        0.0085  0.0704\n",
      "     79        0.0085        0.0085  0.0739\n",
      "     80        0.0085        0.0085  0.0685\n",
      "     81        0.0085        0.0085  0.0634\n",
      "     82        0.0084        0.0085  0.0719\n",
      "     83        0.0085        0.0085  0.0672\n",
      "     84        0.0085        0.0085  0.0760\n",
      "     85        0.0085        0.0085  0.0726\n",
      "     86        0.0085        0.0085  0.0776\n",
      "     87        0.0084        0.0086  0.0459\n",
      "     88        0.0085        0.0085  0.0420\n",
      "     89        0.0085        0.0085  0.0483\n",
      "     90        0.0085        0.0085  0.0438\n",
      "     91        0.0085        0.0085  0.0382\n",
      "     92        0.0085        0.0085  0.0378\n",
      "     93        0.0085        0.0085  0.0603\n",
      "     94        0.0085        0.0085  0.0710\n",
      "     95        0.0085        0.0085  0.0639\n",
      "     96        0.0085        0.0085  0.0504\n",
      "     97        0.0085        0.0085  0.0568\n",
      "     98        \u001b[36m0.0084\u001b[0m        0.0085  0.0600\n",
      "     99        0.0085        0.0085  0.0627\n",
      "    100        0.0085        0.0085  0.0578\n",
      "    101        0.0084        0.0085  0.0549\n",
      "    102        0.0085        0.0085  0.0463\n",
      "    103        0.0085        0.0085  0.0473\n",
      "    104        0.0085        0.0085  0.0463\n",
      "    105        0.0085        0.0085  0.0627\n",
      "    106        0.0084        0.0085  0.0493\n",
      "    107        0.0084        0.0085  0.0526\n",
      "    108        0.0085        0.0085  0.0531\n",
      "    109        0.0084        0.0085  0.0535\n",
      "    110        0.0084        0.0085  0.0523\n",
      "    111        0.0085        0.0085  0.0532\n",
      "    112        0.0085        0.0085  0.0595\n",
      "    113        0.0085        0.0085  0.0458\n",
      "    114        0.0085        0.0085  0.0420\n",
      "    115        0.0085        0.0085  0.0416\n",
      "    116        0.0084        0.0085  0.0391\n",
      "    117        0.0084        0.0085  0.0555\n",
      "    118        \u001b[36m0.0084\u001b[0m        \u001b[32m0.0085\u001b[0m  0.0392\n",
      "    119        0.0085        0.0085  0.0572\n",
      "    120        0.0085        0.0085  0.0563\n",
      "    121        0.0084        0.0085  0.0529\n",
      "    122        0.0084        0.0085  0.0513\n",
      "    123        0.0085        0.0086  0.0395\n",
      "    124        0.0085        0.0085  0.0545\n",
      "    125        0.0085        0.0085  0.0545\n",
      "    126        0.0085        0.0085  0.0437\n",
      "    127        0.0085        0.0085  0.0541\n",
      "    128        0.0084        0.0085  0.0439\n",
      "    129        0.0085        0.0085  0.0425\n",
      "    130        0.0085        0.0085  0.0452\n",
      "    131        0.0085        0.0085  0.0658\n",
      "    132        0.0085        0.0085  0.0688\n",
      "    133        0.0085        0.0085  0.0592\n",
      "    134        0.0084        0.0085  0.0457\n",
      "    135        0.0085        0.0085  0.0551\n",
      "    136        0.0085        0.0085  0.0544\n",
      "    137        0.0085        0.0085  0.0674\n",
      "    138        0.0084        0.0085  0.0525\n",
      "    139        0.0085        0.0085  0.0716\n",
      "    140        0.0084        0.0085  0.0622\n",
      "    141        0.0084        0.0085  0.0536\n",
      "    142        0.0085        0.0085  0.0394\n",
      "    143        0.0085        0.0085  0.0428\n",
      "    144        0.0084        0.0085  0.0425\n",
      "    145        0.0084        0.0085  0.0530\n",
      "    146        0.0085        0.0085  0.0460\n",
      "    147        0.0084        0.0085  0.0487\n",
      "    148        0.0085        0.0086  0.0495\n",
      "    149        0.0085        0.0085  0.0498\n",
      "    150        0.0085        0.0085  0.0642\n",
      "    151        0.0084        0.0085  0.0493\n",
      "    152        0.0085        0.0085  0.0515\n",
      "    153        0.0085        0.0085  0.0619\n",
      "    154        0.0084        0.0085  0.0659\n",
      "    155        \u001b[36m0.0084\u001b[0m        0.0085  0.0641\n",
      "    156        \u001b[36m0.0084\u001b[0m        0.0085  0.0545\n",
      "    157        0.0085        0.0085  0.0542\n",
      "    158        0.0084        0.0085  0.0398\n",
      "    159        0.0084        0.0085  0.0501\n",
      "    160        0.0085        \u001b[32m0.0085\u001b[0m  0.0546\n",
      "    161        0.0085        0.0085  0.0546\n"
     ]
    },
    {
     "name": "stdout",
     "output_type": "stream",
     "text": [
      "    162        0.0085        0.0086  0.0420\n",
      "    163        0.0085        0.0085  0.0426\n",
      "    164        0.0084        0.0085  0.0438\n",
      "    165        \u001b[36m0.0084\u001b[0m        \u001b[32m0.0085\u001b[0m  0.0525\n",
      "    166        0.0084        \u001b[32m0.0085\u001b[0m  0.0469\n",
      "    167        0.0085        0.0085  0.0565\n",
      "    168        0.0085        0.0085  0.0546\n",
      "    169        0.0084        0.0085  0.0469\n",
      "    170        0.0084        0.0085  0.0414\n",
      "    171        \u001b[36m0.0084\u001b[0m        0.0085  0.0431\n",
      "    172        0.0084        0.0085  0.0598\n",
      "    173        0.0084        0.0085  0.0535\n",
      "    174        0.0084        0.0086  0.0621\n",
      "    175        0.0085        0.0085  0.0585\n",
      "    176        0.0084        0.0086  0.0455\n",
      "    177        0.0084        \u001b[32m0.0084\u001b[0m  0.0411\n",
      "    178        0.0084        0.0084  0.0416\n",
      "    179        0.0084        0.0085  0.0451\n",
      "    180        0.0085        0.0085  0.0434\n",
      "    181        0.0085        0.0085  0.0454\n",
      "    182        0.0085        0.0085  0.0485\n",
      "    183        0.0084        0.0085  0.0584\n",
      "    184        0.0084        0.0084  0.0452\n",
      "    185        0.0084        0.0085  0.0506\n",
      "    186        0.0084        0.0085  0.0480\n",
      "    187        0.0084        0.0085  0.0462\n",
      "    188        0.0084        0.0085  0.0431\n",
      "    189        \u001b[36m0.0084\u001b[0m        0.0086  0.0485\n",
      "    190        0.0084        0.0085  0.0435\n",
      "    191        0.0084        0.0085  0.0478\n"
     ]
    },
    {
     "data": {
      "text/plain": [
       "<class 'tabularasa.OrthonormalCertificatesRegressor.OrthonormalCertificatesRegressor'>[initialized](\n",
       "  module_=OrthonormalCertificatesNet(\n",
       "    (certificates): Linear(in_features=35, out_features=64, bias=True)\n",
       "  ),\n",
       ")"
      ]
     },
     "execution_count": 12,
     "metadata": {},
     "output_type": "execute_result"
    }
   ],
   "source": [
    "ocr.fit(np.concatenate([df[['x1', 'x2', 'x4']].values, X_inner], axis=1))"
   ]
  },
  {
   "cell_type": "markdown",
   "id": "48e0f558",
   "metadata": {},
   "source": [
    "Create another PDP like dataset with the full range."
   ]
  },
  {
   "cell_type": "code",
   "execution_count": 13,
   "id": "ee071b20",
   "metadata": {},
   "outputs": [],
   "source": [
    "uncertainties = []\n",
    "for q in np.linspace(-1.5, 1.5, 101):\n",
    "    dfc = df.copy()\n",
    "    dfc['x1'] = q\n",
    "    dfc['x1'] = dfc['x1'].astype('float32')\n",
    "    p = ocr.predict(np.concatenate([dfc[['x1', 'x2', 'x4']],\n",
    "                                     model.predict({'X_monotonic': dfc[['x1', 'x2']].values,\n",
    "                                                    'X_non_monotonic': dfc[['x3', 'x4']].values})], axis=1))\n",
    "    p = pd.DataFrame(pd.Series(p).describe(percentiles=quantiles)).T\n",
    "    p['x1'] = q\n",
    "    uncertainties.append(p)\n",
    "uncertainties = pd.concat(uncertainties, axis=0)"
   ]
  },
  {
   "cell_type": "code",
   "execution_count": 14,
   "id": "953a79ee",
   "metadata": {},
   "outputs": [
    {
     "data": {
      "image/png": "[encoded data removed]",
      "text/plain": [
       "<Figure size 432x288 with 1 Axes>"
      ]
     },
     "metadata": {
      "needs_background": "light"
     },
     "output_type": "display_data"
    }
   ],
   "source": [
    "uncertainties.plot(x='x1', y=['20%', 'mean', '80%'])\n",
    "plt.show()"
   ]
  },
  {
   "cell_type": "markdown",
   "id": "e5a32a1d",
   "metadata": {},
   "source": [
    "Epistemic uncertainty is high below -1 (where training data starts and is relatively low), decreases between -1 and 0, picks back up between 0 and 0.5, and then decreases between 0.5 and 1.  After 1, it doesn't perform exactly as desired, but is ticking up in some places."
   ]
  },
  {
   "cell_type": "code",
   "execution_count": null,
   "id": "cf111945",
   "metadata": {},
   "outputs": [],
   "source": []
  },
  {
   "cell_type": "code",
   "execution_count": null,
   "id": "87d07e16",
   "metadata": {},
   "outputs": [],
   "source": []
  },
  {
   "cell_type": "code",
   "execution_count": 15,
   "id": "3bcff38c",
   "metadata": {},
   "outputs": [],
   "source": [
    "p = ocr.percentile_predict(np.concatenate([df[['x1', 'x2', 'x4']],\n",
    "                                     model.predict({'X_monotonic': df[['x1', 'x2']].values,\n",
    "                                                    'X_non_monotonic': df[['x3', 'x4']].values})], axis=1))"
   ]
  },
  {
   "cell_type": "code",
   "execution_count": 18,
   "id": "9aab614d",
   "metadata": {},
   "outputs": [
    {
     "data": {
      "text/plain": [
       "array([97, 95, 95, ..., 94, 80, 72])"
      ]
     },
     "execution_count": 18,
     "metadata": {},
     "output_type": "execute_result"
    }
   ],
   "source": [
    "p"
   ]
  },
  {
   "cell_type": "code",
   "execution_count": 19,
   "id": "86457970",
   "metadata": {},
   "outputs": [
    {
     "data": {
      "text/plain": [
       "array([0.00027909, 0.00023174, 0.00024525, ..., 0.00020101, 0.00018255,\n",
       "       0.00016368], dtype=float32)"
      ]
     },
     "execution_count": 19,
     "metadata": {},
     "output_type": "execute_result"
    }
   ],
   "source": [
    "ocr.predict(np.concatenate([df[['x1', 'x2', 'x4']],\n",
    "                                     model.predict({'X_monotonic': df[['x1', 'x2']].values,\n",
    "                                                    'X_non_monotonic': df[['x3', 'x4']].values})], axis=1))"
   ]
  }
 ],
 "metadata": {
  "kernelspec": {
   "display_name": "Python 3 (ipykernel)",
   "language": "python",
   "name": "python3"
  },
  "language_info": {
   "codemirror_mode": {
    "name": "ipython",
    "version": 3
   },
   "file_extension": ".py",
   "mimetype": "text/x-python",
   "name": "python",
   "nbconvert_exporter": "python",
   "pygments_lexer": "ipython3",
   "version": "3.8.5"
  }
 },
 "nbformat": 4,
 "nbformat_minor": 5
}
