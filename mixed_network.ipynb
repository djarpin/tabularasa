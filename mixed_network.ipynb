{
 "cells": [
  {
   "cell_type": "code",
   "execution_count": 1,
   "id": "9b03dc32",
   "metadata": {},
   "outputs": [],
   "source": [
    "import pandas as pd\n",
    "import numpy as np\n",
    "import matplotlib.pyplot as plt\n",
    "import torch\n",
    "from torch import nn\n",
    "import torch.nn.functional as F\n",
    "from torch import optim\n",
    "from skorch.regressor import NeuralNetRegressor\n",
    "from tabularasa.MixedMonotonicNet import MixedMonotonicNet\n",
    "from tabularasa.OrthonormalCertificates import OrthonormalCertificates"
   ]
  },
  {
   "cell_type": "code",
   "execution_count": 2,
   "id": "52e29f8c",
   "metadata": {},
   "outputs": [],
   "source": [
    "df = pd.read_pickle('./examples/data/simple_train.pkl')"
   ]
  },
  {
   "cell_type": "code",
   "execution_count": 3,
   "id": "94d83c10",
   "metadata": {},
   "outputs": [],
   "source": [
    "class EmbeddingNet(nn.Module):\n",
    "    def __init__(self):\n",
    "        super().__init__()\n",
    "        self.emb1 = nn.Embedding(50, 16)\n",
    "        self.fc1 = nn.Linear(1 + 16, 16)\n",
    "    \n",
    "    def forward(self, X_non_monotonic):\n",
    "        X = torch.cat([X_non_monotonic[:, 1, None].float(), \n",
    "                       self.emb1(X_non_monotonic[:, 0, None].long()).squeeze()], 1)\n",
    "        return F.relu(self.fc1(X))"
   ]
  },
  {
   "cell_type": "code",
   "execution_count": 4,
   "id": "3afde292",
   "metadata": {},
   "outputs": [],
   "source": [
    "model = NeuralNetRegressor(MixedMonotonicNet,\n",
    "                           max_epochs=25,\n",
    "                           lr=0.001,\n",
    "                           optimizer=torch.optim.Adam,\n",
    "                           module__non_monotonic_net=EmbeddingNet(),\n",
    "                           module__dim_non_monotonic=16,\n",
    "                           module__dim_monotonic=2,\n",
    "                           module__layers=[128, 128, 32],\n",
    "                           module__integration_steps=300)"
   ]
  },
  {
   "cell_type": "code",
   "execution_count": 5,
   "id": "aae484d7",
   "metadata": {
    "scrolled": false
   },
   "outputs": [
    {
     "name": "stdout",
     "output_type": "stream",
     "text": [
      "  epoch    train_loss    valid_loss     dur\n",
      "-------  ------------  ------------  ------\n",
      "      1        \u001b[36m0.6838\u001b[0m        \u001b[32m0.4345\u001b[0m  8.5475\n",
      "      2        \u001b[36m0.3670\u001b[0m        \u001b[32m0.2912\u001b[0m  7.7882\n",
      "      3        \u001b[36m0.3190\u001b[0m        \u001b[32m0.2858\u001b[0m  7.9655\n",
      "      4        \u001b[36m0.2978\u001b[0m        0.2891  7.5966\n",
      "      5        \u001b[36m0.2922\u001b[0m        \u001b[32m0.2831\u001b[0m  7.5870\n",
      "      6        \u001b[36m0.2897\u001b[0m        \u001b[32m0.2816\u001b[0m  7.7917\n",
      "      7        \u001b[36m0.2844\u001b[0m        \u001b[32m0.2785\u001b[0m  7.4127\n",
      "      8        \u001b[36m0.2797\u001b[0m        \u001b[32m0.2744\u001b[0m  7.6024\n",
      "      9        \u001b[36m0.2741\u001b[0m        \u001b[32m0.2684\u001b[0m  7.3404\n",
      "     10        \u001b[36m0.2654\u001b[0m        \u001b[32m0.2599\u001b[0m  7.5885\n",
      "     11        \u001b[36m0.2536\u001b[0m        \u001b[32m0.2472\u001b[0m  7.5732\n",
      "     12        \u001b[36m0.2376\u001b[0m        \u001b[32m0.2302\u001b[0m  7.3209\n",
      "     13        \u001b[36m0.2154\u001b[0m        \u001b[32m0.2041\u001b[0m  7.4541\n",
      "     14        \u001b[36m0.1858\u001b[0m        \u001b[32m0.1751\u001b[0m  7.4335\n",
      "     15        \u001b[36m0.1556\u001b[0m        \u001b[32m0.1513\u001b[0m  7.3434\n",
      "     16        \u001b[36m0.1317\u001b[0m        \u001b[32m0.1379\u001b[0m  7.3904\n",
      "     17        \u001b[36m0.1152\u001b[0m        \u001b[32m0.1318\u001b[0m  7.4605\n",
      "     18        \u001b[36m0.1037\u001b[0m        \u001b[32m0.1292\u001b[0m  7.4039\n",
      "     19        \u001b[36m0.0951\u001b[0m        \u001b[32m0.1283\u001b[0m  7.4158\n",
      "     20        \u001b[36m0.0894\u001b[0m        \u001b[32m0.1274\u001b[0m  7.6323\n",
      "     21        \u001b[36m0.0866\u001b[0m        \u001b[32m0.1259\u001b[0m  7.5933\n",
      "     22        0.0897        0.1520  7.7846\n",
      "     23        0.1323        0.1705  7.6053\n",
      "     24        0.1982        0.1373  7.5108\n",
      "     25        0.1034        \u001b[32m0.1115\u001b[0m  7.4798\n"
     ]
    },
    {
     "data": {
      "text/plain": [
       "<class 'skorch.regressor.NeuralNetRegressor'>[initialized](\n",
       "  module_=MixedNet(\n",
       "    (non_monotonic_net): EmbeddingNet(\n",
       "      (emb1): Embedding(50, 16)\n",
       "      (fc1): Linear(in_features=17, out_features=16, bias=True)\n",
       "    )\n",
       "    (umnn): SlowDMonotonicNN(\n",
       "      (outer_net): MonotonicNN(\n",
       "        (integrand): IntegrandNN(\n",
       "          (inner_net): Sequential(\n",
       "            (0): Linear(in_features=17, out_features=128, bias=True)\n",
       "            (1): ReLU()\n",
       "            (2): Linear(in_features=128, out_features=128, bias=True)\n",
       "            (3): ReLU()\n",
       "            (4): Linear(in_features=128, out_features=32, bias=True)\n",
       "            (5): ReLU()\n",
       "          )\n",
       "          (net): Sequential(\n",
       "            (0): Linear(in_features=17, out_features=128, bias=True)\n",
       "            (1): ReLU()\n",
       "            (2): Linear(in_features=128, out_features=128, bias=True)\n",
       "            (3): ReLU()\n",
       "            (4): Linear(in_features=128, out_features=32, bias=True)\n",
       "            (5): ReLU()\n",
       "            (6): Linear(in_features=32, out_features=1, bias=True)\n",
       "            (7): ELU(alpha=1.0)\n",
       "          )\n",
       "        )\n",
       "        (net): Sequential(\n",
       "          (0): Linear(in_features=16, out_features=128, bias=True)\n",
       "          (1): ReLU()\n",
       "          (2): Linear(in_features=128, out_features=128, bias=True)\n",
       "          (3): ReLU()\n",
       "          (4): Linear(in_features=128, out_features=32, bias=True)\n",
       "          (5): ReLU()\n",
       "          (6): Linear(in_features=32, out_features=2, bias=True)\n",
       "        )\n",
       "      )\n",
       "    )\n",
       "  ),\n",
       ")"
      ]
     },
     "execution_count": 5,
     "metadata": {},
     "output_type": "execute_result"
    }
   ],
   "source": [
    "model.fit({'X_monotonic': df[['x1', 'x2']].values,\n",
    "           'X_non_monotonic': df[['x3', 'x4']].values},\n",
    "          df[['y']].values)"
   ]
  },
  {
   "cell_type": "code",
   "execution_count": 6,
   "id": "3fad5760",
   "metadata": {},
   "outputs": [],
   "source": [
    "quantiles = [0.01, 0.05, 0.1, 0.2, 0.3, 0.4, 0.6, 0.7, 0.8, 0.9, 0.95, 0.99]"
   ]
  },
  {
   "cell_type": "code",
   "execution_count": 7,
   "id": "48020146",
   "metadata": {},
   "outputs": [],
   "source": [
    "results = []\n",
    "for q in np.quantile(df['x1'], quantiles):\n",
    "    dfc = df.copy()\n",
    "    dfc['x1'] = q\n",
    "    dfc['x1'] = dfc['x1'].astype('float32')\n",
    "    p = model.predict({'X_monotonic': dfc[['x1', 'x2']].values,\n",
    "                       'X_non_monotonic': dfc[['x3', 'x4']].values})\n",
    "    p = pd.DataFrame(pd.Series(p[:, 0]).describe(percentiles=quantiles)).T\n",
    "    p['x1'] = q\n",
    "    results.append(p)\n",
    "results = pd.concat(results, axis=0)"
   ]
  },
  {
   "cell_type": "code",
   "execution_count": 8,
   "id": "b5b445dd",
   "metadata": {},
   "outputs": [
    {
     "data": {
      "image/png": "[encoded data removed]",
      "text/plain": [
       "<Figure size 432x288 with 1 Axes>"
      ]
     },
     "metadata": {
      "needs_background": "light"
     },
     "output_type": "display_data"
    }
   ],
   "source": [
    "results.plot(x='x1', y=['20%', 'mean', '80%'])\n",
    "plt.show()"
   ]
  },
  {
   "cell_type": "markdown",
   "id": "4e17aff3",
   "metadata": {},
   "source": [
    "### Estimate epistemic uncertainty via orthonormal certificates\n",
    "\n",
    "Start by prepping data from the inner hidden layer."
   ]
  },
  {
   "cell_type": "code",
   "execution_count": 9,
   "id": "95264555",
   "metadata": {},
   "outputs": [],
   "source": [
    "model.module_.set_last_layer(inner=True)"
   ]
  },
  {
   "cell_type": "code",
   "execution_count": 21,
   "id": "eb094271",
   "metadata": {},
   "outputs": [],
   "source": [
    "X_inner = model.predict({'X_monotonic': df[['x1', 'x2']].values,\n",
    "                         'X_non_monotonic': df[['x3', 'x4']].values})"
   ]
  },
  {
   "cell_type": "markdown",
   "id": "94d2f5e2",
   "metadata": {},
   "source": [
    "Now train orthonormal certificates.  Note, including raw numeric features helps quality."
   ]
  },
  {
   "cell_type": "code",
   "execution_count": 24,
   "id": "e41038fd",
   "metadata": {},
   "outputs": [],
   "source": [
    "oc = OrthonormalCertificates()\n",
    "oc.fit(np.concatenate([df[['x1', 'x2', 'x4']].values, X_inner], axis=1))"
   ]
  },
  {
   "cell_type": "markdown",
   "id": "48e0f558",
   "metadata": {},
   "source": [
    "Create another PDP like dataset with the full range."
   ]
  },
  {
   "cell_type": "code",
   "execution_count": 31,
   "id": "ee071b20",
   "metadata": {},
   "outputs": [],
   "source": [
    "uncertainties = []\n",
    "for q in np.linspace(-1.5, 1.5, 101):\n",
    "    dfc = df.copy()\n",
    "    dfc['x1'] = q\n",
    "    dfc['x1'] = dfc['x1'].astype('float32')\n",
    "    p = oc.transform(np.concatenate([dfc[['x1', 'x2', 'x4']],\n",
    "                                     model.predict({'X_monotonic': dfc[['x1', 'x2']].values,\n",
    "                                                    'X_non_monotonic': dfc[['x3', 'x4']].values})], axis=1))\n",
    "    p = pd.DataFrame(pd.Series(p).describe(percentiles=quantiles)).T\n",
    "    p['x1'] = q\n",
    "    uncertainties.append(p)\n",
    "uncertainties = pd.concat(uncertainties, axis=0)"
   ]
  },
  {
   "cell_type": "code",
   "execution_count": 32,
   "id": "953a79ee",
   "metadata": {},
   "outputs": [
    {
     "data": {
      "image/png": "[encoded data removed]",
      "text/plain": [
       "<Figure size 432x288 with 1 Axes>"
      ]
     },
     "metadata": {
      "needs_background": "light"
     },
     "output_type": "display_data"
    }
   ],
   "source": [
    "uncertainties.plot(x='x1', y=['20%', 'mean', '80%'])\n",
    "plt.show()"
   ]
  },
  {
   "cell_type": "markdown",
   "id": "e5a32a1d",
   "metadata": {},
   "source": [
    "Epistemic uncertainty is high below -1 (where training data starts and is relatively low), decreases between -1 and 0, picks back up between 0 and 0.5, and then decreases between 0.5 and 1.  After 1, it doesn't perform exactly as desired, but is ticking up in some places."
   ]
  }
 ],
 "metadata": {
  "kernelspec": {
   "display_name": "Python 3 (ipykernel)",
   "language": "python",
   "name": "python3"
  },
  "language_info": {
   "codemirror_mode": {
    "name": "ipython",
    "version": 3
   },
   "file_extension": ".py",
   "mimetype": "text/x-python",
   "name": "python",
   "nbconvert_exporter": "python",
   "pygments_lexer": "ipython3",
   "version": "3.8.5"
  }
 },
 "nbformat": 4,
 "nbformat_minor": 5
}
