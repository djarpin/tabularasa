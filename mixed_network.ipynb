{
 "cells": [
  {
   "cell_type": "code",
   "execution_count": 52,
   "id": "9b03dc32",
   "metadata": {},
   "outputs": [],
   "source": [
    "import pandas as pd\n",
    "import numpy as np\n",
    "import matplotlib.pyplot as plt\n",
    "import torch\n",
    "from torch import nn\n",
    "import torch.nn.functional as F\n",
    "from torch import optim\n",
    "from skorch.regressor import NeuralNetRegressor\n",
    "from tabularasa.MixedNet import MixedNet"
   ]
  },
  {
   "cell_type": "code",
   "execution_count": 53,
   "id": "52e29f8c",
   "metadata": {},
   "outputs": [],
   "source": [
    "df = pd.read_pickle('./examples/data/simple_train.pkl')"
   ]
  },
  {
   "cell_type": "code",
   "execution_count": 54,
   "id": "94d83c10",
   "metadata": {},
   "outputs": [],
   "source": [
    "class EmbeddingNet(nn.Module):\n",
    "    def __init__(self):\n",
    "        super().__init__()\n",
    "        self.emb1 = nn.Embedding(50, 16)\n",
    "        self.fc1 = nn.Linear(1 + 16, 16)\n",
    "    \n",
    "    def forward(self, X_non_monotonic):\n",
    "        X = torch.cat([X_non_monotonic[:, 1, None].float(), \n",
    "                       self.emb1(X_non_monotonic[:, 0, None].long()).squeeze()], 1)\n",
    "        return F.relu(self.fc1(X))"
   ]
  },
  {
   "cell_type": "code",
   "execution_count": 55,
   "id": "3afde292",
   "metadata": {},
   "outputs": [],
   "source": [
    "model = NeuralNetRegressor(MixedNet,\n",
    "                           max_epochs=25,\n",
    "                           lr=0.001,\n",
    "                           optimizer=torch.optim.Adam,\n",
    "                           module__non_monotonic_net=EmbeddingNet(),\n",
    "                           module__dim_non_monotonic=16,\n",
    "                           module__dim_monotonic=2,\n",
    "                           module__layers=[128, 128, 32],\n",
    "                           module__integration_steps=300)"
   ]
  },
  {
   "cell_type": "code",
   "execution_count": 56,
   "id": "aae484d7",
   "metadata": {
    "scrolled": false
   },
   "outputs": [
    {
     "name": "stdout",
     "output_type": "stream",
     "text": [
      "  epoch    train_loss    valid_loss     dur\n",
      "-------  ------------  ------------  ------\n",
      "      1        \u001b[36m0.5813\u001b[0m        \u001b[32m0.4044\u001b[0m  8.8346\n",
      "      2        \u001b[36m0.3292\u001b[0m        \u001b[32m0.3058\u001b[0m  9.4620\n",
      "      3        \u001b[36m0.3174\u001b[0m        \u001b[32m0.2991\u001b[0m  9.0462\n",
      "      4        \u001b[36m0.2975\u001b[0m        \u001b[32m0.2969\u001b[0m  8.8295\n",
      "      5        \u001b[36m0.2953\u001b[0m        \u001b[32m0.2956\u001b[0m  8.5134\n",
      "      6        \u001b[36m0.2921\u001b[0m        \u001b[32m0.2929\u001b[0m  8.5057\n",
      "      7        \u001b[36m0.2897\u001b[0m        \u001b[32m0.2908\u001b[0m  8.4150\n",
      "      8        \u001b[36m0.2863\u001b[0m        \u001b[32m0.2874\u001b[0m  8.5299\n",
      "      9        \u001b[36m0.2820\u001b[0m        \u001b[32m0.2829\u001b[0m  8.4708\n",
      "     10        \u001b[36m0.2752\u001b[0m        \u001b[32m0.2748\u001b[0m  8.5166\n",
      "     11        \u001b[36m0.2641\u001b[0m        \u001b[32m0.2615\u001b[0m  8.6080\n",
      "     12        \u001b[36m0.2494\u001b[0m        \u001b[32m0.2453\u001b[0m  8.5891\n",
      "     13        \u001b[36m0.2313\u001b[0m        \u001b[32m0.2236\u001b[0m  8.6867\n",
      "     14        \u001b[36m0.2072\u001b[0m        \u001b[32m0.1993\u001b[0m  8.5916\n",
      "     15        \u001b[36m0.1791\u001b[0m        \u001b[32m0.1756\u001b[0m  8.4915\n",
      "     16        \u001b[36m0.1531\u001b[0m        \u001b[32m0.1581\u001b[0m  8.6544\n",
      "     17        \u001b[36m0.1305\u001b[0m        \u001b[32m0.1492\u001b[0m  8.7560\n",
      "     18        \u001b[36m0.1163\u001b[0m        0.1511  8.4283\n",
      "     19        \u001b[36m0.1162\u001b[0m        \u001b[32m0.1317\u001b[0m  8.5691\n",
      "     20        0.1249        0.1896  8.5640\n",
      "     21        0.1977        0.2531  8.6738\n",
      "     22        0.1362        0.1466  8.7505\n",
      "     23        0.1426        0.1683  8.5394\n",
      "     24        0.1242        \u001b[32m0.1147\u001b[0m  8.4534\n",
      "     25        \u001b[36m0.1112\u001b[0m        0.1185  8.5591\n"
     ]
    },
    {
     "data": {
      "text/plain": [
       "<class 'skorch.regressor.NeuralNetRegressor'>[initialized](\n",
       "  module_=MixedNet(\n",
       "    (non_monotonic_net): EmbeddingNet(\n",
       "      (emb1): Embedding(50, 16)\n",
       "      (fc1): Linear(in_features=17, out_features=16, bias=True)\n",
       "    )\n",
       "    (umnn): SlowDMonotonicNN(\n",
       "      (outer_net): MonotonicNN(\n",
       "        (integrand): IntegrandNN(\n",
       "          (net): Sequential(\n",
       "            (0): Linear(in_features=17, out_features=128, bias=True)\n",
       "            (1): ReLU()\n",
       "            (2): Linear(in_features=128, out_features=128, bias=True)\n",
       "            (3): ReLU()\n",
       "            (4): Linear(in_features=128, out_features=32, bias=True)\n",
       "            (5): ReLU()\n",
       "            (6): Linear(in_features=32, out_features=1, bias=True)\n",
       "            (7): ELU(alpha=1.0)\n",
       "          )\n",
       "        )\n",
       "        (net): Sequential(\n",
       "          (0): Linear(in_features=16, out_features=128, bias=True)\n",
       "          (1): ReLU()\n",
       "          (2): Linear(in_features=128, out_features=128, bias=True)\n",
       "          (3): ReLU()\n",
       "          (4): Linear(in_features=128, out_features=32, bias=True)\n",
       "          (5): ReLU()\n",
       "          (6): Linear(in_features=32, out_features=2, bias=True)\n",
       "        )\n",
       "      )\n",
       "    )\n",
       "  ),\n",
       ")"
      ]
     },
     "execution_count": 56,
     "metadata": {},
     "output_type": "execute_result"
    }
   ],
   "source": [
    "model.fit({'X_monotonic': df[['x1', 'x2']].values,\n",
    "           'X_non_monotonic': df[['x3', 'x4']].values},\n",
    "          df[['y']].values)"
   ]
  },
  {
   "cell_type": "code",
   "execution_count": 57,
   "id": "3fad5760",
   "metadata": {},
   "outputs": [],
   "source": [
    "quantiles = [0.01, 0.05, 0.1, 0.2, 0.3, 0.4, 0.6, 0.7, 0.8, 0.9, 0.95, 0.99]"
   ]
  },
  {
   "cell_type": "code",
   "execution_count": 59,
   "id": "48020146",
   "metadata": {},
   "outputs": [],
   "source": [
    "results = []\n",
    "for q in np.quantile(df['x1'], quantiles):\n",
    "    dfc = df.copy()\n",
    "    dfc['x1'] = q\n",
    "    dfc['x1'] = dfc['x1'].astype('float32')\n",
    "    p = model.predict({'X_monotonic': dfc[['x1', 'x2']].values,\n",
    "                       'X_non_monotonic': dfc[['x3', 'x4']].values})\n",
    "    p = pd.DataFrame(pd.Series(p[:, 0]).describe(percentiles=quantiles)).T\n",
    "    p['x1'] = q\n",
    "    results.append(p)\n",
    "results = pd.concat(results, axis=0)"
   ]
  },
  {
   "cell_type": "code",
   "execution_count": 60,
   "id": "b5b445dd",
   "metadata": {},
   "outputs": [
    {
     "data": {
      "image/png": "[encoded data removed]",
      "text/plain": [
       "<Figure size 432x288 with 1 Axes>"
      ]
     },
     "metadata": {
      "needs_background": "light"
     },
     "output_type": "display_data"
    }
   ],
   "source": [
    "results.plot(x='x1', y=['20%', 'mean', '80%'])\n",
    "plt.show()"
   ]
  }
 ],
 "metadata": {
  "kernelspec": {
   "display_name": "Python 3 (ipykernel)",
   "language": "python",
   "name": "python3"
  },
  "language_info": {
   "codemirror_mode": {
    "name": "ipython",
    "version": 3
   },
   "file_extension": ".py",
   "mimetype": "text/x-python",
   "name": "python",
   "nbconvert_exporter": "python",
   "pygments_lexer": "ipython3",
   "version": "3.8.5"
  }
 },
 "nbformat": 4,
 "nbformat_minor": 5
}
