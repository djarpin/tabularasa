{
 "cells": [
  {
   "cell_type": "code",
   "execution_count": 1,
   "id": "9b03dc32",
   "metadata": {},
   "outputs": [],
   "source": [
    "import pandas as pd\n",
    "import numpy as np\n",
    "import matplotlib.pyplot as plt\n",
    "import torch\n",
    "from torch import nn\n",
    "import torch.nn.functional as F\n",
    "from torch import optim\n",
    "from skorch.regressor import NeuralNetRegressor\n",
    "from tabularasa.SimultaneousQuantileRegressor import SimultaneousQuantileRegressor, SimultaneousQuantileMixedMonotonicNet\n",
    "from tabularasa.OrthonormalCertificates import OrthonormalCertificates"
   ]
  },
  {
   "cell_type": "code",
   "execution_count": 2,
   "id": "52e29f8c",
   "metadata": {},
   "outputs": [],
   "source": [
    "df = pd.read_pickle('./examples/data/simple_train.pkl')"
   ]
  },
  {
   "cell_type": "code",
   "execution_count": 3,
   "id": "94d83c10",
   "metadata": {},
   "outputs": [],
   "source": [
    "class EmbeddingNet(nn.Module):\n",
    "    def __init__(self):\n",
    "        super().__init__()\n",
    "        self.emb1 = nn.Embedding(50, 16)\n",
    "        self.fc1 = nn.Linear(1 + 16, 16)\n",
    "    \n",
    "    def forward(self, X_non_monotonic):\n",
    "        X = torch.cat([X_non_monotonic[:, 1, None].float(), \n",
    "                       self.emb1(X_non_monotonic[:, 0, None].long()).squeeze()], 1)\n",
    "        return F.relu(self.fc1(X))"
   ]
  },
  {
   "cell_type": "code",
   "execution_count": 4,
   "id": "3afde292",
   "metadata": {},
   "outputs": [],
   "source": [
    "model = SimultaneousQuantileRegressor(SimultaneousQuantileMixedMonotonicNet,\n",
    "                           max_epochs=25,\n",
    "                           lr=0.001,\n",
    "                           optimizer=torch.optim.Adam,\n",
    "                           module__non_monotonic_net=EmbeddingNet(),\n",
    "                           module__dim_non_monotonic=16,\n",
    "                           module__dim_monotonic=2,\n",
    "                           module__layers=[128, 128, 32],\n",
    "                           module__integration_steps=300)"
   ]
  },
  {
   "cell_type": "code",
   "execution_count": 5,
   "id": "aae484d7",
   "metadata": {
    "scrolled": false
   },
   "outputs": [
    {
     "name": "stdout",
     "output_type": "stream",
     "text": [
      "  epoch    train_loss    valid_loss     dur\n",
      "-------  ------------  ------------  ------\n",
      "      1        \u001b[36m2.6638\u001b[0m        \u001b[32m1.1382\u001b[0m  8.6382\n",
      "      2        \u001b[36m0.5711\u001b[0m        \u001b[32m0.2700\u001b[0m  8.3976\n",
      "      3        \u001b[36m0.2260\u001b[0m        \u001b[32m0.2020\u001b[0m  8.5493\n",
      "      4        \u001b[36m0.2033\u001b[0m        0.2043  8.2725\n",
      "      5        \u001b[36m0.1926\u001b[0m        \u001b[32m0.1789\u001b[0m  8.2337\n",
      "      6        \u001b[36m0.1917\u001b[0m        0.1862  8.5534\n",
      "      7        0.1952        0.2007  8.4257\n",
      "      8        \u001b[36m0.1859\u001b[0m        \u001b[32m0.1741\u001b[0m  8.7290\n",
      "      9        \u001b[36m0.1773\u001b[0m        0.1778  8.6531\n",
      "     10        \u001b[36m0.1770\u001b[0m        0.1762  8.4736\n",
      "     11        \u001b[36m0.1704\u001b[0m        \u001b[32m0.1645\u001b[0m  8.6697\n",
      "     12        \u001b[36m0.1613\u001b[0m        \u001b[32m0.1380\u001b[0m  8.6671\n",
      "     13        \u001b[36m0.1558\u001b[0m        0.1692  8.4971\n",
      "     14        \u001b[36m0.1499\u001b[0m        0.1526  8.4215\n",
      "     15        \u001b[36m0.1465\u001b[0m        0.1405  8.4711\n",
      "     16        0.1479        0.1415  8.6909\n",
      "     17        0.1474        0.1424  8.4063\n",
      "     18        \u001b[36m0.1461\u001b[0m        0.1483  8.3869\n",
      "     19        \u001b[36m0.1447\u001b[0m        \u001b[32m0.1364\u001b[0m  8.3034\n",
      "     20        \u001b[36m0.1416\u001b[0m        0.1432  8.4901\n",
      "     21        \u001b[36m0.1415\u001b[0m        0.1367  8.3009\n",
      "     22        \u001b[36m0.1351\u001b[0m        \u001b[32m0.1310\u001b[0m  8.4392\n",
      "     23        \u001b[36m0.1306\u001b[0m        0.1370  8.7507\n",
      "     24        \u001b[36m0.1274\u001b[0m        0.1321  8.4041\n",
      "     25        \u001b[36m0.1253\u001b[0m        \u001b[32m0.1190\u001b[0m  8.4447\n"
     ]
    },
    {
     "data": {
      "text/plain": [
       "<class 'tabularasa.SimultaneousQuantileRegressor.SimultaneousQuantileRegressor'>[initialized](\n",
       "  module_=SimultaneousQuantileMixedMonotonicNet(\n",
       "    (non_monotonic_net): EmbeddingNet(\n",
       "      (emb1): Embedding(50, 16)\n",
       "      (fc1): Linear(in_features=17, out_features=16, bias=True)\n",
       "    )\n",
       "    (umnn): SlowDMonotonicNN(\n",
       "      (outer_net): MonotonicNN(\n",
       "        (integrand): IntegrandNN(\n",
       "          (inner_net): Sequential(\n",
       "            (0): Linear(in_features=18, out_features=128, bias=True)\n",
       "            (1): ReLU()\n",
       "            (2): Linear(in_features=128, out_features=128, bias=True)\n",
       "            (3): ReLU()\n",
       "            (4): Linear(in_features=128, out_features=32, bias=True)\n",
       "            (5): ReLU()\n",
       "          )\n",
       "          (net): Sequential(\n",
       "            (0): Linear(in_features=18, out_features=128, bias=True)\n",
       "            (1): ReLU()\n",
       "            (2): Linear(in_features=128, out_features=128, bias=True)\n",
       "            (3): ReLU()\n",
       "            (4): Linear(in_features=128, out_features=32, bias=True)\n",
       "            (5): ReLU()\n",
       "            (6): Linear(in_features=32, out_features=1, bias=True)\n",
       "            (7): ELU(alpha=1.0)\n",
       "          )\n",
       "        )\n",
       "        (net): Sequential(\n",
       "          (0): Linear(in_features=17, out_features=128, bias=True)\n",
       "          (1): ReLU()\n",
       "          (2): Linear(in_features=128, out_features=128, bias=True)\n",
       "          (3): ReLU()\n",
       "          (4): Linear(in_features=128, out_features=32, bias=True)\n",
       "          (5): ReLU()\n",
       "          (6): Linear(in_features=32, out_features=2, bias=True)\n",
       "        )\n",
       "      )\n",
       "    )\n",
       "  ),\n",
       ")"
      ]
     },
     "execution_count": 5,
     "metadata": {},
     "output_type": "execute_result"
    }
   ],
   "source": [
    "model.fit({'X_monotonic': df[['x1', 'x2']].values,\n",
    "           'X_non_monotonic': df[['x3', 'x4']].values},\n",
    "          df[['y']].values)"
   ]
  },
  {
   "cell_type": "code",
   "execution_count": 6,
   "id": "3fad5760",
   "metadata": {},
   "outputs": [],
   "source": [
    "quantiles = [0.01, 0.05, 0.1, 0.2, 0.3, 0.4, 0.6, 0.7, 0.8, 0.9, 0.95, 0.99]"
   ]
  },
  {
   "cell_type": "code",
   "execution_count": 7,
   "id": "48020146",
   "metadata": {},
   "outputs": [],
   "source": [
    "results = []\n",
    "for q in np.quantile(df['x1'], quantiles):\n",
    "    dfc = df.copy()\n",
    "    dfc['x1'] = q\n",
    "    dfc['x1'] = dfc['x1'].astype('float32')\n",
    "    p = model.predict({'X_monotonic': dfc[['x1', 'x2']].values,\n",
    "                       'X_non_monotonic': dfc[['x3', 'x4']].values})\n",
    "    p = pd.DataFrame(pd.Series(p[:, 0]).describe(percentiles=quantiles)).T\n",
    "    p['x1'] = q\n",
    "    results.append(p)\n",
    "results = pd.concat(results, axis=0)"
   ]
  },
  {
   "cell_type": "code",
   "execution_count": 8,
   "id": "b5b445dd",
   "metadata": {},
   "outputs": [
    {
     "data": {
      "image/png": "[encoded data removed]",
      "text/plain": [
       "<Figure size 432x288 with 1 Axes>"
      ]
     },
     "metadata": {
      "needs_background": "light"
     },
     "output_type": "display_data"
    }
   ],
   "source": [
    "results.plot(x='x1', y=['20%', 'mean', '80%'])\n",
    "plt.show()"
   ]
  },
  {
   "cell_type": "code",
   "execution_count": 9,
   "id": "b1ed4545",
   "metadata": {},
   "outputs": [
    {
     "data": {
      "text/plain": [
       "array([[-0.38118905],\n",
       "       [-0.31961358],\n",
       "       [-0.27545747],\n",
       "       ...,\n",
       "       [ 0.18136154],\n",
       "       [ 0.2036933 ],\n",
       "       [ 0.17625192]], dtype=float32)"
      ]
     },
     "execution_count": 9,
     "metadata": {},
     "output_type": "execute_result"
    }
   ],
   "source": [
    "model.predict({'X_monotonic': df[['x1', 'x2']].values,\n",
    "               'X_non_monotonic': df[['x3', 'x4']].values})"
   ]
  },
  {
   "cell_type": "code",
   "execution_count": 10,
   "id": "48e19834",
   "metadata": {},
   "outputs": [
    {
     "data": {
      "text/plain": [
       "array([[-0.38118905],\n",
       "       [-0.31961358],\n",
       "       [-0.27545747],\n",
       "       ...,\n",
       "       [ 0.18136154],\n",
       "       [ 0.2036933 ],\n",
       "       [ 0.17625192]], dtype=float32)"
      ]
     },
     "execution_count": 10,
     "metadata": {},
     "output_type": "execute_result"
    }
   ],
   "source": [
    "model.predict({'X_monotonic': df[['x1', 'x2']].values,\n",
    "               'X_non_monotonic': df[['x3', 'x4']].values}, q=0.5)"
   ]
  },
  {
   "cell_type": "code",
   "execution_count": 11,
   "id": "22191686",
   "metadata": {},
   "outputs": [
    {
     "data": {
      "text/plain": [
       "array([[0.2745663 ],\n",
       "       [0.3129935 ],\n",
       "       [0.34946668],\n",
       "       ...,\n",
       "       [0.57527286],\n",
       "       [0.5813318 ],\n",
       "       [0.5706511 ]], dtype=float32)"
      ]
     },
     "execution_count": 11,
     "metadata": {},
     "output_type": "execute_result"
    }
   ],
   "source": [
    "model.predict({'X_monotonic': df[['x1', 'x2']].values,\n",
    "               'X_non_monotonic': df[['x3', 'x4']].values}, q=0.9)"
   ]
  },
  {
   "cell_type": "code",
   "execution_count": 12,
   "id": "4363d0c8",
   "metadata": {},
   "outputs": [
    {
     "data": {
      "text/plain": [
       "array([[-1.1761633 ],\n",
       "       [-1.0345591 ],\n",
       "       [-1.0266426 ],\n",
       "       ...,\n",
       "       [-0.26164448],\n",
       "       [-0.24790198],\n",
       "       [-0.26133406]], dtype=float32)"
      ]
     },
     "execution_count": 12,
     "metadata": {},
     "output_type": "execute_result"
    }
   ],
   "source": [
    "model.predict({'X_monotonic': df[['x1', 'x2']].values,\n",
    "               'X_non_monotonic': df[['x3', 'x4']].values}, q=0.1)"
   ]
  },
  {
   "cell_type": "code",
   "execution_count": null,
   "id": "af140550",
   "metadata": {},
   "outputs": [],
   "source": []
  },
  {
   "cell_type": "code",
   "execution_count": null,
   "id": "2228c0f1",
   "metadata": {},
   "outputs": [],
   "source": []
  },
  {
   "cell_type": "code",
   "execution_count": null,
   "id": "196b0673",
   "metadata": {},
   "outputs": [],
   "source": []
  },
  {
   "cell_type": "markdown",
   "id": "4e17aff3",
   "metadata": {},
   "source": [
    "### Estimate epistemic uncertainty via orthonormal certificates\n",
    "\n",
    "Start by prepping data from the inner hidden layer."
   ]
  },
  {
   "cell_type": "code",
   "execution_count": 9,
   "id": "95264555",
   "metadata": {},
   "outputs": [],
   "source": [
    "model.module_.set_last_layer(inner=True)"
   ]
  },
  {
   "cell_type": "code",
   "execution_count": 21,
   "id": "eb094271",
   "metadata": {},
   "outputs": [],
   "source": [
    "X_inner = model.predict({'X_monotonic': df[['x1', 'x2']].values,\n",
    "                         'X_non_monotonic': df[['x3', 'x4']].values})"
   ]
  },
  {
   "cell_type": "markdown",
   "id": "94d2f5e2",
   "metadata": {},
   "source": [
    "Now train orthonormal certificates.  Note, including raw numeric features helps quality."
   ]
  },
  {
   "cell_type": "code",
   "execution_count": 24,
   "id": "e41038fd",
   "metadata": {},
   "outputs": [],
   "source": [
    "oc = OrthonormalCertificates()\n",
    "oc.fit(np.concatenate([df[['x1', 'x2', 'x4']].values, X_inner], axis=1))"
   ]
  },
  {
   "cell_type": "markdown",
   "id": "48e0f558",
   "metadata": {},
   "source": [
    "Create another PDP like dataset with the full range."
   ]
  },
  {
   "cell_type": "code",
   "execution_count": 31,
   "id": "ee071b20",
   "metadata": {},
   "outputs": [],
   "source": [
    "uncertainties = []\n",
    "for q in np.linspace(-1.5, 1.5, 101):\n",
    "    dfc = df.copy()\n",
    "    dfc['x1'] = q\n",
    "    dfc['x1'] = dfc['x1'].astype('float32')\n",
    "    p = oc.transform(np.concatenate([dfc[['x1', 'x2', 'x4']],\n",
    "                                     model.predict({'X_monotonic': dfc[['x1', 'x2']].values,\n",
    "                                                    'X_non_monotonic': dfc[['x3', 'x4']].values})], axis=1))\n",
    "    p = pd.DataFrame(pd.Series(p).describe(percentiles=quantiles)).T\n",
    "    p['x1'] = q\n",
    "    uncertainties.append(p)\n",
    "uncertainties = pd.concat(uncertainties, axis=0)"
   ]
  },
  {
   "cell_type": "code",
   "execution_count": 32,
   "id": "953a79ee",
   "metadata": {},
   "outputs": [
    {
     "data": {
      "image/png": "[encoded data removed]",
      "text/plain": [
       "<Figure size 432x288 with 1 Axes>"
      ]
     },
     "metadata": {
      "needs_background": "light"
     },
     "output_type": "display_data"
    }
   ],
   "source": [
    "uncertainties.plot(x='x1', y=['20%', 'mean', '80%'])\n",
    "plt.show()"
   ]
  },
  {
   "cell_type": "markdown",
   "id": "e5a32a1d",
   "metadata": {},
   "source": [
    "Epistemic uncertainty is high below -1 (where training data starts and is relatively low), decreases between -1 and 0, picks back up between 0 and 0.5, and then decreases between 0.5 and 1.  After 1, it doesn't perform exactly as desired, but is ticking up in some places."
   ]
  }
 ],
 "metadata": {
  "kernelspec": {
   "display_name": "Python 3 (ipykernel)",
   "language": "python",
   "name": "python3"
  },
  "language_info": {
   "codemirror_mode": {
    "name": "ipython",
    "version": 3
   },
   "file_extension": ".py",
   "mimetype": "text/x-python",
   "name": "python",
   "nbconvert_exporter": "python",
   "pygments_lexer": "ipython3",
   "version": "3.8.5"
  }
 },
 "nbformat": 4,
 "nbformat_minor": 5
}
