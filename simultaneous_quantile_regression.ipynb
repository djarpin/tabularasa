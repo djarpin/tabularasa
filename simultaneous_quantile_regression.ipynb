{
 "cells": [
  {
   "cell_type": "code",
   "execution_count": 1,
   "id": "9b03dc32",
   "metadata": {},
   "outputs": [],
   "source": [
    "import pandas as pd\n",
    "import numpy as np\n",
    "import matplotlib.pyplot as plt\n",
    "import torch\n",
    "from torch import nn\n",
    "import torch.nn.functional as F\n",
    "from torch import optim\n",
    "from skorch.regressor import NeuralNetRegressor\n",
    "from tabularasa.SimultaneousQuantileRegressor import SimultaneousQuantileRegressor, SimultaneousQuantileMixedMonotonicNet\n",
    "from tabularasa.OrthonormalCertificates import OrthonormalCertificates"
   ]
  },
  {
   "cell_type": "code",
   "execution_count": 2,
   "id": "52e29f8c",
   "metadata": {},
   "outputs": [],
   "source": [
    "df = pd.read_pickle('./examples/data/simple_train.pkl')"
   ]
  },
  {
   "cell_type": "code",
   "execution_count": 3,
   "id": "94d83c10",
   "metadata": {},
   "outputs": [],
   "source": [
    "class EmbeddingNet(nn.Module):\n",
    "    def __init__(self):\n",
    "        super().__init__()\n",
    "        self.emb1 = nn.Embedding(50, 16)\n",
    "        self.fc1 = nn.Linear(1 + 16, 16)\n",
    "    \n",
    "    def forward(self, X_non_monotonic):\n",
    "        X = torch.cat([X_non_monotonic[:, 1, None].float(), \n",
    "                       self.emb1(X_non_monotonic[:, 0, None].long()).squeeze()], 1)\n",
    "        return F.relu(self.fc1(X))"
   ]
  },
  {
   "cell_type": "code",
   "execution_count": 4,
   "id": "3afde292",
   "metadata": {},
   "outputs": [],
   "source": [
    "model = SimultaneousQuantileRegressor(SimultaneousQuantileMixedMonotonicNet,\n",
    "                           max_epochs=25,\n",
    "                           lr=0.001,\n",
    "                           optimizer=torch.optim.Adam,\n",
    "                           module__non_monotonic_net=EmbeddingNet(),\n",
    "                           module__dim_non_monotonic=16,\n",
    "                           module__dim_monotonic=2,\n",
    "                           module__layers=[128, 128, 32],\n",
    "                           module__integration_steps=300)"
   ]
  },
  {
   "cell_type": "code",
   "execution_count": 5,
   "id": "aae484d7",
   "metadata": {
    "scrolled": false
   },
   "outputs": [
    {
     "name": "stdout",
     "output_type": "stream",
     "text": [
      "  epoch    train_loss    valid_loss      dur\n",
      "-------  ------------  ------------  -------\n",
      "      1        \u001b[36m1.9275\u001b[0m        \u001b[32m0.9001\u001b[0m  11.4523\n",
      "      2        \u001b[36m0.5205\u001b[0m        \u001b[32m0.2456\u001b[0m  9.6870\n",
      "      3        \u001b[36m0.2131\u001b[0m        \u001b[32m0.2201\u001b[0m  9.5791\n",
      "      4        0.2244        \u001b[32m0.1963\u001b[0m  9.5971\n",
      "      5        \u001b[36m0.1991\u001b[0m        0.1971  9.6754\n",
      "      6        \u001b[36m0.1945\u001b[0m        0.1972  9.6466\n",
      "      7        \u001b[36m0.1911\u001b[0m        0.1976  9.6617\n",
      "      8        \u001b[36m0.1859\u001b[0m        \u001b[32m0.1920\u001b[0m  9.6239\n",
      "      9        \u001b[36m0.1817\u001b[0m        0.2038  9.5965\n",
      "     10        0.1883        \u001b[32m0.1766\u001b[0m  9.6544\n",
      "     11        0.1932        0.1851  9.5990\n",
      "     12        \u001b[36m0.1768\u001b[0m        0.1813  9.5766\n",
      "     13        \u001b[36m0.1705\u001b[0m        \u001b[32m0.1746\u001b[0m  9.6528\n",
      "     14        0.1735        \u001b[32m0.1742\u001b[0m  9.7827\n",
      "     15        \u001b[36m0.1641\u001b[0m        \u001b[32m0.1632\u001b[0m  9.6343\n",
      "     16        \u001b[36m0.1622\u001b[0m        \u001b[32m0.1599\u001b[0m  9.8506\n",
      "     17        \u001b[36m0.1494\u001b[0m        \u001b[32m0.1429\u001b[0m  9.8641\n",
      "     18        \u001b[36m0.1435\u001b[0m        0.1468  9.7757\n",
      "     19        0.1442        0.1453  9.6352\n",
      "     20        \u001b[36m0.1393\u001b[0m        \u001b[32m0.1403\u001b[0m  9.5588\n",
      "     21        \u001b[36m0.1289\u001b[0m        \u001b[32m0.1310\u001b[0m  9.6147\n",
      "     22        0.1292        0.1436  9.6145\n",
      "     23        \u001b[36m0.1230\u001b[0m        0.1365  9.7764\n",
      "     24        0.1241        0.1422  9.6538\n",
      "     25        0.1295        0.1402  9.6291\n"
     ]
    },
    {
     "data": {
      "text/plain": [
       "<class 'tabularasa.SimultaneousQuantileRegressor.SimultaneousQuantileRegressor'>[initialized](\n",
       "  module_=SimultaneousQuantileMixedMonotonicNet(\n",
       "    (non_monotonic_net): EmbeddingNet(\n",
       "      (emb1): Embedding(50, 16)\n",
       "      (fc1): Linear(in_features=17, out_features=16, bias=True)\n",
       "    )\n",
       "    (umnn): SlowDMonotonicNN(\n",
       "      (outer_net): MonotonicNN(\n",
       "        (integrand): IntegrandNN(\n",
       "          (inner_net): Sequential(\n",
       "            (0): Linear(in_features=17, out_features=128, bias=True)\n",
       "            (1): ReLU()\n",
       "            (2): Linear(in_features=128, out_features=128, bias=True)\n",
       "            (3): ReLU()\n",
       "            (4): Linear(in_features=128, out_features=32, bias=True)\n",
       "            (5): ReLU()\n",
       "          )\n",
       "          (net): Sequential(\n",
       "            (0): Linear(in_features=17, out_features=128, bias=True)\n",
       "            (1): ReLU()\n",
       "            (2): Linear(in_features=128, out_features=128, bias=True)\n",
       "            (3): ReLU()\n",
       "            (4): Linear(in_features=128, out_features=32, bias=True)\n",
       "            (5): ReLU()\n",
       "            (6): Linear(in_features=32, out_features=1, bias=True)\n",
       "            (7): ELU(alpha=1.0)\n",
       "          )\n",
       "        )\n",
       "        (net): Sequential(\n",
       "          (0): Linear(in_features=16, out_features=128, bias=True)\n",
       "          (1): ReLU()\n",
       "          (2): Linear(in_features=128, out_features=128, bias=True)\n",
       "          (3): ReLU()\n",
       "          (4): Linear(in_features=128, out_features=32, bias=True)\n",
       "          (5): ReLU()\n",
       "          (6): Linear(in_features=32, out_features=2, bias=True)\n",
       "        )\n",
       "      )\n",
       "    )\n",
       "  ),\n",
       ")"
      ]
     },
     "execution_count": 5,
     "metadata": {},
     "output_type": "execute_result"
    }
   ],
   "source": [
    "model.fit({'X_monotonic': df[['x1', 'x2']].values,\n",
    "           'X_non_monotonic': df[['x3', 'x4']].values},\n",
    "          df[['y']].values)"
   ]
  },
  {
   "cell_type": "code",
   "execution_count": 6,
   "id": "3fad5760",
   "metadata": {},
   "outputs": [],
   "source": [
    "quantiles = [0.01, 0.05, 0.1, 0.2, 0.3, 0.4, 0.6, 0.7, 0.8, 0.9, 0.95, 0.99]"
   ]
  },
  {
   "cell_type": "code",
   "execution_count": 7,
   "id": "48020146",
   "metadata": {},
   "outputs": [],
   "source": [
    "results = []\n",
    "for q in np.quantile(df['x1'], quantiles):\n",
    "    dfc = df.copy()\n",
    "    dfc['x1'] = q\n",
    "    dfc['x1'] = dfc['x1'].astype('float32')\n",
    "    p = model.predict({'X_monotonic': dfc[['x1', 'x2']].values,\n",
    "                       'X_non_monotonic': dfc[['x3', 'x4']].values})\n",
    "    p = pd.DataFrame(pd.Series(p[:, 0]).describe(percentiles=quantiles)).T\n",
    "    p['x1'] = q\n",
    "    results.append(p)\n",
    "results = pd.concat(results, axis=0)"
   ]
  },
  {
   "cell_type": "code",
   "execution_count": 8,
   "id": "b5b445dd",
   "metadata": {},
   "outputs": [
    {
     "data": {
      "image/png": "[encoded data removed]",
      "text/plain": [
       "<Figure size 432x288 with 1 Axes>"
      ]
     },
     "metadata": {
      "needs_background": "light"
     },
     "output_type": "display_data"
    }
   ],
   "source": [
    "results.plot(x='x1', y=['20%', 'mean', '80%'])\n",
    "plt.show()"
   ]
  },
  {
   "cell_type": "code",
   "execution_count": 9,
   "id": "b1ed4545",
   "metadata": {},
   "outputs": [
    {
     "data": {
      "text/plain": [
       "array([[-0.8766686 ],\n",
       "       [ 0.00905031],\n",
       "       [ 0.01533097],\n",
       "       ...,\n",
       "       [ 0.1513311 ],\n",
       "       [ 0.15269926],\n",
       "       [ 0.04179281]], dtype=float32)"
      ]
     },
     "execution_count": 9,
     "metadata": {},
     "output_type": "execute_result"
    }
   ],
   "source": [
    "model.predict({'X_monotonic': df[['x1', 'x2']].values,\n",
    "               'X_non_monotonic': df[['x3', 'x4']].values})"
   ]
  },
  {
   "cell_type": "code",
   "execution_count": 10,
   "id": "48e19834",
   "metadata": {},
   "outputs": [
    {
     "data": {
      "text/plain": [
       "array([[-0.8766686 ],\n",
       "       [ 0.00905031],\n",
       "       [ 0.01533097],\n",
       "       ...,\n",
       "       [ 0.1513311 ],\n",
       "       [ 0.15269926],\n",
       "       [ 0.04179281]], dtype=float32)"
      ]
     },
     "execution_count": 10,
     "metadata": {},
     "output_type": "execute_result"
    }
   ],
   "source": [
    "model.predict({'X_monotonic': df[['x1', 'x2']].values,\n",
    "               'X_non_monotonic': df[['x3', 'x4']].values}, q=0.5)"
   ]
  },
  {
   "cell_type": "code",
   "execution_count": 11,
   "id": "22191686",
   "metadata": {},
   "outputs": [
    {
     "data": {
      "text/plain": [
       "array([[-0.14030454],\n",
       "       [ 0.00905305],\n",
       "       [ 0.01533782],\n",
       "       ...,\n",
       "       [ 0.15134498],\n",
       "       [ 0.15270296],\n",
       "       [ 0.04180634]], dtype=float32)"
      ]
     },
     "execution_count": 11,
     "metadata": {},
     "output_type": "execute_result"
    }
   ],
   "source": [
    "model.predict({'X_monotonic': df[['x1', 'x2']].values,\n",
    "               'X_non_monotonic': df[['x3', 'x4']].values}, q=0.9)"
   ]
  },
  {
   "cell_type": "code",
   "execution_count": 12,
   "id": "4363d0c8",
   "metadata": {},
   "outputs": [
    {
     "data": {
      "text/plain": [
       "array([[-1.9311209 ],\n",
       "       [ 0.00905335],\n",
       "       [ 0.01534194],\n",
       "       ...,\n",
       "       [ 0.15133628],\n",
       "       [ 0.15270439],\n",
       "       [ 0.04179388]], dtype=float32)"
      ]
     },
     "execution_count": 12,
     "metadata": {},
     "output_type": "execute_result"
    }
   ],
   "source": [
    "model.predict({'X_monotonic': df[['x1', 'x2']].values,\n",
    "               'X_non_monotonic': df[['x3', 'x4']].values}, q=0.1)"
   ]
  },
  {
   "cell_type": "code",
   "execution_count": null,
   "id": "af140550",
   "metadata": {},
   "outputs": [],
   "source": []
  },
  {
   "cell_type": "code",
   "execution_count": null,
   "id": "2228c0f1",
   "metadata": {},
   "outputs": [],
   "source": []
  },
  {
   "cell_type": "code",
   "execution_count": null,
   "id": "196b0673",
   "metadata": {},
   "outputs": [],
   "source": []
  },
  {
   "cell_type": "markdown",
   "id": "4e17aff3",
   "metadata": {},
   "source": [
    "### Estimate epistemic uncertainty via orthonormal certificates\n",
    "\n",
    "Start by prepping data from the inner hidden layer."
   ]
  },
  {
   "cell_type": "code",
   "execution_count": 9,
   "id": "95264555",
   "metadata": {},
   "outputs": [],
   "source": [
    "model.module_.set_last_layer(inner=True)"
   ]
  },
  {
   "cell_type": "code",
   "execution_count": 21,
   "id": "eb094271",
   "metadata": {},
   "outputs": [],
   "source": [
    "X_inner = model.predict({'X_monotonic': df[['x1', 'x2']].values,\n",
    "                         'X_non_monotonic': df[['x3', 'x4']].values})"
   ]
  },
  {
   "cell_type": "markdown",
   "id": "94d2f5e2",
   "metadata": {},
   "source": [
    "Now train orthonormal certificates.  Note, including raw numeric features helps quality."
   ]
  },
  {
   "cell_type": "code",
   "execution_count": 24,
   "id": "e41038fd",
   "metadata": {},
   "outputs": [],
   "source": [
    "oc = OrthonormalCertificates()\n",
    "oc.fit(np.concatenate([df[['x1', 'x2', 'x4']].values, X_inner], axis=1))"
   ]
  },
  {
   "cell_type": "markdown",
   "id": "48e0f558",
   "metadata": {},
   "source": [
    "Create another PDP like dataset with the full range."
   ]
  },
  {
   "cell_type": "code",
   "execution_count": 31,
   "id": "ee071b20",
   "metadata": {},
   "outputs": [],
   "source": [
    "uncertainties = []\n",
    "for q in np.linspace(-1.5, 1.5, 101):\n",
    "    dfc = df.copy()\n",
    "    dfc['x1'] = q\n",
    "    dfc['x1'] = dfc['x1'].astype('float32')\n",
    "    p = oc.transform(np.concatenate([dfc[['x1', 'x2', 'x4']],\n",
    "                                     model.predict({'X_monotonic': dfc[['x1', 'x2']].values,\n",
    "                                                    'X_non_monotonic': dfc[['x3', 'x4']].values})], axis=1))\n",
    "    p = pd.DataFrame(pd.Series(p).describe(percentiles=quantiles)).T\n",
    "    p['x1'] = q\n",
    "    uncertainties.append(p)\n",
    "uncertainties = pd.concat(uncertainties, axis=0)"
   ]
  },
  {
   "cell_type": "code",
   "execution_count": 32,
   "id": "953a79ee",
   "metadata": {},
   "outputs": [
    {
     "data": {
      "image/png": "[encoded data removed]",
      "text/plain": [
       "<Figure size 432x288 with 1 Axes>"
      ]
     },
     "metadata": {
      "needs_background": "light"
     },
     "output_type": "display_data"
    }
   ],
   "source": [
    "uncertainties.plot(x='x1', y=['20%', 'mean', '80%'])\n",
    "plt.show()"
   ]
  },
  {
   "cell_type": "markdown",
   "id": "e5a32a1d",
   "metadata": {},
   "source": [
    "Epistemic uncertainty is high below -1 (where training data starts and is relatively low), decreases between -1 and 0, picks back up between 0 and 0.5, and then decreases between 0.5 and 1.  After 1, it doesn't perform exactly as desired, but is ticking up in some places."
   ]
  }
 ],
 "metadata": {
  "kernelspec": {
   "display_name": "Python 3 (ipykernel)",
   "language": "python",
   "name": "python3"
  },
  "language_info": {
   "codemirror_mode": {
    "name": "ipython",
    "version": 3
   },
   "file_extension": ".py",
   "mimetype": "text/x-python",
   "name": "python",
   "nbconvert_exporter": "python",
   "pygments_lexer": "ipython3",
   "version": "3.8.5"
  }
 },
 "nbformat": 4,
 "nbformat_minor": 5
}
